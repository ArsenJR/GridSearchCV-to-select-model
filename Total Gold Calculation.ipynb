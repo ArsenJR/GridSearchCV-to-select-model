{
 "cells": [
  {
   "cell_type": "markdown",
   "metadata": {
    "toc": true
   },
   "source": [
    "<h1>Содержание<span class=\"tocSkip\"></span></h1>\n",
    "<div class=\"toc\"><ul class=\"toc-item\"><li><span><a href=\"#Подготовка-данных\" data-toc-modified-id=\"Подготовка-данных-1\"><span class=\"toc-item-num\">1&nbsp;&nbsp;</span>Подготовка данных</a></span><ul class=\"toc-item\"><li><span><a href=\"#Вывод\" data-toc-modified-id=\"Вывод-1.1\"><span class=\"toc-item-num\">1.1&nbsp;&nbsp;</span>Вывод</a></span></li></ul></li><li><span><a href=\"#Анализ-данных\" data-toc-modified-id=\"Анализ-данных-2\"><span class=\"toc-item-num\">2&nbsp;&nbsp;</span>Анализ данных</a></span><ul class=\"toc-item\"><li><span><a href=\"#Вывод\" data-toc-modified-id=\"Вывод-2.1\"><span class=\"toc-item-num\">2.1&nbsp;&nbsp;</span>Вывод</a></span></li></ul></li><li><span><a href=\"#Модель\" data-toc-modified-id=\"Модель-3\"><span class=\"toc-item-num\">3&nbsp;&nbsp;</span>Модель</a></span><ul class=\"toc-item\"><li><span><a href=\"#Вывод\" data-toc-modified-id=\"Вывод-3.1\"><span class=\"toc-item-num\">3.1&nbsp;&nbsp;</span>Вывод</a></span></li></ul></li><li><span><a href=\"#Вывод\" data-toc-modified-id=\"Вывод-4\"><span class=\"toc-item-num\">4&nbsp;&nbsp;</span>Вывод</a></span></li><li><span><a href=\"#Чек-лист-готовности-проекта\" data-toc-modified-id=\"Чек-лист-готовности-проекта-5\"><span class=\"toc-item-num\">5&nbsp;&nbsp;</span>Чек-лист готовности проекта</a></span></li></ul></div>"
   ]
  },
  {
   "cell_type": "markdown",
   "metadata": {},
   "source": [
    "# Восстановление золота из руды"
   ]
  },
  {
   "cell_type": "markdown",
   "metadata": {},
   "source": [
    "В данной работе необходимо подготовить прототип модели машинного обучения для помощи в принятии решения для эффективной работы промышленных предприятий.\n",
    "\n",
    "Модель должна предсказать коэффициент восстановления золота из золотосодержащей руды. Используйте данные с параметрами добычи и очистки. \n",
    "\n",
    "Модель поможет оптимизировать производство, чтобы не запускать предприятие с убыточными характеристиками.\n",
    "\n",
    "В данном проекте нам предстоит построить модель, которая будет прогнозировать сразу две величины:\n",
    "* эффективность обогащения чернового концентрата 'rougher.output.recovery';\n",
    "* эффективность обогащения финального концентрата 'final.output.recovery'."
   ]
  },
  {
   "cell_type": "markdown",
   "metadata": {},
   "source": [
    "## Подготовка данных"
   ]
  },
  {
   "cell_type": "markdown",
   "metadata": {},
   "source": [
    "Подключим необходимые библиотеки:"
   ]
  },
  {
   "cell_type": "code",
   "execution_count": 1,
   "metadata": {},
   "outputs": [],
   "source": [
    "import sys\n",
    "import warnings\n",
    "if not sys.warnoptions:\n",
    "       warnings.simplefilter(\"ignore\")"
   ]
  },
  {
   "cell_type": "code",
   "execution_count": 2,
   "metadata": {},
   "outputs": [],
   "source": [
    "import pandas as pd\n",
    "import numpy as np\n",
    "from math import ceil\n",
    "import seaborn as sns\n",
    "import matplotlib.pyplot as plt\n",
    "from sklearn.metrics import mean_absolute_error\n",
    "from sklearn.model_selection import train_test_split\n",
    "from sklearn.model_selection import cross_val_score\n",
    "from sklearn.metrics.scorer import make_scorer\n",
    "from sklearn.metrics import r2_score\n",
    "from sklearn.tree import DecisionTreeRegressor\n",
    "from sklearn.dummy import DummyRegressor\n",
    "from sklearn.ensemble import RandomForestRegressor\n",
    "from sklearn.linear_model import LogisticRegression\n",
    "from sklearn.linear_model import LinearRegression\n",
    "from sklearn.model_selection import GridSearchCV"
   ]
  },
  {
   "cell_type": "markdown",
   "metadata": {},
   "source": [
    "Загрузим и изучим наши данные:"
   ]
  },
  {
   "cell_type": "code",
   "execution_count": 3,
   "metadata": {},
   "outputs": [],
   "source": [
    "data_train = pd.read_csv('/datasets/gold_recovery_train_new.csv')\n",
    "data_test = pd.read_csv('/datasets/gold_recovery_test_new.csv')\n",
    "data_full = pd.read_csv('/datasets/gold_recovery_full_new.csv')"
   ]
  },
  {
   "cell_type": "markdown",
   "metadata": {},
   "source": [
    "Посмотрим на наши данные:"
   ]
  },
  {
   "cell_type": "code",
   "execution_count": 4,
   "metadata": {},
   "outputs": [
    {
     "name": "stdout",
     "output_type": "stream",
     "text": [
      "<class 'pandas.core.frame.DataFrame'>\n",
      "RangeIndex: 5290 entries, 0 to 5289\n",
      "Data columns (total 53 columns):\n",
      "date                                          5290 non-null object\n",
      "primary_cleaner.input.sulfate                 5286 non-null float64\n",
      "primary_cleaner.input.depressant              5285 non-null float64\n",
      "primary_cleaner.input.feed_size               5290 non-null float64\n",
      "primary_cleaner.input.xanthate                5286 non-null float64\n",
      "primary_cleaner.state.floatbank8_a_air        5290 non-null float64\n",
      "primary_cleaner.state.floatbank8_a_level      5290 non-null float64\n",
      "primary_cleaner.state.floatbank8_b_air        5290 non-null float64\n",
      "primary_cleaner.state.floatbank8_b_level      5290 non-null float64\n",
      "primary_cleaner.state.floatbank8_c_air        5290 non-null float64\n",
      "primary_cleaner.state.floatbank8_c_level      5290 non-null float64\n",
      "primary_cleaner.state.floatbank8_d_air        5290 non-null float64\n",
      "primary_cleaner.state.floatbank8_d_level      5290 non-null float64\n",
      "rougher.input.feed_ag                         5290 non-null float64\n",
      "rougher.input.feed_pb                         5290 non-null float64\n",
      "rougher.input.feed_rate                       5287 non-null float64\n",
      "rougher.input.feed_size                       5289 non-null float64\n",
      "rougher.input.feed_sol                        5269 non-null float64\n",
      "rougher.input.feed_au                         5290 non-null float64\n",
      "rougher.input.floatbank10_sulfate             5285 non-null float64\n",
      "rougher.input.floatbank10_xanthate            5290 non-null float64\n",
      "rougher.input.floatbank11_sulfate             5282 non-null float64\n",
      "rougher.input.floatbank11_xanthate            5265 non-null float64\n",
      "rougher.state.floatbank10_a_air               5290 non-null float64\n",
      "rougher.state.floatbank10_a_level             5290 non-null float64\n",
      "rougher.state.floatbank10_b_air               5290 non-null float64\n",
      "rougher.state.floatbank10_b_level             5290 non-null float64\n",
      "rougher.state.floatbank10_c_air               5290 non-null float64\n",
      "rougher.state.floatbank10_c_level             5290 non-null float64\n",
      "rougher.state.floatbank10_d_air               5290 non-null float64\n",
      "rougher.state.floatbank10_d_level             5290 non-null float64\n",
      "rougher.state.floatbank10_e_air               5290 non-null float64\n",
      "rougher.state.floatbank10_e_level             5290 non-null float64\n",
      "rougher.state.floatbank10_f_air               5290 non-null float64\n",
      "rougher.state.floatbank10_f_level             5290 non-null float64\n",
      "secondary_cleaner.state.floatbank2_a_air      5287 non-null float64\n",
      "secondary_cleaner.state.floatbank2_a_level    5290 non-null float64\n",
      "secondary_cleaner.state.floatbank2_b_air      5288 non-null float64\n",
      "secondary_cleaner.state.floatbank2_b_level    5290 non-null float64\n",
      "secondary_cleaner.state.floatbank3_a_air      5281 non-null float64\n",
      "secondary_cleaner.state.floatbank3_a_level    5290 non-null float64\n",
      "secondary_cleaner.state.floatbank3_b_air      5290 non-null float64\n",
      "secondary_cleaner.state.floatbank3_b_level    5290 non-null float64\n",
      "secondary_cleaner.state.floatbank4_a_air      5290 non-null float64\n",
      "secondary_cleaner.state.floatbank4_a_level    5290 non-null float64\n",
      "secondary_cleaner.state.floatbank4_b_air      5290 non-null float64\n",
      "secondary_cleaner.state.floatbank4_b_level    5290 non-null float64\n",
      "secondary_cleaner.state.floatbank5_a_air      5290 non-null float64\n",
      "secondary_cleaner.state.floatbank5_a_level    5290 non-null float64\n",
      "secondary_cleaner.state.floatbank5_b_air      5290 non-null float64\n",
      "secondary_cleaner.state.floatbank5_b_level    5290 non-null float64\n",
      "secondary_cleaner.state.floatbank6_a_air      5290 non-null float64\n",
      "secondary_cleaner.state.floatbank6_a_level    5290 non-null float64\n",
      "dtypes: float64(52), object(1)\n",
      "memory usage: 2.1+ MB\n"
     ]
    }
   ],
   "source": [
    "data_test.info()"
   ]
  },
  {
   "cell_type": "code",
   "execution_count": 5,
   "metadata": {},
   "outputs": [
    {
     "name": "stdout",
     "output_type": "stream",
     "text": [
      "<class 'pandas.core.frame.DataFrame'>\n",
      "RangeIndex: 14149 entries, 0 to 14148\n",
      "Data columns (total 87 columns):\n",
      "date                                                  14149 non-null object\n",
      "final.output.concentrate_ag                           14148 non-null float64\n",
      "final.output.concentrate_pb                           14148 non-null float64\n",
      "final.output.concentrate_sol                          13938 non-null float64\n",
      "final.output.concentrate_au                           14149 non-null float64\n",
      "final.output.recovery                                 14149 non-null float64\n",
      "final.output.tail_ag                                  14149 non-null float64\n",
      "final.output.tail_pb                                  14049 non-null float64\n",
      "final.output.tail_sol                                 14144 non-null float64\n",
      "final.output.tail_au                                  14149 non-null float64\n",
      "primary_cleaner.input.sulfate                         14129 non-null float64\n",
      "primary_cleaner.input.depressant                      14117 non-null float64\n",
      "primary_cleaner.input.feed_size                       14149 non-null float64\n",
      "primary_cleaner.input.xanthate                        14049 non-null float64\n",
      "primary_cleaner.output.concentrate_ag                 14149 non-null float64\n",
      "primary_cleaner.output.concentrate_pb                 14063 non-null float64\n",
      "primary_cleaner.output.concentrate_sol                13863 non-null float64\n",
      "primary_cleaner.output.concentrate_au                 14149 non-null float64\n",
      "primary_cleaner.output.tail_ag                        14148 non-null float64\n",
      "primary_cleaner.output.tail_pb                        14134 non-null float64\n",
      "primary_cleaner.output.tail_sol                       14103 non-null float64\n",
      "primary_cleaner.output.tail_au                        14149 non-null float64\n",
      "primary_cleaner.state.floatbank8_a_air                14145 non-null float64\n",
      "primary_cleaner.state.floatbank8_a_level              14148 non-null float64\n",
      "primary_cleaner.state.floatbank8_b_air                14145 non-null float64\n",
      "primary_cleaner.state.floatbank8_b_level              14148 non-null float64\n",
      "primary_cleaner.state.floatbank8_c_air                14147 non-null float64\n",
      "primary_cleaner.state.floatbank8_c_level              14148 non-null float64\n",
      "primary_cleaner.state.floatbank8_d_air                14146 non-null float64\n",
      "primary_cleaner.state.floatbank8_d_level              14148 non-null float64\n",
      "rougher.calculation.sulfate_to_au_concentrate         14148 non-null float64\n",
      "rougher.calculation.floatbank10_sulfate_to_au_feed    14148 non-null float64\n",
      "rougher.calculation.floatbank11_sulfate_to_au_feed    14148 non-null float64\n",
      "rougher.calculation.au_pb_ratio                       14149 non-null float64\n",
      "rougher.input.feed_ag                                 14149 non-null float64\n",
      "rougher.input.feed_pb                                 14049 non-null float64\n",
      "rougher.input.feed_rate                               14141 non-null float64\n",
      "rougher.input.feed_size                               14005 non-null float64\n",
      "rougher.input.feed_sol                                14071 non-null float64\n",
      "rougher.input.feed_au                                 14149 non-null float64\n",
      "rougher.input.floatbank10_sulfate                     14120 non-null float64\n",
      "rougher.input.floatbank10_xanthate                    14141 non-null float64\n",
      "rougher.input.floatbank11_sulfate                     14113 non-null float64\n",
      "rougher.input.floatbank11_xanthate                    13721 non-null float64\n",
      "rougher.output.concentrate_ag                         14149 non-null float64\n",
      "rougher.output.concentrate_pb                         14149 non-null float64\n",
      "rougher.output.concentrate_sol                        14127 non-null float64\n",
      "rougher.output.concentrate_au                         14149 non-null float64\n",
      "rougher.output.recovery                               14149 non-null float64\n",
      "rougher.output.tail_ag                                14148 non-null float64\n",
      "rougher.output.tail_pb                                14149 non-null float64\n",
      "rougher.output.tail_sol                               14149 non-null float64\n",
      "rougher.output.tail_au                                14149 non-null float64\n",
      "rougher.state.floatbank10_a_air                       14148 non-null float64\n",
      "rougher.state.floatbank10_a_level                     14148 non-null float64\n",
      "rougher.state.floatbank10_b_air                       14148 non-null float64\n",
      "rougher.state.floatbank10_b_level                     14148 non-null float64\n",
      "rougher.state.floatbank10_c_air                       14148 non-null float64\n",
      "rougher.state.floatbank10_c_level                     14148 non-null float64\n",
      "rougher.state.floatbank10_d_air                       14149 non-null float64\n",
      "rougher.state.floatbank10_d_level                     14149 non-null float64\n",
      "rougher.state.floatbank10_e_air                       13713 non-null float64\n",
      "rougher.state.floatbank10_e_level                     14149 non-null float64\n",
      "rougher.state.floatbank10_f_air                       14149 non-null float64\n",
      "rougher.state.floatbank10_f_level                     14149 non-null float64\n",
      "secondary_cleaner.output.tail_ag                      14147 non-null float64\n",
      "secondary_cleaner.output.tail_pb                      14139 non-null float64\n",
      "secondary_cleaner.output.tail_sol                     12544 non-null float64\n",
      "secondary_cleaner.output.tail_au                      14149 non-null float64\n",
      "secondary_cleaner.state.floatbank2_a_air              13932 non-null float64\n",
      "secondary_cleaner.state.floatbank2_a_level            14148 non-null float64\n",
      "secondary_cleaner.state.floatbank2_b_air              14128 non-null float64\n",
      "secondary_cleaner.state.floatbank2_b_level            14148 non-null float64\n",
      "secondary_cleaner.state.floatbank3_a_air              14145 non-null float64\n",
      "secondary_cleaner.state.floatbank3_a_level            14148 non-null float64\n",
      "secondary_cleaner.state.floatbank3_b_air              14148 non-null float64\n",
      "secondary_cleaner.state.floatbank3_b_level            14148 non-null float64\n",
      "secondary_cleaner.state.floatbank4_a_air              14143 non-null float64\n",
      "secondary_cleaner.state.floatbank4_a_level            14148 non-null float64\n",
      "secondary_cleaner.state.floatbank4_b_air              14148 non-null float64\n",
      "secondary_cleaner.state.floatbank4_b_level            14148 non-null float64\n",
      "secondary_cleaner.state.floatbank5_a_air              14148 non-null float64\n",
      "secondary_cleaner.state.floatbank5_a_level            14148 non-null float64\n",
      "secondary_cleaner.state.floatbank5_b_air              14148 non-null float64\n",
      "secondary_cleaner.state.floatbank5_b_level            14148 non-null float64\n",
      "secondary_cleaner.state.floatbank6_a_air              14147 non-null float64\n",
      "secondary_cleaner.state.floatbank6_a_level            14148 non-null float64\n",
      "dtypes: float64(86), object(1)\n",
      "memory usage: 9.4+ MB\n"
     ]
    }
   ],
   "source": [
    "data_train.info()"
   ]
  },
  {
   "cell_type": "code",
   "execution_count": 6,
   "metadata": {},
   "outputs": [
    {
     "name": "stdout",
     "output_type": "stream",
     "text": [
      "<class 'pandas.core.frame.DataFrame'>\n",
      "RangeIndex: 19439 entries, 0 to 19438\n",
      "Data columns (total 87 columns):\n",
      "date                                                  19439 non-null object\n",
      "final.output.concentrate_ag                           19438 non-null float64\n",
      "final.output.concentrate_pb                           19438 non-null float64\n",
      "final.output.concentrate_sol                          19228 non-null float64\n",
      "final.output.concentrate_au                           19439 non-null float64\n",
      "final.output.recovery                                 19439 non-null float64\n",
      "final.output.tail_ag                                  19438 non-null float64\n",
      "final.output.tail_pb                                  19338 non-null float64\n",
      "final.output.tail_sol                                 19433 non-null float64\n",
      "final.output.tail_au                                  19439 non-null float64\n",
      "primary_cleaner.input.sulfate                         19415 non-null float64\n",
      "primary_cleaner.input.depressant                      19402 non-null float64\n",
      "primary_cleaner.input.feed_size                       19439 non-null float64\n",
      "primary_cleaner.input.xanthate                        19335 non-null float64\n",
      "primary_cleaner.output.concentrate_ag                 19439 non-null float64\n",
      "primary_cleaner.output.concentrate_pb                 19323 non-null float64\n",
      "primary_cleaner.output.concentrate_sol                19069 non-null float64\n",
      "primary_cleaner.output.concentrate_au                 19439 non-null float64\n",
      "primary_cleaner.output.tail_ag                        19435 non-null float64\n",
      "primary_cleaner.output.tail_pb                        19418 non-null float64\n",
      "primary_cleaner.output.tail_sol                       19377 non-null float64\n",
      "primary_cleaner.output.tail_au                        19439 non-null float64\n",
      "primary_cleaner.state.floatbank8_a_air                19435 non-null float64\n",
      "primary_cleaner.state.floatbank8_a_level              19438 non-null float64\n",
      "primary_cleaner.state.floatbank8_b_air                19435 non-null float64\n",
      "primary_cleaner.state.floatbank8_b_level              19438 non-null float64\n",
      "primary_cleaner.state.floatbank8_c_air                19437 non-null float64\n",
      "primary_cleaner.state.floatbank8_c_level              19438 non-null float64\n",
      "primary_cleaner.state.floatbank8_d_air                19436 non-null float64\n",
      "primary_cleaner.state.floatbank8_d_level              19438 non-null float64\n",
      "rougher.calculation.sulfate_to_au_concentrate         19437 non-null float64\n",
      "rougher.calculation.floatbank10_sulfate_to_au_feed    19437 non-null float64\n",
      "rougher.calculation.floatbank11_sulfate_to_au_feed    19437 non-null float64\n",
      "rougher.calculation.au_pb_ratio                       19439 non-null float64\n",
      "rougher.input.feed_ag                                 19439 non-null float64\n",
      "rougher.input.feed_pb                                 19339 non-null float64\n",
      "rougher.input.feed_rate                               19428 non-null float64\n",
      "rougher.input.feed_size                               19294 non-null float64\n",
      "rougher.input.feed_sol                                19340 non-null float64\n",
      "rougher.input.feed_au                                 19439 non-null float64\n",
      "rougher.input.floatbank10_sulfate                     19405 non-null float64\n",
      "rougher.input.floatbank10_xanthate                    19431 non-null float64\n",
      "rougher.input.floatbank11_sulfate                     19395 non-null float64\n",
      "rougher.input.floatbank11_xanthate                    18986 non-null float64\n",
      "rougher.output.concentrate_ag                         19439 non-null float64\n",
      "rougher.output.concentrate_pb                         19439 non-null float64\n",
      "rougher.output.concentrate_sol                        19416 non-null float64\n",
      "rougher.output.concentrate_au                         19439 non-null float64\n",
      "rougher.output.recovery                               19439 non-null float64\n",
      "rougher.output.tail_ag                                19438 non-null float64\n",
      "rougher.output.tail_pb                                19439 non-null float64\n",
      "rougher.output.tail_sol                               19439 non-null float64\n",
      "rougher.output.tail_au                                19439 non-null float64\n",
      "rougher.state.floatbank10_a_air                       19438 non-null float64\n",
      "rougher.state.floatbank10_a_level                     19438 non-null float64\n",
      "rougher.state.floatbank10_b_air                       19438 non-null float64\n",
      "rougher.state.floatbank10_b_level                     19438 non-null float64\n",
      "rougher.state.floatbank10_c_air                       19438 non-null float64\n",
      "rougher.state.floatbank10_c_level                     19438 non-null float64\n",
      "rougher.state.floatbank10_d_air                       19439 non-null float64\n",
      "rougher.state.floatbank10_d_level                     19439 non-null float64\n",
      "rougher.state.floatbank10_e_air                       19003 non-null float64\n",
      "rougher.state.floatbank10_e_level                     19439 non-null float64\n",
      "rougher.state.floatbank10_f_air                       19439 non-null float64\n",
      "rougher.state.floatbank10_f_level                     19439 non-null float64\n",
      "secondary_cleaner.output.tail_ag                      19437 non-null float64\n",
      "secondary_cleaner.output.tail_pb                      19427 non-null float64\n",
      "secondary_cleaner.output.tail_sol                     17691 non-null float64\n",
      "secondary_cleaner.output.tail_au                      19439 non-null float64\n",
      "secondary_cleaner.state.floatbank2_a_air              19219 non-null float64\n",
      "secondary_cleaner.state.floatbank2_a_level            19438 non-null float64\n",
      "secondary_cleaner.state.floatbank2_b_air              19416 non-null float64\n",
      "secondary_cleaner.state.floatbank2_b_level            19438 non-null float64\n",
      "secondary_cleaner.state.floatbank3_a_air              19426 non-null float64\n",
      "secondary_cleaner.state.floatbank3_a_level            19438 non-null float64\n",
      "secondary_cleaner.state.floatbank3_b_air              19438 non-null float64\n",
      "secondary_cleaner.state.floatbank3_b_level            19438 non-null float64\n",
      "secondary_cleaner.state.floatbank4_a_air              19433 non-null float64\n",
      "secondary_cleaner.state.floatbank4_a_level            19438 non-null float64\n",
      "secondary_cleaner.state.floatbank4_b_air              19438 non-null float64\n",
      "secondary_cleaner.state.floatbank4_b_level            19438 non-null float64\n",
      "secondary_cleaner.state.floatbank5_a_air              19438 non-null float64\n",
      "secondary_cleaner.state.floatbank5_a_level            19438 non-null float64\n",
      "secondary_cleaner.state.floatbank5_b_air              19438 non-null float64\n",
      "secondary_cleaner.state.floatbank5_b_level            19438 non-null float64\n",
      "secondary_cleaner.state.floatbank6_a_air              19437 non-null float64\n",
      "secondary_cleaner.state.floatbank6_a_level            19438 non-null float64\n",
      "dtypes: float64(86), object(1)\n",
      "memory usage: 12.9+ MB\n"
     ]
    }
   ],
   "source": [
    "data_full.info()"
   ]
  },
  {
   "cell_type": "markdown",
   "metadata": {},
   "source": [
    "Так же посмотрем на размер наших данных"
   ]
  },
  {
   "cell_type": "code",
   "execution_count": 7,
   "metadata": {},
   "outputs": [
    {
     "name": "stdout",
     "output_type": "stream",
     "text": [
      "(19439, 87)\n",
      "(14149, 87)\n",
      "(5290, 53)\n"
     ]
    }
   ],
   "source": [
    "print(data_full.shape)\n",
    "print(data_train.shape)\n",
    "print(data_test.shape)"
   ]
  },
  {
   "cell_type": "markdown",
   "metadata": {},
   "source": [
    "Наши данные не идеальны, есть пропуски, но пока не будем спешить их убирать. \n",
    "\n",
    "Для начала нам необходимо проверить, что эффективность обогащения рассчитана правильно. Вычислим её на обучающей выборке для признака 'rougher.output.recovery'."
   ]
  },
  {
   "cell_type": "code",
   "execution_count": 8,
   "metadata": {},
   "outputs": [],
   "source": [
    "# функця расчета эфективности обогощения \n",
    "def recovery(raw):\n",
    "    #rougher.output.recovery :\n",
    "    c = raw['rougher.output.concentrate_au']\n",
    "    f = raw['rougher.input.feed_au']\n",
    "    t = raw['rougher.output.tail_au']\n",
    "    \n",
    "    return ((c*(f-t)) / (f*(c-t))) * 100"
   ]
  },
  {
   "cell_type": "markdown",
   "metadata": {},
   "source": [
    "Далее посчитаем MAE между нашими расчётами и значением признака."
   ]
  },
  {
   "cell_type": "code",
   "execution_count": 9,
   "metadata": {},
   "outputs": [
    {
     "data": {
      "text/plain": [
       "9.682896147825551e-15"
      ]
     },
     "execution_count": 9,
     "metadata": {},
     "output_type": "execute_result"
    }
   ],
   "source": [
    "mean_absolute_error(data_train['rougher.output.recovery'],data_train.apply(recovery, axis=1))"
   ]
  },
  {
   "cell_type": "markdown",
   "metadata": {},
   "source": [
    "Значение MAE близко к нулю, это значит, что значение эффективности обогащения в данных рассчитано правильно."
   ]
  },
  {
   "cell_type": "markdown",
   "metadata": {},
   "source": [
    "Вернемся к размерам структур данных. В тестовой и тренировочной таблице разное количество столбцов. Посмотрим, что за параметры недоступны в тестовой выборке."
   ]
  },
  {
   "cell_type": "code",
   "execution_count": 10,
   "metadata": {},
   "outputs": [
    {
     "name": "stdout",
     "output_type": "stream",
     "text": [
      "final.output.concentrate_ag\n",
      "final.output.concentrate_pb\n",
      "final.output.concentrate_sol\n",
      "final.output.concentrate_au\n",
      "final.output.recovery\n",
      "final.output.tail_ag\n",
      "final.output.tail_pb\n",
      "final.output.tail_sol\n",
      "final.output.tail_au\n",
      "primary_cleaner.output.concentrate_ag\n",
      "primary_cleaner.output.concentrate_pb\n",
      "primary_cleaner.output.concentrate_sol\n",
      "primary_cleaner.output.concentrate_au\n",
      "primary_cleaner.output.tail_ag\n",
      "primary_cleaner.output.tail_pb\n",
      "primary_cleaner.output.tail_sol\n",
      "primary_cleaner.output.tail_au\n",
      "rougher.calculation.sulfate_to_au_concentrate\n",
      "rougher.calculation.floatbank10_sulfate_to_au_feed\n",
      "rougher.calculation.floatbank11_sulfate_to_au_feed\n",
      "rougher.calculation.au_pb_ratio\n",
      "rougher.output.concentrate_ag\n",
      "rougher.output.concentrate_pb\n",
      "rougher.output.concentrate_sol\n",
      "rougher.output.concentrate_au\n",
      "rougher.output.recovery\n",
      "rougher.output.tail_ag\n",
      "rougher.output.tail_pb\n",
      "rougher.output.tail_sol\n",
      "rougher.output.tail_au\n",
      "secondary_cleaner.output.tail_ag\n",
      "secondary_cleaner.output.tail_pb\n",
      "secondary_cleaner.output.tail_sol\n",
      "secondary_cleaner.output.tail_au\n"
     ]
    }
   ],
   "source": [
    "for column_name in list(data_train.columns):\n",
    "    if column_name not in list(data_test.columns):\n",
    "        print(column_name)"
   ]
  },
  {
   "cell_type": "markdown",
   "metadata": {},
   "source": [
    "В тестовой выборке отсутсвуют расчётные характеристики и параметры полученного продукта на всех этапах."
   ]
  },
  {
   "cell_type": "markdown",
   "metadata": {},
   "source": [
    "Данные полностью изучены. Перед началом анализа, нужно проверить их на корректность. Проведем предобработку:\n",
    "* Инициализируем столбец  'date' к типу даты и времени.\n",
    "* Избавимся от пропусков в столбцах.\n",
    "* Проверим данные на дубликаты.\n"
   ]
  },
  {
   "cell_type": "code",
   "execution_count": 11,
   "metadata": {},
   "outputs": [],
   "source": [
    "for data in [data_train, data_test, data_full]:    \n",
    "    #пеерводим 'date' к типу даты и время\n",
    "    data['date'] = pd.to_datetime(data['date'], format = '%Y-%m-%dT%H:%M:%S')"
   ]
  },
  {
   "cell_type": "code",
   "execution_count": 12,
   "metadata": {},
   "outputs": [
    {
     "data": {
      "text/html": [
       "<style  type=\"text/css\" >\n",
       "    #T_2d52657a_4919_11ec_ad28_02420a3935d7row0_col0 {\n",
       "            background-color:  #fff7f3;\n",
       "            color:  #000000;\n",
       "        }    #T_2d52657a_4919_11ec_ad28_02420a3935d7row0_col1 {\n",
       "            background-color:  #fff7f3;\n",
       "            color:  #000000;\n",
       "        }    #T_2d52657a_4919_11ec_ad28_02420a3935d7row1_col0 {\n",
       "            background-color:  #fff7f3;\n",
       "            color:  #000000;\n",
       "        }    #T_2d52657a_4919_11ec_ad28_02420a3935d7row1_col1 {\n",
       "            background-color:  #fff7f3;\n",
       "            color:  #000000;\n",
       "        }    #T_2d52657a_4919_11ec_ad28_02420a3935d7row2_col0 {\n",
       "            background-color:  #fff7f3;\n",
       "            color:  #000000;\n",
       "        }    #T_2d52657a_4919_11ec_ad28_02420a3935d7row2_col1 {\n",
       "            background-color:  #fff7f3;\n",
       "            color:  #000000;\n",
       "        }    #T_2d52657a_4919_11ec_ad28_02420a3935d7row3_col0 {\n",
       "            background-color:  #fde1de;\n",
       "            color:  #000000;\n",
       "        }    #T_2d52657a_4919_11ec_ad28_02420a3935d7row3_col1 {\n",
       "            background-color:  #fde3e0;\n",
       "            color:  #000000;\n",
       "        }    #T_2d52657a_4919_11ec_ad28_02420a3935d7row4_col0 {\n",
       "            background-color:  #fff7f3;\n",
       "            color:  #000000;\n",
       "        }    #T_2d52657a_4919_11ec_ad28_02420a3935d7row4_col1 {\n",
       "            background-color:  #fff7f3;\n",
       "            color:  #000000;\n",
       "        }    #T_2d52657a_4919_11ec_ad28_02420a3935d7row5_col0 {\n",
       "            background-color:  #fff7f3;\n",
       "            color:  #000000;\n",
       "        }    #T_2d52657a_4919_11ec_ad28_02420a3935d7row5_col1 {\n",
       "            background-color:  #fff7f3;\n",
       "            color:  #000000;\n",
       "        }    #T_2d52657a_4919_11ec_ad28_02420a3935d7row6_col0 {\n",
       "            background-color:  #fff7f3;\n",
       "            color:  #000000;\n",
       "        }    #T_2d52657a_4919_11ec_ad28_02420a3935d7row6_col1 {\n",
       "            background-color:  #fff7f3;\n",
       "            color:  #000000;\n",
       "        }    #T_2d52657a_4919_11ec_ad28_02420a3935d7row7_col0 {\n",
       "            background-color:  #feede9;\n",
       "            color:  #000000;\n",
       "        }    #T_2d52657a_4919_11ec_ad28_02420a3935d7row7_col1 {\n",
       "            background-color:  #fde3e0;\n",
       "            color:  #000000;\n",
       "        }    #T_2d52657a_4919_11ec_ad28_02420a3935d7row8_col0 {\n",
       "            background-color:  #fff7f3;\n",
       "            color:  #000000;\n",
       "        }    #T_2d52657a_4919_11ec_ad28_02420a3935d7row8_col1 {\n",
       "            background-color:  #fff7f3;\n",
       "            color:  #000000;\n",
       "        }    #T_2d52657a_4919_11ec_ad28_02420a3935d7row9_col0 {\n",
       "            background-color:  #fff7f3;\n",
       "            color:  #000000;\n",
       "        }    #T_2d52657a_4919_11ec_ad28_02420a3935d7row9_col1 {\n",
       "            background-color:  #fff7f3;\n",
       "            color:  #000000;\n",
       "        }    #T_2d52657a_4919_11ec_ad28_02420a3935d7row10_col0 {\n",
       "            background-color:  #fff5f1;\n",
       "            color:  #000000;\n",
       "        }    #T_2d52657a_4919_11ec_ad28_02420a3935d7row10_col1 {\n",
       "            background-color:  #fff7f3;\n",
       "            color:  #000000;\n",
       "        }    #T_2d52657a_4919_11ec_ad28_02420a3935d7row11_col0 {\n",
       "            background-color:  #fff3f0;\n",
       "            color:  #000000;\n",
       "        }    #T_2d52657a_4919_11ec_ad28_02420a3935d7row11_col1 {\n",
       "            background-color:  #fff7f3;\n",
       "            color:  #000000;\n",
       "        }    #T_2d52657a_4919_11ec_ad28_02420a3935d7row12_col0 {\n",
       "            background-color:  #fff7f3;\n",
       "            color:  #000000;\n",
       "        }    #T_2d52657a_4919_11ec_ad28_02420a3935d7row12_col1 {\n",
       "            background-color:  #fff7f3;\n",
       "            color:  #000000;\n",
       "        }    #T_2d52657a_4919_11ec_ad28_02420a3935d7row13_col0 {\n",
       "            background-color:  #feece9;\n",
       "            color:  #000000;\n",
       "        }    #T_2d52657a_4919_11ec_ad28_02420a3935d7row13_col1 {\n",
       "            background-color:  #fde3e0;\n",
       "            color:  #000000;\n",
       "        }    #T_2d52657a_4919_11ec_ad28_02420a3935d7row14_col0 {\n",
       "            background-color:  #fff7f3;\n",
       "            color:  #000000;\n",
       "        }    #T_2d52657a_4919_11ec_ad28_02420a3935d7row14_col1 {\n",
       "            background-color:  #fff7f3;\n",
       "            color:  #000000;\n",
       "        }    #T_2d52657a_4919_11ec_ad28_02420a3935d7row15_col0 {\n",
       "            background-color:  #feebe8;\n",
       "            color:  #000000;\n",
       "        }    #T_2d52657a_4919_11ec_ad28_02420a3935d7row15_col1 {\n",
       "            background-color:  #fde3e0;\n",
       "            color:  #000000;\n",
       "        }    #T_2d52657a_4919_11ec_ad28_02420a3935d7row16_col0 {\n",
       "            background-color:  #fccdc9;\n",
       "            color:  #000000;\n",
       "        }    #T_2d52657a_4919_11ec_ad28_02420a3935d7row16_col1 {\n",
       "            background-color:  #fcccc7;\n",
       "            color:  #000000;\n",
       "        }    #T_2d52657a_4919_11ec_ad28_02420a3935d7row17_col0 {\n",
       "            background-color:  #fff7f3;\n",
       "            color:  #000000;\n",
       "        }    #T_2d52657a_4919_11ec_ad28_02420a3935d7row17_col1 {\n",
       "            background-color:  #fff7f3;\n",
       "            color:  #000000;\n",
       "        }    #T_2d52657a_4919_11ec_ad28_02420a3935d7row18_col0 {\n",
       "            background-color:  #fff7f3;\n",
       "            color:  #000000;\n",
       "        }    #T_2d52657a_4919_11ec_ad28_02420a3935d7row18_col1 {\n",
       "            background-color:  #fff7f3;\n",
       "            color:  #000000;\n",
       "        }    #T_2d52657a_4919_11ec_ad28_02420a3935d7row19_col0 {\n",
       "            background-color:  #fff5f1;\n",
       "            color:  #000000;\n",
       "        }    #T_2d52657a_4919_11ec_ad28_02420a3935d7row19_col1 {\n",
       "            background-color:  #fff7f3;\n",
       "            color:  #000000;\n",
       "        }    #T_2d52657a_4919_11ec_ad28_02420a3935d7row20_col0 {\n",
       "            background-color:  #fef1ed;\n",
       "            color:  #000000;\n",
       "        }    #T_2d52657a_4919_11ec_ad28_02420a3935d7row20_col1 {\n",
       "            background-color:  #fff7f3;\n",
       "            color:  #000000;\n",
       "        }    #T_2d52657a_4919_11ec_ad28_02420a3935d7row21_col0 {\n",
       "            background-color:  #fff7f3;\n",
       "            color:  #000000;\n",
       "        }    #T_2d52657a_4919_11ec_ad28_02420a3935d7row21_col1 {\n",
       "            background-color:  #fff7f3;\n",
       "            color:  #000000;\n",
       "        }    #T_2d52657a_4919_11ec_ad28_02420a3935d7row22_col0 {\n",
       "            background-color:  #fff7f3;\n",
       "            color:  #000000;\n",
       "        }    #T_2d52657a_4919_11ec_ad28_02420a3935d7row22_col1 {\n",
       "            background-color:  #fff7f3;\n",
       "            color:  #000000;\n",
       "        }    #T_2d52657a_4919_11ec_ad28_02420a3935d7row23_col0 {\n",
       "            background-color:  #fff7f3;\n",
       "            color:  #000000;\n",
       "        }    #T_2d52657a_4919_11ec_ad28_02420a3935d7row23_col1 {\n",
       "            background-color:  #fff7f3;\n",
       "            color:  #000000;\n",
       "        }    #T_2d52657a_4919_11ec_ad28_02420a3935d7row24_col0 {\n",
       "            background-color:  #fff7f3;\n",
       "            color:  #000000;\n",
       "        }    #T_2d52657a_4919_11ec_ad28_02420a3935d7row24_col1 {\n",
       "            background-color:  #fff7f3;\n",
       "            color:  #000000;\n",
       "        }    #T_2d52657a_4919_11ec_ad28_02420a3935d7row25_col0 {\n",
       "            background-color:  #fff7f3;\n",
       "            color:  #000000;\n",
       "        }    #T_2d52657a_4919_11ec_ad28_02420a3935d7row25_col1 {\n",
       "            background-color:  #fff7f3;\n",
       "            color:  #000000;\n",
       "        }    #T_2d52657a_4919_11ec_ad28_02420a3935d7row26_col0 {\n",
       "            background-color:  #fff7f3;\n",
       "            color:  #000000;\n",
       "        }    #T_2d52657a_4919_11ec_ad28_02420a3935d7row26_col1 {\n",
       "            background-color:  #fff7f3;\n",
       "            color:  #000000;\n",
       "        }    #T_2d52657a_4919_11ec_ad28_02420a3935d7row27_col0 {\n",
       "            background-color:  #fff7f3;\n",
       "            color:  #000000;\n",
       "        }    #T_2d52657a_4919_11ec_ad28_02420a3935d7row27_col1 {\n",
       "            background-color:  #fff7f3;\n",
       "            color:  #000000;\n",
       "        }    #T_2d52657a_4919_11ec_ad28_02420a3935d7row28_col0 {\n",
       "            background-color:  #fff7f3;\n",
       "            color:  #000000;\n",
       "        }    #T_2d52657a_4919_11ec_ad28_02420a3935d7row28_col1 {\n",
       "            background-color:  #fff7f3;\n",
       "            color:  #000000;\n",
       "        }    #T_2d52657a_4919_11ec_ad28_02420a3935d7row29_col0 {\n",
       "            background-color:  #fff7f3;\n",
       "            color:  #000000;\n",
       "        }    #T_2d52657a_4919_11ec_ad28_02420a3935d7row29_col1 {\n",
       "            background-color:  #fff7f3;\n",
       "            color:  #000000;\n",
       "        }    #T_2d52657a_4919_11ec_ad28_02420a3935d7row30_col0 {\n",
       "            background-color:  #fff7f3;\n",
       "            color:  #000000;\n",
       "        }    #T_2d52657a_4919_11ec_ad28_02420a3935d7row30_col1 {\n",
       "            background-color:  #fff7f3;\n",
       "            color:  #000000;\n",
       "        }    #T_2d52657a_4919_11ec_ad28_02420a3935d7row31_col0 {\n",
       "            background-color:  #fff7f3;\n",
       "            color:  #000000;\n",
       "        }    #T_2d52657a_4919_11ec_ad28_02420a3935d7row31_col1 {\n",
       "            background-color:  #fff7f3;\n",
       "            color:  #000000;\n",
       "        }    #T_2d52657a_4919_11ec_ad28_02420a3935d7row32_col0 {\n",
       "            background-color:  #fff7f3;\n",
       "            color:  #000000;\n",
       "        }    #T_2d52657a_4919_11ec_ad28_02420a3935d7row32_col1 {\n",
       "            background-color:  #fff7f3;\n",
       "            color:  #000000;\n",
       "        }    #T_2d52657a_4919_11ec_ad28_02420a3935d7row33_col0 {\n",
       "            background-color:  #fff7f3;\n",
       "            color:  #000000;\n",
       "        }    #T_2d52657a_4919_11ec_ad28_02420a3935d7row33_col1 {\n",
       "            background-color:  #fff7f3;\n",
       "            color:  #000000;\n",
       "        }    #T_2d52657a_4919_11ec_ad28_02420a3935d7row34_col0 {\n",
       "            background-color:  #fff7f3;\n",
       "            color:  #000000;\n",
       "        }    #T_2d52657a_4919_11ec_ad28_02420a3935d7row34_col1 {\n",
       "            background-color:  #fff7f3;\n",
       "            color:  #000000;\n",
       "        }    #T_2d52657a_4919_11ec_ad28_02420a3935d7row35_col0 {\n",
       "            background-color:  #feede9;\n",
       "            color:  #000000;\n",
       "        }    #T_2d52657a_4919_11ec_ad28_02420a3935d7row35_col1 {\n",
       "            background-color:  #fde3e0;\n",
       "            color:  #000000;\n",
       "        }    #T_2d52657a_4919_11ec_ad28_02420a3935d7row36_col0 {\n",
       "            background-color:  #fff6f2;\n",
       "            color:  #000000;\n",
       "        }    #T_2d52657a_4919_11ec_ad28_02420a3935d7row36_col1 {\n",
       "            background-color:  #fff7f3;\n",
       "            color:  #000000;\n",
       "        }    #T_2d52657a_4919_11ec_ad28_02420a3935d7row37_col0 {\n",
       "            background-color:  #fee8e5;\n",
       "            color:  #000000;\n",
       "        }    #T_2d52657a_4919_11ec_ad28_02420a3935d7row37_col1 {\n",
       "            background-color:  #fde3e0;\n",
       "            color:  #000000;\n",
       "        }    #T_2d52657a_4919_11ec_ad28_02420a3935d7row38_col0 {\n",
       "            background-color:  #feede9;\n",
       "            color:  #000000;\n",
       "        }    #T_2d52657a_4919_11ec_ad28_02420a3935d7row38_col1 {\n",
       "            background-color:  #fde3e0;\n",
       "            color:  #000000;\n",
       "        }    #T_2d52657a_4919_11ec_ad28_02420a3935d7row39_col0 {\n",
       "            background-color:  #fff7f3;\n",
       "            color:  #000000;\n",
       "        }    #T_2d52657a_4919_11ec_ad28_02420a3935d7row39_col1 {\n",
       "            background-color:  #fff7f3;\n",
       "            color:  #000000;\n",
       "        }    #T_2d52657a_4919_11ec_ad28_02420a3935d7row40_col0 {\n",
       "            background-color:  #fff4f0;\n",
       "            color:  #000000;\n",
       "        }    #T_2d52657a_4919_11ec_ad28_02420a3935d7row40_col1 {\n",
       "            background-color:  #fff7f3;\n",
       "            color:  #000000;\n",
       "        }    #T_2d52657a_4919_11ec_ad28_02420a3935d7row41_col0 {\n",
       "            background-color:  #fff6f2;\n",
       "            color:  #000000;\n",
       "        }    #T_2d52657a_4919_11ec_ad28_02420a3935d7row41_col1 {\n",
       "            background-color:  #fff7f3;\n",
       "            color:  #000000;\n",
       "        }    #T_2d52657a_4919_11ec_ad28_02420a3935d7row42_col0 {\n",
       "            background-color:  #fff3ef;\n",
       "            color:  #000000;\n",
       "        }    #T_2d52657a_4919_11ec_ad28_02420a3935d7row42_col1 {\n",
       "            background-color:  #fff7f3;\n",
       "            color:  #000000;\n",
       "        }    #T_2d52657a_4919_11ec_ad28_02420a3935d7row43_col0 {\n",
       "            background-color:  #fcc2bf;\n",
       "            color:  #000000;\n",
       "        }    #T_2d52657a_4919_11ec_ad28_02420a3935d7row43_col1 {\n",
       "            background-color:  #fcccc7;\n",
       "            color:  #000000;\n",
       "        }    #T_2d52657a_4919_11ec_ad28_02420a3935d7row44_col0 {\n",
       "            background-color:  #fff7f3;\n",
       "            color:  #000000;\n",
       "        }    #T_2d52657a_4919_11ec_ad28_02420a3935d7row44_col1 {\n",
       "            background-color:  #fff7f3;\n",
       "            color:  #000000;\n",
       "        }    #T_2d52657a_4919_11ec_ad28_02420a3935d7row45_col0 {\n",
       "            background-color:  #fff7f3;\n",
       "            color:  #000000;\n",
       "        }    #T_2d52657a_4919_11ec_ad28_02420a3935d7row45_col1 {\n",
       "            background-color:  #fff7f3;\n",
       "            color:  #000000;\n",
       "        }    #T_2d52657a_4919_11ec_ad28_02420a3935d7row46_col0 {\n",
       "            background-color:  #fff5f1;\n",
       "            color:  #000000;\n",
       "        }    #T_2d52657a_4919_11ec_ad28_02420a3935d7row46_col1 {\n",
       "            background-color:  #fff7f3;\n",
       "            color:  #000000;\n",
       "        }    #T_2d52657a_4919_11ec_ad28_02420a3935d7row47_col0 {\n",
       "            background-color:  #fff7f3;\n",
       "            color:  #000000;\n",
       "        }    #T_2d52657a_4919_11ec_ad28_02420a3935d7row47_col1 {\n",
       "            background-color:  #fff7f3;\n",
       "            color:  #000000;\n",
       "        }    #T_2d52657a_4919_11ec_ad28_02420a3935d7row48_col0 {\n",
       "            background-color:  #fff7f3;\n",
       "            color:  #000000;\n",
       "        }    #T_2d52657a_4919_11ec_ad28_02420a3935d7row48_col1 {\n",
       "            background-color:  #fff7f3;\n",
       "            color:  #000000;\n",
       "        }    #T_2d52657a_4919_11ec_ad28_02420a3935d7row49_col0 {\n",
       "            background-color:  #fff7f3;\n",
       "            color:  #000000;\n",
       "        }    #T_2d52657a_4919_11ec_ad28_02420a3935d7row49_col1 {\n",
       "            background-color:  #fff7f3;\n",
       "            color:  #000000;\n",
       "        }    #T_2d52657a_4919_11ec_ad28_02420a3935d7row50_col0 {\n",
       "            background-color:  #fff7f3;\n",
       "            color:  #000000;\n",
       "        }    #T_2d52657a_4919_11ec_ad28_02420a3935d7row50_col1 {\n",
       "            background-color:  #fff7f3;\n",
       "            color:  #000000;\n",
       "        }    #T_2d52657a_4919_11ec_ad28_02420a3935d7row51_col0 {\n",
       "            background-color:  #fff7f3;\n",
       "            color:  #000000;\n",
       "        }    #T_2d52657a_4919_11ec_ad28_02420a3935d7row51_col1 {\n",
       "            background-color:  #fff7f3;\n",
       "            color:  #000000;\n",
       "        }    #T_2d52657a_4919_11ec_ad28_02420a3935d7row52_col0 {\n",
       "            background-color:  #fff7f3;\n",
       "            color:  #000000;\n",
       "        }    #T_2d52657a_4919_11ec_ad28_02420a3935d7row52_col1 {\n",
       "            background-color:  #fff7f3;\n",
       "            color:  #000000;\n",
       "        }    #T_2d52657a_4919_11ec_ad28_02420a3935d7row53_col0 {\n",
       "            background-color:  #fff7f3;\n",
       "            color:  #000000;\n",
       "        }    #T_2d52657a_4919_11ec_ad28_02420a3935d7row53_col1 {\n",
       "            background-color:  #fff7f3;\n",
       "            color:  #000000;\n",
       "        }    #T_2d52657a_4919_11ec_ad28_02420a3935d7row54_col0 {\n",
       "            background-color:  #fff7f3;\n",
       "            color:  #000000;\n",
       "        }    #T_2d52657a_4919_11ec_ad28_02420a3935d7row54_col1 {\n",
       "            background-color:  #fff7f3;\n",
       "            color:  #000000;\n",
       "        }    #T_2d52657a_4919_11ec_ad28_02420a3935d7row55_col0 {\n",
       "            background-color:  #fff7f3;\n",
       "            color:  #000000;\n",
       "        }    #T_2d52657a_4919_11ec_ad28_02420a3935d7row55_col1 {\n",
       "            background-color:  #fff7f3;\n",
       "            color:  #000000;\n",
       "        }    #T_2d52657a_4919_11ec_ad28_02420a3935d7row56_col0 {\n",
       "            background-color:  #fff7f3;\n",
       "            color:  #000000;\n",
       "        }    #T_2d52657a_4919_11ec_ad28_02420a3935d7row56_col1 {\n",
       "            background-color:  #fff7f3;\n",
       "            color:  #000000;\n",
       "        }    #T_2d52657a_4919_11ec_ad28_02420a3935d7row57_col0 {\n",
       "            background-color:  #fff7f3;\n",
       "            color:  #000000;\n",
       "        }    #T_2d52657a_4919_11ec_ad28_02420a3935d7row57_col1 {\n",
       "            background-color:  #fff7f3;\n",
       "            color:  #000000;\n",
       "        }    #T_2d52657a_4919_11ec_ad28_02420a3935d7row58_col0 {\n",
       "            background-color:  #fff7f3;\n",
       "            color:  #000000;\n",
       "        }    #T_2d52657a_4919_11ec_ad28_02420a3935d7row58_col1 {\n",
       "            background-color:  #fff7f3;\n",
       "            color:  #000000;\n",
       "        }    #T_2d52657a_4919_11ec_ad28_02420a3935d7row59_col0 {\n",
       "            background-color:  #fff7f3;\n",
       "            color:  #000000;\n",
       "        }    #T_2d52657a_4919_11ec_ad28_02420a3935d7row59_col1 {\n",
       "            background-color:  #fff7f3;\n",
       "            color:  #000000;\n",
       "        }    #T_2d52657a_4919_11ec_ad28_02420a3935d7row60_col0 {\n",
       "            background-color:  #fff7f3;\n",
       "            color:  #000000;\n",
       "        }    #T_2d52657a_4919_11ec_ad28_02420a3935d7row60_col1 {\n",
       "            background-color:  #fff7f3;\n",
       "            color:  #000000;\n",
       "        }    #T_2d52657a_4919_11ec_ad28_02420a3935d7row61_col0 {\n",
       "            background-color:  #fcc6c1;\n",
       "            color:  #000000;\n",
       "        }    #T_2d52657a_4919_11ec_ad28_02420a3935d7row61_col1 {\n",
       "            background-color:  #fcccc7;\n",
       "            color:  #000000;\n",
       "        }    #T_2d52657a_4919_11ec_ad28_02420a3935d7row62_col0 {\n",
       "            background-color:  #fff7f3;\n",
       "            color:  #000000;\n",
       "        }    #T_2d52657a_4919_11ec_ad28_02420a3935d7row62_col1 {\n",
       "            background-color:  #fff7f3;\n",
       "            color:  #000000;\n",
       "        }    #T_2d52657a_4919_11ec_ad28_02420a3935d7row63_col0 {\n",
       "            background-color:  #fff7f3;\n",
       "            color:  #000000;\n",
       "        }    #T_2d52657a_4919_11ec_ad28_02420a3935d7row63_col1 {\n",
       "            background-color:  #fff7f3;\n",
       "            color:  #000000;\n",
       "        }    #T_2d52657a_4919_11ec_ad28_02420a3935d7row64_col0 {\n",
       "            background-color:  #fff7f3;\n",
       "            color:  #000000;\n",
       "        }    #T_2d52657a_4919_11ec_ad28_02420a3935d7row64_col1 {\n",
       "            background-color:  #fff7f3;\n",
       "            color:  #000000;\n",
       "        }    #T_2d52657a_4919_11ec_ad28_02420a3935d7row65_col0 {\n",
       "            background-color:  #fff7f3;\n",
       "            color:  #000000;\n",
       "        }    #T_2d52657a_4919_11ec_ad28_02420a3935d7row65_col1 {\n",
       "            background-color:  #fff7f3;\n",
       "            color:  #000000;\n",
       "        }    #T_2d52657a_4919_11ec_ad28_02420a3935d7row66_col0 {\n",
       "            background-color:  #fff6f2;\n",
       "            color:  #000000;\n",
       "        }    #T_2d52657a_4919_11ec_ad28_02420a3935d7row66_col1 {\n",
       "            background-color:  #fff7f3;\n",
       "            color:  #000000;\n",
       "        }    #T_2d52657a_4919_11ec_ad28_02420a3935d7row67_col0 {\n",
       "            background-color:  #49006a;\n",
       "            color:  #f1f1f1;\n",
       "        }    #T_2d52657a_4919_11ec_ad28_02420a3935d7row67_col1 {\n",
       "            background-color:  #49006a;\n",
       "            color:  #f1f1f1;\n",
       "        }    #T_2d52657a_4919_11ec_ad28_02420a3935d7row68_col0 {\n",
       "            background-color:  #fff7f3;\n",
       "            color:  #000000;\n",
       "        }    #T_2d52657a_4919_11ec_ad28_02420a3935d7row68_col1 {\n",
       "            background-color:  #fff7f3;\n",
       "            color:  #000000;\n",
       "        }    #T_2d52657a_4919_11ec_ad28_02420a3935d7row69_col0 {\n",
       "            background-color:  #fde0dd;\n",
       "            color:  #000000;\n",
       "        }    #T_2d52657a_4919_11ec_ad28_02420a3935d7row69_col1 {\n",
       "            background-color:  #fde3e0;\n",
       "            color:  #000000;\n",
       "        }    #T_2d52657a_4919_11ec_ad28_02420a3935d7row70_col0 {\n",
       "            background-color:  #fff7f3;\n",
       "            color:  #000000;\n",
       "        }    #T_2d52657a_4919_11ec_ad28_02420a3935d7row70_col1 {\n",
       "            background-color:  #fff7f3;\n",
       "            color:  #000000;\n",
       "        }    #T_2d52657a_4919_11ec_ad28_02420a3935d7row71_col0 {\n",
       "            background-color:  #fff5f1;\n",
       "            color:  #000000;\n",
       "        }    #T_2d52657a_4919_11ec_ad28_02420a3935d7row71_col1 {\n",
       "            background-color:  #fff7f3;\n",
       "            color:  #000000;\n",
       "        }    #T_2d52657a_4919_11ec_ad28_02420a3935d7row72_col0 {\n",
       "            background-color:  #fff7f3;\n",
       "            color:  #000000;\n",
       "        }    #T_2d52657a_4919_11ec_ad28_02420a3935d7row72_col1 {\n",
       "            background-color:  #fff7f3;\n",
       "            color:  #000000;\n",
       "        }    #T_2d52657a_4919_11ec_ad28_02420a3935d7row73_col0 {\n",
       "            background-color:  #fff6f2;\n",
       "            color:  #000000;\n",
       "        }    #T_2d52657a_4919_11ec_ad28_02420a3935d7row73_col1 {\n",
       "            background-color:  #fff7f3;\n",
       "            color:  #000000;\n",
       "        }    #T_2d52657a_4919_11ec_ad28_02420a3935d7row74_col0 {\n",
       "            background-color:  #fff7f3;\n",
       "            color:  #000000;\n",
       "        }    #T_2d52657a_4919_11ec_ad28_02420a3935d7row74_col1 {\n",
       "            background-color:  #fff7f3;\n",
       "            color:  #000000;\n",
       "        }    #T_2d52657a_4919_11ec_ad28_02420a3935d7row75_col0 {\n",
       "            background-color:  #fff7f3;\n",
       "            color:  #000000;\n",
       "        }    #T_2d52657a_4919_11ec_ad28_02420a3935d7row75_col1 {\n",
       "            background-color:  #fff7f3;\n",
       "            color:  #000000;\n",
       "        }    #T_2d52657a_4919_11ec_ad28_02420a3935d7row76_col0 {\n",
       "            background-color:  #fff7f3;\n",
       "            color:  #000000;\n",
       "        }    #T_2d52657a_4919_11ec_ad28_02420a3935d7row76_col1 {\n",
       "            background-color:  #fff7f3;\n",
       "            color:  #000000;\n",
       "        }    #T_2d52657a_4919_11ec_ad28_02420a3935d7row77_col0 {\n",
       "            background-color:  #fff7f3;\n",
       "            color:  #000000;\n",
       "        }    #T_2d52657a_4919_11ec_ad28_02420a3935d7row77_col1 {\n",
       "            background-color:  #fff7f3;\n",
       "            color:  #000000;\n",
       "        }    #T_2d52657a_4919_11ec_ad28_02420a3935d7row78_col0 {\n",
       "            background-color:  #fff7f3;\n",
       "            color:  #000000;\n",
       "        }    #T_2d52657a_4919_11ec_ad28_02420a3935d7row78_col1 {\n",
       "            background-color:  #fff7f3;\n",
       "            color:  #000000;\n",
       "        }    #T_2d52657a_4919_11ec_ad28_02420a3935d7row79_col0 {\n",
       "            background-color:  #fff7f3;\n",
       "            color:  #000000;\n",
       "        }    #T_2d52657a_4919_11ec_ad28_02420a3935d7row79_col1 {\n",
       "            background-color:  #fff7f3;\n",
       "            color:  #000000;\n",
       "        }    #T_2d52657a_4919_11ec_ad28_02420a3935d7row80_col0 {\n",
       "            background-color:  #fff7f3;\n",
       "            color:  #000000;\n",
       "        }    #T_2d52657a_4919_11ec_ad28_02420a3935d7row80_col1 {\n",
       "            background-color:  #fff7f3;\n",
       "            color:  #000000;\n",
       "        }    #T_2d52657a_4919_11ec_ad28_02420a3935d7row81_col0 {\n",
       "            background-color:  #fff7f3;\n",
       "            color:  #000000;\n",
       "        }    #T_2d52657a_4919_11ec_ad28_02420a3935d7row81_col1 {\n",
       "            background-color:  #fff7f3;\n",
       "            color:  #000000;\n",
       "        }    #T_2d52657a_4919_11ec_ad28_02420a3935d7row82_col0 {\n",
       "            background-color:  #fff7f3;\n",
       "            color:  #000000;\n",
       "        }    #T_2d52657a_4919_11ec_ad28_02420a3935d7row82_col1 {\n",
       "            background-color:  #fff7f3;\n",
       "            color:  #000000;\n",
       "        }    #T_2d52657a_4919_11ec_ad28_02420a3935d7row83_col0 {\n",
       "            background-color:  #fff7f3;\n",
       "            color:  #000000;\n",
       "        }    #T_2d52657a_4919_11ec_ad28_02420a3935d7row83_col1 {\n",
       "            background-color:  #fff7f3;\n",
       "            color:  #000000;\n",
       "        }    #T_2d52657a_4919_11ec_ad28_02420a3935d7row84_col0 {\n",
       "            background-color:  #fff7f3;\n",
       "            color:  #000000;\n",
       "        }    #T_2d52657a_4919_11ec_ad28_02420a3935d7row84_col1 {\n",
       "            background-color:  #fff7f3;\n",
       "            color:  #000000;\n",
       "        }    #T_2d52657a_4919_11ec_ad28_02420a3935d7row85_col0 {\n",
       "            background-color:  #fff7f3;\n",
       "            color:  #000000;\n",
       "        }    #T_2d52657a_4919_11ec_ad28_02420a3935d7row85_col1 {\n",
       "            background-color:  #fff7f3;\n",
       "            color:  #000000;\n",
       "        }    #T_2d52657a_4919_11ec_ad28_02420a3935d7row86_col0 {\n",
       "            background-color:  #fff7f3;\n",
       "            color:  #000000;\n",
       "        }    #T_2d52657a_4919_11ec_ad28_02420a3935d7row86_col1 {\n",
       "            background-color:  #fff7f3;\n",
       "            color:  #000000;\n",
       "        }</style><table id=\"T_2d52657a_4919_11ec_ad28_02420a3935d7\" ><thead>    <tr>        <th class=\"blank level0\" ></th>        <th class=\"col_heading level0 col0\" >missing_values</th>        <th class=\"col_heading level0 col1\" >% of total</th>    </tr></thead><tbody>\n",
       "                <tr>\n",
       "                        <th id=\"T_2d52657a_4919_11ec_ad28_02420a3935d7level0_row0\" class=\"row_heading level0 row0\" >date</th>\n",
       "                        <td id=\"T_2d52657a_4919_11ec_ad28_02420a3935d7row0_col0\" class=\"data row0 col0\" >0</td>\n",
       "                        <td id=\"T_2d52657a_4919_11ec_ad28_02420a3935d7row0_col1\" class=\"data row0 col1\" >0</td>\n",
       "            </tr>\n",
       "            <tr>\n",
       "                        <th id=\"T_2d52657a_4919_11ec_ad28_02420a3935d7level0_row1\" class=\"row_heading level0 row1\" >final.output.concentrate_ag</th>\n",
       "                        <td id=\"T_2d52657a_4919_11ec_ad28_02420a3935d7row1_col0\" class=\"data row1 col0\" >1</td>\n",
       "                        <td id=\"T_2d52657a_4919_11ec_ad28_02420a3935d7row1_col1\" class=\"data row1 col1\" >0</td>\n",
       "            </tr>\n",
       "            <tr>\n",
       "                        <th id=\"T_2d52657a_4919_11ec_ad28_02420a3935d7level0_row2\" class=\"row_heading level0 row2\" >final.output.concentrate_pb</th>\n",
       "                        <td id=\"T_2d52657a_4919_11ec_ad28_02420a3935d7row2_col0\" class=\"data row2 col0\" >1</td>\n",
       "                        <td id=\"T_2d52657a_4919_11ec_ad28_02420a3935d7row2_col1\" class=\"data row2 col1\" >0</td>\n",
       "            </tr>\n",
       "            <tr>\n",
       "                        <th id=\"T_2d52657a_4919_11ec_ad28_02420a3935d7level0_row3\" class=\"row_heading level0 row3\" >final.output.concentrate_sol</th>\n",
       "                        <td id=\"T_2d52657a_4919_11ec_ad28_02420a3935d7row3_col0\" class=\"data row3 col0\" >211</td>\n",
       "                        <td id=\"T_2d52657a_4919_11ec_ad28_02420a3935d7row3_col1\" class=\"data row3 col1\" >0.01</td>\n",
       "            </tr>\n",
       "            <tr>\n",
       "                        <th id=\"T_2d52657a_4919_11ec_ad28_02420a3935d7level0_row4\" class=\"row_heading level0 row4\" >final.output.concentrate_au</th>\n",
       "                        <td id=\"T_2d52657a_4919_11ec_ad28_02420a3935d7row4_col0\" class=\"data row4 col0\" >0</td>\n",
       "                        <td id=\"T_2d52657a_4919_11ec_ad28_02420a3935d7row4_col1\" class=\"data row4 col1\" >0</td>\n",
       "            </tr>\n",
       "            <tr>\n",
       "                        <th id=\"T_2d52657a_4919_11ec_ad28_02420a3935d7level0_row5\" class=\"row_heading level0 row5\" >final.output.recovery</th>\n",
       "                        <td id=\"T_2d52657a_4919_11ec_ad28_02420a3935d7row5_col0\" class=\"data row5 col0\" >0</td>\n",
       "                        <td id=\"T_2d52657a_4919_11ec_ad28_02420a3935d7row5_col1\" class=\"data row5 col1\" >0</td>\n",
       "            </tr>\n",
       "            <tr>\n",
       "                        <th id=\"T_2d52657a_4919_11ec_ad28_02420a3935d7level0_row6\" class=\"row_heading level0 row6\" >final.output.tail_ag</th>\n",
       "                        <td id=\"T_2d52657a_4919_11ec_ad28_02420a3935d7row6_col0\" class=\"data row6 col0\" >1</td>\n",
       "                        <td id=\"T_2d52657a_4919_11ec_ad28_02420a3935d7row6_col1\" class=\"data row6 col1\" >0</td>\n",
       "            </tr>\n",
       "            <tr>\n",
       "                        <th id=\"T_2d52657a_4919_11ec_ad28_02420a3935d7level0_row7\" class=\"row_heading level0 row7\" >final.output.tail_pb</th>\n",
       "                        <td id=\"T_2d52657a_4919_11ec_ad28_02420a3935d7row7_col0\" class=\"data row7 col0\" >101</td>\n",
       "                        <td id=\"T_2d52657a_4919_11ec_ad28_02420a3935d7row7_col1\" class=\"data row7 col1\" >0.01</td>\n",
       "            </tr>\n",
       "            <tr>\n",
       "                        <th id=\"T_2d52657a_4919_11ec_ad28_02420a3935d7level0_row8\" class=\"row_heading level0 row8\" >final.output.tail_sol</th>\n",
       "                        <td id=\"T_2d52657a_4919_11ec_ad28_02420a3935d7row8_col0\" class=\"data row8 col0\" >6</td>\n",
       "                        <td id=\"T_2d52657a_4919_11ec_ad28_02420a3935d7row8_col1\" class=\"data row8 col1\" >0</td>\n",
       "            </tr>\n",
       "            <tr>\n",
       "                        <th id=\"T_2d52657a_4919_11ec_ad28_02420a3935d7level0_row9\" class=\"row_heading level0 row9\" >final.output.tail_au</th>\n",
       "                        <td id=\"T_2d52657a_4919_11ec_ad28_02420a3935d7row9_col0\" class=\"data row9 col0\" >0</td>\n",
       "                        <td id=\"T_2d52657a_4919_11ec_ad28_02420a3935d7row9_col1\" class=\"data row9 col1\" >0</td>\n",
       "            </tr>\n",
       "            <tr>\n",
       "                        <th id=\"T_2d52657a_4919_11ec_ad28_02420a3935d7level0_row10\" class=\"row_heading level0 row10\" >primary_cleaner.input.sulfate</th>\n",
       "                        <td id=\"T_2d52657a_4919_11ec_ad28_02420a3935d7row10_col0\" class=\"data row10 col0\" >24</td>\n",
       "                        <td id=\"T_2d52657a_4919_11ec_ad28_02420a3935d7row10_col1\" class=\"data row10 col1\" >0</td>\n",
       "            </tr>\n",
       "            <tr>\n",
       "                        <th id=\"T_2d52657a_4919_11ec_ad28_02420a3935d7level0_row11\" class=\"row_heading level0 row11\" >primary_cleaner.input.depressant</th>\n",
       "                        <td id=\"T_2d52657a_4919_11ec_ad28_02420a3935d7row11_col0\" class=\"data row11 col0\" >37</td>\n",
       "                        <td id=\"T_2d52657a_4919_11ec_ad28_02420a3935d7row11_col1\" class=\"data row11 col1\" >0</td>\n",
       "            </tr>\n",
       "            <tr>\n",
       "                        <th id=\"T_2d52657a_4919_11ec_ad28_02420a3935d7level0_row12\" class=\"row_heading level0 row12\" >primary_cleaner.input.feed_size</th>\n",
       "                        <td id=\"T_2d52657a_4919_11ec_ad28_02420a3935d7row12_col0\" class=\"data row12 col0\" >0</td>\n",
       "                        <td id=\"T_2d52657a_4919_11ec_ad28_02420a3935d7row12_col1\" class=\"data row12 col1\" >0</td>\n",
       "            </tr>\n",
       "            <tr>\n",
       "                        <th id=\"T_2d52657a_4919_11ec_ad28_02420a3935d7level0_row13\" class=\"row_heading level0 row13\" >primary_cleaner.input.xanthate</th>\n",
       "                        <td id=\"T_2d52657a_4919_11ec_ad28_02420a3935d7row13_col0\" class=\"data row13 col0\" >104</td>\n",
       "                        <td id=\"T_2d52657a_4919_11ec_ad28_02420a3935d7row13_col1\" class=\"data row13 col1\" >0.01</td>\n",
       "            </tr>\n",
       "            <tr>\n",
       "                        <th id=\"T_2d52657a_4919_11ec_ad28_02420a3935d7level0_row14\" class=\"row_heading level0 row14\" >primary_cleaner.output.concentrate_ag</th>\n",
       "                        <td id=\"T_2d52657a_4919_11ec_ad28_02420a3935d7row14_col0\" class=\"data row14 col0\" >0</td>\n",
       "                        <td id=\"T_2d52657a_4919_11ec_ad28_02420a3935d7row14_col1\" class=\"data row14 col1\" >0</td>\n",
       "            </tr>\n",
       "            <tr>\n",
       "                        <th id=\"T_2d52657a_4919_11ec_ad28_02420a3935d7level0_row15\" class=\"row_heading level0 row15\" >primary_cleaner.output.concentrate_pb</th>\n",
       "                        <td id=\"T_2d52657a_4919_11ec_ad28_02420a3935d7row15_col0\" class=\"data row15 col0\" >116</td>\n",
       "                        <td id=\"T_2d52657a_4919_11ec_ad28_02420a3935d7row15_col1\" class=\"data row15 col1\" >0.01</td>\n",
       "            </tr>\n",
       "            <tr>\n",
       "                        <th id=\"T_2d52657a_4919_11ec_ad28_02420a3935d7level0_row16\" class=\"row_heading level0 row16\" >primary_cleaner.output.concentrate_sol</th>\n",
       "                        <td id=\"T_2d52657a_4919_11ec_ad28_02420a3935d7row16_col0\" class=\"data row16 col0\" >370</td>\n",
       "                        <td id=\"T_2d52657a_4919_11ec_ad28_02420a3935d7row16_col1\" class=\"data row16 col1\" >0.02</td>\n",
       "            </tr>\n",
       "            <tr>\n",
       "                        <th id=\"T_2d52657a_4919_11ec_ad28_02420a3935d7level0_row17\" class=\"row_heading level0 row17\" >primary_cleaner.output.concentrate_au</th>\n",
       "                        <td id=\"T_2d52657a_4919_11ec_ad28_02420a3935d7row17_col0\" class=\"data row17 col0\" >0</td>\n",
       "                        <td id=\"T_2d52657a_4919_11ec_ad28_02420a3935d7row17_col1\" class=\"data row17 col1\" >0</td>\n",
       "            </tr>\n",
       "            <tr>\n",
       "                        <th id=\"T_2d52657a_4919_11ec_ad28_02420a3935d7level0_row18\" class=\"row_heading level0 row18\" >primary_cleaner.output.tail_ag</th>\n",
       "                        <td id=\"T_2d52657a_4919_11ec_ad28_02420a3935d7row18_col0\" class=\"data row18 col0\" >4</td>\n",
       "                        <td id=\"T_2d52657a_4919_11ec_ad28_02420a3935d7row18_col1\" class=\"data row18 col1\" >0</td>\n",
       "            </tr>\n",
       "            <tr>\n",
       "                        <th id=\"T_2d52657a_4919_11ec_ad28_02420a3935d7level0_row19\" class=\"row_heading level0 row19\" >primary_cleaner.output.tail_pb</th>\n",
       "                        <td id=\"T_2d52657a_4919_11ec_ad28_02420a3935d7row19_col0\" class=\"data row19 col0\" >21</td>\n",
       "                        <td id=\"T_2d52657a_4919_11ec_ad28_02420a3935d7row19_col1\" class=\"data row19 col1\" >0</td>\n",
       "            </tr>\n",
       "            <tr>\n",
       "                        <th id=\"T_2d52657a_4919_11ec_ad28_02420a3935d7level0_row20\" class=\"row_heading level0 row20\" >primary_cleaner.output.tail_sol</th>\n",
       "                        <td id=\"T_2d52657a_4919_11ec_ad28_02420a3935d7row20_col0\" class=\"data row20 col0\" >62</td>\n",
       "                        <td id=\"T_2d52657a_4919_11ec_ad28_02420a3935d7row20_col1\" class=\"data row20 col1\" >0</td>\n",
       "            </tr>\n",
       "            <tr>\n",
       "                        <th id=\"T_2d52657a_4919_11ec_ad28_02420a3935d7level0_row21\" class=\"row_heading level0 row21\" >primary_cleaner.output.tail_au</th>\n",
       "                        <td id=\"T_2d52657a_4919_11ec_ad28_02420a3935d7row21_col0\" class=\"data row21 col0\" >0</td>\n",
       "                        <td id=\"T_2d52657a_4919_11ec_ad28_02420a3935d7row21_col1\" class=\"data row21 col1\" >0</td>\n",
       "            </tr>\n",
       "            <tr>\n",
       "                        <th id=\"T_2d52657a_4919_11ec_ad28_02420a3935d7level0_row22\" class=\"row_heading level0 row22\" >primary_cleaner.state.floatbank8_a_air</th>\n",
       "                        <td id=\"T_2d52657a_4919_11ec_ad28_02420a3935d7row22_col0\" class=\"data row22 col0\" >4</td>\n",
       "                        <td id=\"T_2d52657a_4919_11ec_ad28_02420a3935d7row22_col1\" class=\"data row22 col1\" >0</td>\n",
       "            </tr>\n",
       "            <tr>\n",
       "                        <th id=\"T_2d52657a_4919_11ec_ad28_02420a3935d7level0_row23\" class=\"row_heading level0 row23\" >primary_cleaner.state.floatbank8_a_level</th>\n",
       "                        <td id=\"T_2d52657a_4919_11ec_ad28_02420a3935d7row23_col0\" class=\"data row23 col0\" >1</td>\n",
       "                        <td id=\"T_2d52657a_4919_11ec_ad28_02420a3935d7row23_col1\" class=\"data row23 col1\" >0</td>\n",
       "            </tr>\n",
       "            <tr>\n",
       "                        <th id=\"T_2d52657a_4919_11ec_ad28_02420a3935d7level0_row24\" class=\"row_heading level0 row24\" >primary_cleaner.state.floatbank8_b_air</th>\n",
       "                        <td id=\"T_2d52657a_4919_11ec_ad28_02420a3935d7row24_col0\" class=\"data row24 col0\" >4</td>\n",
       "                        <td id=\"T_2d52657a_4919_11ec_ad28_02420a3935d7row24_col1\" class=\"data row24 col1\" >0</td>\n",
       "            </tr>\n",
       "            <tr>\n",
       "                        <th id=\"T_2d52657a_4919_11ec_ad28_02420a3935d7level0_row25\" class=\"row_heading level0 row25\" >primary_cleaner.state.floatbank8_b_level</th>\n",
       "                        <td id=\"T_2d52657a_4919_11ec_ad28_02420a3935d7row25_col0\" class=\"data row25 col0\" >1</td>\n",
       "                        <td id=\"T_2d52657a_4919_11ec_ad28_02420a3935d7row25_col1\" class=\"data row25 col1\" >0</td>\n",
       "            </tr>\n",
       "            <tr>\n",
       "                        <th id=\"T_2d52657a_4919_11ec_ad28_02420a3935d7level0_row26\" class=\"row_heading level0 row26\" >primary_cleaner.state.floatbank8_c_air</th>\n",
       "                        <td id=\"T_2d52657a_4919_11ec_ad28_02420a3935d7row26_col0\" class=\"data row26 col0\" >2</td>\n",
       "                        <td id=\"T_2d52657a_4919_11ec_ad28_02420a3935d7row26_col1\" class=\"data row26 col1\" >0</td>\n",
       "            </tr>\n",
       "            <tr>\n",
       "                        <th id=\"T_2d52657a_4919_11ec_ad28_02420a3935d7level0_row27\" class=\"row_heading level0 row27\" >primary_cleaner.state.floatbank8_c_level</th>\n",
       "                        <td id=\"T_2d52657a_4919_11ec_ad28_02420a3935d7row27_col0\" class=\"data row27 col0\" >1</td>\n",
       "                        <td id=\"T_2d52657a_4919_11ec_ad28_02420a3935d7row27_col1\" class=\"data row27 col1\" >0</td>\n",
       "            </tr>\n",
       "            <tr>\n",
       "                        <th id=\"T_2d52657a_4919_11ec_ad28_02420a3935d7level0_row28\" class=\"row_heading level0 row28\" >primary_cleaner.state.floatbank8_d_air</th>\n",
       "                        <td id=\"T_2d52657a_4919_11ec_ad28_02420a3935d7row28_col0\" class=\"data row28 col0\" >3</td>\n",
       "                        <td id=\"T_2d52657a_4919_11ec_ad28_02420a3935d7row28_col1\" class=\"data row28 col1\" >0</td>\n",
       "            </tr>\n",
       "            <tr>\n",
       "                        <th id=\"T_2d52657a_4919_11ec_ad28_02420a3935d7level0_row29\" class=\"row_heading level0 row29\" >primary_cleaner.state.floatbank8_d_level</th>\n",
       "                        <td id=\"T_2d52657a_4919_11ec_ad28_02420a3935d7row29_col0\" class=\"data row29 col0\" >1</td>\n",
       "                        <td id=\"T_2d52657a_4919_11ec_ad28_02420a3935d7row29_col1\" class=\"data row29 col1\" >0</td>\n",
       "            </tr>\n",
       "            <tr>\n",
       "                        <th id=\"T_2d52657a_4919_11ec_ad28_02420a3935d7level0_row30\" class=\"row_heading level0 row30\" >rougher.calculation.sulfate_to_au_concentrate</th>\n",
       "                        <td id=\"T_2d52657a_4919_11ec_ad28_02420a3935d7row30_col0\" class=\"data row30 col0\" >2</td>\n",
       "                        <td id=\"T_2d52657a_4919_11ec_ad28_02420a3935d7row30_col1\" class=\"data row30 col1\" >0</td>\n",
       "            </tr>\n",
       "            <tr>\n",
       "                        <th id=\"T_2d52657a_4919_11ec_ad28_02420a3935d7level0_row31\" class=\"row_heading level0 row31\" >rougher.calculation.floatbank10_sulfate_to_au_feed</th>\n",
       "                        <td id=\"T_2d52657a_4919_11ec_ad28_02420a3935d7row31_col0\" class=\"data row31 col0\" >2</td>\n",
       "                        <td id=\"T_2d52657a_4919_11ec_ad28_02420a3935d7row31_col1\" class=\"data row31 col1\" >0</td>\n",
       "            </tr>\n",
       "            <tr>\n",
       "                        <th id=\"T_2d52657a_4919_11ec_ad28_02420a3935d7level0_row32\" class=\"row_heading level0 row32\" >rougher.calculation.floatbank11_sulfate_to_au_feed</th>\n",
       "                        <td id=\"T_2d52657a_4919_11ec_ad28_02420a3935d7row32_col0\" class=\"data row32 col0\" >2</td>\n",
       "                        <td id=\"T_2d52657a_4919_11ec_ad28_02420a3935d7row32_col1\" class=\"data row32 col1\" >0</td>\n",
       "            </tr>\n",
       "            <tr>\n",
       "                        <th id=\"T_2d52657a_4919_11ec_ad28_02420a3935d7level0_row33\" class=\"row_heading level0 row33\" >rougher.calculation.au_pb_ratio</th>\n",
       "                        <td id=\"T_2d52657a_4919_11ec_ad28_02420a3935d7row33_col0\" class=\"data row33 col0\" >0</td>\n",
       "                        <td id=\"T_2d52657a_4919_11ec_ad28_02420a3935d7row33_col1\" class=\"data row33 col1\" >0</td>\n",
       "            </tr>\n",
       "            <tr>\n",
       "                        <th id=\"T_2d52657a_4919_11ec_ad28_02420a3935d7level0_row34\" class=\"row_heading level0 row34\" >rougher.input.feed_ag</th>\n",
       "                        <td id=\"T_2d52657a_4919_11ec_ad28_02420a3935d7row34_col0\" class=\"data row34 col0\" >0</td>\n",
       "                        <td id=\"T_2d52657a_4919_11ec_ad28_02420a3935d7row34_col1\" class=\"data row34 col1\" >0</td>\n",
       "            </tr>\n",
       "            <tr>\n",
       "                        <th id=\"T_2d52657a_4919_11ec_ad28_02420a3935d7level0_row35\" class=\"row_heading level0 row35\" >rougher.input.feed_pb</th>\n",
       "                        <td id=\"T_2d52657a_4919_11ec_ad28_02420a3935d7row35_col0\" class=\"data row35 col0\" >100</td>\n",
       "                        <td id=\"T_2d52657a_4919_11ec_ad28_02420a3935d7row35_col1\" class=\"data row35 col1\" >0.01</td>\n",
       "            </tr>\n",
       "            <tr>\n",
       "                        <th id=\"T_2d52657a_4919_11ec_ad28_02420a3935d7level0_row36\" class=\"row_heading level0 row36\" >rougher.input.feed_rate</th>\n",
       "                        <td id=\"T_2d52657a_4919_11ec_ad28_02420a3935d7row36_col0\" class=\"data row36 col0\" >11</td>\n",
       "                        <td id=\"T_2d52657a_4919_11ec_ad28_02420a3935d7row36_col1\" class=\"data row36 col1\" >0</td>\n",
       "            </tr>\n",
       "            <tr>\n",
       "                        <th id=\"T_2d52657a_4919_11ec_ad28_02420a3935d7level0_row37\" class=\"row_heading level0 row37\" >rougher.input.feed_size</th>\n",
       "                        <td id=\"T_2d52657a_4919_11ec_ad28_02420a3935d7row37_col0\" class=\"data row37 col0\" >145</td>\n",
       "                        <td id=\"T_2d52657a_4919_11ec_ad28_02420a3935d7row37_col1\" class=\"data row37 col1\" >0.01</td>\n",
       "            </tr>\n",
       "            <tr>\n",
       "                        <th id=\"T_2d52657a_4919_11ec_ad28_02420a3935d7level0_row38\" class=\"row_heading level0 row38\" >rougher.input.feed_sol</th>\n",
       "                        <td id=\"T_2d52657a_4919_11ec_ad28_02420a3935d7row38_col0\" class=\"data row38 col0\" >99</td>\n",
       "                        <td id=\"T_2d52657a_4919_11ec_ad28_02420a3935d7row38_col1\" class=\"data row38 col1\" >0.01</td>\n",
       "            </tr>\n",
       "            <tr>\n",
       "                        <th id=\"T_2d52657a_4919_11ec_ad28_02420a3935d7level0_row39\" class=\"row_heading level0 row39\" >rougher.input.feed_au</th>\n",
       "                        <td id=\"T_2d52657a_4919_11ec_ad28_02420a3935d7row39_col0\" class=\"data row39 col0\" >0</td>\n",
       "                        <td id=\"T_2d52657a_4919_11ec_ad28_02420a3935d7row39_col1\" class=\"data row39 col1\" >0</td>\n",
       "            </tr>\n",
       "            <tr>\n",
       "                        <th id=\"T_2d52657a_4919_11ec_ad28_02420a3935d7level0_row40\" class=\"row_heading level0 row40\" >rougher.input.floatbank10_sulfate</th>\n",
       "                        <td id=\"T_2d52657a_4919_11ec_ad28_02420a3935d7row40_col0\" class=\"data row40 col0\" >34</td>\n",
       "                        <td id=\"T_2d52657a_4919_11ec_ad28_02420a3935d7row40_col1\" class=\"data row40 col1\" >0</td>\n",
       "            </tr>\n",
       "            <tr>\n",
       "                        <th id=\"T_2d52657a_4919_11ec_ad28_02420a3935d7level0_row41\" class=\"row_heading level0 row41\" >rougher.input.floatbank10_xanthate</th>\n",
       "                        <td id=\"T_2d52657a_4919_11ec_ad28_02420a3935d7row41_col0\" class=\"data row41 col0\" >8</td>\n",
       "                        <td id=\"T_2d52657a_4919_11ec_ad28_02420a3935d7row41_col1\" class=\"data row41 col1\" >0</td>\n",
       "            </tr>\n",
       "            <tr>\n",
       "                        <th id=\"T_2d52657a_4919_11ec_ad28_02420a3935d7level0_row42\" class=\"row_heading level0 row42\" >rougher.input.floatbank11_sulfate</th>\n",
       "                        <td id=\"T_2d52657a_4919_11ec_ad28_02420a3935d7row42_col0\" class=\"data row42 col0\" >44</td>\n",
       "                        <td id=\"T_2d52657a_4919_11ec_ad28_02420a3935d7row42_col1\" class=\"data row42 col1\" >0</td>\n",
       "            </tr>\n",
       "            <tr>\n",
       "                        <th id=\"T_2d52657a_4919_11ec_ad28_02420a3935d7level0_row43\" class=\"row_heading level0 row43\" >rougher.input.floatbank11_xanthate</th>\n",
       "                        <td id=\"T_2d52657a_4919_11ec_ad28_02420a3935d7row43_col0\" class=\"data row43 col0\" >453</td>\n",
       "                        <td id=\"T_2d52657a_4919_11ec_ad28_02420a3935d7row43_col1\" class=\"data row43 col1\" >0.02</td>\n",
       "            </tr>\n",
       "            <tr>\n",
       "                        <th id=\"T_2d52657a_4919_11ec_ad28_02420a3935d7level0_row44\" class=\"row_heading level0 row44\" >rougher.output.concentrate_ag</th>\n",
       "                        <td id=\"T_2d52657a_4919_11ec_ad28_02420a3935d7row44_col0\" class=\"data row44 col0\" >0</td>\n",
       "                        <td id=\"T_2d52657a_4919_11ec_ad28_02420a3935d7row44_col1\" class=\"data row44 col1\" >0</td>\n",
       "            </tr>\n",
       "            <tr>\n",
       "                        <th id=\"T_2d52657a_4919_11ec_ad28_02420a3935d7level0_row45\" class=\"row_heading level0 row45\" >rougher.output.concentrate_pb</th>\n",
       "                        <td id=\"T_2d52657a_4919_11ec_ad28_02420a3935d7row45_col0\" class=\"data row45 col0\" >0</td>\n",
       "                        <td id=\"T_2d52657a_4919_11ec_ad28_02420a3935d7row45_col1\" class=\"data row45 col1\" >0</td>\n",
       "            </tr>\n",
       "            <tr>\n",
       "                        <th id=\"T_2d52657a_4919_11ec_ad28_02420a3935d7level0_row46\" class=\"row_heading level0 row46\" >rougher.output.concentrate_sol</th>\n",
       "                        <td id=\"T_2d52657a_4919_11ec_ad28_02420a3935d7row46_col0\" class=\"data row46 col0\" >23</td>\n",
       "                        <td id=\"T_2d52657a_4919_11ec_ad28_02420a3935d7row46_col1\" class=\"data row46 col1\" >0</td>\n",
       "            </tr>\n",
       "            <tr>\n",
       "                        <th id=\"T_2d52657a_4919_11ec_ad28_02420a3935d7level0_row47\" class=\"row_heading level0 row47\" >rougher.output.concentrate_au</th>\n",
       "                        <td id=\"T_2d52657a_4919_11ec_ad28_02420a3935d7row47_col0\" class=\"data row47 col0\" >0</td>\n",
       "                        <td id=\"T_2d52657a_4919_11ec_ad28_02420a3935d7row47_col1\" class=\"data row47 col1\" >0</td>\n",
       "            </tr>\n",
       "            <tr>\n",
       "                        <th id=\"T_2d52657a_4919_11ec_ad28_02420a3935d7level0_row48\" class=\"row_heading level0 row48\" >rougher.output.recovery</th>\n",
       "                        <td id=\"T_2d52657a_4919_11ec_ad28_02420a3935d7row48_col0\" class=\"data row48 col0\" >0</td>\n",
       "                        <td id=\"T_2d52657a_4919_11ec_ad28_02420a3935d7row48_col1\" class=\"data row48 col1\" >0</td>\n",
       "            </tr>\n",
       "            <tr>\n",
       "                        <th id=\"T_2d52657a_4919_11ec_ad28_02420a3935d7level0_row49\" class=\"row_heading level0 row49\" >rougher.output.tail_ag</th>\n",
       "                        <td id=\"T_2d52657a_4919_11ec_ad28_02420a3935d7row49_col0\" class=\"data row49 col0\" >1</td>\n",
       "                        <td id=\"T_2d52657a_4919_11ec_ad28_02420a3935d7row49_col1\" class=\"data row49 col1\" >0</td>\n",
       "            </tr>\n",
       "            <tr>\n",
       "                        <th id=\"T_2d52657a_4919_11ec_ad28_02420a3935d7level0_row50\" class=\"row_heading level0 row50\" >rougher.output.tail_pb</th>\n",
       "                        <td id=\"T_2d52657a_4919_11ec_ad28_02420a3935d7row50_col0\" class=\"data row50 col0\" >0</td>\n",
       "                        <td id=\"T_2d52657a_4919_11ec_ad28_02420a3935d7row50_col1\" class=\"data row50 col1\" >0</td>\n",
       "            </tr>\n",
       "            <tr>\n",
       "                        <th id=\"T_2d52657a_4919_11ec_ad28_02420a3935d7level0_row51\" class=\"row_heading level0 row51\" >rougher.output.tail_sol</th>\n",
       "                        <td id=\"T_2d52657a_4919_11ec_ad28_02420a3935d7row51_col0\" class=\"data row51 col0\" >0</td>\n",
       "                        <td id=\"T_2d52657a_4919_11ec_ad28_02420a3935d7row51_col1\" class=\"data row51 col1\" >0</td>\n",
       "            </tr>\n",
       "            <tr>\n",
       "                        <th id=\"T_2d52657a_4919_11ec_ad28_02420a3935d7level0_row52\" class=\"row_heading level0 row52\" >rougher.output.tail_au</th>\n",
       "                        <td id=\"T_2d52657a_4919_11ec_ad28_02420a3935d7row52_col0\" class=\"data row52 col0\" >0</td>\n",
       "                        <td id=\"T_2d52657a_4919_11ec_ad28_02420a3935d7row52_col1\" class=\"data row52 col1\" >0</td>\n",
       "            </tr>\n",
       "            <tr>\n",
       "                        <th id=\"T_2d52657a_4919_11ec_ad28_02420a3935d7level0_row53\" class=\"row_heading level0 row53\" >rougher.state.floatbank10_a_air</th>\n",
       "                        <td id=\"T_2d52657a_4919_11ec_ad28_02420a3935d7row53_col0\" class=\"data row53 col0\" >1</td>\n",
       "                        <td id=\"T_2d52657a_4919_11ec_ad28_02420a3935d7row53_col1\" class=\"data row53 col1\" >0</td>\n",
       "            </tr>\n",
       "            <tr>\n",
       "                        <th id=\"T_2d52657a_4919_11ec_ad28_02420a3935d7level0_row54\" class=\"row_heading level0 row54\" >rougher.state.floatbank10_a_level</th>\n",
       "                        <td id=\"T_2d52657a_4919_11ec_ad28_02420a3935d7row54_col0\" class=\"data row54 col0\" >1</td>\n",
       "                        <td id=\"T_2d52657a_4919_11ec_ad28_02420a3935d7row54_col1\" class=\"data row54 col1\" >0</td>\n",
       "            </tr>\n",
       "            <tr>\n",
       "                        <th id=\"T_2d52657a_4919_11ec_ad28_02420a3935d7level0_row55\" class=\"row_heading level0 row55\" >rougher.state.floatbank10_b_air</th>\n",
       "                        <td id=\"T_2d52657a_4919_11ec_ad28_02420a3935d7row55_col0\" class=\"data row55 col0\" >1</td>\n",
       "                        <td id=\"T_2d52657a_4919_11ec_ad28_02420a3935d7row55_col1\" class=\"data row55 col1\" >0</td>\n",
       "            </tr>\n",
       "            <tr>\n",
       "                        <th id=\"T_2d52657a_4919_11ec_ad28_02420a3935d7level0_row56\" class=\"row_heading level0 row56\" >rougher.state.floatbank10_b_level</th>\n",
       "                        <td id=\"T_2d52657a_4919_11ec_ad28_02420a3935d7row56_col0\" class=\"data row56 col0\" >1</td>\n",
       "                        <td id=\"T_2d52657a_4919_11ec_ad28_02420a3935d7row56_col1\" class=\"data row56 col1\" >0</td>\n",
       "            </tr>\n",
       "            <tr>\n",
       "                        <th id=\"T_2d52657a_4919_11ec_ad28_02420a3935d7level0_row57\" class=\"row_heading level0 row57\" >rougher.state.floatbank10_c_air</th>\n",
       "                        <td id=\"T_2d52657a_4919_11ec_ad28_02420a3935d7row57_col0\" class=\"data row57 col0\" >1</td>\n",
       "                        <td id=\"T_2d52657a_4919_11ec_ad28_02420a3935d7row57_col1\" class=\"data row57 col1\" >0</td>\n",
       "            </tr>\n",
       "            <tr>\n",
       "                        <th id=\"T_2d52657a_4919_11ec_ad28_02420a3935d7level0_row58\" class=\"row_heading level0 row58\" >rougher.state.floatbank10_c_level</th>\n",
       "                        <td id=\"T_2d52657a_4919_11ec_ad28_02420a3935d7row58_col0\" class=\"data row58 col0\" >1</td>\n",
       "                        <td id=\"T_2d52657a_4919_11ec_ad28_02420a3935d7row58_col1\" class=\"data row58 col1\" >0</td>\n",
       "            </tr>\n",
       "            <tr>\n",
       "                        <th id=\"T_2d52657a_4919_11ec_ad28_02420a3935d7level0_row59\" class=\"row_heading level0 row59\" >rougher.state.floatbank10_d_air</th>\n",
       "                        <td id=\"T_2d52657a_4919_11ec_ad28_02420a3935d7row59_col0\" class=\"data row59 col0\" >0</td>\n",
       "                        <td id=\"T_2d52657a_4919_11ec_ad28_02420a3935d7row59_col1\" class=\"data row59 col1\" >0</td>\n",
       "            </tr>\n",
       "            <tr>\n",
       "                        <th id=\"T_2d52657a_4919_11ec_ad28_02420a3935d7level0_row60\" class=\"row_heading level0 row60\" >rougher.state.floatbank10_d_level</th>\n",
       "                        <td id=\"T_2d52657a_4919_11ec_ad28_02420a3935d7row60_col0\" class=\"data row60 col0\" >0</td>\n",
       "                        <td id=\"T_2d52657a_4919_11ec_ad28_02420a3935d7row60_col1\" class=\"data row60 col1\" >0</td>\n",
       "            </tr>\n",
       "            <tr>\n",
       "                        <th id=\"T_2d52657a_4919_11ec_ad28_02420a3935d7level0_row61\" class=\"row_heading level0 row61\" >rougher.state.floatbank10_e_air</th>\n",
       "                        <td id=\"T_2d52657a_4919_11ec_ad28_02420a3935d7row61_col0\" class=\"data row61 col0\" >436</td>\n",
       "                        <td id=\"T_2d52657a_4919_11ec_ad28_02420a3935d7row61_col1\" class=\"data row61 col1\" >0.02</td>\n",
       "            </tr>\n",
       "            <tr>\n",
       "                        <th id=\"T_2d52657a_4919_11ec_ad28_02420a3935d7level0_row62\" class=\"row_heading level0 row62\" >rougher.state.floatbank10_e_level</th>\n",
       "                        <td id=\"T_2d52657a_4919_11ec_ad28_02420a3935d7row62_col0\" class=\"data row62 col0\" >0</td>\n",
       "                        <td id=\"T_2d52657a_4919_11ec_ad28_02420a3935d7row62_col1\" class=\"data row62 col1\" >0</td>\n",
       "            </tr>\n",
       "            <tr>\n",
       "                        <th id=\"T_2d52657a_4919_11ec_ad28_02420a3935d7level0_row63\" class=\"row_heading level0 row63\" >rougher.state.floatbank10_f_air</th>\n",
       "                        <td id=\"T_2d52657a_4919_11ec_ad28_02420a3935d7row63_col0\" class=\"data row63 col0\" >0</td>\n",
       "                        <td id=\"T_2d52657a_4919_11ec_ad28_02420a3935d7row63_col1\" class=\"data row63 col1\" >0</td>\n",
       "            </tr>\n",
       "            <tr>\n",
       "                        <th id=\"T_2d52657a_4919_11ec_ad28_02420a3935d7level0_row64\" class=\"row_heading level0 row64\" >rougher.state.floatbank10_f_level</th>\n",
       "                        <td id=\"T_2d52657a_4919_11ec_ad28_02420a3935d7row64_col0\" class=\"data row64 col0\" >0</td>\n",
       "                        <td id=\"T_2d52657a_4919_11ec_ad28_02420a3935d7row64_col1\" class=\"data row64 col1\" >0</td>\n",
       "            </tr>\n",
       "            <tr>\n",
       "                        <th id=\"T_2d52657a_4919_11ec_ad28_02420a3935d7level0_row65\" class=\"row_heading level0 row65\" >secondary_cleaner.output.tail_ag</th>\n",
       "                        <td id=\"T_2d52657a_4919_11ec_ad28_02420a3935d7row65_col0\" class=\"data row65 col0\" >2</td>\n",
       "                        <td id=\"T_2d52657a_4919_11ec_ad28_02420a3935d7row65_col1\" class=\"data row65 col1\" >0</td>\n",
       "            </tr>\n",
       "            <tr>\n",
       "                        <th id=\"T_2d52657a_4919_11ec_ad28_02420a3935d7level0_row66\" class=\"row_heading level0 row66\" >secondary_cleaner.output.tail_pb</th>\n",
       "                        <td id=\"T_2d52657a_4919_11ec_ad28_02420a3935d7row66_col0\" class=\"data row66 col0\" >12</td>\n",
       "                        <td id=\"T_2d52657a_4919_11ec_ad28_02420a3935d7row66_col1\" class=\"data row66 col1\" >0</td>\n",
       "            </tr>\n",
       "            <tr>\n",
       "                        <th id=\"T_2d52657a_4919_11ec_ad28_02420a3935d7level0_row67\" class=\"row_heading level0 row67\" >secondary_cleaner.output.tail_sol</th>\n",
       "                        <td id=\"T_2d52657a_4919_11ec_ad28_02420a3935d7row67_col0\" class=\"data row67 col0\" >1748</td>\n",
       "                        <td id=\"T_2d52657a_4919_11ec_ad28_02420a3935d7row67_col1\" class=\"data row67 col1\" >0.09</td>\n",
       "            </tr>\n",
       "            <tr>\n",
       "                        <th id=\"T_2d52657a_4919_11ec_ad28_02420a3935d7level0_row68\" class=\"row_heading level0 row68\" >secondary_cleaner.output.tail_au</th>\n",
       "                        <td id=\"T_2d52657a_4919_11ec_ad28_02420a3935d7row68_col0\" class=\"data row68 col0\" >0</td>\n",
       "                        <td id=\"T_2d52657a_4919_11ec_ad28_02420a3935d7row68_col1\" class=\"data row68 col1\" >0</td>\n",
       "            </tr>\n",
       "            <tr>\n",
       "                        <th id=\"T_2d52657a_4919_11ec_ad28_02420a3935d7level0_row69\" class=\"row_heading level0 row69\" >secondary_cleaner.state.floatbank2_a_air</th>\n",
       "                        <td id=\"T_2d52657a_4919_11ec_ad28_02420a3935d7row69_col0\" class=\"data row69 col0\" >220</td>\n",
       "                        <td id=\"T_2d52657a_4919_11ec_ad28_02420a3935d7row69_col1\" class=\"data row69 col1\" >0.01</td>\n",
       "            </tr>\n",
       "            <tr>\n",
       "                        <th id=\"T_2d52657a_4919_11ec_ad28_02420a3935d7level0_row70\" class=\"row_heading level0 row70\" >secondary_cleaner.state.floatbank2_a_level</th>\n",
       "                        <td id=\"T_2d52657a_4919_11ec_ad28_02420a3935d7row70_col0\" class=\"data row70 col0\" >1</td>\n",
       "                        <td id=\"T_2d52657a_4919_11ec_ad28_02420a3935d7row70_col1\" class=\"data row70 col1\" >0</td>\n",
       "            </tr>\n",
       "            <tr>\n",
       "                        <th id=\"T_2d52657a_4919_11ec_ad28_02420a3935d7level0_row71\" class=\"row_heading level0 row71\" >secondary_cleaner.state.floatbank2_b_air</th>\n",
       "                        <td id=\"T_2d52657a_4919_11ec_ad28_02420a3935d7row71_col0\" class=\"data row71 col0\" >23</td>\n",
       "                        <td id=\"T_2d52657a_4919_11ec_ad28_02420a3935d7row71_col1\" class=\"data row71 col1\" >0</td>\n",
       "            </tr>\n",
       "            <tr>\n",
       "                        <th id=\"T_2d52657a_4919_11ec_ad28_02420a3935d7level0_row72\" class=\"row_heading level0 row72\" >secondary_cleaner.state.floatbank2_b_level</th>\n",
       "                        <td id=\"T_2d52657a_4919_11ec_ad28_02420a3935d7row72_col0\" class=\"data row72 col0\" >1</td>\n",
       "                        <td id=\"T_2d52657a_4919_11ec_ad28_02420a3935d7row72_col1\" class=\"data row72 col1\" >0</td>\n",
       "            </tr>\n",
       "            <tr>\n",
       "                        <th id=\"T_2d52657a_4919_11ec_ad28_02420a3935d7level0_row73\" class=\"row_heading level0 row73\" >secondary_cleaner.state.floatbank3_a_air</th>\n",
       "                        <td id=\"T_2d52657a_4919_11ec_ad28_02420a3935d7row73_col0\" class=\"data row73 col0\" >13</td>\n",
       "                        <td id=\"T_2d52657a_4919_11ec_ad28_02420a3935d7row73_col1\" class=\"data row73 col1\" >0</td>\n",
       "            </tr>\n",
       "            <tr>\n",
       "                        <th id=\"T_2d52657a_4919_11ec_ad28_02420a3935d7level0_row74\" class=\"row_heading level0 row74\" >secondary_cleaner.state.floatbank3_a_level</th>\n",
       "                        <td id=\"T_2d52657a_4919_11ec_ad28_02420a3935d7row74_col0\" class=\"data row74 col0\" >1</td>\n",
       "                        <td id=\"T_2d52657a_4919_11ec_ad28_02420a3935d7row74_col1\" class=\"data row74 col1\" >0</td>\n",
       "            </tr>\n",
       "            <tr>\n",
       "                        <th id=\"T_2d52657a_4919_11ec_ad28_02420a3935d7level0_row75\" class=\"row_heading level0 row75\" >secondary_cleaner.state.floatbank3_b_air</th>\n",
       "                        <td id=\"T_2d52657a_4919_11ec_ad28_02420a3935d7row75_col0\" class=\"data row75 col0\" >1</td>\n",
       "                        <td id=\"T_2d52657a_4919_11ec_ad28_02420a3935d7row75_col1\" class=\"data row75 col1\" >0</td>\n",
       "            </tr>\n",
       "            <tr>\n",
       "                        <th id=\"T_2d52657a_4919_11ec_ad28_02420a3935d7level0_row76\" class=\"row_heading level0 row76\" >secondary_cleaner.state.floatbank3_b_level</th>\n",
       "                        <td id=\"T_2d52657a_4919_11ec_ad28_02420a3935d7row76_col0\" class=\"data row76 col0\" >1</td>\n",
       "                        <td id=\"T_2d52657a_4919_11ec_ad28_02420a3935d7row76_col1\" class=\"data row76 col1\" >0</td>\n",
       "            </tr>\n",
       "            <tr>\n",
       "                        <th id=\"T_2d52657a_4919_11ec_ad28_02420a3935d7level0_row77\" class=\"row_heading level0 row77\" >secondary_cleaner.state.floatbank4_a_air</th>\n",
       "                        <td id=\"T_2d52657a_4919_11ec_ad28_02420a3935d7row77_col0\" class=\"data row77 col0\" >6</td>\n",
       "                        <td id=\"T_2d52657a_4919_11ec_ad28_02420a3935d7row77_col1\" class=\"data row77 col1\" >0</td>\n",
       "            </tr>\n",
       "            <tr>\n",
       "                        <th id=\"T_2d52657a_4919_11ec_ad28_02420a3935d7level0_row78\" class=\"row_heading level0 row78\" >secondary_cleaner.state.floatbank4_a_level</th>\n",
       "                        <td id=\"T_2d52657a_4919_11ec_ad28_02420a3935d7row78_col0\" class=\"data row78 col0\" >1</td>\n",
       "                        <td id=\"T_2d52657a_4919_11ec_ad28_02420a3935d7row78_col1\" class=\"data row78 col1\" >0</td>\n",
       "            </tr>\n",
       "            <tr>\n",
       "                        <th id=\"T_2d52657a_4919_11ec_ad28_02420a3935d7level0_row79\" class=\"row_heading level0 row79\" >secondary_cleaner.state.floatbank4_b_air</th>\n",
       "                        <td id=\"T_2d52657a_4919_11ec_ad28_02420a3935d7row79_col0\" class=\"data row79 col0\" >1</td>\n",
       "                        <td id=\"T_2d52657a_4919_11ec_ad28_02420a3935d7row79_col1\" class=\"data row79 col1\" >0</td>\n",
       "            </tr>\n",
       "            <tr>\n",
       "                        <th id=\"T_2d52657a_4919_11ec_ad28_02420a3935d7level0_row80\" class=\"row_heading level0 row80\" >secondary_cleaner.state.floatbank4_b_level</th>\n",
       "                        <td id=\"T_2d52657a_4919_11ec_ad28_02420a3935d7row80_col0\" class=\"data row80 col0\" >1</td>\n",
       "                        <td id=\"T_2d52657a_4919_11ec_ad28_02420a3935d7row80_col1\" class=\"data row80 col1\" >0</td>\n",
       "            </tr>\n",
       "            <tr>\n",
       "                        <th id=\"T_2d52657a_4919_11ec_ad28_02420a3935d7level0_row81\" class=\"row_heading level0 row81\" >secondary_cleaner.state.floatbank5_a_air</th>\n",
       "                        <td id=\"T_2d52657a_4919_11ec_ad28_02420a3935d7row81_col0\" class=\"data row81 col0\" >1</td>\n",
       "                        <td id=\"T_2d52657a_4919_11ec_ad28_02420a3935d7row81_col1\" class=\"data row81 col1\" >0</td>\n",
       "            </tr>\n",
       "            <tr>\n",
       "                        <th id=\"T_2d52657a_4919_11ec_ad28_02420a3935d7level0_row82\" class=\"row_heading level0 row82\" >secondary_cleaner.state.floatbank5_a_level</th>\n",
       "                        <td id=\"T_2d52657a_4919_11ec_ad28_02420a3935d7row82_col0\" class=\"data row82 col0\" >1</td>\n",
       "                        <td id=\"T_2d52657a_4919_11ec_ad28_02420a3935d7row82_col1\" class=\"data row82 col1\" >0</td>\n",
       "            </tr>\n",
       "            <tr>\n",
       "                        <th id=\"T_2d52657a_4919_11ec_ad28_02420a3935d7level0_row83\" class=\"row_heading level0 row83\" >secondary_cleaner.state.floatbank5_b_air</th>\n",
       "                        <td id=\"T_2d52657a_4919_11ec_ad28_02420a3935d7row83_col0\" class=\"data row83 col0\" >1</td>\n",
       "                        <td id=\"T_2d52657a_4919_11ec_ad28_02420a3935d7row83_col1\" class=\"data row83 col1\" >0</td>\n",
       "            </tr>\n",
       "            <tr>\n",
       "                        <th id=\"T_2d52657a_4919_11ec_ad28_02420a3935d7level0_row84\" class=\"row_heading level0 row84\" >secondary_cleaner.state.floatbank5_b_level</th>\n",
       "                        <td id=\"T_2d52657a_4919_11ec_ad28_02420a3935d7row84_col0\" class=\"data row84 col0\" >1</td>\n",
       "                        <td id=\"T_2d52657a_4919_11ec_ad28_02420a3935d7row84_col1\" class=\"data row84 col1\" >0</td>\n",
       "            </tr>\n",
       "            <tr>\n",
       "                        <th id=\"T_2d52657a_4919_11ec_ad28_02420a3935d7level0_row85\" class=\"row_heading level0 row85\" >secondary_cleaner.state.floatbank6_a_air</th>\n",
       "                        <td id=\"T_2d52657a_4919_11ec_ad28_02420a3935d7row85_col0\" class=\"data row85 col0\" >2</td>\n",
       "                        <td id=\"T_2d52657a_4919_11ec_ad28_02420a3935d7row85_col1\" class=\"data row85 col1\" >0</td>\n",
       "            </tr>\n",
       "            <tr>\n",
       "                        <th id=\"T_2d52657a_4919_11ec_ad28_02420a3935d7level0_row86\" class=\"row_heading level0 row86\" >secondary_cleaner.state.floatbank6_a_level</th>\n",
       "                        <td id=\"T_2d52657a_4919_11ec_ad28_02420a3935d7row86_col0\" class=\"data row86 col0\" >1</td>\n",
       "                        <td id=\"T_2d52657a_4919_11ec_ad28_02420a3935d7row86_col1\" class=\"data row86 col1\" >0</td>\n",
       "            </tr>\n",
       "    </tbody></table>"
      ],
      "text/plain": [
       "<pandas.io.formats.style.Styler at 0x7f86c0862d90>"
      ]
     },
     "execution_count": 12,
     "metadata": {},
     "output_type": "execute_result"
    }
   ],
   "source": [
    "# посмотрим на пропуски в столбцах\n",
    "\n",
    "report = data_full.isna().sum().to_frame()\n",
    "report = report.rename(columns = {0: 'missing_values'})\n",
    "report['% of total'] = (report['missing_values'] / data_full.shape[0]).round(2)\n",
    "report.style.background_gradient(cmap = 'RdPu')"
   ]
  },
  {
   "cell_type": "markdown",
   "metadata": {},
   "source": [
    "Их конечно немного, но просто удалить мы их не можем.  \n",
    "Вспомним условие: «Данные индексируются датой и временем получения информации (признак date). Соседние по времени параметры часто похожи». Так как соседние по времени параметры часто похожи, я предлагаю заполнить пропуски соседними значениями. \n"
   ]
  },
  {
   "cell_type": "code",
   "execution_count": 13,
   "metadata": {},
   "outputs": [],
   "source": [
    "# заполняем пропуски в полном датафрейме соседними значениями\n",
    "data_full = data_full.sort_values(by='date').ffill().bfill()"
   ]
  },
  {
   "cell_type": "code",
   "execution_count": 14,
   "metadata": {},
   "outputs": [
    {
     "data": {
      "text/html": [
       "<style  type=\"text/css\" >\n",
       "    #T_2d62638a_4919_11ec_ad28_02420a3935d7row0_col0 {\n",
       "            background-color:  #fff7f3;\n",
       "            color:  #000000;\n",
       "        }    #T_2d62638a_4919_11ec_ad28_02420a3935d7row0_col1 {\n",
       "            background-color:  #fff7f3;\n",
       "            color:  #000000;\n",
       "        }    #T_2d62638a_4919_11ec_ad28_02420a3935d7row1_col0 {\n",
       "            background-color:  #fff7f3;\n",
       "            color:  #000000;\n",
       "        }    #T_2d62638a_4919_11ec_ad28_02420a3935d7row1_col1 {\n",
       "            background-color:  #fff7f3;\n",
       "            color:  #000000;\n",
       "        }    #T_2d62638a_4919_11ec_ad28_02420a3935d7row2_col0 {\n",
       "            background-color:  #fff7f3;\n",
       "            color:  #000000;\n",
       "        }    #T_2d62638a_4919_11ec_ad28_02420a3935d7row2_col1 {\n",
       "            background-color:  #fff7f3;\n",
       "            color:  #000000;\n",
       "        }    #T_2d62638a_4919_11ec_ad28_02420a3935d7row3_col0 {\n",
       "            background-color:  #fff7f3;\n",
       "            color:  #000000;\n",
       "        }    #T_2d62638a_4919_11ec_ad28_02420a3935d7row3_col1 {\n",
       "            background-color:  #fff7f3;\n",
       "            color:  #000000;\n",
       "        }    #T_2d62638a_4919_11ec_ad28_02420a3935d7row4_col0 {\n",
       "            background-color:  #fff7f3;\n",
       "            color:  #000000;\n",
       "        }    #T_2d62638a_4919_11ec_ad28_02420a3935d7row4_col1 {\n",
       "            background-color:  #fff7f3;\n",
       "            color:  #000000;\n",
       "        }    #T_2d62638a_4919_11ec_ad28_02420a3935d7row5_col0 {\n",
       "            background-color:  #fff7f3;\n",
       "            color:  #000000;\n",
       "        }    #T_2d62638a_4919_11ec_ad28_02420a3935d7row5_col1 {\n",
       "            background-color:  #fff7f3;\n",
       "            color:  #000000;\n",
       "        }    #T_2d62638a_4919_11ec_ad28_02420a3935d7row6_col0 {\n",
       "            background-color:  #fff7f3;\n",
       "            color:  #000000;\n",
       "        }    #T_2d62638a_4919_11ec_ad28_02420a3935d7row6_col1 {\n",
       "            background-color:  #fff7f3;\n",
       "            color:  #000000;\n",
       "        }    #T_2d62638a_4919_11ec_ad28_02420a3935d7row7_col0 {\n",
       "            background-color:  #fff7f3;\n",
       "            color:  #000000;\n",
       "        }    #T_2d62638a_4919_11ec_ad28_02420a3935d7row7_col1 {\n",
       "            background-color:  #fff7f3;\n",
       "            color:  #000000;\n",
       "        }    #T_2d62638a_4919_11ec_ad28_02420a3935d7row8_col0 {\n",
       "            background-color:  #fff7f3;\n",
       "            color:  #000000;\n",
       "        }    #T_2d62638a_4919_11ec_ad28_02420a3935d7row8_col1 {\n",
       "            background-color:  #fff7f3;\n",
       "            color:  #000000;\n",
       "        }    #T_2d62638a_4919_11ec_ad28_02420a3935d7row9_col0 {\n",
       "            background-color:  #fff7f3;\n",
       "            color:  #000000;\n",
       "        }    #T_2d62638a_4919_11ec_ad28_02420a3935d7row9_col1 {\n",
       "            background-color:  #fff7f3;\n",
       "            color:  #000000;\n",
       "        }    #T_2d62638a_4919_11ec_ad28_02420a3935d7row10_col0 {\n",
       "            background-color:  #fff7f3;\n",
       "            color:  #000000;\n",
       "        }    #T_2d62638a_4919_11ec_ad28_02420a3935d7row10_col1 {\n",
       "            background-color:  #fff7f3;\n",
       "            color:  #000000;\n",
       "        }    #T_2d62638a_4919_11ec_ad28_02420a3935d7row11_col0 {\n",
       "            background-color:  #fff7f3;\n",
       "            color:  #000000;\n",
       "        }    #T_2d62638a_4919_11ec_ad28_02420a3935d7row11_col1 {\n",
       "            background-color:  #fff7f3;\n",
       "            color:  #000000;\n",
       "        }    #T_2d62638a_4919_11ec_ad28_02420a3935d7row12_col0 {\n",
       "            background-color:  #fff7f3;\n",
       "            color:  #000000;\n",
       "        }    #T_2d62638a_4919_11ec_ad28_02420a3935d7row12_col1 {\n",
       "            background-color:  #fff7f3;\n",
       "            color:  #000000;\n",
       "        }    #T_2d62638a_4919_11ec_ad28_02420a3935d7row13_col0 {\n",
       "            background-color:  #fff7f3;\n",
       "            color:  #000000;\n",
       "        }    #T_2d62638a_4919_11ec_ad28_02420a3935d7row13_col1 {\n",
       "            background-color:  #fff7f3;\n",
       "            color:  #000000;\n",
       "        }    #T_2d62638a_4919_11ec_ad28_02420a3935d7row14_col0 {\n",
       "            background-color:  #fff7f3;\n",
       "            color:  #000000;\n",
       "        }    #T_2d62638a_4919_11ec_ad28_02420a3935d7row14_col1 {\n",
       "            background-color:  #fff7f3;\n",
       "            color:  #000000;\n",
       "        }    #T_2d62638a_4919_11ec_ad28_02420a3935d7row15_col0 {\n",
       "            background-color:  #fff7f3;\n",
       "            color:  #000000;\n",
       "        }    #T_2d62638a_4919_11ec_ad28_02420a3935d7row15_col1 {\n",
       "            background-color:  #fff7f3;\n",
       "            color:  #000000;\n",
       "        }    #T_2d62638a_4919_11ec_ad28_02420a3935d7row16_col0 {\n",
       "            background-color:  #fff7f3;\n",
       "            color:  #000000;\n",
       "        }    #T_2d62638a_4919_11ec_ad28_02420a3935d7row16_col1 {\n",
       "            background-color:  #fff7f3;\n",
       "            color:  #000000;\n",
       "        }    #T_2d62638a_4919_11ec_ad28_02420a3935d7row17_col0 {\n",
       "            background-color:  #fff7f3;\n",
       "            color:  #000000;\n",
       "        }    #T_2d62638a_4919_11ec_ad28_02420a3935d7row17_col1 {\n",
       "            background-color:  #fff7f3;\n",
       "            color:  #000000;\n",
       "        }    #T_2d62638a_4919_11ec_ad28_02420a3935d7row18_col0 {\n",
       "            background-color:  #fff7f3;\n",
       "            color:  #000000;\n",
       "        }    #T_2d62638a_4919_11ec_ad28_02420a3935d7row18_col1 {\n",
       "            background-color:  #fff7f3;\n",
       "            color:  #000000;\n",
       "        }    #T_2d62638a_4919_11ec_ad28_02420a3935d7row19_col0 {\n",
       "            background-color:  #fff7f3;\n",
       "            color:  #000000;\n",
       "        }    #T_2d62638a_4919_11ec_ad28_02420a3935d7row19_col1 {\n",
       "            background-color:  #fff7f3;\n",
       "            color:  #000000;\n",
       "        }    #T_2d62638a_4919_11ec_ad28_02420a3935d7row20_col0 {\n",
       "            background-color:  #fff7f3;\n",
       "            color:  #000000;\n",
       "        }    #T_2d62638a_4919_11ec_ad28_02420a3935d7row20_col1 {\n",
       "            background-color:  #fff7f3;\n",
       "            color:  #000000;\n",
       "        }    #T_2d62638a_4919_11ec_ad28_02420a3935d7row21_col0 {\n",
       "            background-color:  #fff7f3;\n",
       "            color:  #000000;\n",
       "        }    #T_2d62638a_4919_11ec_ad28_02420a3935d7row21_col1 {\n",
       "            background-color:  #fff7f3;\n",
       "            color:  #000000;\n",
       "        }    #T_2d62638a_4919_11ec_ad28_02420a3935d7row22_col0 {\n",
       "            background-color:  #fff7f3;\n",
       "            color:  #000000;\n",
       "        }    #T_2d62638a_4919_11ec_ad28_02420a3935d7row22_col1 {\n",
       "            background-color:  #fff7f3;\n",
       "            color:  #000000;\n",
       "        }    #T_2d62638a_4919_11ec_ad28_02420a3935d7row23_col0 {\n",
       "            background-color:  #fff7f3;\n",
       "            color:  #000000;\n",
       "        }    #T_2d62638a_4919_11ec_ad28_02420a3935d7row23_col1 {\n",
       "            background-color:  #fff7f3;\n",
       "            color:  #000000;\n",
       "        }    #T_2d62638a_4919_11ec_ad28_02420a3935d7row24_col0 {\n",
       "            background-color:  #fff7f3;\n",
       "            color:  #000000;\n",
       "        }    #T_2d62638a_4919_11ec_ad28_02420a3935d7row24_col1 {\n",
       "            background-color:  #fff7f3;\n",
       "            color:  #000000;\n",
       "        }    #T_2d62638a_4919_11ec_ad28_02420a3935d7row25_col0 {\n",
       "            background-color:  #fff7f3;\n",
       "            color:  #000000;\n",
       "        }    #T_2d62638a_4919_11ec_ad28_02420a3935d7row25_col1 {\n",
       "            background-color:  #fff7f3;\n",
       "            color:  #000000;\n",
       "        }    #T_2d62638a_4919_11ec_ad28_02420a3935d7row26_col0 {\n",
       "            background-color:  #fff7f3;\n",
       "            color:  #000000;\n",
       "        }    #T_2d62638a_4919_11ec_ad28_02420a3935d7row26_col1 {\n",
       "            background-color:  #fff7f3;\n",
       "            color:  #000000;\n",
       "        }    #T_2d62638a_4919_11ec_ad28_02420a3935d7row27_col0 {\n",
       "            background-color:  #fff7f3;\n",
       "            color:  #000000;\n",
       "        }    #T_2d62638a_4919_11ec_ad28_02420a3935d7row27_col1 {\n",
       "            background-color:  #fff7f3;\n",
       "            color:  #000000;\n",
       "        }    #T_2d62638a_4919_11ec_ad28_02420a3935d7row28_col0 {\n",
       "            background-color:  #fff7f3;\n",
       "            color:  #000000;\n",
       "        }    #T_2d62638a_4919_11ec_ad28_02420a3935d7row28_col1 {\n",
       "            background-color:  #fff7f3;\n",
       "            color:  #000000;\n",
       "        }    #T_2d62638a_4919_11ec_ad28_02420a3935d7row29_col0 {\n",
       "            background-color:  #fff7f3;\n",
       "            color:  #000000;\n",
       "        }    #T_2d62638a_4919_11ec_ad28_02420a3935d7row29_col1 {\n",
       "            background-color:  #fff7f3;\n",
       "            color:  #000000;\n",
       "        }    #T_2d62638a_4919_11ec_ad28_02420a3935d7row30_col0 {\n",
       "            background-color:  #fff7f3;\n",
       "            color:  #000000;\n",
       "        }    #T_2d62638a_4919_11ec_ad28_02420a3935d7row30_col1 {\n",
       "            background-color:  #fff7f3;\n",
       "            color:  #000000;\n",
       "        }    #T_2d62638a_4919_11ec_ad28_02420a3935d7row31_col0 {\n",
       "            background-color:  #fff7f3;\n",
       "            color:  #000000;\n",
       "        }    #T_2d62638a_4919_11ec_ad28_02420a3935d7row31_col1 {\n",
       "            background-color:  #fff7f3;\n",
       "            color:  #000000;\n",
       "        }    #T_2d62638a_4919_11ec_ad28_02420a3935d7row32_col0 {\n",
       "            background-color:  #fff7f3;\n",
       "            color:  #000000;\n",
       "        }    #T_2d62638a_4919_11ec_ad28_02420a3935d7row32_col1 {\n",
       "            background-color:  #fff7f3;\n",
       "            color:  #000000;\n",
       "        }    #T_2d62638a_4919_11ec_ad28_02420a3935d7row33_col0 {\n",
       "            background-color:  #fff7f3;\n",
       "            color:  #000000;\n",
       "        }    #T_2d62638a_4919_11ec_ad28_02420a3935d7row33_col1 {\n",
       "            background-color:  #fff7f3;\n",
       "            color:  #000000;\n",
       "        }    #T_2d62638a_4919_11ec_ad28_02420a3935d7row34_col0 {\n",
       "            background-color:  #fff7f3;\n",
       "            color:  #000000;\n",
       "        }    #T_2d62638a_4919_11ec_ad28_02420a3935d7row34_col1 {\n",
       "            background-color:  #fff7f3;\n",
       "            color:  #000000;\n",
       "        }    #T_2d62638a_4919_11ec_ad28_02420a3935d7row35_col0 {\n",
       "            background-color:  #fff7f3;\n",
       "            color:  #000000;\n",
       "        }    #T_2d62638a_4919_11ec_ad28_02420a3935d7row35_col1 {\n",
       "            background-color:  #fff7f3;\n",
       "            color:  #000000;\n",
       "        }    #T_2d62638a_4919_11ec_ad28_02420a3935d7row36_col0 {\n",
       "            background-color:  #fff7f3;\n",
       "            color:  #000000;\n",
       "        }    #T_2d62638a_4919_11ec_ad28_02420a3935d7row36_col1 {\n",
       "            background-color:  #fff7f3;\n",
       "            color:  #000000;\n",
       "        }    #T_2d62638a_4919_11ec_ad28_02420a3935d7row37_col0 {\n",
       "            background-color:  #fff7f3;\n",
       "            color:  #000000;\n",
       "        }    #T_2d62638a_4919_11ec_ad28_02420a3935d7row37_col1 {\n",
       "            background-color:  #fff7f3;\n",
       "            color:  #000000;\n",
       "        }    #T_2d62638a_4919_11ec_ad28_02420a3935d7row38_col0 {\n",
       "            background-color:  #fff7f3;\n",
       "            color:  #000000;\n",
       "        }    #T_2d62638a_4919_11ec_ad28_02420a3935d7row38_col1 {\n",
       "            background-color:  #fff7f3;\n",
       "            color:  #000000;\n",
       "        }    #T_2d62638a_4919_11ec_ad28_02420a3935d7row39_col0 {\n",
       "            background-color:  #fff7f3;\n",
       "            color:  #000000;\n",
       "        }    #T_2d62638a_4919_11ec_ad28_02420a3935d7row39_col1 {\n",
       "            background-color:  #fff7f3;\n",
       "            color:  #000000;\n",
       "        }    #T_2d62638a_4919_11ec_ad28_02420a3935d7row40_col0 {\n",
       "            background-color:  #fff7f3;\n",
       "            color:  #000000;\n",
       "        }    #T_2d62638a_4919_11ec_ad28_02420a3935d7row40_col1 {\n",
       "            background-color:  #fff7f3;\n",
       "            color:  #000000;\n",
       "        }    #T_2d62638a_4919_11ec_ad28_02420a3935d7row41_col0 {\n",
       "            background-color:  #fff7f3;\n",
       "            color:  #000000;\n",
       "        }    #T_2d62638a_4919_11ec_ad28_02420a3935d7row41_col1 {\n",
       "            background-color:  #fff7f3;\n",
       "            color:  #000000;\n",
       "        }    #T_2d62638a_4919_11ec_ad28_02420a3935d7row42_col0 {\n",
       "            background-color:  #fff7f3;\n",
       "            color:  #000000;\n",
       "        }    #T_2d62638a_4919_11ec_ad28_02420a3935d7row42_col1 {\n",
       "            background-color:  #fff7f3;\n",
       "            color:  #000000;\n",
       "        }    #T_2d62638a_4919_11ec_ad28_02420a3935d7row43_col0 {\n",
       "            background-color:  #fff7f3;\n",
       "            color:  #000000;\n",
       "        }    #T_2d62638a_4919_11ec_ad28_02420a3935d7row43_col1 {\n",
       "            background-color:  #fff7f3;\n",
       "            color:  #000000;\n",
       "        }    #T_2d62638a_4919_11ec_ad28_02420a3935d7row44_col0 {\n",
       "            background-color:  #fff7f3;\n",
       "            color:  #000000;\n",
       "        }    #T_2d62638a_4919_11ec_ad28_02420a3935d7row44_col1 {\n",
       "            background-color:  #fff7f3;\n",
       "            color:  #000000;\n",
       "        }    #T_2d62638a_4919_11ec_ad28_02420a3935d7row45_col0 {\n",
       "            background-color:  #fff7f3;\n",
       "            color:  #000000;\n",
       "        }    #T_2d62638a_4919_11ec_ad28_02420a3935d7row45_col1 {\n",
       "            background-color:  #fff7f3;\n",
       "            color:  #000000;\n",
       "        }    #T_2d62638a_4919_11ec_ad28_02420a3935d7row46_col0 {\n",
       "            background-color:  #fff7f3;\n",
       "            color:  #000000;\n",
       "        }    #T_2d62638a_4919_11ec_ad28_02420a3935d7row46_col1 {\n",
       "            background-color:  #fff7f3;\n",
       "            color:  #000000;\n",
       "        }    #T_2d62638a_4919_11ec_ad28_02420a3935d7row47_col0 {\n",
       "            background-color:  #fff7f3;\n",
       "            color:  #000000;\n",
       "        }    #T_2d62638a_4919_11ec_ad28_02420a3935d7row47_col1 {\n",
       "            background-color:  #fff7f3;\n",
       "            color:  #000000;\n",
       "        }    #T_2d62638a_4919_11ec_ad28_02420a3935d7row48_col0 {\n",
       "            background-color:  #fff7f3;\n",
       "            color:  #000000;\n",
       "        }    #T_2d62638a_4919_11ec_ad28_02420a3935d7row48_col1 {\n",
       "            background-color:  #fff7f3;\n",
       "            color:  #000000;\n",
       "        }    #T_2d62638a_4919_11ec_ad28_02420a3935d7row49_col0 {\n",
       "            background-color:  #fff7f3;\n",
       "            color:  #000000;\n",
       "        }    #T_2d62638a_4919_11ec_ad28_02420a3935d7row49_col1 {\n",
       "            background-color:  #fff7f3;\n",
       "            color:  #000000;\n",
       "        }    #T_2d62638a_4919_11ec_ad28_02420a3935d7row50_col0 {\n",
       "            background-color:  #fff7f3;\n",
       "            color:  #000000;\n",
       "        }    #T_2d62638a_4919_11ec_ad28_02420a3935d7row50_col1 {\n",
       "            background-color:  #fff7f3;\n",
       "            color:  #000000;\n",
       "        }    #T_2d62638a_4919_11ec_ad28_02420a3935d7row51_col0 {\n",
       "            background-color:  #fff7f3;\n",
       "            color:  #000000;\n",
       "        }    #T_2d62638a_4919_11ec_ad28_02420a3935d7row51_col1 {\n",
       "            background-color:  #fff7f3;\n",
       "            color:  #000000;\n",
       "        }    #T_2d62638a_4919_11ec_ad28_02420a3935d7row52_col0 {\n",
       "            background-color:  #fff7f3;\n",
       "            color:  #000000;\n",
       "        }    #T_2d62638a_4919_11ec_ad28_02420a3935d7row52_col1 {\n",
       "            background-color:  #fff7f3;\n",
       "            color:  #000000;\n",
       "        }    #T_2d62638a_4919_11ec_ad28_02420a3935d7row53_col0 {\n",
       "            background-color:  #fff7f3;\n",
       "            color:  #000000;\n",
       "        }    #T_2d62638a_4919_11ec_ad28_02420a3935d7row53_col1 {\n",
       "            background-color:  #fff7f3;\n",
       "            color:  #000000;\n",
       "        }    #T_2d62638a_4919_11ec_ad28_02420a3935d7row54_col0 {\n",
       "            background-color:  #fff7f3;\n",
       "            color:  #000000;\n",
       "        }    #T_2d62638a_4919_11ec_ad28_02420a3935d7row54_col1 {\n",
       "            background-color:  #fff7f3;\n",
       "            color:  #000000;\n",
       "        }    #T_2d62638a_4919_11ec_ad28_02420a3935d7row55_col0 {\n",
       "            background-color:  #fff7f3;\n",
       "            color:  #000000;\n",
       "        }    #T_2d62638a_4919_11ec_ad28_02420a3935d7row55_col1 {\n",
       "            background-color:  #fff7f3;\n",
       "            color:  #000000;\n",
       "        }    #T_2d62638a_4919_11ec_ad28_02420a3935d7row56_col0 {\n",
       "            background-color:  #fff7f3;\n",
       "            color:  #000000;\n",
       "        }    #T_2d62638a_4919_11ec_ad28_02420a3935d7row56_col1 {\n",
       "            background-color:  #fff7f3;\n",
       "            color:  #000000;\n",
       "        }    #T_2d62638a_4919_11ec_ad28_02420a3935d7row57_col0 {\n",
       "            background-color:  #fff7f3;\n",
       "            color:  #000000;\n",
       "        }    #T_2d62638a_4919_11ec_ad28_02420a3935d7row57_col1 {\n",
       "            background-color:  #fff7f3;\n",
       "            color:  #000000;\n",
       "        }    #T_2d62638a_4919_11ec_ad28_02420a3935d7row58_col0 {\n",
       "            background-color:  #fff7f3;\n",
       "            color:  #000000;\n",
       "        }    #T_2d62638a_4919_11ec_ad28_02420a3935d7row58_col1 {\n",
       "            background-color:  #fff7f3;\n",
       "            color:  #000000;\n",
       "        }    #T_2d62638a_4919_11ec_ad28_02420a3935d7row59_col0 {\n",
       "            background-color:  #fff7f3;\n",
       "            color:  #000000;\n",
       "        }    #T_2d62638a_4919_11ec_ad28_02420a3935d7row59_col1 {\n",
       "            background-color:  #fff7f3;\n",
       "            color:  #000000;\n",
       "        }    #T_2d62638a_4919_11ec_ad28_02420a3935d7row60_col0 {\n",
       "            background-color:  #fff7f3;\n",
       "            color:  #000000;\n",
       "        }    #T_2d62638a_4919_11ec_ad28_02420a3935d7row60_col1 {\n",
       "            background-color:  #fff7f3;\n",
       "            color:  #000000;\n",
       "        }    #T_2d62638a_4919_11ec_ad28_02420a3935d7row61_col0 {\n",
       "            background-color:  #fff7f3;\n",
       "            color:  #000000;\n",
       "        }    #T_2d62638a_4919_11ec_ad28_02420a3935d7row61_col1 {\n",
       "            background-color:  #fff7f3;\n",
       "            color:  #000000;\n",
       "        }    #T_2d62638a_4919_11ec_ad28_02420a3935d7row62_col0 {\n",
       "            background-color:  #fff7f3;\n",
       "            color:  #000000;\n",
       "        }    #T_2d62638a_4919_11ec_ad28_02420a3935d7row62_col1 {\n",
       "            background-color:  #fff7f3;\n",
       "            color:  #000000;\n",
       "        }    #T_2d62638a_4919_11ec_ad28_02420a3935d7row63_col0 {\n",
       "            background-color:  #fff7f3;\n",
       "            color:  #000000;\n",
       "        }    #T_2d62638a_4919_11ec_ad28_02420a3935d7row63_col1 {\n",
       "            background-color:  #fff7f3;\n",
       "            color:  #000000;\n",
       "        }    #T_2d62638a_4919_11ec_ad28_02420a3935d7row64_col0 {\n",
       "            background-color:  #fff7f3;\n",
       "            color:  #000000;\n",
       "        }    #T_2d62638a_4919_11ec_ad28_02420a3935d7row64_col1 {\n",
       "            background-color:  #fff7f3;\n",
       "            color:  #000000;\n",
       "        }    #T_2d62638a_4919_11ec_ad28_02420a3935d7row65_col0 {\n",
       "            background-color:  #fff7f3;\n",
       "            color:  #000000;\n",
       "        }    #T_2d62638a_4919_11ec_ad28_02420a3935d7row65_col1 {\n",
       "            background-color:  #fff7f3;\n",
       "            color:  #000000;\n",
       "        }    #T_2d62638a_4919_11ec_ad28_02420a3935d7row66_col0 {\n",
       "            background-color:  #fff7f3;\n",
       "            color:  #000000;\n",
       "        }    #T_2d62638a_4919_11ec_ad28_02420a3935d7row66_col1 {\n",
       "            background-color:  #fff7f3;\n",
       "            color:  #000000;\n",
       "        }    #T_2d62638a_4919_11ec_ad28_02420a3935d7row67_col0 {\n",
       "            background-color:  #fff7f3;\n",
       "            color:  #000000;\n",
       "        }    #T_2d62638a_4919_11ec_ad28_02420a3935d7row67_col1 {\n",
       "            background-color:  #fff7f3;\n",
       "            color:  #000000;\n",
       "        }    #T_2d62638a_4919_11ec_ad28_02420a3935d7row68_col0 {\n",
       "            background-color:  #fff7f3;\n",
       "            color:  #000000;\n",
       "        }    #T_2d62638a_4919_11ec_ad28_02420a3935d7row68_col1 {\n",
       "            background-color:  #fff7f3;\n",
       "            color:  #000000;\n",
       "        }    #T_2d62638a_4919_11ec_ad28_02420a3935d7row69_col0 {\n",
       "            background-color:  #fff7f3;\n",
       "            color:  #000000;\n",
       "        }    #T_2d62638a_4919_11ec_ad28_02420a3935d7row69_col1 {\n",
       "            background-color:  #fff7f3;\n",
       "            color:  #000000;\n",
       "        }    #T_2d62638a_4919_11ec_ad28_02420a3935d7row70_col0 {\n",
       "            background-color:  #fff7f3;\n",
       "            color:  #000000;\n",
       "        }    #T_2d62638a_4919_11ec_ad28_02420a3935d7row70_col1 {\n",
       "            background-color:  #fff7f3;\n",
       "            color:  #000000;\n",
       "        }    #T_2d62638a_4919_11ec_ad28_02420a3935d7row71_col0 {\n",
       "            background-color:  #fff7f3;\n",
       "            color:  #000000;\n",
       "        }    #T_2d62638a_4919_11ec_ad28_02420a3935d7row71_col1 {\n",
       "            background-color:  #fff7f3;\n",
       "            color:  #000000;\n",
       "        }    #T_2d62638a_4919_11ec_ad28_02420a3935d7row72_col0 {\n",
       "            background-color:  #fff7f3;\n",
       "            color:  #000000;\n",
       "        }    #T_2d62638a_4919_11ec_ad28_02420a3935d7row72_col1 {\n",
       "            background-color:  #fff7f3;\n",
       "            color:  #000000;\n",
       "        }    #T_2d62638a_4919_11ec_ad28_02420a3935d7row73_col0 {\n",
       "            background-color:  #fff7f3;\n",
       "            color:  #000000;\n",
       "        }    #T_2d62638a_4919_11ec_ad28_02420a3935d7row73_col1 {\n",
       "            background-color:  #fff7f3;\n",
       "            color:  #000000;\n",
       "        }    #T_2d62638a_4919_11ec_ad28_02420a3935d7row74_col0 {\n",
       "            background-color:  #fff7f3;\n",
       "            color:  #000000;\n",
       "        }    #T_2d62638a_4919_11ec_ad28_02420a3935d7row74_col1 {\n",
       "            background-color:  #fff7f3;\n",
       "            color:  #000000;\n",
       "        }    #T_2d62638a_4919_11ec_ad28_02420a3935d7row75_col0 {\n",
       "            background-color:  #fff7f3;\n",
       "            color:  #000000;\n",
       "        }    #T_2d62638a_4919_11ec_ad28_02420a3935d7row75_col1 {\n",
       "            background-color:  #fff7f3;\n",
       "            color:  #000000;\n",
       "        }    #T_2d62638a_4919_11ec_ad28_02420a3935d7row76_col0 {\n",
       "            background-color:  #fff7f3;\n",
       "            color:  #000000;\n",
       "        }    #T_2d62638a_4919_11ec_ad28_02420a3935d7row76_col1 {\n",
       "            background-color:  #fff7f3;\n",
       "            color:  #000000;\n",
       "        }    #T_2d62638a_4919_11ec_ad28_02420a3935d7row77_col0 {\n",
       "            background-color:  #fff7f3;\n",
       "            color:  #000000;\n",
       "        }    #T_2d62638a_4919_11ec_ad28_02420a3935d7row77_col1 {\n",
       "            background-color:  #fff7f3;\n",
       "            color:  #000000;\n",
       "        }    #T_2d62638a_4919_11ec_ad28_02420a3935d7row78_col0 {\n",
       "            background-color:  #fff7f3;\n",
       "            color:  #000000;\n",
       "        }    #T_2d62638a_4919_11ec_ad28_02420a3935d7row78_col1 {\n",
       "            background-color:  #fff7f3;\n",
       "            color:  #000000;\n",
       "        }    #T_2d62638a_4919_11ec_ad28_02420a3935d7row79_col0 {\n",
       "            background-color:  #fff7f3;\n",
       "            color:  #000000;\n",
       "        }    #T_2d62638a_4919_11ec_ad28_02420a3935d7row79_col1 {\n",
       "            background-color:  #fff7f3;\n",
       "            color:  #000000;\n",
       "        }    #T_2d62638a_4919_11ec_ad28_02420a3935d7row80_col0 {\n",
       "            background-color:  #fff7f3;\n",
       "            color:  #000000;\n",
       "        }    #T_2d62638a_4919_11ec_ad28_02420a3935d7row80_col1 {\n",
       "            background-color:  #fff7f3;\n",
       "            color:  #000000;\n",
       "        }    #T_2d62638a_4919_11ec_ad28_02420a3935d7row81_col0 {\n",
       "            background-color:  #fff7f3;\n",
       "            color:  #000000;\n",
       "        }    #T_2d62638a_4919_11ec_ad28_02420a3935d7row81_col1 {\n",
       "            background-color:  #fff7f3;\n",
       "            color:  #000000;\n",
       "        }    #T_2d62638a_4919_11ec_ad28_02420a3935d7row82_col0 {\n",
       "            background-color:  #fff7f3;\n",
       "            color:  #000000;\n",
       "        }    #T_2d62638a_4919_11ec_ad28_02420a3935d7row82_col1 {\n",
       "            background-color:  #fff7f3;\n",
       "            color:  #000000;\n",
       "        }    #T_2d62638a_4919_11ec_ad28_02420a3935d7row83_col0 {\n",
       "            background-color:  #fff7f3;\n",
       "            color:  #000000;\n",
       "        }    #T_2d62638a_4919_11ec_ad28_02420a3935d7row83_col1 {\n",
       "            background-color:  #fff7f3;\n",
       "            color:  #000000;\n",
       "        }    #T_2d62638a_4919_11ec_ad28_02420a3935d7row84_col0 {\n",
       "            background-color:  #fff7f3;\n",
       "            color:  #000000;\n",
       "        }    #T_2d62638a_4919_11ec_ad28_02420a3935d7row84_col1 {\n",
       "            background-color:  #fff7f3;\n",
       "            color:  #000000;\n",
       "        }    #T_2d62638a_4919_11ec_ad28_02420a3935d7row85_col0 {\n",
       "            background-color:  #fff7f3;\n",
       "            color:  #000000;\n",
       "        }    #T_2d62638a_4919_11ec_ad28_02420a3935d7row85_col1 {\n",
       "            background-color:  #fff7f3;\n",
       "            color:  #000000;\n",
       "        }    #T_2d62638a_4919_11ec_ad28_02420a3935d7row86_col0 {\n",
       "            background-color:  #fff7f3;\n",
       "            color:  #000000;\n",
       "        }    #T_2d62638a_4919_11ec_ad28_02420a3935d7row86_col1 {\n",
       "            background-color:  #fff7f3;\n",
       "            color:  #000000;\n",
       "        }</style><table id=\"T_2d62638a_4919_11ec_ad28_02420a3935d7\" ><thead>    <tr>        <th class=\"blank level0\" ></th>        <th class=\"col_heading level0 col0\" >missing_values</th>        <th class=\"col_heading level0 col1\" >% of total</th>    </tr></thead><tbody>\n",
       "                <tr>\n",
       "                        <th id=\"T_2d62638a_4919_11ec_ad28_02420a3935d7level0_row0\" class=\"row_heading level0 row0\" >date</th>\n",
       "                        <td id=\"T_2d62638a_4919_11ec_ad28_02420a3935d7row0_col0\" class=\"data row0 col0\" >0</td>\n",
       "                        <td id=\"T_2d62638a_4919_11ec_ad28_02420a3935d7row0_col1\" class=\"data row0 col1\" >0</td>\n",
       "            </tr>\n",
       "            <tr>\n",
       "                        <th id=\"T_2d62638a_4919_11ec_ad28_02420a3935d7level0_row1\" class=\"row_heading level0 row1\" >final.output.concentrate_ag</th>\n",
       "                        <td id=\"T_2d62638a_4919_11ec_ad28_02420a3935d7row1_col0\" class=\"data row1 col0\" >0</td>\n",
       "                        <td id=\"T_2d62638a_4919_11ec_ad28_02420a3935d7row1_col1\" class=\"data row1 col1\" >0</td>\n",
       "            </tr>\n",
       "            <tr>\n",
       "                        <th id=\"T_2d62638a_4919_11ec_ad28_02420a3935d7level0_row2\" class=\"row_heading level0 row2\" >final.output.concentrate_pb</th>\n",
       "                        <td id=\"T_2d62638a_4919_11ec_ad28_02420a3935d7row2_col0\" class=\"data row2 col0\" >0</td>\n",
       "                        <td id=\"T_2d62638a_4919_11ec_ad28_02420a3935d7row2_col1\" class=\"data row2 col1\" >0</td>\n",
       "            </tr>\n",
       "            <tr>\n",
       "                        <th id=\"T_2d62638a_4919_11ec_ad28_02420a3935d7level0_row3\" class=\"row_heading level0 row3\" >final.output.concentrate_sol</th>\n",
       "                        <td id=\"T_2d62638a_4919_11ec_ad28_02420a3935d7row3_col0\" class=\"data row3 col0\" >0</td>\n",
       "                        <td id=\"T_2d62638a_4919_11ec_ad28_02420a3935d7row3_col1\" class=\"data row3 col1\" >0</td>\n",
       "            </tr>\n",
       "            <tr>\n",
       "                        <th id=\"T_2d62638a_4919_11ec_ad28_02420a3935d7level0_row4\" class=\"row_heading level0 row4\" >final.output.concentrate_au</th>\n",
       "                        <td id=\"T_2d62638a_4919_11ec_ad28_02420a3935d7row4_col0\" class=\"data row4 col0\" >0</td>\n",
       "                        <td id=\"T_2d62638a_4919_11ec_ad28_02420a3935d7row4_col1\" class=\"data row4 col1\" >0</td>\n",
       "            </tr>\n",
       "            <tr>\n",
       "                        <th id=\"T_2d62638a_4919_11ec_ad28_02420a3935d7level0_row5\" class=\"row_heading level0 row5\" >final.output.recovery</th>\n",
       "                        <td id=\"T_2d62638a_4919_11ec_ad28_02420a3935d7row5_col0\" class=\"data row5 col0\" >0</td>\n",
       "                        <td id=\"T_2d62638a_4919_11ec_ad28_02420a3935d7row5_col1\" class=\"data row5 col1\" >0</td>\n",
       "            </tr>\n",
       "            <tr>\n",
       "                        <th id=\"T_2d62638a_4919_11ec_ad28_02420a3935d7level0_row6\" class=\"row_heading level0 row6\" >final.output.tail_ag</th>\n",
       "                        <td id=\"T_2d62638a_4919_11ec_ad28_02420a3935d7row6_col0\" class=\"data row6 col0\" >0</td>\n",
       "                        <td id=\"T_2d62638a_4919_11ec_ad28_02420a3935d7row6_col1\" class=\"data row6 col1\" >0</td>\n",
       "            </tr>\n",
       "            <tr>\n",
       "                        <th id=\"T_2d62638a_4919_11ec_ad28_02420a3935d7level0_row7\" class=\"row_heading level0 row7\" >final.output.tail_pb</th>\n",
       "                        <td id=\"T_2d62638a_4919_11ec_ad28_02420a3935d7row7_col0\" class=\"data row7 col0\" >0</td>\n",
       "                        <td id=\"T_2d62638a_4919_11ec_ad28_02420a3935d7row7_col1\" class=\"data row7 col1\" >0</td>\n",
       "            </tr>\n",
       "            <tr>\n",
       "                        <th id=\"T_2d62638a_4919_11ec_ad28_02420a3935d7level0_row8\" class=\"row_heading level0 row8\" >final.output.tail_sol</th>\n",
       "                        <td id=\"T_2d62638a_4919_11ec_ad28_02420a3935d7row8_col0\" class=\"data row8 col0\" >0</td>\n",
       "                        <td id=\"T_2d62638a_4919_11ec_ad28_02420a3935d7row8_col1\" class=\"data row8 col1\" >0</td>\n",
       "            </tr>\n",
       "            <tr>\n",
       "                        <th id=\"T_2d62638a_4919_11ec_ad28_02420a3935d7level0_row9\" class=\"row_heading level0 row9\" >final.output.tail_au</th>\n",
       "                        <td id=\"T_2d62638a_4919_11ec_ad28_02420a3935d7row9_col0\" class=\"data row9 col0\" >0</td>\n",
       "                        <td id=\"T_2d62638a_4919_11ec_ad28_02420a3935d7row9_col1\" class=\"data row9 col1\" >0</td>\n",
       "            </tr>\n",
       "            <tr>\n",
       "                        <th id=\"T_2d62638a_4919_11ec_ad28_02420a3935d7level0_row10\" class=\"row_heading level0 row10\" >primary_cleaner.input.sulfate</th>\n",
       "                        <td id=\"T_2d62638a_4919_11ec_ad28_02420a3935d7row10_col0\" class=\"data row10 col0\" >0</td>\n",
       "                        <td id=\"T_2d62638a_4919_11ec_ad28_02420a3935d7row10_col1\" class=\"data row10 col1\" >0</td>\n",
       "            </tr>\n",
       "            <tr>\n",
       "                        <th id=\"T_2d62638a_4919_11ec_ad28_02420a3935d7level0_row11\" class=\"row_heading level0 row11\" >primary_cleaner.input.depressant</th>\n",
       "                        <td id=\"T_2d62638a_4919_11ec_ad28_02420a3935d7row11_col0\" class=\"data row11 col0\" >0</td>\n",
       "                        <td id=\"T_2d62638a_4919_11ec_ad28_02420a3935d7row11_col1\" class=\"data row11 col1\" >0</td>\n",
       "            </tr>\n",
       "            <tr>\n",
       "                        <th id=\"T_2d62638a_4919_11ec_ad28_02420a3935d7level0_row12\" class=\"row_heading level0 row12\" >primary_cleaner.input.feed_size</th>\n",
       "                        <td id=\"T_2d62638a_4919_11ec_ad28_02420a3935d7row12_col0\" class=\"data row12 col0\" >0</td>\n",
       "                        <td id=\"T_2d62638a_4919_11ec_ad28_02420a3935d7row12_col1\" class=\"data row12 col1\" >0</td>\n",
       "            </tr>\n",
       "            <tr>\n",
       "                        <th id=\"T_2d62638a_4919_11ec_ad28_02420a3935d7level0_row13\" class=\"row_heading level0 row13\" >primary_cleaner.input.xanthate</th>\n",
       "                        <td id=\"T_2d62638a_4919_11ec_ad28_02420a3935d7row13_col0\" class=\"data row13 col0\" >0</td>\n",
       "                        <td id=\"T_2d62638a_4919_11ec_ad28_02420a3935d7row13_col1\" class=\"data row13 col1\" >0</td>\n",
       "            </tr>\n",
       "            <tr>\n",
       "                        <th id=\"T_2d62638a_4919_11ec_ad28_02420a3935d7level0_row14\" class=\"row_heading level0 row14\" >primary_cleaner.output.concentrate_ag</th>\n",
       "                        <td id=\"T_2d62638a_4919_11ec_ad28_02420a3935d7row14_col0\" class=\"data row14 col0\" >0</td>\n",
       "                        <td id=\"T_2d62638a_4919_11ec_ad28_02420a3935d7row14_col1\" class=\"data row14 col1\" >0</td>\n",
       "            </tr>\n",
       "            <tr>\n",
       "                        <th id=\"T_2d62638a_4919_11ec_ad28_02420a3935d7level0_row15\" class=\"row_heading level0 row15\" >primary_cleaner.output.concentrate_pb</th>\n",
       "                        <td id=\"T_2d62638a_4919_11ec_ad28_02420a3935d7row15_col0\" class=\"data row15 col0\" >0</td>\n",
       "                        <td id=\"T_2d62638a_4919_11ec_ad28_02420a3935d7row15_col1\" class=\"data row15 col1\" >0</td>\n",
       "            </tr>\n",
       "            <tr>\n",
       "                        <th id=\"T_2d62638a_4919_11ec_ad28_02420a3935d7level0_row16\" class=\"row_heading level0 row16\" >primary_cleaner.output.concentrate_sol</th>\n",
       "                        <td id=\"T_2d62638a_4919_11ec_ad28_02420a3935d7row16_col0\" class=\"data row16 col0\" >0</td>\n",
       "                        <td id=\"T_2d62638a_4919_11ec_ad28_02420a3935d7row16_col1\" class=\"data row16 col1\" >0</td>\n",
       "            </tr>\n",
       "            <tr>\n",
       "                        <th id=\"T_2d62638a_4919_11ec_ad28_02420a3935d7level0_row17\" class=\"row_heading level0 row17\" >primary_cleaner.output.concentrate_au</th>\n",
       "                        <td id=\"T_2d62638a_4919_11ec_ad28_02420a3935d7row17_col0\" class=\"data row17 col0\" >0</td>\n",
       "                        <td id=\"T_2d62638a_4919_11ec_ad28_02420a3935d7row17_col1\" class=\"data row17 col1\" >0</td>\n",
       "            </tr>\n",
       "            <tr>\n",
       "                        <th id=\"T_2d62638a_4919_11ec_ad28_02420a3935d7level0_row18\" class=\"row_heading level0 row18\" >primary_cleaner.output.tail_ag</th>\n",
       "                        <td id=\"T_2d62638a_4919_11ec_ad28_02420a3935d7row18_col0\" class=\"data row18 col0\" >0</td>\n",
       "                        <td id=\"T_2d62638a_4919_11ec_ad28_02420a3935d7row18_col1\" class=\"data row18 col1\" >0</td>\n",
       "            </tr>\n",
       "            <tr>\n",
       "                        <th id=\"T_2d62638a_4919_11ec_ad28_02420a3935d7level0_row19\" class=\"row_heading level0 row19\" >primary_cleaner.output.tail_pb</th>\n",
       "                        <td id=\"T_2d62638a_4919_11ec_ad28_02420a3935d7row19_col0\" class=\"data row19 col0\" >0</td>\n",
       "                        <td id=\"T_2d62638a_4919_11ec_ad28_02420a3935d7row19_col1\" class=\"data row19 col1\" >0</td>\n",
       "            </tr>\n",
       "            <tr>\n",
       "                        <th id=\"T_2d62638a_4919_11ec_ad28_02420a3935d7level0_row20\" class=\"row_heading level0 row20\" >primary_cleaner.output.tail_sol</th>\n",
       "                        <td id=\"T_2d62638a_4919_11ec_ad28_02420a3935d7row20_col0\" class=\"data row20 col0\" >0</td>\n",
       "                        <td id=\"T_2d62638a_4919_11ec_ad28_02420a3935d7row20_col1\" class=\"data row20 col1\" >0</td>\n",
       "            </tr>\n",
       "            <tr>\n",
       "                        <th id=\"T_2d62638a_4919_11ec_ad28_02420a3935d7level0_row21\" class=\"row_heading level0 row21\" >primary_cleaner.output.tail_au</th>\n",
       "                        <td id=\"T_2d62638a_4919_11ec_ad28_02420a3935d7row21_col0\" class=\"data row21 col0\" >0</td>\n",
       "                        <td id=\"T_2d62638a_4919_11ec_ad28_02420a3935d7row21_col1\" class=\"data row21 col1\" >0</td>\n",
       "            </tr>\n",
       "            <tr>\n",
       "                        <th id=\"T_2d62638a_4919_11ec_ad28_02420a3935d7level0_row22\" class=\"row_heading level0 row22\" >primary_cleaner.state.floatbank8_a_air</th>\n",
       "                        <td id=\"T_2d62638a_4919_11ec_ad28_02420a3935d7row22_col0\" class=\"data row22 col0\" >0</td>\n",
       "                        <td id=\"T_2d62638a_4919_11ec_ad28_02420a3935d7row22_col1\" class=\"data row22 col1\" >0</td>\n",
       "            </tr>\n",
       "            <tr>\n",
       "                        <th id=\"T_2d62638a_4919_11ec_ad28_02420a3935d7level0_row23\" class=\"row_heading level0 row23\" >primary_cleaner.state.floatbank8_a_level</th>\n",
       "                        <td id=\"T_2d62638a_4919_11ec_ad28_02420a3935d7row23_col0\" class=\"data row23 col0\" >0</td>\n",
       "                        <td id=\"T_2d62638a_4919_11ec_ad28_02420a3935d7row23_col1\" class=\"data row23 col1\" >0</td>\n",
       "            </tr>\n",
       "            <tr>\n",
       "                        <th id=\"T_2d62638a_4919_11ec_ad28_02420a3935d7level0_row24\" class=\"row_heading level0 row24\" >primary_cleaner.state.floatbank8_b_air</th>\n",
       "                        <td id=\"T_2d62638a_4919_11ec_ad28_02420a3935d7row24_col0\" class=\"data row24 col0\" >0</td>\n",
       "                        <td id=\"T_2d62638a_4919_11ec_ad28_02420a3935d7row24_col1\" class=\"data row24 col1\" >0</td>\n",
       "            </tr>\n",
       "            <tr>\n",
       "                        <th id=\"T_2d62638a_4919_11ec_ad28_02420a3935d7level0_row25\" class=\"row_heading level0 row25\" >primary_cleaner.state.floatbank8_b_level</th>\n",
       "                        <td id=\"T_2d62638a_4919_11ec_ad28_02420a3935d7row25_col0\" class=\"data row25 col0\" >0</td>\n",
       "                        <td id=\"T_2d62638a_4919_11ec_ad28_02420a3935d7row25_col1\" class=\"data row25 col1\" >0</td>\n",
       "            </tr>\n",
       "            <tr>\n",
       "                        <th id=\"T_2d62638a_4919_11ec_ad28_02420a3935d7level0_row26\" class=\"row_heading level0 row26\" >primary_cleaner.state.floatbank8_c_air</th>\n",
       "                        <td id=\"T_2d62638a_4919_11ec_ad28_02420a3935d7row26_col0\" class=\"data row26 col0\" >0</td>\n",
       "                        <td id=\"T_2d62638a_4919_11ec_ad28_02420a3935d7row26_col1\" class=\"data row26 col1\" >0</td>\n",
       "            </tr>\n",
       "            <tr>\n",
       "                        <th id=\"T_2d62638a_4919_11ec_ad28_02420a3935d7level0_row27\" class=\"row_heading level0 row27\" >primary_cleaner.state.floatbank8_c_level</th>\n",
       "                        <td id=\"T_2d62638a_4919_11ec_ad28_02420a3935d7row27_col0\" class=\"data row27 col0\" >0</td>\n",
       "                        <td id=\"T_2d62638a_4919_11ec_ad28_02420a3935d7row27_col1\" class=\"data row27 col1\" >0</td>\n",
       "            </tr>\n",
       "            <tr>\n",
       "                        <th id=\"T_2d62638a_4919_11ec_ad28_02420a3935d7level0_row28\" class=\"row_heading level0 row28\" >primary_cleaner.state.floatbank8_d_air</th>\n",
       "                        <td id=\"T_2d62638a_4919_11ec_ad28_02420a3935d7row28_col0\" class=\"data row28 col0\" >0</td>\n",
       "                        <td id=\"T_2d62638a_4919_11ec_ad28_02420a3935d7row28_col1\" class=\"data row28 col1\" >0</td>\n",
       "            </tr>\n",
       "            <tr>\n",
       "                        <th id=\"T_2d62638a_4919_11ec_ad28_02420a3935d7level0_row29\" class=\"row_heading level0 row29\" >primary_cleaner.state.floatbank8_d_level</th>\n",
       "                        <td id=\"T_2d62638a_4919_11ec_ad28_02420a3935d7row29_col0\" class=\"data row29 col0\" >0</td>\n",
       "                        <td id=\"T_2d62638a_4919_11ec_ad28_02420a3935d7row29_col1\" class=\"data row29 col1\" >0</td>\n",
       "            </tr>\n",
       "            <tr>\n",
       "                        <th id=\"T_2d62638a_4919_11ec_ad28_02420a3935d7level0_row30\" class=\"row_heading level0 row30\" >rougher.calculation.sulfate_to_au_concentrate</th>\n",
       "                        <td id=\"T_2d62638a_4919_11ec_ad28_02420a3935d7row30_col0\" class=\"data row30 col0\" >0</td>\n",
       "                        <td id=\"T_2d62638a_4919_11ec_ad28_02420a3935d7row30_col1\" class=\"data row30 col1\" >0</td>\n",
       "            </tr>\n",
       "            <tr>\n",
       "                        <th id=\"T_2d62638a_4919_11ec_ad28_02420a3935d7level0_row31\" class=\"row_heading level0 row31\" >rougher.calculation.floatbank10_sulfate_to_au_feed</th>\n",
       "                        <td id=\"T_2d62638a_4919_11ec_ad28_02420a3935d7row31_col0\" class=\"data row31 col0\" >0</td>\n",
       "                        <td id=\"T_2d62638a_4919_11ec_ad28_02420a3935d7row31_col1\" class=\"data row31 col1\" >0</td>\n",
       "            </tr>\n",
       "            <tr>\n",
       "                        <th id=\"T_2d62638a_4919_11ec_ad28_02420a3935d7level0_row32\" class=\"row_heading level0 row32\" >rougher.calculation.floatbank11_sulfate_to_au_feed</th>\n",
       "                        <td id=\"T_2d62638a_4919_11ec_ad28_02420a3935d7row32_col0\" class=\"data row32 col0\" >0</td>\n",
       "                        <td id=\"T_2d62638a_4919_11ec_ad28_02420a3935d7row32_col1\" class=\"data row32 col1\" >0</td>\n",
       "            </tr>\n",
       "            <tr>\n",
       "                        <th id=\"T_2d62638a_4919_11ec_ad28_02420a3935d7level0_row33\" class=\"row_heading level0 row33\" >rougher.calculation.au_pb_ratio</th>\n",
       "                        <td id=\"T_2d62638a_4919_11ec_ad28_02420a3935d7row33_col0\" class=\"data row33 col0\" >0</td>\n",
       "                        <td id=\"T_2d62638a_4919_11ec_ad28_02420a3935d7row33_col1\" class=\"data row33 col1\" >0</td>\n",
       "            </tr>\n",
       "            <tr>\n",
       "                        <th id=\"T_2d62638a_4919_11ec_ad28_02420a3935d7level0_row34\" class=\"row_heading level0 row34\" >rougher.input.feed_ag</th>\n",
       "                        <td id=\"T_2d62638a_4919_11ec_ad28_02420a3935d7row34_col0\" class=\"data row34 col0\" >0</td>\n",
       "                        <td id=\"T_2d62638a_4919_11ec_ad28_02420a3935d7row34_col1\" class=\"data row34 col1\" >0</td>\n",
       "            </tr>\n",
       "            <tr>\n",
       "                        <th id=\"T_2d62638a_4919_11ec_ad28_02420a3935d7level0_row35\" class=\"row_heading level0 row35\" >rougher.input.feed_pb</th>\n",
       "                        <td id=\"T_2d62638a_4919_11ec_ad28_02420a3935d7row35_col0\" class=\"data row35 col0\" >0</td>\n",
       "                        <td id=\"T_2d62638a_4919_11ec_ad28_02420a3935d7row35_col1\" class=\"data row35 col1\" >0</td>\n",
       "            </tr>\n",
       "            <tr>\n",
       "                        <th id=\"T_2d62638a_4919_11ec_ad28_02420a3935d7level0_row36\" class=\"row_heading level0 row36\" >rougher.input.feed_rate</th>\n",
       "                        <td id=\"T_2d62638a_4919_11ec_ad28_02420a3935d7row36_col0\" class=\"data row36 col0\" >0</td>\n",
       "                        <td id=\"T_2d62638a_4919_11ec_ad28_02420a3935d7row36_col1\" class=\"data row36 col1\" >0</td>\n",
       "            </tr>\n",
       "            <tr>\n",
       "                        <th id=\"T_2d62638a_4919_11ec_ad28_02420a3935d7level0_row37\" class=\"row_heading level0 row37\" >rougher.input.feed_size</th>\n",
       "                        <td id=\"T_2d62638a_4919_11ec_ad28_02420a3935d7row37_col0\" class=\"data row37 col0\" >0</td>\n",
       "                        <td id=\"T_2d62638a_4919_11ec_ad28_02420a3935d7row37_col1\" class=\"data row37 col1\" >0</td>\n",
       "            </tr>\n",
       "            <tr>\n",
       "                        <th id=\"T_2d62638a_4919_11ec_ad28_02420a3935d7level0_row38\" class=\"row_heading level0 row38\" >rougher.input.feed_sol</th>\n",
       "                        <td id=\"T_2d62638a_4919_11ec_ad28_02420a3935d7row38_col0\" class=\"data row38 col0\" >0</td>\n",
       "                        <td id=\"T_2d62638a_4919_11ec_ad28_02420a3935d7row38_col1\" class=\"data row38 col1\" >0</td>\n",
       "            </tr>\n",
       "            <tr>\n",
       "                        <th id=\"T_2d62638a_4919_11ec_ad28_02420a3935d7level0_row39\" class=\"row_heading level0 row39\" >rougher.input.feed_au</th>\n",
       "                        <td id=\"T_2d62638a_4919_11ec_ad28_02420a3935d7row39_col0\" class=\"data row39 col0\" >0</td>\n",
       "                        <td id=\"T_2d62638a_4919_11ec_ad28_02420a3935d7row39_col1\" class=\"data row39 col1\" >0</td>\n",
       "            </tr>\n",
       "            <tr>\n",
       "                        <th id=\"T_2d62638a_4919_11ec_ad28_02420a3935d7level0_row40\" class=\"row_heading level0 row40\" >rougher.input.floatbank10_sulfate</th>\n",
       "                        <td id=\"T_2d62638a_4919_11ec_ad28_02420a3935d7row40_col0\" class=\"data row40 col0\" >0</td>\n",
       "                        <td id=\"T_2d62638a_4919_11ec_ad28_02420a3935d7row40_col1\" class=\"data row40 col1\" >0</td>\n",
       "            </tr>\n",
       "            <tr>\n",
       "                        <th id=\"T_2d62638a_4919_11ec_ad28_02420a3935d7level0_row41\" class=\"row_heading level0 row41\" >rougher.input.floatbank10_xanthate</th>\n",
       "                        <td id=\"T_2d62638a_4919_11ec_ad28_02420a3935d7row41_col0\" class=\"data row41 col0\" >0</td>\n",
       "                        <td id=\"T_2d62638a_4919_11ec_ad28_02420a3935d7row41_col1\" class=\"data row41 col1\" >0</td>\n",
       "            </tr>\n",
       "            <tr>\n",
       "                        <th id=\"T_2d62638a_4919_11ec_ad28_02420a3935d7level0_row42\" class=\"row_heading level0 row42\" >rougher.input.floatbank11_sulfate</th>\n",
       "                        <td id=\"T_2d62638a_4919_11ec_ad28_02420a3935d7row42_col0\" class=\"data row42 col0\" >0</td>\n",
       "                        <td id=\"T_2d62638a_4919_11ec_ad28_02420a3935d7row42_col1\" class=\"data row42 col1\" >0</td>\n",
       "            </tr>\n",
       "            <tr>\n",
       "                        <th id=\"T_2d62638a_4919_11ec_ad28_02420a3935d7level0_row43\" class=\"row_heading level0 row43\" >rougher.input.floatbank11_xanthate</th>\n",
       "                        <td id=\"T_2d62638a_4919_11ec_ad28_02420a3935d7row43_col0\" class=\"data row43 col0\" >0</td>\n",
       "                        <td id=\"T_2d62638a_4919_11ec_ad28_02420a3935d7row43_col1\" class=\"data row43 col1\" >0</td>\n",
       "            </tr>\n",
       "            <tr>\n",
       "                        <th id=\"T_2d62638a_4919_11ec_ad28_02420a3935d7level0_row44\" class=\"row_heading level0 row44\" >rougher.output.concentrate_ag</th>\n",
       "                        <td id=\"T_2d62638a_4919_11ec_ad28_02420a3935d7row44_col0\" class=\"data row44 col0\" >0</td>\n",
       "                        <td id=\"T_2d62638a_4919_11ec_ad28_02420a3935d7row44_col1\" class=\"data row44 col1\" >0</td>\n",
       "            </tr>\n",
       "            <tr>\n",
       "                        <th id=\"T_2d62638a_4919_11ec_ad28_02420a3935d7level0_row45\" class=\"row_heading level0 row45\" >rougher.output.concentrate_pb</th>\n",
       "                        <td id=\"T_2d62638a_4919_11ec_ad28_02420a3935d7row45_col0\" class=\"data row45 col0\" >0</td>\n",
       "                        <td id=\"T_2d62638a_4919_11ec_ad28_02420a3935d7row45_col1\" class=\"data row45 col1\" >0</td>\n",
       "            </tr>\n",
       "            <tr>\n",
       "                        <th id=\"T_2d62638a_4919_11ec_ad28_02420a3935d7level0_row46\" class=\"row_heading level0 row46\" >rougher.output.concentrate_sol</th>\n",
       "                        <td id=\"T_2d62638a_4919_11ec_ad28_02420a3935d7row46_col0\" class=\"data row46 col0\" >0</td>\n",
       "                        <td id=\"T_2d62638a_4919_11ec_ad28_02420a3935d7row46_col1\" class=\"data row46 col1\" >0</td>\n",
       "            </tr>\n",
       "            <tr>\n",
       "                        <th id=\"T_2d62638a_4919_11ec_ad28_02420a3935d7level0_row47\" class=\"row_heading level0 row47\" >rougher.output.concentrate_au</th>\n",
       "                        <td id=\"T_2d62638a_4919_11ec_ad28_02420a3935d7row47_col0\" class=\"data row47 col0\" >0</td>\n",
       "                        <td id=\"T_2d62638a_4919_11ec_ad28_02420a3935d7row47_col1\" class=\"data row47 col1\" >0</td>\n",
       "            </tr>\n",
       "            <tr>\n",
       "                        <th id=\"T_2d62638a_4919_11ec_ad28_02420a3935d7level0_row48\" class=\"row_heading level0 row48\" >rougher.output.recovery</th>\n",
       "                        <td id=\"T_2d62638a_4919_11ec_ad28_02420a3935d7row48_col0\" class=\"data row48 col0\" >0</td>\n",
       "                        <td id=\"T_2d62638a_4919_11ec_ad28_02420a3935d7row48_col1\" class=\"data row48 col1\" >0</td>\n",
       "            </tr>\n",
       "            <tr>\n",
       "                        <th id=\"T_2d62638a_4919_11ec_ad28_02420a3935d7level0_row49\" class=\"row_heading level0 row49\" >rougher.output.tail_ag</th>\n",
       "                        <td id=\"T_2d62638a_4919_11ec_ad28_02420a3935d7row49_col0\" class=\"data row49 col0\" >0</td>\n",
       "                        <td id=\"T_2d62638a_4919_11ec_ad28_02420a3935d7row49_col1\" class=\"data row49 col1\" >0</td>\n",
       "            </tr>\n",
       "            <tr>\n",
       "                        <th id=\"T_2d62638a_4919_11ec_ad28_02420a3935d7level0_row50\" class=\"row_heading level0 row50\" >rougher.output.tail_pb</th>\n",
       "                        <td id=\"T_2d62638a_4919_11ec_ad28_02420a3935d7row50_col0\" class=\"data row50 col0\" >0</td>\n",
       "                        <td id=\"T_2d62638a_4919_11ec_ad28_02420a3935d7row50_col1\" class=\"data row50 col1\" >0</td>\n",
       "            </tr>\n",
       "            <tr>\n",
       "                        <th id=\"T_2d62638a_4919_11ec_ad28_02420a3935d7level0_row51\" class=\"row_heading level0 row51\" >rougher.output.tail_sol</th>\n",
       "                        <td id=\"T_2d62638a_4919_11ec_ad28_02420a3935d7row51_col0\" class=\"data row51 col0\" >0</td>\n",
       "                        <td id=\"T_2d62638a_4919_11ec_ad28_02420a3935d7row51_col1\" class=\"data row51 col1\" >0</td>\n",
       "            </tr>\n",
       "            <tr>\n",
       "                        <th id=\"T_2d62638a_4919_11ec_ad28_02420a3935d7level0_row52\" class=\"row_heading level0 row52\" >rougher.output.tail_au</th>\n",
       "                        <td id=\"T_2d62638a_4919_11ec_ad28_02420a3935d7row52_col0\" class=\"data row52 col0\" >0</td>\n",
       "                        <td id=\"T_2d62638a_4919_11ec_ad28_02420a3935d7row52_col1\" class=\"data row52 col1\" >0</td>\n",
       "            </tr>\n",
       "            <tr>\n",
       "                        <th id=\"T_2d62638a_4919_11ec_ad28_02420a3935d7level0_row53\" class=\"row_heading level0 row53\" >rougher.state.floatbank10_a_air</th>\n",
       "                        <td id=\"T_2d62638a_4919_11ec_ad28_02420a3935d7row53_col0\" class=\"data row53 col0\" >0</td>\n",
       "                        <td id=\"T_2d62638a_4919_11ec_ad28_02420a3935d7row53_col1\" class=\"data row53 col1\" >0</td>\n",
       "            </tr>\n",
       "            <tr>\n",
       "                        <th id=\"T_2d62638a_4919_11ec_ad28_02420a3935d7level0_row54\" class=\"row_heading level0 row54\" >rougher.state.floatbank10_a_level</th>\n",
       "                        <td id=\"T_2d62638a_4919_11ec_ad28_02420a3935d7row54_col0\" class=\"data row54 col0\" >0</td>\n",
       "                        <td id=\"T_2d62638a_4919_11ec_ad28_02420a3935d7row54_col1\" class=\"data row54 col1\" >0</td>\n",
       "            </tr>\n",
       "            <tr>\n",
       "                        <th id=\"T_2d62638a_4919_11ec_ad28_02420a3935d7level0_row55\" class=\"row_heading level0 row55\" >rougher.state.floatbank10_b_air</th>\n",
       "                        <td id=\"T_2d62638a_4919_11ec_ad28_02420a3935d7row55_col0\" class=\"data row55 col0\" >0</td>\n",
       "                        <td id=\"T_2d62638a_4919_11ec_ad28_02420a3935d7row55_col1\" class=\"data row55 col1\" >0</td>\n",
       "            </tr>\n",
       "            <tr>\n",
       "                        <th id=\"T_2d62638a_4919_11ec_ad28_02420a3935d7level0_row56\" class=\"row_heading level0 row56\" >rougher.state.floatbank10_b_level</th>\n",
       "                        <td id=\"T_2d62638a_4919_11ec_ad28_02420a3935d7row56_col0\" class=\"data row56 col0\" >0</td>\n",
       "                        <td id=\"T_2d62638a_4919_11ec_ad28_02420a3935d7row56_col1\" class=\"data row56 col1\" >0</td>\n",
       "            </tr>\n",
       "            <tr>\n",
       "                        <th id=\"T_2d62638a_4919_11ec_ad28_02420a3935d7level0_row57\" class=\"row_heading level0 row57\" >rougher.state.floatbank10_c_air</th>\n",
       "                        <td id=\"T_2d62638a_4919_11ec_ad28_02420a3935d7row57_col0\" class=\"data row57 col0\" >0</td>\n",
       "                        <td id=\"T_2d62638a_4919_11ec_ad28_02420a3935d7row57_col1\" class=\"data row57 col1\" >0</td>\n",
       "            </tr>\n",
       "            <tr>\n",
       "                        <th id=\"T_2d62638a_4919_11ec_ad28_02420a3935d7level0_row58\" class=\"row_heading level0 row58\" >rougher.state.floatbank10_c_level</th>\n",
       "                        <td id=\"T_2d62638a_4919_11ec_ad28_02420a3935d7row58_col0\" class=\"data row58 col0\" >0</td>\n",
       "                        <td id=\"T_2d62638a_4919_11ec_ad28_02420a3935d7row58_col1\" class=\"data row58 col1\" >0</td>\n",
       "            </tr>\n",
       "            <tr>\n",
       "                        <th id=\"T_2d62638a_4919_11ec_ad28_02420a3935d7level0_row59\" class=\"row_heading level0 row59\" >rougher.state.floatbank10_d_air</th>\n",
       "                        <td id=\"T_2d62638a_4919_11ec_ad28_02420a3935d7row59_col0\" class=\"data row59 col0\" >0</td>\n",
       "                        <td id=\"T_2d62638a_4919_11ec_ad28_02420a3935d7row59_col1\" class=\"data row59 col1\" >0</td>\n",
       "            </tr>\n",
       "            <tr>\n",
       "                        <th id=\"T_2d62638a_4919_11ec_ad28_02420a3935d7level0_row60\" class=\"row_heading level0 row60\" >rougher.state.floatbank10_d_level</th>\n",
       "                        <td id=\"T_2d62638a_4919_11ec_ad28_02420a3935d7row60_col0\" class=\"data row60 col0\" >0</td>\n",
       "                        <td id=\"T_2d62638a_4919_11ec_ad28_02420a3935d7row60_col1\" class=\"data row60 col1\" >0</td>\n",
       "            </tr>\n",
       "            <tr>\n",
       "                        <th id=\"T_2d62638a_4919_11ec_ad28_02420a3935d7level0_row61\" class=\"row_heading level0 row61\" >rougher.state.floatbank10_e_air</th>\n",
       "                        <td id=\"T_2d62638a_4919_11ec_ad28_02420a3935d7row61_col0\" class=\"data row61 col0\" >0</td>\n",
       "                        <td id=\"T_2d62638a_4919_11ec_ad28_02420a3935d7row61_col1\" class=\"data row61 col1\" >0</td>\n",
       "            </tr>\n",
       "            <tr>\n",
       "                        <th id=\"T_2d62638a_4919_11ec_ad28_02420a3935d7level0_row62\" class=\"row_heading level0 row62\" >rougher.state.floatbank10_e_level</th>\n",
       "                        <td id=\"T_2d62638a_4919_11ec_ad28_02420a3935d7row62_col0\" class=\"data row62 col0\" >0</td>\n",
       "                        <td id=\"T_2d62638a_4919_11ec_ad28_02420a3935d7row62_col1\" class=\"data row62 col1\" >0</td>\n",
       "            </tr>\n",
       "            <tr>\n",
       "                        <th id=\"T_2d62638a_4919_11ec_ad28_02420a3935d7level0_row63\" class=\"row_heading level0 row63\" >rougher.state.floatbank10_f_air</th>\n",
       "                        <td id=\"T_2d62638a_4919_11ec_ad28_02420a3935d7row63_col0\" class=\"data row63 col0\" >0</td>\n",
       "                        <td id=\"T_2d62638a_4919_11ec_ad28_02420a3935d7row63_col1\" class=\"data row63 col1\" >0</td>\n",
       "            </tr>\n",
       "            <tr>\n",
       "                        <th id=\"T_2d62638a_4919_11ec_ad28_02420a3935d7level0_row64\" class=\"row_heading level0 row64\" >rougher.state.floatbank10_f_level</th>\n",
       "                        <td id=\"T_2d62638a_4919_11ec_ad28_02420a3935d7row64_col0\" class=\"data row64 col0\" >0</td>\n",
       "                        <td id=\"T_2d62638a_4919_11ec_ad28_02420a3935d7row64_col1\" class=\"data row64 col1\" >0</td>\n",
       "            </tr>\n",
       "            <tr>\n",
       "                        <th id=\"T_2d62638a_4919_11ec_ad28_02420a3935d7level0_row65\" class=\"row_heading level0 row65\" >secondary_cleaner.output.tail_ag</th>\n",
       "                        <td id=\"T_2d62638a_4919_11ec_ad28_02420a3935d7row65_col0\" class=\"data row65 col0\" >0</td>\n",
       "                        <td id=\"T_2d62638a_4919_11ec_ad28_02420a3935d7row65_col1\" class=\"data row65 col1\" >0</td>\n",
       "            </tr>\n",
       "            <tr>\n",
       "                        <th id=\"T_2d62638a_4919_11ec_ad28_02420a3935d7level0_row66\" class=\"row_heading level0 row66\" >secondary_cleaner.output.tail_pb</th>\n",
       "                        <td id=\"T_2d62638a_4919_11ec_ad28_02420a3935d7row66_col0\" class=\"data row66 col0\" >0</td>\n",
       "                        <td id=\"T_2d62638a_4919_11ec_ad28_02420a3935d7row66_col1\" class=\"data row66 col1\" >0</td>\n",
       "            </tr>\n",
       "            <tr>\n",
       "                        <th id=\"T_2d62638a_4919_11ec_ad28_02420a3935d7level0_row67\" class=\"row_heading level0 row67\" >secondary_cleaner.output.tail_sol</th>\n",
       "                        <td id=\"T_2d62638a_4919_11ec_ad28_02420a3935d7row67_col0\" class=\"data row67 col0\" >0</td>\n",
       "                        <td id=\"T_2d62638a_4919_11ec_ad28_02420a3935d7row67_col1\" class=\"data row67 col1\" >0</td>\n",
       "            </tr>\n",
       "            <tr>\n",
       "                        <th id=\"T_2d62638a_4919_11ec_ad28_02420a3935d7level0_row68\" class=\"row_heading level0 row68\" >secondary_cleaner.output.tail_au</th>\n",
       "                        <td id=\"T_2d62638a_4919_11ec_ad28_02420a3935d7row68_col0\" class=\"data row68 col0\" >0</td>\n",
       "                        <td id=\"T_2d62638a_4919_11ec_ad28_02420a3935d7row68_col1\" class=\"data row68 col1\" >0</td>\n",
       "            </tr>\n",
       "            <tr>\n",
       "                        <th id=\"T_2d62638a_4919_11ec_ad28_02420a3935d7level0_row69\" class=\"row_heading level0 row69\" >secondary_cleaner.state.floatbank2_a_air</th>\n",
       "                        <td id=\"T_2d62638a_4919_11ec_ad28_02420a3935d7row69_col0\" class=\"data row69 col0\" >0</td>\n",
       "                        <td id=\"T_2d62638a_4919_11ec_ad28_02420a3935d7row69_col1\" class=\"data row69 col1\" >0</td>\n",
       "            </tr>\n",
       "            <tr>\n",
       "                        <th id=\"T_2d62638a_4919_11ec_ad28_02420a3935d7level0_row70\" class=\"row_heading level0 row70\" >secondary_cleaner.state.floatbank2_a_level</th>\n",
       "                        <td id=\"T_2d62638a_4919_11ec_ad28_02420a3935d7row70_col0\" class=\"data row70 col0\" >0</td>\n",
       "                        <td id=\"T_2d62638a_4919_11ec_ad28_02420a3935d7row70_col1\" class=\"data row70 col1\" >0</td>\n",
       "            </tr>\n",
       "            <tr>\n",
       "                        <th id=\"T_2d62638a_4919_11ec_ad28_02420a3935d7level0_row71\" class=\"row_heading level0 row71\" >secondary_cleaner.state.floatbank2_b_air</th>\n",
       "                        <td id=\"T_2d62638a_4919_11ec_ad28_02420a3935d7row71_col0\" class=\"data row71 col0\" >0</td>\n",
       "                        <td id=\"T_2d62638a_4919_11ec_ad28_02420a3935d7row71_col1\" class=\"data row71 col1\" >0</td>\n",
       "            </tr>\n",
       "            <tr>\n",
       "                        <th id=\"T_2d62638a_4919_11ec_ad28_02420a3935d7level0_row72\" class=\"row_heading level0 row72\" >secondary_cleaner.state.floatbank2_b_level</th>\n",
       "                        <td id=\"T_2d62638a_4919_11ec_ad28_02420a3935d7row72_col0\" class=\"data row72 col0\" >0</td>\n",
       "                        <td id=\"T_2d62638a_4919_11ec_ad28_02420a3935d7row72_col1\" class=\"data row72 col1\" >0</td>\n",
       "            </tr>\n",
       "            <tr>\n",
       "                        <th id=\"T_2d62638a_4919_11ec_ad28_02420a3935d7level0_row73\" class=\"row_heading level0 row73\" >secondary_cleaner.state.floatbank3_a_air</th>\n",
       "                        <td id=\"T_2d62638a_4919_11ec_ad28_02420a3935d7row73_col0\" class=\"data row73 col0\" >0</td>\n",
       "                        <td id=\"T_2d62638a_4919_11ec_ad28_02420a3935d7row73_col1\" class=\"data row73 col1\" >0</td>\n",
       "            </tr>\n",
       "            <tr>\n",
       "                        <th id=\"T_2d62638a_4919_11ec_ad28_02420a3935d7level0_row74\" class=\"row_heading level0 row74\" >secondary_cleaner.state.floatbank3_a_level</th>\n",
       "                        <td id=\"T_2d62638a_4919_11ec_ad28_02420a3935d7row74_col0\" class=\"data row74 col0\" >0</td>\n",
       "                        <td id=\"T_2d62638a_4919_11ec_ad28_02420a3935d7row74_col1\" class=\"data row74 col1\" >0</td>\n",
       "            </tr>\n",
       "            <tr>\n",
       "                        <th id=\"T_2d62638a_4919_11ec_ad28_02420a3935d7level0_row75\" class=\"row_heading level0 row75\" >secondary_cleaner.state.floatbank3_b_air</th>\n",
       "                        <td id=\"T_2d62638a_4919_11ec_ad28_02420a3935d7row75_col0\" class=\"data row75 col0\" >0</td>\n",
       "                        <td id=\"T_2d62638a_4919_11ec_ad28_02420a3935d7row75_col1\" class=\"data row75 col1\" >0</td>\n",
       "            </tr>\n",
       "            <tr>\n",
       "                        <th id=\"T_2d62638a_4919_11ec_ad28_02420a3935d7level0_row76\" class=\"row_heading level0 row76\" >secondary_cleaner.state.floatbank3_b_level</th>\n",
       "                        <td id=\"T_2d62638a_4919_11ec_ad28_02420a3935d7row76_col0\" class=\"data row76 col0\" >0</td>\n",
       "                        <td id=\"T_2d62638a_4919_11ec_ad28_02420a3935d7row76_col1\" class=\"data row76 col1\" >0</td>\n",
       "            </tr>\n",
       "            <tr>\n",
       "                        <th id=\"T_2d62638a_4919_11ec_ad28_02420a3935d7level0_row77\" class=\"row_heading level0 row77\" >secondary_cleaner.state.floatbank4_a_air</th>\n",
       "                        <td id=\"T_2d62638a_4919_11ec_ad28_02420a3935d7row77_col0\" class=\"data row77 col0\" >0</td>\n",
       "                        <td id=\"T_2d62638a_4919_11ec_ad28_02420a3935d7row77_col1\" class=\"data row77 col1\" >0</td>\n",
       "            </tr>\n",
       "            <tr>\n",
       "                        <th id=\"T_2d62638a_4919_11ec_ad28_02420a3935d7level0_row78\" class=\"row_heading level0 row78\" >secondary_cleaner.state.floatbank4_a_level</th>\n",
       "                        <td id=\"T_2d62638a_4919_11ec_ad28_02420a3935d7row78_col0\" class=\"data row78 col0\" >0</td>\n",
       "                        <td id=\"T_2d62638a_4919_11ec_ad28_02420a3935d7row78_col1\" class=\"data row78 col1\" >0</td>\n",
       "            </tr>\n",
       "            <tr>\n",
       "                        <th id=\"T_2d62638a_4919_11ec_ad28_02420a3935d7level0_row79\" class=\"row_heading level0 row79\" >secondary_cleaner.state.floatbank4_b_air</th>\n",
       "                        <td id=\"T_2d62638a_4919_11ec_ad28_02420a3935d7row79_col0\" class=\"data row79 col0\" >0</td>\n",
       "                        <td id=\"T_2d62638a_4919_11ec_ad28_02420a3935d7row79_col1\" class=\"data row79 col1\" >0</td>\n",
       "            </tr>\n",
       "            <tr>\n",
       "                        <th id=\"T_2d62638a_4919_11ec_ad28_02420a3935d7level0_row80\" class=\"row_heading level0 row80\" >secondary_cleaner.state.floatbank4_b_level</th>\n",
       "                        <td id=\"T_2d62638a_4919_11ec_ad28_02420a3935d7row80_col0\" class=\"data row80 col0\" >0</td>\n",
       "                        <td id=\"T_2d62638a_4919_11ec_ad28_02420a3935d7row80_col1\" class=\"data row80 col1\" >0</td>\n",
       "            </tr>\n",
       "            <tr>\n",
       "                        <th id=\"T_2d62638a_4919_11ec_ad28_02420a3935d7level0_row81\" class=\"row_heading level0 row81\" >secondary_cleaner.state.floatbank5_a_air</th>\n",
       "                        <td id=\"T_2d62638a_4919_11ec_ad28_02420a3935d7row81_col0\" class=\"data row81 col0\" >0</td>\n",
       "                        <td id=\"T_2d62638a_4919_11ec_ad28_02420a3935d7row81_col1\" class=\"data row81 col1\" >0</td>\n",
       "            </tr>\n",
       "            <tr>\n",
       "                        <th id=\"T_2d62638a_4919_11ec_ad28_02420a3935d7level0_row82\" class=\"row_heading level0 row82\" >secondary_cleaner.state.floatbank5_a_level</th>\n",
       "                        <td id=\"T_2d62638a_4919_11ec_ad28_02420a3935d7row82_col0\" class=\"data row82 col0\" >0</td>\n",
       "                        <td id=\"T_2d62638a_4919_11ec_ad28_02420a3935d7row82_col1\" class=\"data row82 col1\" >0</td>\n",
       "            </tr>\n",
       "            <tr>\n",
       "                        <th id=\"T_2d62638a_4919_11ec_ad28_02420a3935d7level0_row83\" class=\"row_heading level0 row83\" >secondary_cleaner.state.floatbank5_b_air</th>\n",
       "                        <td id=\"T_2d62638a_4919_11ec_ad28_02420a3935d7row83_col0\" class=\"data row83 col0\" >0</td>\n",
       "                        <td id=\"T_2d62638a_4919_11ec_ad28_02420a3935d7row83_col1\" class=\"data row83 col1\" >0</td>\n",
       "            </tr>\n",
       "            <tr>\n",
       "                        <th id=\"T_2d62638a_4919_11ec_ad28_02420a3935d7level0_row84\" class=\"row_heading level0 row84\" >secondary_cleaner.state.floatbank5_b_level</th>\n",
       "                        <td id=\"T_2d62638a_4919_11ec_ad28_02420a3935d7row84_col0\" class=\"data row84 col0\" >0</td>\n",
       "                        <td id=\"T_2d62638a_4919_11ec_ad28_02420a3935d7row84_col1\" class=\"data row84 col1\" >0</td>\n",
       "            </tr>\n",
       "            <tr>\n",
       "                        <th id=\"T_2d62638a_4919_11ec_ad28_02420a3935d7level0_row85\" class=\"row_heading level0 row85\" >secondary_cleaner.state.floatbank6_a_air</th>\n",
       "                        <td id=\"T_2d62638a_4919_11ec_ad28_02420a3935d7row85_col0\" class=\"data row85 col0\" >0</td>\n",
       "                        <td id=\"T_2d62638a_4919_11ec_ad28_02420a3935d7row85_col1\" class=\"data row85 col1\" >0</td>\n",
       "            </tr>\n",
       "            <tr>\n",
       "                        <th id=\"T_2d62638a_4919_11ec_ad28_02420a3935d7level0_row86\" class=\"row_heading level0 row86\" >secondary_cleaner.state.floatbank6_a_level</th>\n",
       "                        <td id=\"T_2d62638a_4919_11ec_ad28_02420a3935d7row86_col0\" class=\"data row86 col0\" >0</td>\n",
       "                        <td id=\"T_2d62638a_4919_11ec_ad28_02420a3935d7row86_col1\" class=\"data row86 col1\" >0</td>\n",
       "            </tr>\n",
       "    </tbody></table>"
      ],
      "text/plain": [
       "<pandas.io.formats.style.Styler at 0x7f86c08cd190>"
      ]
     },
     "execution_count": 14,
     "metadata": {},
     "output_type": "execute_result"
    }
   ],
   "source": [
    "report = data_full.isna().sum().to_frame()\n",
    "report = report.rename(columns = {0: 'missing_values'})\n",
    "report['% of total'] = (report['missing_values'] / data_full.shape[0]).round(2)\n",
    "report.style.background_gradient(cmap = 'RdPu')"
   ]
  },
  {
   "cell_type": "code",
   "execution_count": 15,
   "metadata": {},
   "outputs": [
    {
     "name": "stdout",
     "output_type": "stream",
     "text": [
      "(14149, 87) 4100\n",
      "(5290, 53) 90\n"
     ]
    }
   ],
   "source": [
    "# далее заполним пропуски в тестовой и тренировочной выборках\n",
    "# для проверки\n",
    "print(data_train.shape, data_train.isna().sum().sum())\n",
    "print(data_test.shape, data_test.isna().sum().sum())"
   ]
  },
  {
   "cell_type": "code",
   "execution_count": 16,
   "metadata": {},
   "outputs": [],
   "source": [
    "# а для заполнения пропусков в тренировочной и тестовой выборке\n",
    "# просто перезапишем все нужные данные из data_full\n",
    "data_train =  data_full[data_full['date'].isin(data_train['date'])][list(data_train.columns)]\n",
    "data_test =  data_full[data_full['date'].isin(data_test['date'])][list(data_test.columns)]"
   ]
  },
  {
   "cell_type": "code",
   "execution_count": 17,
   "metadata": {},
   "outputs": [
    {
     "name": "stdout",
     "output_type": "stream",
     "text": [
      "(14149, 87) 0\n",
      "(5290, 53) 0\n"
     ]
    }
   ],
   "source": [
    "print(data_train.shape, data_train.isna().sum().sum())\n",
    "print(data_test.shape, data_test.isna().sum().sum())"
   ]
  },
  {
   "cell_type": "code",
   "execution_count": 18,
   "metadata": {},
   "outputs": [
    {
     "name": "stdout",
     "output_type": "stream",
     "text": [
      "0\n",
      "0\n",
      "0\n"
     ]
    }
   ],
   "source": [
    "# выведем количество дубликатов в таблицах\n",
    "print(data_full.duplicated().sum())\n",
    "print(data_train.duplicated().sum())\n",
    "print(data_test.duplicated().sum())"
   ]
  },
  {
   "cell_type": "markdown",
   "metadata": {},
   "source": [
    "### Вывод\n",
    "\n",
    "    В это части работы мы изучили наши данные и проверили правильность значений признака 'rougher.output.recovery'. Далее мы провели предобработку данных. Для удобства изменили тип столбца 'date' и заполнили пропуски соседними значениями."
   ]
  },
  {
   "cell_type": "markdown",
   "metadata": {},
   "source": [
    "## Анализ данных"
   ]
  },
  {
   "cell_type": "markdown",
   "metadata": {},
   "source": [
    "Мы перешли ко второй части нашего проекта\n",
    "На данном этапе нам предстоит провести анализ данных, а именно:\n",
    "*  посмотрим, как меняется концентрация металлов (Au, Ag, Pb) на различных этапах очистки\n",
    "* сравним распределения размеров гранул сырья на обучающей и тестовой выборках\n",
    "* исследуем суммарную концентрацию всех веществ на разных стадиях (в сырье, в черновом и финальном концентратах)"
   ]
  },
  {
   "cell_type": "code",
   "execution_count": 19,
   "metadata": {},
   "outputs": [],
   "source": [
    "# заранее определим стиль для наших графиков\n",
    "plt.style.use('ggplot')"
   ]
  },
  {
   "cell_type": "code",
   "execution_count": 20,
   "metadata": {},
   "outputs": [
    {
     "data": {
      "text/html": [
       "<div>\n",
       "<style scoped>\n",
       "    .dataframe tbody tr th:only-of-type {\n",
       "        vertical-align: middle;\n",
       "    }\n",
       "\n",
       "    .dataframe tbody tr th {\n",
       "        vertical-align: top;\n",
       "    }\n",
       "\n",
       "    .dataframe thead th {\n",
       "        text-align: right;\n",
       "    }\n",
       "</style>\n",
       "<table border=\"1\" class=\"dataframe\">\n",
       "  <thead>\n",
       "    <tr style=\"text-align: right;\">\n",
       "      <th></th>\n",
       "      <th>rougher.input.feed_au</th>\n",
       "      <th>rougher.output.concentrate_au</th>\n",
       "      <th>primary_cleaner.output.concentrate_au</th>\n",
       "      <th>final.output.concentrate_au</th>\n",
       "    </tr>\n",
       "  </thead>\n",
       "  <tbody>\n",
       "    <tr>\n",
       "      <td>count</td>\n",
       "      <td>19439.000000</td>\n",
       "      <td>19439.000000</td>\n",
       "      <td>19439.000000</td>\n",
       "      <td>19439.000000</td>\n",
       "    </tr>\n",
       "    <tr>\n",
       "      <td>mean</td>\n",
       "      <td>8.266097</td>\n",
       "      <td>19.772000</td>\n",
       "      <td>32.119400</td>\n",
       "      <td>44.076513</td>\n",
       "    </tr>\n",
       "    <tr>\n",
       "      <td>std</td>\n",
       "      <td>1.955092</td>\n",
       "      <td>3.753600</td>\n",
       "      <td>5.627611</td>\n",
       "      <td>5.129784</td>\n",
       "    </tr>\n",
       "    <tr>\n",
       "      <td>min</td>\n",
       "      <td>0.010000</td>\n",
       "      <td>0.000000</td>\n",
       "      <td>0.000000</td>\n",
       "      <td>0.000000</td>\n",
       "    </tr>\n",
       "    <tr>\n",
       "      <td>25%</td>\n",
       "      <td>6.854384</td>\n",
       "      <td>18.802523</td>\n",
       "      <td>30.463140</td>\n",
       "      <td>43.402215</td>\n",
       "    </tr>\n",
       "    <tr>\n",
       "      <td>50%</td>\n",
       "      <td>8.125839</td>\n",
       "      <td>20.280214</td>\n",
       "      <td>32.841295</td>\n",
       "      <td>45.011244</td>\n",
       "    </tr>\n",
       "    <tr>\n",
       "      <td>75%</td>\n",
       "      <td>9.769917</td>\n",
       "      <td>21.717843</td>\n",
       "      <td>35.048006</td>\n",
       "      <td>46.275313</td>\n",
       "    </tr>\n",
       "    <tr>\n",
       "      <td>max</td>\n",
       "      <td>13.731330</td>\n",
       "      <td>28.824507</td>\n",
       "      <td>45.933934</td>\n",
       "      <td>52.756638</td>\n",
       "    </tr>\n",
       "  </tbody>\n",
       "</table>\n",
       "</div>"
      ],
      "text/plain": [
       "       rougher.input.feed_au  rougher.output.concentrate_au  \\\n",
       "count           19439.000000                   19439.000000   \n",
       "mean                8.266097                      19.772000   \n",
       "std                 1.955092                       3.753600   \n",
       "min                 0.010000                       0.000000   \n",
       "25%                 6.854384                      18.802523   \n",
       "50%                 8.125839                      20.280214   \n",
       "75%                 9.769917                      21.717843   \n",
       "max                13.731330                      28.824507   \n",
       "\n",
       "       primary_cleaner.output.concentrate_au  final.output.concentrate_au  \n",
       "count                           19439.000000                 19439.000000  \n",
       "mean                               32.119400                    44.076513  \n",
       "std                                 5.627611                     5.129784  \n",
       "min                                 0.000000                     0.000000  \n",
       "25%                                30.463140                    43.402215  \n",
       "50%                                32.841295                    45.011244  \n",
       "75%                                35.048006                    46.275313  \n",
       "max                                45.933934                    52.756638  "
      ]
     },
     "execution_count": 20,
     "metadata": {},
     "output_type": "execute_result"
    }
   ],
   "source": [
    "# посмотрим на значения конценрации золота на разных этапах\n",
    "data_full[\n",
    "    ['rougher.input.feed_au',\n",
    "     'rougher.output.concentrate_au',\n",
    "     'primary_cleaner.output.concentrate_au',\n",
    "     'final.output.concentrate_au']\n",
    "].describe()"
   ]
  },
  {
   "cell_type": "code",
   "execution_count": 21,
   "metadata": {},
   "outputs": [
    {
     "data": {
      "image/png": "[encoded data removed]",
      "text/plain": [
       "<Figure size 936x504 with 1 Axes>"
      ]
     },
     "metadata": {},
     "output_type": "display_data"
    }
   ],
   "source": [
    "# построим график\n",
    "plt.figure(figsize=(13,7))\n",
    "\n",
    "sns.kdeplot(data_full['rougher.input.feed_au'], label = 'до флотации')\n",
    "sns.kdeplot(data_full['rougher.output.concentrate_au'], label = 'после флотации')\n",
    "sns.kdeplot(data_full['primary_cleaner.output.concentrate_au'], label = 'после первичной очистки')\n",
    "sns.kdeplot(data_full['final.output.concentrate_au'], label = 'финальное значение')\n",
    "\n",
    "plt.title('Распределение концентрации золота на различных этапах очистки')\n",
    "plt.ylabel('Плотность')\n",
    "plt.xlabel('Концентрация металла');"
   ]
  },
  {
   "cell_type": "markdown",
   "metadata": {},
   "source": [
    "* В данной ситуации все логично. После каждой обработки концентрация в концентрате растет. Значит, что, скорее всего, мы делаем все правильно. Хвосты с низкой концентрацией ценных металлов отбрасываем, а золото оставляем."
   ]
  },
  {
   "cell_type": "code",
   "execution_count": 22,
   "metadata": {},
   "outputs": [
    {
     "data": {
      "text/html": [
       "<div>\n",
       "<style scoped>\n",
       "    .dataframe tbody tr th:only-of-type {\n",
       "        vertical-align: middle;\n",
       "    }\n",
       "\n",
       "    .dataframe tbody tr th {\n",
       "        vertical-align: top;\n",
       "    }\n",
       "\n",
       "    .dataframe thead th {\n",
       "        text-align: right;\n",
       "    }\n",
       "</style>\n",
       "<table border=\"1\" class=\"dataframe\">\n",
       "  <thead>\n",
       "    <tr style=\"text-align: right;\">\n",
       "      <th></th>\n",
       "      <th>rougher.input.feed_ag</th>\n",
       "      <th>rougher.output.concentrate_ag</th>\n",
       "      <th>primary_cleaner.output.concentrate_ag</th>\n",
       "      <th>final.output.concentrate_ag</th>\n",
       "    </tr>\n",
       "  </thead>\n",
       "  <tbody>\n",
       "    <tr>\n",
       "      <td>count</td>\n",
       "      <td>19439.000000</td>\n",
       "      <td>19439.000000</td>\n",
       "      <td>19439.000000</td>\n",
       "      <td>19439.000000</td>\n",
       "    </tr>\n",
       "    <tr>\n",
       "      <td>mean</td>\n",
       "      <td>8.794927</td>\n",
       "      <td>11.994759</td>\n",
       "      <td>8.442408</td>\n",
       "      <td>5.168387</td>\n",
       "    </tr>\n",
       "    <tr>\n",
       "      <td>std</td>\n",
       "      <td>1.936847</td>\n",
       "      <td>2.733862</td>\n",
       "      <td>2.054465</td>\n",
       "      <td>1.372362</td>\n",
       "    </tr>\n",
       "    <tr>\n",
       "      <td>min</td>\n",
       "      <td>0.010000</td>\n",
       "      <td>0.000000</td>\n",
       "      <td>0.000000</td>\n",
       "      <td>0.000000</td>\n",
       "    </tr>\n",
       "    <tr>\n",
       "      <td>25%</td>\n",
       "      <td>7.237967</td>\n",
       "      <td>10.628337</td>\n",
       "      <td>7.263288</td>\n",
       "      <td>4.251000</td>\n",
       "    </tr>\n",
       "    <tr>\n",
       "      <td>50%</td>\n",
       "      <td>8.593574</td>\n",
       "      <td>12.098115</td>\n",
       "      <td>8.507298</td>\n",
       "      <td>5.066039</td>\n",
       "    </tr>\n",
       "    <tr>\n",
       "      <td>75%</td>\n",
       "      <td>10.213771</td>\n",
       "      <td>13.736996</td>\n",
       "      <td>9.809001</td>\n",
       "      <td>5.895401</td>\n",
       "    </tr>\n",
       "    <tr>\n",
       "      <td>max</td>\n",
       "      <td>14.596026</td>\n",
       "      <td>24.480271</td>\n",
       "      <td>16.081632</td>\n",
       "      <td>16.001945</td>\n",
       "    </tr>\n",
       "  </tbody>\n",
       "</table>\n",
       "</div>"
      ],
      "text/plain": [
       "       rougher.input.feed_ag  rougher.output.concentrate_ag  \\\n",
       "count           19439.000000                   19439.000000   \n",
       "mean                8.794927                      11.994759   \n",
       "std                 1.936847                       2.733862   \n",
       "min                 0.010000                       0.000000   \n",
       "25%                 7.237967                      10.628337   \n",
       "50%                 8.593574                      12.098115   \n",
       "75%                10.213771                      13.736996   \n",
       "max                14.596026                      24.480271   \n",
       "\n",
       "       primary_cleaner.output.concentrate_ag  final.output.concentrate_ag  \n",
       "count                           19439.000000                 19439.000000  \n",
       "mean                                8.442408                     5.168387  \n",
       "std                                 2.054465                     1.372362  \n",
       "min                                 0.000000                     0.000000  \n",
       "25%                                 7.263288                     4.251000  \n",
       "50%                                 8.507298                     5.066039  \n",
       "75%                                 9.809001                     5.895401  \n",
       "max                                16.081632                    16.001945  "
      ]
     },
     "execution_count": 22,
     "metadata": {},
     "output_type": "execute_result"
    }
   ],
   "source": [
    "# посмотрим на значения конценрации серебра на разных этапах\n",
    "data_full[\n",
    "    ['rougher.input.feed_ag',\n",
    "     'rougher.output.concentrate_ag',\n",
    "     'primary_cleaner.output.concentrate_ag',\n",
    "     'final.output.concentrate_ag']\n",
    "].describe()"
   ]
  },
  {
   "cell_type": "code",
   "execution_count": 23,
   "metadata": {},
   "outputs": [
    {
     "data": {
      "image/png": "[encoded data removed]",
      "text/plain": [
       "<Figure size 1008x504 with 1 Axes>"
      ]
     },
     "metadata": {},
     "output_type": "display_data"
    }
   ],
   "source": [
    "# построим график\n",
    "plt.figure(figsize=(14,7))\n",
    "\n",
    "sns.kdeplot(data_full['rougher.input.feed_ag'], label = 'до флотации')\n",
    "sns.kdeplot(data_full['rougher.output.concentrate_ag'], label = 'после флотации')\n",
    "sns.kdeplot(data_full['primary_cleaner.output.concentrate_ag'], label = 'после первичной очистки')\n",
    "sns.kdeplot(data_full['final.output.concentrate_ag'], label = 'финальное значение')\n",
    "\n",
    "plt.title('Распределение концентрации серебра на различных этапах очистки')\n",
    "plt.ylabel('Плотность')\n",
    "plt.xlabel('Концентрация металла');"
   ]
  },
  {
   "cell_type": "markdown",
   "metadata": {},
   "source": [
    "* В случае с серебром картина не выглядит так гладко. После флотации концентрация металла в концентрате увеличивается. Но с последующими очистками концентрация падает. Оценивать этот факт я не могу, так что просто констатирую факт. (Возможно так все и должно быть)"
   ]
  },
  {
   "cell_type": "code",
   "execution_count": 24,
   "metadata": {},
   "outputs": [
    {
     "data": {
      "text/html": [
       "<div>\n",
       "<style scoped>\n",
       "    .dataframe tbody tr th:only-of-type {\n",
       "        vertical-align: middle;\n",
       "    }\n",
       "\n",
       "    .dataframe tbody tr th {\n",
       "        vertical-align: top;\n",
       "    }\n",
       "\n",
       "    .dataframe thead th {\n",
       "        text-align: right;\n",
       "    }\n",
       "</style>\n",
       "<table border=\"1\" class=\"dataframe\">\n",
       "  <thead>\n",
       "    <tr style=\"text-align: right;\">\n",
       "      <th></th>\n",
       "      <th>rougher.input.feed_pb</th>\n",
       "      <th>rougher.output.concentrate_pb</th>\n",
       "      <th>primary_cleaner.output.concentrate_pb</th>\n",
       "      <th>final.output.concentrate_pb</th>\n",
       "    </tr>\n",
       "  </thead>\n",
       "  <tbody>\n",
       "    <tr>\n",
       "      <td>count</td>\n",
       "      <td>19439.000000</td>\n",
       "      <td>19439.000000</td>\n",
       "      <td>19439.000000</td>\n",
       "      <td>19439.000000</td>\n",
       "    </tr>\n",
       "    <tr>\n",
       "      <td>mean</td>\n",
       "      <td>3.585096</td>\n",
       "      <td>7.606272</td>\n",
       "      <td>9.810317</td>\n",
       "      <td>9.978821</td>\n",
       "    </tr>\n",
       "    <tr>\n",
       "      <td>std</td>\n",
       "      <td>1.062972</td>\n",
       "      <td>1.796757</td>\n",
       "      <td>2.572253</td>\n",
       "      <td>1.669228</td>\n",
       "    </tr>\n",
       "    <tr>\n",
       "      <td>min</td>\n",
       "      <td>0.010000</td>\n",
       "      <td>0.000000</td>\n",
       "      <td>0.000000</td>\n",
       "      <td>0.000000</td>\n",
       "    </tr>\n",
       "    <tr>\n",
       "      <td>25%</td>\n",
       "      <td>2.872178</td>\n",
       "      <td>6.725987</td>\n",
       "      <td>8.676500</td>\n",
       "      <td>9.137225</td>\n",
       "    </tr>\n",
       "    <tr>\n",
       "      <td>50%</td>\n",
       "      <td>3.528235</td>\n",
       "      <td>7.742580</td>\n",
       "      <td>10.142270</td>\n",
       "      <td>10.102264</td>\n",
       "    </tr>\n",
       "    <tr>\n",
       "      <td>75%</td>\n",
       "      <td>4.241005</td>\n",
       "      <td>8.565199</td>\n",
       "      <td>11.416298</td>\n",
       "      <td>11.035644</td>\n",
       "    </tr>\n",
       "    <tr>\n",
       "      <td>max</td>\n",
       "      <td>7.142594</td>\n",
       "      <td>13.617072</td>\n",
       "      <td>17.081278</td>\n",
       "      <td>17.031899</td>\n",
       "    </tr>\n",
       "  </tbody>\n",
       "</table>\n",
       "</div>"
      ],
      "text/plain": [
       "       rougher.input.feed_pb  rougher.output.concentrate_pb  \\\n",
       "count           19439.000000                   19439.000000   \n",
       "mean                3.585096                       7.606272   \n",
       "std                 1.062972                       1.796757   \n",
       "min                 0.010000                       0.000000   \n",
       "25%                 2.872178                       6.725987   \n",
       "50%                 3.528235                       7.742580   \n",
       "75%                 4.241005                       8.565199   \n",
       "max                 7.142594                      13.617072   \n",
       "\n",
       "       primary_cleaner.output.concentrate_pb  final.output.concentrate_pb  \n",
       "count                           19439.000000                 19439.000000  \n",
       "mean                                9.810317                     9.978821  \n",
       "std                                 2.572253                     1.669228  \n",
       "min                                 0.000000                     0.000000  \n",
       "25%                                 8.676500                     9.137225  \n",
       "50%                                10.142270                    10.102264  \n",
       "75%                                11.416298                    11.035644  \n",
       "max                                17.081278                    17.031899  "
      ]
     },
     "execution_count": 24,
     "metadata": {},
     "output_type": "execute_result"
    }
   ],
   "source": [
    "# посмотрим на значения конценрации свинца на разных этапах\n",
    "data_full[\n",
    "    ['rougher.input.feed_pb',\n",
    "     'rougher.output.concentrate_pb',\n",
    "     'primary_cleaner.output.concentrate_pb',\n",
    "     'final.output.concentrate_pb']\n",
    "].describe()"
   ]
  },
  {
   "cell_type": "code",
   "execution_count": 25,
   "metadata": {},
   "outputs": [
    {
     "data": {
      "image/png": "[encoded data removed]",
      "text/plain": [
       "<Figure size 1008x504 with 1 Axes>"
      ]
     },
     "metadata": {},
     "output_type": "display_data"
    }
   ],
   "source": [
    "# построим график\n",
    "plt.figure(figsize=(14,7))\n",
    "\n",
    "sns.kdeplot(data_full['rougher.input.feed_pb'], label = 'до флотации')\n",
    "sns.kdeplot(data_full['rougher.output.concentrate_pb'], label = 'после флотации')\n",
    "sns.kdeplot(data_full['primary_cleaner.output.concentrate_pb'], label = 'после первичной очистки')\n",
    "sns.kdeplot(data_full['final.output.concentrate_pb'], label = 'финальное значение')\n",
    "\n",
    "plt.title('Распределение концентрации свинца на различных этапах очистки')\n",
    "plt.ylabel('Плотность')\n",
    "plt.xlabel('Концентрация металла');"
   ]
  },
  {
   "cell_type": "markdown",
   "metadata": {},
   "source": [
    "* У свинца так же, как и у золота концентрация растет после каждой очистки, если не считать последнюю. Концентрация после второй очистки в среднем не растет. Возможно, на это тоже надо обратить внимание."
   ]
  },
  {
   "cell_type": "markdown",
   "metadata": {},
   "source": [
    "Далее сравним распределения размеров гранул сырья на обучающей и тестовой выборках. Для этого построим график."
   ]
  },
  {
   "cell_type": "code",
   "execution_count": 26,
   "metadata": {},
   "outputs": [
    {
     "data": {
      "text/plain": [
       "count    14149.000000\n",
       "mean         7.322310\n",
       "std          0.614062\n",
       "min          1.080000\n",
       "25%          6.960000\n",
       "50%          7.290000\n",
       "75%          7.700000\n",
       "max         10.470000\n",
       "Name: primary_cleaner.input.feed_size, dtype: float64"
      ]
     },
     "execution_count": 26,
     "metadata": {},
     "output_type": "execute_result"
    }
   ],
   "source": [
    "# посмотрим на значения размеров гранул сырья на обучающей и тестовой выборках\n",
    "data_train['primary_cleaner.input.feed_size'].describe()"
   ]
  },
  {
   "cell_type": "code",
   "execution_count": 27,
   "metadata": {},
   "outputs": [
    {
     "data": {
      "text/plain": [
       "count    5290.000000\n",
       "mean        7.266339\n",
       "std         0.610219\n",
       "min         5.650000\n",
       "25%         6.890000\n",
       "50%         7.250000\n",
       "75%         7.600000\n",
       "max        15.500000\n",
       "Name: primary_cleaner.input.feed_size, dtype: float64"
      ]
     },
     "execution_count": 27,
     "metadata": {},
     "output_type": "execute_result"
    }
   ],
   "source": [
    "data_test['primary_cleaner.input.feed_size'].describe()"
   ]
  },
  {
   "cell_type": "code",
   "execution_count": 28,
   "metadata": {},
   "outputs": [
    {
     "data": {
      "image/png": "[encoded data removed]",
      "text/plain": [
       "<Figure size 1008x504 with 1 Axes>"
      ]
     },
     "metadata": {},
     "output_type": "display_data"
    }
   ],
   "source": [
    "# построим график\n",
    "plt.figure(figsize=(14,7))\n",
    "\n",
    "sns.kdeplot(data_train['primary_cleaner.input.feed_size'], label = 'обучающая выьорка')\n",
    "sns.kdeplot(data_test['primary_cleaner.input.feed_size'], label = 'тестовая выборка')\n",
    "\n",
    "plt.title('Распределение размера гранул сырья')\n",
    "plt.ylabel('Плотность')\n",
    "plt.xlabel('Размер гранул');"
   ]
  },
  {
   "cell_type": "markdown",
   "metadata": {},
   "source": [
    "В распределениях сильные различия не наблюдаются. Значит это не сможет повлиять на плохую работу модели."
   ]
  },
  {
   "cell_type": "markdown",
   "metadata": {},
   "source": [
    "Последний шажок перед созданием модели. Исследуем суммарную концентрацию всех веществ на разных стадиях: в сырье, в черновом и финальном концентратах."
   ]
  },
  {
   "cell_type": "code",
   "execution_count": 29,
   "metadata": {},
   "outputs": [],
   "source": [
    "# для этого создаем столбцы со значением концентрации всех веществ на разных стадиях\n",
    "\n",
    "data_full['rougher.input.feed_sum'] = data_full['rougher.input.feed_pb'] + data_full['rougher.input.feed_au'] + data_full['rougher.input.feed_ag']\n",
    "data_full['rougher.output.concentrate_sum'] = data_full['rougher.output.concentrate_pb'] + data_full['rougher.output.concentrate_au'] + data_full['rougher.output.concentrate_ag']\n",
    "data_full['primary_cleaner.output.concentrate_sum'] = data_full['primary_cleaner.output.concentrate_pb'] + data_full['primary_cleaner.output.concentrate_au'] + data_full['primary_cleaner.output.concentrate_ag']\n",
    "data_full['final.output.concentrate_sum'] = data_full['final.output.concentrate_pb'] + data_full['final.output.concentrate_au'] + data_full['final.output.concentrate_ag']"
   ]
  },
  {
   "cell_type": "code",
   "execution_count": 30,
   "metadata": {},
   "outputs": [
    {
     "data": {
      "text/html": [
       "<div>\n",
       "<style scoped>\n",
       "    .dataframe tbody tr th:only-of-type {\n",
       "        vertical-align: middle;\n",
       "    }\n",
       "\n",
       "    .dataframe tbody tr th {\n",
       "        vertical-align: top;\n",
       "    }\n",
       "\n",
       "    .dataframe thead th {\n",
       "        text-align: right;\n",
       "    }\n",
       "</style>\n",
       "<table border=\"1\" class=\"dataframe\">\n",
       "  <thead>\n",
       "    <tr style=\"text-align: right;\">\n",
       "      <th></th>\n",
       "      <th>rougher.input.feed_sum</th>\n",
       "      <th>rougher.output.concentrate_sum</th>\n",
       "      <th>primary_cleaner.output.concentrate_sum</th>\n",
       "      <th>final.output.concentrate_sum</th>\n",
       "    </tr>\n",
       "  </thead>\n",
       "  <tbody>\n",
       "    <tr>\n",
       "      <td>count</td>\n",
       "      <td>19439.000000</td>\n",
       "      <td>19439.000000</td>\n",
       "      <td>19439.000000</td>\n",
       "      <td>19439.000000</td>\n",
       "    </tr>\n",
       "    <tr>\n",
       "      <td>mean</td>\n",
       "      <td>20.646120</td>\n",
       "      <td>39.373032</td>\n",
       "      <td>50.372125</td>\n",
       "      <td>59.223721</td>\n",
       "    </tr>\n",
       "    <tr>\n",
       "      <td>std</td>\n",
       "      <td>4.480027</td>\n",
       "      <td>6.863389</td>\n",
       "      <td>7.628095</td>\n",
       "      <td>6.095138</td>\n",
       "    </tr>\n",
       "    <tr>\n",
       "      <td>min</td>\n",
       "      <td>0.030000</td>\n",
       "      <td>0.000000</td>\n",
       "      <td>0.000000</td>\n",
       "      <td>0.000000</td>\n",
       "    </tr>\n",
       "    <tr>\n",
       "      <td>25%</td>\n",
       "      <td>17.252879</td>\n",
       "      <td>38.394639</td>\n",
       "      <td>50.053899</td>\n",
       "      <td>59.298323</td>\n",
       "    </tr>\n",
       "    <tr>\n",
       "      <td>50%</td>\n",
       "      <td>20.141216</td>\n",
       "      <td>40.312648</td>\n",
       "      <td>51.909156</td>\n",
       "      <td>60.306921</td>\n",
       "    </tr>\n",
       "    <tr>\n",
       "      <td>75%</td>\n",
       "      <td>23.797381</td>\n",
       "      <td>42.365102</td>\n",
       "      <td>53.386898</td>\n",
       "      <td>61.096667</td>\n",
       "    </tr>\n",
       "    <tr>\n",
       "      <td>max</td>\n",
       "      <td>33.498784</td>\n",
       "      <td>55.568687</td>\n",
       "      <td>60.269003</td>\n",
       "      <td>64.968881</td>\n",
       "    </tr>\n",
       "  </tbody>\n",
       "</table>\n",
       "</div>"
      ],
      "text/plain": [
       "       rougher.input.feed_sum  rougher.output.concentrate_sum  \\\n",
       "count            19439.000000                    19439.000000   \n",
       "mean                20.646120                       39.373032   \n",
       "std                  4.480027                        6.863389   \n",
       "min                  0.030000                        0.000000   \n",
       "25%                 17.252879                       38.394639   \n",
       "50%                 20.141216                       40.312648   \n",
       "75%                 23.797381                       42.365102   \n",
       "max                 33.498784                       55.568687   \n",
       "\n",
       "       primary_cleaner.output.concentrate_sum  final.output.concentrate_sum  \n",
       "count                            19439.000000                  19439.000000  \n",
       "mean                                50.372125                     59.223721  \n",
       "std                                  7.628095                      6.095138  \n",
       "min                                  0.000000                      0.000000  \n",
       "25%                                 50.053899                     59.298323  \n",
       "50%                                 51.909156                     60.306921  \n",
       "75%                                 53.386898                     61.096667  \n",
       "max                                 60.269003                     64.968881  "
      ]
     },
     "execution_count": 30,
     "metadata": {},
     "output_type": "execute_result"
    }
   ],
   "source": [
    "data_full[['rougher.input.feed_sum',\n",
    "           'rougher.output.concentrate_sum',\n",
    "           'primary_cleaner.output.concentrate_sum',\n",
    "           'final.output.concentrate_sum']\n",
    "         ].describe()"
   ]
  },
  {
   "cell_type": "code",
   "execution_count": 31,
   "metadata": {},
   "outputs": [
    {
     "data": {
      "image/png": "[encoded data removed]",
      "text/plain": [
       "<Figure size 1008x504 with 1 Axes>"
      ]
     },
     "metadata": {},
     "output_type": "display_data"
    }
   ],
   "source": [
    "# построим график\n",
    "plt.figure(figsize=(14,7))\n",
    "\n",
    "sns.kdeplot(data_full['rougher.input.feed_sum'], label = 'до флотации')\n",
    "sns.kdeplot(data_full['rougher.output.concentrate_sum'], label = 'после флотации')\n",
    "sns.kdeplot(data_full['primary_cleaner.output.concentrate_sum'], label = 'после первичной очистки')\n",
    "sns.kdeplot(data_full['final.output.concentrate_sum'], label = 'финальное значение')\n",
    "\n",
    "plt.title('Распределение концентрации всех веществ на различных этапах очистки')\n",
    "plt.ylabel('Плотность')\n",
    "plt.xlabel('Концентрация веществ');"
   ]
  },
  {
   "cell_type": "markdown",
   "metadata": {},
   "source": [
    "Мы получили красивое и логичное распределение, после каждой очистки, концентрация веществ увеличивается.\n",
    "Так же выведем распределение значений суммарной концентрации ценных металлов в концентрате."
   ]
  },
  {
   "cell_type": "code",
   "execution_count": 32,
   "metadata": {},
   "outputs": [
    {
     "data": {
      "text/plain": [
       "Text(0, 0.5, 'Концентрация')"
      ]
     },
     "execution_count": 32,
     "metadata": {},
     "output_type": "execute_result"
    },
    {
     "data": {
      "image/png": "[encoded data removed]",
      "text/plain": [
       "<Figure size 1008x504 with 1 Axes>"
      ]
     },
     "metadata": {},
     "output_type": "display_data"
    }
   ],
   "source": [
    "plt.figure(figsize=(14,7))\n",
    "ax = sns.boxplot(data=data_full[['rougher.input.feed_sum', \n",
    "                            'rougher.output.concentrate_sum', \n",
    "                            'primary_cleaner.output.concentrate_sum', \n",
    "                            'final.output.concentrate_sum'  ]])\n",
    "ax.set_title('Распределение значений концентрации всех веществ на различных этапах очистки')\n",
    "ax.set_ylabel('Концентрация')"
   ]
  },
  {
   "cell_type": "markdown",
   "metadata": {},
   "source": [
    "На каждом этапе наблюдаются выбросы. Больше наблюдаются выбросы в меньшую сторону. Скорее всего это говорит о том, что в нашу установку изначально подаются смесь с слишком маленькой концентрацией драгоценных металлов."
   ]
  },
  {
   "cell_type": "markdown",
   "metadata": {},
   "source": [
    "### Вывод\n",
    "\n",
    "    На этом этапе работы проделали анализ данных. Посмотрели, как меняется концентрация каждого металла и их сумма на каждом этапе очистки. Заметили странную закономерность с серебром, что после первичной и вторичной очистки его концентрация черновом концентрате уменьшается. Удостоверились, что размер гранул сырья в обучающей и тестовой выборке, в среднем, почти не отличаются, в противном случае это могло способствовать плохой работе модели. "
   ]
  },
  {
   "cell_type": "markdown",
   "metadata": {},
   "source": [
    "## Модель"
   ]
  },
  {
   "cell_type": "markdown",
   "metadata": {},
   "source": [
    "На данном (заключительном) этапе проекта нам предстоит смоделировать процесс восстановления золота из золотосодержащей руды. Для этого нам необходимо построить две модели, которые будут предсказывать эффективность обогащения после флотации (черновой концентрат) и для финального концентрата. \n",
    "Для начала напишем функцию, которая будет рассчитывать метрику sMAPE, которая будет проверять процентное отклонение ответов алгоритма от истинных значений."
   ]
  },
  {
   "cell_type": "code",
   "execution_count": 33,
   "metadata": {},
   "outputs": [],
   "source": [
    "# функция расчета sMAPE\n",
    "# не уверен, что она работает корректно, но вроде сделал все по формуле\n",
    "\n",
    "def smape_scorer(target, predictions):\n",
    "    \n",
    "    predictions = pd.DataFrame(predictions, columns=['predictions'])\n",
    "    target = target.to_frame()\n",
    "    target_name = target.columns[0]\n",
    "    summ = 0\n",
    "    \n",
    "    summ = (((target[target_name] - predictions['predictions']).abs()) / ((target[target_name].abs() + predictions['predictions'].abs()) / 2)).sum()\n",
    "    smape = summ * 100 / len(target)\n",
    "    \n",
    "    return(smape)"
   ]
  },
  {
   "cell_type": "markdown",
   "metadata": {},
   "source": [
    "Функцию для расчета метрики точность рассчитали. Далее подготовим признаки для модели. Так как у нас две модели, то и целевых признака у нас два ('final.output.recovery',  'rougher.output.recovery'). Признаки у них будут тоже различаться. Для 'rougher.output.recovery' выберем параметры сырья и  параметры, характеризующие текущее состояние этапа, которые подаются перед флотацией. \n",
    "А для 'final.output.recovery' параметры сырья и  параметры, характеризующие текущее состояние этапа, каждого этапа."
   ]
  },
  {
   "cell_type": "code",
   "execution_count": 34,
   "metadata": {},
   "outputs": [],
   "source": [
    "# признаки для обучения первой модели\n",
    "col_name_for_first = [\n",
    "    'rougher.input.feed_ag',\n",
    "    'rougher.input.feed_pb',\n",
    "    'rougher.input.feed_rate',\n",
    "    'rougher.input.feed_size',\n",
    "    'rougher.input.feed_sol',\n",
    "    'rougher.input.feed_au',\n",
    "    'rougher.input.floatbank10_sulfate',\n",
    "    'rougher.input.floatbank10_xanthate',\n",
    "    'rougher.input.floatbank11_sulfate',\n",
    "    'rougher.input.floatbank11_xanthate',\n",
    "    'rougher.state.floatbank10_a_air',\n",
    "    'rougher.state.floatbank10_a_level',\n",
    "    'rougher.state.floatbank10_b_air',\n",
    "    'rougher.state.floatbank10_b_level',\n",
    "    'rougher.state.floatbank10_c_air',\n",
    "    'rougher.state.floatbank10_c_level',\n",
    "    'rougher.state.floatbank10_d_air',\n",
    "    'rougher.state.floatbank10_d_level',\n",
    "    'rougher.state.floatbank10_e_air',\n",
    "    'rougher.state.floatbank10_e_level',\n",
    "    'rougher.state.floatbank10_f_air',\n",
    "    'rougher.state.floatbank10_f_level'\n",
    "]"
   ]
  },
  {
   "cell_type": "code",
   "execution_count": 35,
   "metadata": {},
   "outputs": [],
   "source": [
    "# разделим целевой и общий признак\n",
    "features_train_1 = data_train[col_name_for_first]\n",
    "features_train_2 = data_train[list(data_test.columns)].drop(['date'], axis=1)\n",
    "features_test_1 = data_test[col_name_for_first]\n",
    "features_test_2 = data_test[list(data_test.columns)].drop(['date'], axis=1)\n",
    "\n",
    "target_train_1 = data_train['rougher.output.recovery']\n",
    "target_train_2 = data_train['final.output.recovery']\n",
    "target_test_1 = data_full[data_full['date'].isin(data_test['date'])]['rougher.output.recovery']\n",
    "target_test_2 = data_full[data_full['date'].isin(data_test['date'])]['final.output.recovery']"
   ]
  },
  {
   "cell_type": "code",
   "execution_count": 36,
   "metadata": {},
   "outputs": [
    {
     "name": "stdout",
     "output_type": "stream",
     "text": [
      "(14149, 22) (14149, 52) (14149,) (14149,)\n",
      "(5290, 22) (5290, 52) (5290,) (5290,)\n"
     ]
    }
   ],
   "source": [
    "# проверим размер выборок\n",
    "\n",
    "print(features_train_1.shape, features_train_2.shape, target_train_1.shape, target_train_2.shape)\n",
    "print(features_test_1.shape, features_test_2.shape, target_test_1.shape, target_test_2.shape)"
   ]
  },
  {
   "cell_type": "markdown",
   "metadata": {},
   "source": [
    "Далее, с помощью GridSearchCV, будем подбирать лучшие гиперпараметры для каждой модели. За метрику качества возьмем, уже написанную, функцию smape_scorer. \n",
    "\n",
    "Для начала рассмотрим признак 'rougher.output.recovery'"
   ]
  },
  {
   "cell_type": "code",
   "execution_count": 37,
   "metadata": {},
   "outputs": [],
   "source": [
    "# преобразуем нашу функцию, чтобы использовать её при оценке модели\n",
    "my_scorer = make_scorer(smape_scorer, greater_is_better=False)"
   ]
  },
  {
   "cell_type": "markdown",
   "metadata": {},
   "source": [
    "Теперь подберем лучшие гиперпараметры для случайного леса и рассчитаем среднюю оценку smape_scorer."
   ]
  },
  {
   "cell_type": "code",
   "execution_count": 38,
   "metadata": {},
   "outputs": [],
   "source": [
    "RFR_parametrs = { 'n_estimators': range(5, 41, 5),\n",
    "              'max_depth': range (1,16, 2)}"
   ]
  },
  {
   "cell_type": "code",
   "execution_count": 39,
   "metadata": {},
   "outputs": [],
   "source": [
    "RFR_grid_1 = GridSearchCV(RandomForestRegressor(random_state=300500), param_grid=RFR_parametrs, scoring=my_scorer, cv=4)"
   ]
  },
  {
   "cell_type": "code",
   "execution_count": 40,
   "metadata": {},
   "outputs": [
    {
     "name": "stderr",
     "output_type": "stream",
     "text": [
      "/opt/conda/lib/python3.7/site-packages/sklearn/model_selection/_search.py:813: DeprecationWarning: The default of the `iid` parameter will change from True to False in version 0.22 and will be removed in 0.24. This will change numeric results when test-set sizes are unequal.\n",
      "  DeprecationWarning)\n"
     ]
    },
    {
     "data": {
      "text/plain": [
       "GridSearchCV(cv=4, error_score='raise-deprecating',\n",
       "             estimator=RandomForestRegressor(bootstrap=True, criterion='mse',\n",
       "                                             max_depth=None,\n",
       "                                             max_features='auto',\n",
       "                                             max_leaf_nodes=None,\n",
       "                                             min_impurity_decrease=0.0,\n",
       "                                             min_impurity_split=None,\n",
       "                                             min_samples_leaf=1,\n",
       "                                             min_samples_split=2,\n",
       "                                             min_weight_fraction_leaf=0.0,\n",
       "                                             n_estimators='warn', n_jobs=None,\n",
       "                                             oob_score=False,\n",
       "                                             random_state=300500, verbose=0,\n",
       "                                             warm_start=False),\n",
       "             iid='warn', n_jobs=None,\n",
       "             param_grid={'max_depth': range(1, 16, 2),\n",
       "                         'n_estimators': range(5, 41, 5)},\n",
       "             pre_dispatch='2*n_jobs', refit=True, return_train_score=False,\n",
       "             scoring=make_scorer(smape_scorer, greater_is_better=False),\n",
       "             verbose=0)"
      ]
     },
     "execution_count": 40,
     "metadata": {},
     "output_type": "execute_result"
    }
   ],
   "source": [
    "RFR_grid_1.fit(features_train_1, target_train_1)"
   ]
  },
  {
   "cell_type": "code",
   "execution_count": 41,
   "metadata": {},
   "outputs": [
    {
     "name": "stdout",
     "output_type": "stream",
     "text": [
      "RandomForestRegressor\n",
      "Лучше всего себя проявила модель c гиперпараметрами: {'max_depth': 1, 'n_estimators': 5}\n",
      "Средняя оценка smape_scorer = 2.7914792422104875\n"
     ]
    }
   ],
   "source": [
    "print('RandomForestRegressor')\n",
    "print(f'Лучше всего себя проявила модель c гиперпараметрами:', RFR_grid_1.best_params_)\n",
    "print(f'Средняя оценка smape_scorer = {RFR_grid_1.best_score_ * -1}')\n",
    "# умножаем на -1 так как при создании метрики мы указали 'greater_is_better=False', а сделали мы это для того, чтобы gridsearch \n",
    "# искал самое маленькое значение smape_scorer"
   ]
  },
  {
   "cell_type": "markdown",
   "metadata": {},
   "source": [
    "Лучшее значение метрики, которое удалось достичь, используя RandomForestRegressor, равна 2.8. Далее проверим какое значение smape_scorer можно получить используя модель DecisionTreeRegressor."
   ]
  },
  {
   "cell_type": "code",
   "execution_count": 42,
   "metadata": {},
   "outputs": [],
   "source": [
    "parametrs_DTR = {'max_depth': range (1,30, 2)}"
   ]
  },
  {
   "cell_type": "code",
   "execution_count": 43,
   "metadata": {},
   "outputs": [],
   "source": [
    "grid_DTR_1 = GridSearchCV(DecisionTreeRegressor(random_state=300500), param_grid=parametrs_DTR, scoring=my_scorer, cv=4)"
   ]
  },
  {
   "cell_type": "code",
   "execution_count": 55,
   "metadata": {},
   "outputs": [
    {
     "data": {
      "text/plain": [
       "GridSearchCV(cv=4, error_score='raise-deprecating',\n",
       "             estimator=DecisionTreeRegressor(criterion='mse', max_depth=None,\n",
       "                                             max_features=None,\n",
       "                                             max_leaf_nodes=None,\n",
       "                                             min_impurity_decrease=0.0,\n",
       "                                             min_impurity_split=None,\n",
       "                                             min_samples_leaf=1,\n",
       "                                             min_samples_split=2,\n",
       "                                             min_weight_fraction_leaf=0.0,\n",
       "                                             presort=False, random_state=300500,\n",
       "                                             splitter='best'),\n",
       "             iid='warn', n_jobs=None, param_grid={'max_depth': range(1, 30, 2)},\n",
       "             pre_dispatch='2*n_jobs', refit=True, return_train_score=False,\n",
       "             scoring=make_scorer(smape_scorer, greater_is_better=False),\n",
       "             verbose=0)"
      ]
     },
     "execution_count": 55,
     "metadata": {},
     "output_type": "execute_result"
    }
   ],
   "source": [
    "grid_DTR_1.fit(features_train_1, target_train_1)"
   ]
  },
  {
   "cell_type": "code",
   "execution_count": 45,
   "metadata": {},
   "outputs": [
    {
     "name": "stdout",
     "output_type": "stream",
     "text": [
      "DecisionTreeRegressor\n",
      "Лучше всего себя проявила модель c гиперпараметрами: {'max_depth': 1}\n",
      "Средняя оценка smape_scorer = 2.790596440648402\n"
     ]
    }
   ],
   "source": [
    "print('DecisionTreeRegressor')\n",
    "print(f'Лучше всего себя проявила модель c гиперпараметрами:', grid_DTR_1.best_params_)\n",
    "print(f'Средняя оценка smape_scorer = {grid_DTR_1.best_score_ * -1}')"
   ]
  },
  {
   "cell_type": "markdown",
   "metadata": {},
   "source": [
    "Данная модель показала себя лучше. Для предсказания 'rougher.output.recovery' используем модель DecisionTreeRegressor() с 'max_depth' равным 1.\n",
    "\n",
    "Далее подберем модель для признака 'final.output.recovery'."
   ]
  },
  {
   "cell_type": "code",
   "execution_count": 46,
   "metadata": {},
   "outputs": [],
   "source": [
    "RFR_grid_2 = GridSearchCV(RandomForestRegressor(random_state=300500), param_grid=RFR_parametrs, scoring=my_scorer, cv=4)"
   ]
  },
  {
   "cell_type": "code",
   "execution_count": 47,
   "metadata": {},
   "outputs": [
    {
     "name": "stderr",
     "output_type": "stream",
     "text": [
      "/opt/conda/lib/python3.7/site-packages/sklearn/model_selection/_search.py:813: DeprecationWarning: The default of the `iid` parameter will change from True to False in version 0.22 and will be removed in 0.24. This will change numeric results when test-set sizes are unequal.\n",
      "  DeprecationWarning)\n"
     ]
    },
    {
     "data": {
      "text/plain": [
       "GridSearchCV(cv=4, error_score='raise-deprecating',\n",
       "             estimator=RandomForestRegressor(bootstrap=True, criterion='mse',\n",
       "                                             max_depth=None,\n",
       "                                             max_features='auto',\n",
       "                                             max_leaf_nodes=None,\n",
       "                                             min_impurity_decrease=0.0,\n",
       "                                             min_impurity_split=None,\n",
       "                                             min_samples_leaf=1,\n",
       "                                             min_samples_split=2,\n",
       "                                             min_weight_fraction_leaf=0.0,\n",
       "                                             n_estimators='warn', n_jobs=None,\n",
       "                                             oob_score=False,\n",
       "                                             random_state=300500, verbose=0,\n",
       "                                             warm_start=False),\n",
       "             iid='warn', n_jobs=None,\n",
       "             param_grid={'max_depth': range(1, 16, 2),\n",
       "                         'n_estimators': range(5, 41, 5)},\n",
       "             pre_dispatch='2*n_jobs', refit=True, return_train_score=False,\n",
       "             scoring=make_scorer(smape_scorer, greater_is_better=False),\n",
       "             verbose=0)"
      ]
     },
     "execution_count": 47,
     "metadata": {},
     "output_type": "execute_result"
    }
   ],
   "source": [
    "RFR_grid_2.fit(features_train_2, target_train_2)"
   ]
  },
  {
   "cell_type": "code",
   "execution_count": 48,
   "metadata": {},
   "outputs": [
    {
     "name": "stdout",
     "output_type": "stream",
     "text": [
      "RandomForestRegressor\n",
      "Лучше всего себя проявила модель c гиперпараметрами: {'max_depth': 1, 'n_estimators': 5}\n",
      "Средняя оценка smape_scorer = 2.5604134711137334\n"
     ]
    }
   ],
   "source": [
    "print('RandomForestRegressor')\n",
    "print(f'Лучше всего себя проявила модель c гиперпараметрами:', RFR_grid_2.best_params_)\n",
    "print(f'Средняя оценка smape_scorer = {RFR_grid_2.best_score_ * -1}')"
   ]
  },
  {
   "cell_type": "markdown",
   "metadata": {},
   "source": [
    "Лучшее значение метрики, которое удалось достичь, используя RandomForestRegressor, равна 2.56. Далее проверим какое значение smape_scorer можно достичь, используя DecisionTreeRegressor."
   ]
  },
  {
   "cell_type": "code",
   "execution_count": 49,
   "metadata": {},
   "outputs": [],
   "source": [
    "grid_DTR_2 = GridSearchCV(DecisionTreeRegressor(random_state=300500), param_grid=parametrs_DTR, scoring=my_scorer, cv=4)"
   ]
  },
  {
   "cell_type": "code",
   "execution_count": 50,
   "metadata": {},
   "outputs": [
    {
     "name": "stderr",
     "output_type": "stream",
     "text": [
      "/opt/conda/lib/python3.7/site-packages/sklearn/model_selection/_search.py:813: DeprecationWarning: The default of the `iid` parameter will change from True to False in version 0.22 and will be removed in 0.24. This will change numeric results when test-set sizes are unequal.\n",
      "  DeprecationWarning)\n"
     ]
    },
    {
     "data": {
      "text/plain": [
       "GridSearchCV(cv=4, error_score='raise-deprecating',\n",
       "             estimator=DecisionTreeRegressor(criterion='mse', max_depth=None,\n",
       "                                             max_features=None,\n",
       "                                             max_leaf_nodes=None,\n",
       "                                             min_impurity_decrease=0.0,\n",
       "                                             min_impurity_split=None,\n",
       "                                             min_samples_leaf=1,\n",
       "                                             min_samples_split=2,\n",
       "                                             min_weight_fraction_leaf=0.0,\n",
       "                                             presort=False, random_state=300500,\n",
       "                                             splitter='best'),\n",
       "             iid='warn', n_jobs=None, param_grid={'max_depth': range(1, 30, 2)},\n",
       "             pre_dispatch='2*n_jobs', refit=True, return_train_score=False,\n",
       "             scoring=make_scorer(smape_scorer, greater_is_better=False),\n",
       "             verbose=0)"
      ]
     },
     "execution_count": 50,
     "metadata": {},
     "output_type": "execute_result"
    }
   ],
   "source": [
    "grid_DTR_2.fit(features_train_2, target_train_2)"
   ]
  },
  {
   "cell_type": "code",
   "execution_count": 51,
   "metadata": {},
   "outputs": [
    {
     "name": "stdout",
     "output_type": "stream",
     "text": [
      "DecisionTreeRegressor\n",
      "Лучше всего себя проявила модель c гиперпараметрами: {'max_depth': 1}\n",
      "Средняя оценка smape_scorer = 2.6357205562475285\n"
     ]
    }
   ],
   "source": [
    "print('DecisionTreeRegressor')\n",
    "print(f'Лучше всего себя проявила модель c гиперпараметрами:', grid_DTR_2.best_params_)\n",
    "print(f'Средняя оценка smape_scorer = {grid_DTR_2.best_score_ * -1}')"
   ]
  },
  {
   "cell_type": "markdown",
   "metadata": {},
   "source": [
    "Данная модель показала себя хуже, так что для определения признака 'final.output.recovery' будем использовать модель RandomForestRegressor с 'max_depth' = 1 и 'n_estimators' = 5.\n",
    "\n",
    "Параметры для моделей выбраны, теперь проверим их на тестовой выборке."
   ]
  },
  {
   "cell_type": "code",
   "execution_count": 52,
   "metadata": {},
   "outputs": [
    {
     "name": "stdout",
     "output_type": "stream",
     "text": [
      "Итоговое sMAPE наших моделей = 1.6853374308321598\n"
     ]
    }
   ],
   "source": [
    "# обчим наши модели и получим предсказания\n",
    "model_1 = DecisionTreeRegressor(random_state=300500, max_depth=1).fit(features_train_1, target_train_1)\n",
    "model_2 = RandomForestRegressor(\n",
    "    random_state=300500, max_depth=1, n_estimators=5).fit(features_train_2, target_train_2)\n",
    "\n",
    "predicted_test_1 = model_1.predict(features_test_1)\n",
    "predicted_test_2 = model_2.predict(features_test_2)\n",
    "\n",
    "#рассчитаем значение метрики sMAPE для каждой модели\n",
    "smape_score_1 = smape_scorer(target_test_1, predicted_test_1)\n",
    "smape_score_2 = smape_scorer(target_test_2, predicted_test_2)\n",
    "\n",
    "# рассчитаем финальное значение метрики sMAPE\n",
    "final_smape_score = 0.25*smape_score_1 + 0.75*smape_score_2\n",
    "print(f'Итоговое sMAPE наших моделей = {final_smape_score}')"
   ]
  },
  {
   "cell_type": "markdown",
   "metadata": {},
   "source": [
    "Значение метрики мы получили, но это ещё не все. Проверим наши модели на вменяемость. Построим две случайные модели, которые предсказывать средними значениями и посчитаем для них Итоговое значение sMAPE."
   ]
  },
  {
   "cell_type": "code",
   "execution_count": 53,
   "metadata": {},
   "outputs": [
    {
     "name": "stdout",
     "output_type": "stream",
     "text": [
      "Итоговое sMAPE случайной модели = 3.1994233830913883\n"
     ]
    }
   ],
   "source": [
    "dummy_model_1 = DummyRegressor(strategy='mean').fit(features_train_1, target_train_1)\n",
    "dummy_model_2 = DummyRegressor(strategy='mean').fit(features_train_2, target_train_2)\n",
    "\n",
    "dummy_predicted_1 = dummy_model_1.predict(features_test_1)\n",
    "dummy_predicted_2 = dummy_model_1.predict(features_test_1)\n",
    "\n",
    "dummy_smape_1 = smape_scorer(target_test_1, dummy_predicted_1)\n",
    "dummy_smape_2 = smape_scorer(target_test_2, dummy_predicted_2)\n",
    "\n",
    "dummy_final_smape = 0.25*dummy_smape_1 + 0.75*dummy_smape_2\n",
    "print(f'Итоговое sMAPE случайной модели = {dummy_final_smape}')"
   ]
  },
  {
   "cell_type": "markdown",
   "metadata": {},
   "source": [
    "### Вывод\n",
    "\n",
    "    На данном, заключительном, этапе работы мы обучили разные модели и оценили их метрикой качества sMAPE кросс-валидацией. Для первого признака лучшей моделью оказалась модель DecisionTreeRegressor() с 'max_depth' равным 1. Для второго признака модель RandomForestRegressor с 'max_depth' = 1 и 'n_estimators' = 5. \n",
    "    Проверили наши модели на тестовой выборке, итоговое значение метрики sMAPE равно 1.7. В то время как итоговое значение метрики sMAPE Dummy модели равно 3.2, что говорит нам о том, что наши модели предсказывают не впустую.\n"
   ]
  },
  {
   "cell_type": "markdown",
   "metadata": {},
   "source": [
    "## Вывод\n",
    "\n",
    "        В данной работе мы построили две модели, которые прогнозировали значения: эффективность обогащения чернового концентрата 'rougher.output.recovery' и эффективность обогащения финального концентрата 'final.output.recovery'. Мы провели предобработку и анализ данных. Затем, при помощи кросс-валидации, подобрали модели, которые на выдавали лучшее значение метрики качества sMAPE. Лучшие модели проверили на тестовой выборке и сравнили их с моделью заполнения средними. Наши модели выдали итоговое значение sMAPE равное 1.7, в то время как случайная модель выдала итоговое sMAPE 3.2. Из этого мы можем сделать вывод, что наша модель прошла проверку на вменяемость."
   ]
  }
 ],
 "metadata": {
  "ExecuteTimeLog": [
   {
    "duration": 730,
    "start_time": "2021-11-12T15:42:56.497Z"
   },
   {
    "duration": 342,
    "start_time": "2021-11-12T15:43:31.548Z"
   },
   {
    "duration": 998,
    "start_time": "2021-11-12T15:44:32.151Z"
   },
   {
    "duration": 1210,
    "start_time": "2021-11-12T15:44:40.450Z"
   },
   {
    "duration": 49,
    "start_time": "2021-11-12T15:45:29.322Z"
   },
   {
    "duration": 31,
    "start_time": "2021-11-12T15:45:33.855Z"
   },
   {
    "duration": 37,
    "start_time": "2021-11-12T15:45:50.350Z"
   },
   {
    "duration": 12,
    "start_time": "2021-11-12T15:59:49.626Z"
   },
   {
    "duration": 27,
    "start_time": "2021-11-12T16:00:07.617Z"
   },
   {
    "duration": 38,
    "start_time": "2021-11-12T16:38:05.988Z"
   },
   {
    "duration": 30,
    "start_time": "2021-11-12T16:46:45.428Z"
   },
   {
    "duration": 17,
    "start_time": "2021-11-12T16:46:55.281Z"
   },
   {
    "duration": 7,
    "start_time": "2021-11-12T16:47:36.493Z"
   },
   {
    "duration": 4,
    "start_time": "2021-11-12T16:58:41.547Z"
   },
   {
    "duration": 376,
    "start_time": "2021-11-12T16:58:43.623Z"
   },
   {
    "duration": 382,
    "start_time": "2021-11-12T16:59:27.232Z"
   },
   {
    "duration": 4,
    "start_time": "2021-11-12T16:59:31.674Z"
   },
   {
    "duration": 4,
    "start_time": "2021-11-12T16:59:32.033Z"
   },
   {
    "duration": 754,
    "start_time": "2021-11-12T16:59:32.405Z"
   },
   {
    "duration": 157,
    "start_time": "2021-11-12T17:01:11.871Z"
   },
   {
    "duration": 4,
    "start_time": "2021-11-12T17:03:15.938Z"
   },
   {
    "duration": 360,
    "start_time": "2021-11-12T17:03:31.976Z"
   },
   {
    "duration": 4969,
    "start_time": "2021-11-12T17:03:41.187Z"
   },
   {
    "duration": 3,
    "start_time": "2021-11-12T17:07:59.912Z"
   },
   {
    "duration": 5107,
    "start_time": "2021-11-12T17:08:19.585Z"
   },
   {
    "duration": 4,
    "start_time": "2021-11-12T17:09:05.725Z"
   },
   {
    "duration": 4,
    "start_time": "2021-11-12T17:09:06.290Z"
   },
   {
    "duration": 5274,
    "start_time": "2021-11-12T17:09:06.907Z"
   },
   {
    "duration": 6,
    "start_time": "2021-11-12T17:10:08.528Z"
   },
   {
    "duration": 6,
    "start_time": "2021-11-12T17:10:26.840Z"
   },
   {
    "duration": 4,
    "start_time": "2021-11-12T17:10:48.515Z"
   },
   {
    "duration": 5,
    "start_time": "2021-11-12T17:10:49.045Z"
   },
   {
    "duration": 4948,
    "start_time": "2021-11-12T17:10:49.553Z"
   },
   {
    "duration": 385,
    "start_time": "2021-11-12T17:11:10.712Z"
   },
   {
    "duration": 379,
    "start_time": "2021-11-12T17:13:25.746Z"
   },
   {
    "duration": 9,
    "start_time": "2021-11-12T17:13:45.660Z"
   },
   {
    "duration": 393,
    "start_time": "2021-11-12T17:13:50.242Z"
   },
   {
    "duration": 19,
    "start_time": "2021-11-12T17:13:56.429Z"
   },
   {
    "duration": 15,
    "start_time": "2021-11-12T17:14:49.728Z"
   },
   {
    "duration": 58,
    "start_time": "2021-11-12T17:14:56.842Z"
   },
   {
    "duration": 362,
    "start_time": "2021-11-12T17:15:07.785Z"
   },
   {
    "duration": 361,
    "start_time": "2021-11-12T17:15:18.603Z"
   },
   {
    "duration": 359,
    "start_time": "2021-11-12T17:15:39.429Z"
   },
   {
    "duration": 6,
    "start_time": "2021-11-12T17:15:41.397Z"
   },
   {
    "duration": 411,
    "start_time": "2021-11-12T17:16:00.523Z"
   },
   {
    "duration": 464,
    "start_time": "2021-11-12T17:16:07.630Z"
   },
   {
    "duration": 44,
    "start_time": "2021-11-12T17:16:23.624Z"
   },
   {
    "duration": 370,
    "start_time": "2021-11-12T17:16:34.517Z"
   },
   {
    "duration": 10,
    "start_time": "2021-11-12T17:16:43.988Z"
   },
   {
    "duration": 340,
    "start_time": "2021-11-12T17:16:48.486Z"
   },
   {
    "duration": 453,
    "start_time": "2021-11-12T17:17:19.594Z"
   },
   {
    "duration": 4,
    "start_time": "2021-11-12T17:18:37.923Z"
   },
   {
    "duration": 127,
    "start_time": "2021-11-12T17:18:49.122Z"
   },
   {
    "duration": 361,
    "start_time": "2021-11-12T17:18:52.871Z"
   },
   {
    "duration": 4984,
    "start_time": "2021-11-12T17:19:44.462Z"
   },
   {
    "duration": 1235,
    "start_time": "2021-11-12T17:20:33.813Z"
   },
   {
    "duration": 5,
    "start_time": "2021-11-12T17:21:02.399Z"
   },
   {
    "duration": 807,
    "start_time": "2021-11-12T17:21:07.211Z"
   },
   {
    "duration": 360,
    "start_time": "2021-11-12T17:21:44.264Z"
   },
   {
    "duration": 390,
    "start_time": "2021-11-12T17:21:59.965Z"
   },
   {
    "duration": 358,
    "start_time": "2021-11-12T17:22:17.591Z"
   },
   {
    "duration": 22,
    "start_time": "2021-11-12T17:22:40.008Z"
   },
   {
    "duration": 10,
    "start_time": "2021-11-12T17:22:57.830Z"
   },
   {
    "duration": 372,
    "start_time": "2021-11-12T17:24:37.854Z"
   },
   {
    "duration": 11,
    "start_time": "2021-11-12T17:24:44.521Z"
   },
   {
    "duration": 15,
    "start_time": "2021-11-12T17:24:49.353Z"
   },
   {
    "duration": 127,
    "start_time": "2021-11-12T17:25:02.318Z"
   },
   {
    "duration": 4,
    "start_time": "2021-11-12T17:25:06.694Z"
   },
   {
    "duration": 818,
    "start_time": "2021-11-12T17:25:07.276Z"
   },
   {
    "duration": 27,
    "start_time": "2021-11-12T17:25:12.871Z"
   },
   {
    "duration": 6585,
    "start_time": "2021-11-12T17:25:49.776Z"
   },
   {
    "duration": 4,
    "start_time": "2021-11-12T17:26:07.603Z"
   },
   {
    "duration": 564,
    "start_time": "2021-11-12T17:26:12.980Z"
   },
   {
    "duration": 7,
    "start_time": "2021-11-12T17:26:23.364Z"
   },
   {
    "duration": 28,
    "start_time": "2021-11-12T17:26:50.974Z"
   },
   {
    "duration": 1424,
    "start_time": "2021-11-12T17:27:13.711Z"
   },
   {
    "duration": 6,
    "start_time": "2021-11-12T17:27:32.063Z"
   },
   {
    "duration": 500,
    "start_time": "2021-11-12T17:27:35.763Z"
   },
   {
    "duration": 10,
    "start_time": "2021-11-12T17:27:36.405Z"
   },
   {
    "duration": 849,
    "start_time": "2021-11-12T17:27:59.551Z"
   },
   {
    "duration": 5,
    "start_time": "2021-11-12T17:28:19.447Z"
   },
   {
    "duration": 620,
    "start_time": "2021-11-12T17:28:19.839Z"
   },
   {
    "duration": 6,
    "start_time": "2021-11-12T17:28:20.462Z"
   },
   {
    "duration": 15,
    "start_time": "2021-11-12T17:29:26.062Z"
   },
   {
    "duration": 370,
    "start_time": "2021-11-12T17:29:43.589Z"
   },
   {
    "duration": 13,
    "start_time": "2021-11-12T17:29:47.726Z"
   },
   {
    "duration": 27,
    "start_time": "2021-11-12T17:30:00.929Z"
   },
   {
    "duration": 750,
    "start_time": "2021-11-12T18:00:09.988Z"
   },
   {
    "duration": 6,
    "start_time": "2021-11-12T18:04:38.249Z"
   },
   {
    "duration": 400,
    "start_time": "2021-11-12T18:04:40.463Z"
   },
   {
    "duration": 374,
    "start_time": "2021-11-12T18:04:59.742Z"
   },
   {
    "duration": 4,
    "start_time": "2021-11-12T18:05:02.885Z"
   },
   {
    "duration": 5,
    "start_time": "2021-11-12T18:05:10.652Z"
   },
   {
    "duration": 5,
    "start_time": "2021-11-12T18:05:21.975Z"
   },
   {
    "duration": 5,
    "start_time": "2021-11-12T18:05:50.536Z"
   },
   {
    "duration": 4,
    "start_time": "2021-11-12T18:05:58.026Z"
   },
   {
    "duration": 627,
    "start_time": "2021-11-12T18:08:46.372Z"
   },
   {
    "duration": 8,
    "start_time": "2021-11-12T18:08:51.902Z"
   },
   {
    "duration": 137,
    "start_time": "2021-11-12T18:09:25.272Z"
   },
   {
    "duration": 126,
    "start_time": "2021-11-12T18:09:59.574Z"
   },
   {
    "duration": 113,
    "start_time": "2021-11-12T18:10:08.103Z"
   },
   {
    "duration": 118,
    "start_time": "2021-11-12T18:10:13.180Z"
   },
   {
    "duration": 4,
    "start_time": "2021-11-12T18:10:41.599Z"
   },
   {
    "duration": 118,
    "start_time": "2021-11-12T18:10:45.810Z"
   },
   {
    "duration": 126,
    "start_time": "2021-11-12T18:10:48.141Z"
   },
   {
    "duration": 119,
    "start_time": "2021-11-12T18:10:51.092Z"
   },
   {
    "duration": 129,
    "start_time": "2021-11-12T18:10:56.459Z"
   },
   {
    "duration": 6,
    "start_time": "2021-11-12T18:10:59.872Z"
   },
   {
    "duration": 129,
    "start_time": "2021-11-12T18:11:07.914Z"
   },
   {
    "duration": 7,
    "start_time": "2021-11-12T18:11:11.654Z"
   },
   {
    "duration": 6,
    "start_time": "2021-11-12T18:12:51.770Z"
   },
   {
    "duration": 6,
    "start_time": "2021-11-12T18:12:58.409Z"
   },
   {
    "duration": 385,
    "start_time": "2021-11-12T18:13:37.177Z"
   },
   {
    "duration": 6,
    "start_time": "2021-11-12T18:13:47.685Z"
   },
   {
    "duration": 6,
    "start_time": "2021-11-12T18:13:51.389Z"
   },
   {
    "duration": 8,
    "start_time": "2021-11-12T18:15:02.141Z"
   },
   {
    "duration": 5,
    "start_time": "2021-11-12T18:15:23.170Z"
   },
   {
    "duration": 890,
    "start_time": "2021-11-12T18:15:23.581Z"
   },
   {
    "duration": 16,
    "start_time": "2021-11-12T18:15:24.473Z"
   },
   {
    "duration": 14,
    "start_time": "2021-11-12T18:15:24.492Z"
   },
   {
    "duration": 24,
    "start_time": "2021-11-12T18:15:24.712Z"
   },
   {
    "duration": 6,
    "start_time": "2021-11-12T18:15:24.923Z"
   },
   {
    "duration": 4,
    "start_time": "2021-11-12T18:15:25.113Z"
   },
   {
    "duration": 612,
    "start_time": "2021-11-12T18:15:25.298Z"
   },
   {
    "duration": 6,
    "start_time": "2021-11-12T18:15:25.913Z"
   },
   {
    "duration": 7,
    "start_time": "2021-11-12T18:15:25.922Z"
   },
   {
    "duration": 34,
    "start_time": "2021-11-12T18:15:25.932Z"
   },
   {
    "duration": 7,
    "start_time": "2021-11-12T18:17:48.586Z"
   },
   {
    "duration": 9,
    "start_time": "2021-11-12T18:29:33.543Z"
   },
   {
    "duration": 625,
    "start_time": "2021-11-12T18:31:24.102Z"
   },
   {
    "duration": 125,
    "start_time": "2021-11-12T18:47:34.778Z"
   },
   {
    "duration": 30,
    "start_time": "2021-11-12T18:48:09.537Z"
   },
   {
    "duration": 7,
    "start_time": "2021-11-12T18:48:18.037Z"
   },
   {
    "duration": 20,
    "start_time": "2021-11-12T18:55:53.850Z"
   },
   {
    "duration": 16,
    "start_time": "2021-11-12T18:55:59.434Z"
   },
   {
    "duration": 13,
    "start_time": "2021-11-12T18:56:04.543Z"
   },
   {
    "duration": 13,
    "start_time": "2021-11-12T18:56:04.872Z"
   },
   {
    "duration": 25,
    "start_time": "2021-11-12T18:56:05.191Z"
   },
   {
    "duration": 10,
    "start_time": "2021-11-12T18:56:27.072Z"
   },
   {
    "duration": 8,
    "start_time": "2021-11-12T18:56:32.077Z"
   },
   {
    "duration": 777,
    "start_time": "2021-11-12T18:57:46.876Z"
   },
   {
    "duration": 756,
    "start_time": "2021-11-12T19:02:59.650Z"
   },
   {
    "duration": 361,
    "start_time": "2021-11-12T19:03:05.153Z"
   },
   {
    "duration": 359,
    "start_time": "2021-11-12T19:03:19.772Z"
   },
   {
    "duration": 154,
    "start_time": "2021-11-12T19:04:12.762Z"
   },
   {
    "duration": 6,
    "start_time": "2021-11-12T19:04:20.249Z"
   },
   {
    "duration": 111,
    "start_time": "2021-11-12T19:04:55.100Z"
   },
   {
    "duration": 7,
    "start_time": "2021-11-12T19:06:44.486Z"
   },
   {
    "duration": 8,
    "start_time": "2021-11-12T19:06:58.339Z"
   },
   {
    "duration": 48,
    "start_time": "2021-11-12T19:09:29.925Z"
   },
   {
    "duration": 7,
    "start_time": "2021-11-12T19:09:46.623Z"
   },
   {
    "duration": 53,
    "start_time": "2021-11-12T19:10:53.286Z"
   },
   {
    "duration": 109,
    "start_time": "2021-11-12T19:11:08.127Z"
   },
   {
    "duration": 29,
    "start_time": "2021-11-12T19:11:35.345Z"
   },
   {
    "duration": 101,
    "start_time": "2021-11-12T19:11:35.796Z"
   },
   {
    "duration": 10,
    "start_time": "2021-11-12T19:12:26.889Z"
   },
   {
    "duration": 114,
    "start_time": "2021-11-12T19:12:49.347Z"
   },
   {
    "duration": 64,
    "start_time": "2021-11-12T19:13:15.615Z"
   },
   {
    "duration": 109,
    "start_time": "2021-11-12T19:13:16.400Z"
   },
   {
    "duration": 354,
    "start_time": "2021-11-12T19:13:57.560Z"
   },
   {
    "duration": 1388,
    "start_time": "2021-11-12T19:14:29.463Z"
   },
   {
    "duration": 872,
    "start_time": "2021-11-12T19:14:30.858Z"
   },
   {
    "duration": 16,
    "start_time": "2021-11-12T19:14:31.733Z"
   },
   {
    "duration": 12,
    "start_time": "2021-11-12T19:14:31.760Z"
   },
   {
    "duration": 24,
    "start_time": "2021-11-12T19:14:31.774Z"
   },
   {
    "duration": 4,
    "start_time": "2021-11-12T19:14:31.801Z"
   },
   {
    "duration": 6,
    "start_time": "2021-11-12T19:14:31.808Z"
   },
   {
    "duration": 791,
    "start_time": "2021-11-12T19:14:31.817Z"
   },
   {
    "duration": 9,
    "start_time": "2021-11-12T19:14:32.611Z"
   },
   {
    "duration": 42,
    "start_time": "2021-11-12T19:14:32.623Z"
   },
   {
    "duration": 759,
    "start_time": "2021-11-12T19:14:32.667Z"
   },
   {
    "duration": 95,
    "start_time": "2021-11-12T19:14:33.428Z"
   },
   {
    "duration": 117,
    "start_time": "2021-11-12T19:14:33.525Z"
   },
   {
    "duration": 369,
    "start_time": "2021-11-12T19:14:33.644Z"
   },
   {
    "duration": 82,
    "start_time": "2021-11-12T19:33:32.147Z"
   },
   {
    "duration": 279,
    "start_time": "2021-11-12T19:34:03.394Z"
   },
   {
    "duration": 9,
    "start_time": "2021-11-12T19:34:26.985Z"
   },
   {
    "duration": 298,
    "start_time": "2021-11-12T19:34:42.549Z"
   },
   {
    "duration": 8,
    "start_time": "2021-11-12T19:34:51.887Z"
   },
   {
    "duration": 14,
    "start_time": "2021-11-12T19:35:20.684Z"
   },
   {
    "duration": 508,
    "start_time": "2021-11-12T19:36:50.897Z"
   },
   {
    "duration": 399,
    "start_time": "2021-11-12T19:36:55.878Z"
   },
   {
    "duration": 413,
    "start_time": "2021-11-12T19:37:03.813Z"
   },
   {
    "duration": 356,
    "start_time": "2021-11-12T19:37:43.747Z"
   },
   {
    "duration": 351,
    "start_time": "2021-11-12T19:37:46.257Z"
   },
   {
    "duration": 430,
    "start_time": "2021-11-12T19:37:49.986Z"
   },
   {
    "duration": 366,
    "start_time": "2021-11-12T19:40:53.730Z"
   },
   {
    "duration": 208,
    "start_time": "2021-11-12T19:41:07.104Z"
   },
   {
    "duration": 304,
    "start_time": "2021-11-12T19:41:13.908Z"
   },
   {
    "duration": 197,
    "start_time": "2021-11-12T19:41:20.239Z"
   },
   {
    "duration": 234,
    "start_time": "2021-11-12T19:41:45.383Z"
   },
   {
    "duration": 3,
    "start_time": "2021-11-12T19:43:24.681Z"
   },
   {
    "duration": 260,
    "start_time": "2021-11-12T19:43:27.054Z"
   },
   {
    "duration": 430,
    "start_time": "2021-11-12T19:43:55.372Z"
   },
   {
    "duration": 192,
    "start_time": "2021-11-12T19:44:33.912Z"
   },
   {
    "duration": 285,
    "start_time": "2021-11-12T19:44:48.961Z"
   },
   {
    "duration": 273,
    "start_time": "2021-11-12T19:45:04.179Z"
   },
   {
    "duration": 301,
    "start_time": "2021-11-12T19:45:08.761Z"
   },
   {
    "duration": 370,
    "start_time": "2021-11-12T19:46:52.661Z"
   },
   {
    "duration": 25,
    "start_time": "2021-11-12T19:47:24.175Z"
   },
   {
    "duration": 349,
    "start_time": "2021-11-12T19:47:39.154Z"
   },
   {
    "duration": 217,
    "start_time": "2021-11-12T19:48:54.406Z"
   },
   {
    "duration": 204,
    "start_time": "2021-11-12T19:48:57.202Z"
   },
   {
    "duration": 196,
    "start_time": "2021-11-12T19:48:59.884Z"
   },
   {
    "duration": 364,
    "start_time": "2021-11-12T19:49:02.969Z"
   },
   {
    "duration": 298,
    "start_time": "2021-11-12T19:49:46.483Z"
   },
   {
    "duration": 224,
    "start_time": "2021-11-12T19:49:52.864Z"
   },
   {
    "duration": 220,
    "start_time": "2021-11-12T19:49:58.778Z"
   },
   {
    "duration": 287,
    "start_time": "2021-11-12T19:51:28.430Z"
   },
   {
    "duration": 309,
    "start_time": "2021-11-12T19:51:47.011Z"
   },
   {
    "duration": 9005,
    "start_time": "2021-11-12T19:52:25.409Z"
   },
   {
    "duration": 24,
    "start_time": "2021-11-12T19:52:41.276Z"
   },
   {
    "duration": 306,
    "start_time": "2021-11-12T19:53:29.720Z"
   },
   {
    "duration": 299,
    "start_time": "2021-11-12T19:53:36.914Z"
   },
   {
    "duration": 639,
    "start_time": "2021-11-12T19:53:53.763Z"
   },
   {
    "duration": 304,
    "start_time": "2021-11-12T19:54:18.917Z"
   },
   {
    "duration": 326,
    "start_time": "2021-11-12T19:54:31.664Z"
   },
   {
    "duration": 308,
    "start_time": "2021-11-12T19:54:39.780Z"
   },
   {
    "duration": 302,
    "start_time": "2021-11-12T19:54:48.583Z"
   },
   {
    "duration": 659,
    "start_time": "2021-11-12T19:55:10.853Z"
   },
   {
    "duration": 325,
    "start_time": "2021-11-12T19:55:18.615Z"
   },
   {
    "duration": 419,
    "start_time": "2021-11-12T19:55:26.845Z"
   },
   {
    "duration": 286,
    "start_time": "2021-11-12T19:55:30.749Z"
   },
   {
    "duration": 270,
    "start_time": "2021-11-12T19:56:29.548Z"
   },
   {
    "duration": 480,
    "start_time": "2021-11-12T19:56:48.512Z"
   },
   {
    "duration": 467,
    "start_time": "2021-11-12T19:56:54.962Z"
   },
   {
    "duration": 4,
    "start_time": "2021-11-12T19:57:42.322Z"
   },
   {
    "duration": 422,
    "start_time": "2021-11-12T19:57:51.094Z"
   },
   {
    "duration": 465,
    "start_time": "2021-11-12T19:58:06.951Z"
   },
   {
    "duration": 435,
    "start_time": "2021-11-12T19:58:17.028Z"
   },
   {
    "duration": 361,
    "start_time": "2021-11-12T19:58:25.418Z"
   },
   {
    "duration": 148,
    "start_time": "2021-11-12T19:58:36.811Z"
   },
   {
    "duration": 130,
    "start_time": "2021-11-12T19:58:54.862Z"
   },
   {
    "duration": 132,
    "start_time": "2021-11-12T19:59:00.050Z"
   },
   {
    "duration": 416,
    "start_time": "2021-11-12T19:59:04.049Z"
   },
   {
    "duration": 370,
    "start_time": "2021-11-12T19:59:21.251Z"
   },
   {
    "duration": 388,
    "start_time": "2021-11-12T19:59:28.839Z"
   },
   {
    "duration": 981,
    "start_time": "2021-11-12T19:59:34.348Z"
   },
   {
    "duration": 460,
    "start_time": "2021-11-12T20:00:13.925Z"
   },
   {
    "duration": 420,
    "start_time": "2021-11-12T20:00:34.769Z"
   },
   {
    "duration": 480,
    "start_time": "2021-11-12T20:00:58.436Z"
   },
   {
    "duration": 575,
    "start_time": "2021-11-12T20:02:17.843Z"
   },
   {
    "duration": 460,
    "start_time": "2021-11-12T20:02:31.789Z"
   },
   {
    "duration": 478,
    "start_time": "2021-11-12T20:03:53.711Z"
   },
   {
    "duration": 467,
    "start_time": "2021-11-12T20:04:03.607Z"
   },
   {
    "duration": 474,
    "start_time": "2021-11-12T20:04:38.332Z"
   },
   {
    "duration": 487,
    "start_time": "2021-11-12T20:04:43.209Z"
   },
   {
    "duration": 599,
    "start_time": "2021-11-12T20:04:48.860Z"
   },
   {
    "duration": 1248,
    "start_time": "2021-11-12T20:05:08.156Z"
   },
   {
    "duration": 499,
    "start_time": "2021-11-12T20:09:30.500Z"
   },
   {
    "duration": 838,
    "start_time": "2021-11-12T20:09:36.716Z"
   },
   {
    "duration": 481,
    "start_time": "2021-11-12T20:09:42.782Z"
   },
   {
    "duration": 772,
    "start_time": "2021-11-12T20:09:49.425Z"
   },
   {
    "duration": 515,
    "start_time": "2021-11-12T20:10:01.202Z"
   },
   {
    "duration": 665,
    "start_time": "2021-11-12T20:10:25.342Z"
   },
   {
    "duration": 588,
    "start_time": "2021-11-12T20:10:27.931Z"
   },
   {
    "duration": 560,
    "start_time": "2021-11-12T20:10:35.493Z"
   },
   {
    "duration": 730,
    "start_time": "2021-11-12T20:10:41.648Z"
   },
   {
    "duration": 601,
    "start_time": "2021-11-12T20:17:11.165Z"
   },
   {
    "duration": 564,
    "start_time": "2021-11-12T20:17:18.003Z"
   },
   {
    "duration": 613,
    "start_time": "2021-11-12T20:18:42.991Z"
   },
   {
    "duration": 592,
    "start_time": "2021-11-12T20:20:09.535Z"
   },
   {
    "duration": 780,
    "start_time": "2021-11-12T20:21:21.534Z"
   },
   {
    "duration": 644,
    "start_time": "2021-11-12T20:21:35.387Z"
   },
   {
    "duration": 34,
    "start_time": "2021-11-12T20:22:26.464Z"
   },
   {
    "duration": 34,
    "start_time": "2021-11-12T20:22:43.011Z"
   },
   {
    "duration": 34,
    "start_time": "2021-11-12T20:22:52.648Z"
   },
   {
    "duration": 37,
    "start_time": "2021-11-12T20:23:32.016Z"
   },
   {
    "duration": 33,
    "start_time": "2021-11-12T20:24:09.284Z"
   },
   {
    "duration": 641,
    "start_time": "2021-11-12T20:25:10.823Z"
   },
   {
    "duration": 607,
    "start_time": "2021-11-12T20:25:18.060Z"
   },
   {
    "duration": 35,
    "start_time": "2021-11-12T20:25:22.817Z"
   },
   {
    "duration": 594,
    "start_time": "2021-11-12T20:25:23.297Z"
   },
   {
    "duration": 560,
    "start_time": "2021-11-12T20:25:31.431Z"
   },
   {
    "duration": 593,
    "start_time": "2021-11-12T20:25:38.113Z"
   },
   {
    "duration": 33,
    "start_time": "2021-11-12T20:26:02.308Z"
   },
   {
    "duration": 34,
    "start_time": "2021-11-12T20:26:16.432Z"
   },
   {
    "duration": 633,
    "start_time": "2021-11-12T20:26:37.751Z"
   },
   {
    "duration": 376,
    "start_time": "2021-11-12T20:41:18.041Z"
   },
   {
    "duration": 13,
    "start_time": "2021-11-12T20:41:31.746Z"
   },
   {
    "duration": 16,
    "start_time": "2021-11-12T20:54:21.959Z"
   },
   {
    "duration": 15,
    "start_time": "2021-11-12T20:55:07.543Z"
   },
   {
    "duration": 377,
    "start_time": "2021-11-12T20:55:19.953Z"
   },
   {
    "duration": 17,
    "start_time": "2021-11-12T20:55:23.241Z"
   },
   {
    "duration": 42,
    "start_time": "2021-11-12T20:56:22.242Z"
   },
   {
    "duration": 39,
    "start_time": "2021-11-12T20:56:27.829Z"
   },
   {
    "duration": 5,
    "start_time": "2021-11-12T20:59:17.515Z"
   },
   {
    "duration": 403,
    "start_time": "2021-11-12T20:59:34.725Z"
   },
   {
    "duration": 27,
    "start_time": "2021-11-12T21:00:04.990Z"
   },
   {
    "duration": 28,
    "start_time": "2021-11-12T21:00:10.847Z"
   },
   {
    "duration": 6,
    "start_time": "2021-11-12T21:01:04.844Z"
   },
   {
    "duration": 425,
    "start_time": "2021-11-12T21:01:18.006Z"
   },
   {
    "duration": 28,
    "start_time": "2021-11-12T21:03:02.589Z"
   },
   {
    "duration": 43,
    "start_time": "2021-11-12T21:03:03.618Z"
   },
   {
    "duration": 6,
    "start_time": "2021-11-12T21:03:05.453Z"
   },
   {
    "duration": 443,
    "start_time": "2021-11-12T21:03:06.016Z"
   },
   {
    "duration": 579,
    "start_time": "2021-11-12T21:03:29.197Z"
   },
   {
    "duration": 585,
    "start_time": "2021-11-12T21:05:33.837Z"
   },
   {
    "duration": 566,
    "start_time": "2021-11-12T21:06:47.497Z"
   },
   {
    "duration": 119,
    "start_time": "2021-11-12T21:08:18.040Z"
   },
   {
    "duration": 13,
    "start_time": "2021-11-12T21:16:39.082Z"
   },
   {
    "duration": 45,
    "start_time": "2021-11-12T21:18:20.990Z"
   },
   {
    "duration": 33,
    "start_time": "2021-11-12T21:18:40.917Z"
   },
   {
    "duration": 619,
    "start_time": "2021-11-12T21:27:16.419Z"
   },
   {
    "duration": 637,
    "start_time": "2021-11-12T21:28:09.597Z"
   },
   {
    "duration": 1459,
    "start_time": "2021-11-13T10:39:33.771Z"
   },
   {
    "duration": 886,
    "start_time": "2021-11-13T10:39:35.233Z"
   },
   {
    "duration": 18,
    "start_time": "2021-11-13T10:39:36.121Z"
   },
   {
    "duration": 12,
    "start_time": "2021-11-13T10:39:36.142Z"
   },
   {
    "duration": 26,
    "start_time": "2021-11-13T10:39:36.157Z"
   },
   {
    "duration": 40,
    "start_time": "2021-11-13T10:39:36.186Z"
   },
   {
    "duration": 7,
    "start_time": "2021-11-13T10:39:36.228Z"
   },
   {
    "duration": 656,
    "start_time": "2021-11-13T10:39:36.239Z"
   },
   {
    "duration": 25,
    "start_time": "2021-11-13T10:39:36.898Z"
   },
   {
    "duration": 20,
    "start_time": "2021-11-13T10:39:36.925Z"
   },
   {
    "duration": 713,
    "start_time": "2021-11-13T10:39:36.947Z"
   },
   {
    "duration": 105,
    "start_time": "2021-11-13T10:39:37.663Z"
   },
   {
    "duration": 123,
    "start_time": "2021-11-13T10:39:37.771Z"
   },
   {
    "duration": 396,
    "start_time": "2021-11-13T10:39:37.897Z"
   },
   {
    "duration": 6,
    "start_time": "2021-11-13T10:39:38.296Z"
   },
   {
    "duration": 52,
    "start_time": "2021-11-13T10:39:38.305Z"
   },
   {
    "duration": 545,
    "start_time": "2021-11-13T10:39:38.360Z"
   },
   {
    "duration": 43,
    "start_time": "2021-11-13T10:39:38.907Z"
   },
   {
    "duration": 500,
    "start_time": "2021-11-13T10:39:38.953Z"
   },
   {
    "duration": 33,
    "start_time": "2021-11-13T10:39:39.456Z"
   },
   {
    "duration": 618,
    "start_time": "2021-11-13T10:39:39.491Z"
   },
   {
    "duration": 454,
    "start_time": "2021-11-13T10:39:40.121Z"
   },
   {
    "duration": 12,
    "start_time": "2021-11-13T10:39:40.579Z"
   },
   {
    "duration": 67,
    "start_time": "2021-11-13T10:39:40.594Z"
   },
   {
    "duration": 570,
    "start_time": "2021-11-13T10:39:40.663Z"
   },
   {
    "duration": 18,
    "start_time": "2021-11-13T10:42:43.180Z"
   },
   {
    "duration": 6,
    "start_time": "2021-11-13T10:58:05.711Z"
   },
   {
    "duration": 6,
    "start_time": "2021-11-13T10:58:27.840Z"
   },
   {
    "duration": 94,
    "start_time": "2021-11-13T10:59:23.255Z"
   },
   {
    "duration": 414,
    "start_time": "2021-11-13T11:07:17.615Z"
   },
   {
    "duration": 330,
    "start_time": "2021-11-13T11:07:55.301Z"
   },
   {
    "duration": 15,
    "start_time": "2021-11-13T11:08:00.938Z"
   },
   {
    "duration": 7,
    "start_time": "2021-11-13T11:08:06.433Z"
   },
   {
    "duration": 276,
    "start_time": "2021-11-13T11:08:15.078Z"
   },
   {
    "duration": 8,
    "start_time": "2021-11-13T11:09:14.312Z"
   },
   {
    "duration": 41,
    "start_time": "2021-11-13T11:09:23.768Z"
   },
   {
    "duration": 276,
    "start_time": "2021-11-13T11:10:04.095Z"
   },
   {
    "duration": 6,
    "start_time": "2021-11-13T11:10:21.021Z"
   },
   {
    "duration": 5,
    "start_time": "2021-11-13T11:10:28.947Z"
   },
   {
    "duration": 4,
    "start_time": "2021-11-13T11:10:37.094Z"
   },
   {
    "duration": 286,
    "start_time": "2021-11-13T11:10:49.177Z"
   },
   {
    "duration": 9,
    "start_time": "2021-11-13T11:10:53.223Z"
   },
   {
    "duration": 6,
    "start_time": "2021-11-13T11:13:01.462Z"
   },
   {
    "duration": 7,
    "start_time": "2021-11-13T11:13:08.377Z"
   },
   {
    "duration": 5,
    "start_time": "2021-11-13T12:20:45.712Z"
   },
   {
    "duration": 5,
    "start_time": "2021-11-13T12:20:54.011Z"
   },
   {
    "duration": 4,
    "start_time": "2021-11-13T12:34:46.717Z"
   },
   {
    "duration": 9,
    "start_time": "2021-11-13T12:35:38.920Z"
   },
   {
    "duration": 13,
    "start_time": "2021-11-13T12:36:53.922Z"
   },
   {
    "duration": 14,
    "start_time": "2021-11-13T12:40:17.886Z"
   },
   {
    "duration": 5,
    "start_time": "2021-11-13T12:41:54.570Z"
   },
   {
    "duration": 24,
    "start_time": "2021-11-13T12:43:08.217Z"
   },
   {
    "duration": 4,
    "start_time": "2021-11-13T12:44:08.933Z"
   },
   {
    "duration": 21,
    "start_time": "2021-11-13T12:44:13.775Z"
   },
   {
    "duration": 5,
    "start_time": "2021-11-13T12:49:01.712Z"
   },
   {
    "duration": 5,
    "start_time": "2021-11-13T12:51:16.185Z"
   },
   {
    "duration": 112,
    "start_time": "2021-11-13T12:52:46.095Z"
   },
   {
    "duration": 440,
    "start_time": "2021-11-13T12:53:00.967Z"
   },
   {
    "duration": 605,
    "start_time": "2021-11-13T12:53:13.355Z"
   },
   {
    "duration": 636,
    "start_time": "2021-11-13T12:53:17.618Z"
   },
   {
    "duration": 30,
    "start_time": "2021-11-13T12:55:34.673Z"
   },
   {
    "duration": 31,
    "start_time": "2021-11-13T12:55:45.850Z"
   },
   {
    "duration": 14,
    "start_time": "2021-11-13T12:59:03.666Z"
   },
   {
    "duration": 8,
    "start_time": "2021-11-13T12:59:12.020Z"
   },
   {
    "duration": 295,
    "start_time": "2021-11-13T12:59:46.792Z"
   },
   {
    "duration": 290,
    "start_time": "2021-11-13T13:00:15.399Z"
   },
   {
    "duration": 300,
    "start_time": "2021-11-13T13:00:24.588Z"
   },
   {
    "duration": 3734,
    "start_time": "2021-11-13T13:02:18.326Z"
   },
   {
    "duration": 3932,
    "start_time": "2021-11-13T13:02:35.869Z"
   },
   {
    "duration": 1457,
    "start_time": "2021-11-13T13:03:04.081Z"
   },
   {
    "duration": 911,
    "start_time": "2021-11-13T13:03:05.541Z"
   },
   {
    "duration": 16,
    "start_time": "2021-11-13T13:03:06.455Z"
   },
   {
    "duration": 22,
    "start_time": "2021-11-13T13:03:06.474Z"
   },
   {
    "duration": 45,
    "start_time": "2021-11-13T13:03:06.498Z"
   },
   {
    "duration": 5,
    "start_time": "2021-11-13T13:03:06.545Z"
   },
   {
    "duration": 7,
    "start_time": "2021-11-13T13:03:06.553Z"
   },
   {
    "duration": 682,
    "start_time": "2021-11-13T13:03:06.565Z"
   },
   {
    "duration": 11,
    "start_time": "2021-11-13T13:03:07.250Z"
   },
   {
    "duration": 742,
    "start_time": "2021-11-13T13:03:07.263Z"
   },
   {
    "duration": 138,
    "start_time": "2021-11-13T13:03:08.008Z"
   },
   {
    "duration": 120,
    "start_time": "2021-11-13T13:03:08.148Z"
   },
   {
    "duration": 370,
    "start_time": "2021-11-13T13:03:08.271Z"
   },
   {
    "duration": 5,
    "start_time": "2021-11-13T13:03:08.643Z"
   },
   {
    "duration": 42,
    "start_time": "2021-11-13T13:03:08.650Z"
   },
   {
    "duration": 542,
    "start_time": "2021-11-13T13:03:08.695Z"
   },
   {
    "duration": 34,
    "start_time": "2021-11-13T13:03:09.240Z"
   },
   {
    "duration": 509,
    "start_time": "2021-11-13T13:03:09.277Z"
   },
   {
    "duration": 46,
    "start_time": "2021-11-13T13:03:09.789Z"
   },
   {
    "duration": 621,
    "start_time": "2021-11-13T13:03:09.837Z"
   },
   {
    "duration": 468,
    "start_time": "2021-11-13T13:03:10.461Z"
   },
   {
    "duration": 12,
    "start_time": "2021-11-13T13:03:10.931Z"
   },
   {
    "duration": 52,
    "start_time": "2021-11-13T13:03:10.950Z"
   },
   {
    "duration": 514,
    "start_time": "2021-11-13T13:03:11.023Z"
   },
   {
    "duration": 6,
    "start_time": "2021-11-13T13:03:11.539Z"
   },
   {
    "duration": 8,
    "start_time": "2021-11-13T13:03:11.547Z"
   },
   {
    "duration": 452,
    "start_time": "2021-11-13T13:03:11.558Z"
   },
   {
    "duration": -1547,
    "start_time": "2021-11-13T13:03:13.560Z"
   },
   {
    "duration": -1548,
    "start_time": "2021-11-13T13:03:13.563Z"
   },
   {
    "duration": -1548,
    "start_time": "2021-11-13T13:03:13.565Z"
   },
   {
    "duration": -1551,
    "start_time": "2021-11-13T13:03:13.570Z"
   },
   {
    "duration": -1550,
    "start_time": "2021-11-13T13:03:13.572Z"
   },
   {
    "duration": -1550,
    "start_time": "2021-11-13T13:03:13.574Z"
   },
   {
    "duration": 14,
    "start_time": "2021-11-13T13:03:21.309Z"
   },
   {
    "duration": 54,
    "start_time": "2021-11-13T13:03:23.570Z"
   },
   {
    "duration": 39,
    "start_time": "2021-11-13T13:03:39.717Z"
   },
   {
    "duration": 54,
    "start_time": "2021-11-13T13:04:13.402Z"
   },
   {
    "duration": 53,
    "start_time": "2021-11-13T13:04:59.818Z"
   },
   {
    "duration": 43,
    "start_time": "2021-11-13T13:05:08.462Z"
   },
   {
    "duration": 13,
    "start_time": "2021-11-13T13:05:26.300Z"
   },
   {
    "duration": 37,
    "start_time": "2021-11-13T13:05:53.969Z"
   },
   {
    "duration": 8,
    "start_time": "2021-11-13T13:09:00.841Z"
   },
   {
    "duration": 7,
    "start_time": "2021-11-13T13:09:13.929Z"
   },
   {
    "duration": 6,
    "start_time": "2021-11-13T13:09:59.191Z"
   },
   {
    "duration": 680,
    "start_time": "2021-11-13T13:21:54.316Z"
   },
   {
    "duration": 692,
    "start_time": "2021-11-13T13:22:58.330Z"
   },
   {
    "duration": 102,
    "start_time": "2021-11-13T13:23:57.468Z"
   },
   {
    "duration": 311,
    "start_time": "2021-11-13T13:24:05.834Z"
   },
   {
    "duration": 100,
    "start_time": "2021-11-13T13:30:00.814Z"
   },
   {
    "duration": 94,
    "start_time": "2021-11-13T13:34:44.203Z"
   },
   {
    "duration": 7,
    "start_time": "2021-11-13T13:34:49.006Z"
   },
   {
    "duration": 7,
    "start_time": "2021-11-13T13:34:55.569Z"
   },
   {
    "duration": 42,
    "start_time": "2021-11-13T13:36:42.857Z"
   },
   {
    "duration": 608,
    "start_time": "2021-11-13T13:37:18.870Z"
   },
   {
    "duration": 7,
    "start_time": "2021-11-13T13:37:35.234Z"
   },
   {
    "duration": 580,
    "start_time": "2021-11-13T13:37:36.327Z"
   },
   {
    "duration": 1536,
    "start_time": "2021-11-13T13:38:01.631Z"
   },
   {
    "duration": 874,
    "start_time": "2021-11-13T13:38:03.170Z"
   },
   {
    "duration": 18,
    "start_time": "2021-11-13T13:38:04.046Z"
   },
   {
    "duration": 24,
    "start_time": "2021-11-13T13:38:04.067Z"
   },
   {
    "duration": 46,
    "start_time": "2021-11-13T13:38:04.093Z"
   },
   {
    "duration": 4,
    "start_time": "2021-11-13T13:38:04.142Z"
   },
   {
    "duration": 6,
    "start_time": "2021-11-13T13:38:04.148Z"
   },
   {
    "duration": 734,
    "start_time": "2021-11-13T13:38:04.158Z"
   },
   {
    "duration": 11,
    "start_time": "2021-11-13T13:38:04.895Z"
   },
   {
    "duration": 31,
    "start_time": "2021-11-13T13:38:04.909Z"
   },
   {
    "duration": 806,
    "start_time": "2021-11-13T13:38:04.942Z"
   },
   {
    "duration": 93,
    "start_time": "2021-11-13T13:38:05.751Z"
   },
   {
    "duration": 136,
    "start_time": "2021-11-13T13:38:05.846Z"
   },
   {
    "duration": 381,
    "start_time": "2021-11-13T13:38:05.985Z"
   },
   {
    "duration": 5,
    "start_time": "2021-11-13T13:38:06.368Z"
   },
   {
    "duration": 58,
    "start_time": "2021-11-13T13:38:06.375Z"
   },
   {
    "duration": 545,
    "start_time": "2021-11-13T13:38:06.435Z"
   },
   {
    "duration": 46,
    "start_time": "2021-11-13T13:38:06.983Z"
   },
   {
    "duration": 574,
    "start_time": "2021-11-13T13:38:07.031Z"
   },
   {
    "duration": 43,
    "start_time": "2021-11-13T13:38:07.608Z"
   },
   {
    "duration": 556,
    "start_time": "2021-11-13T13:38:07.653Z"
   },
   {
    "duration": 566,
    "start_time": "2021-11-13T13:38:08.212Z"
   },
   {
    "duration": 13,
    "start_time": "2021-11-13T13:38:08.783Z"
   },
   {
    "duration": 63,
    "start_time": "2021-11-13T13:38:08.798Z"
   },
   {
    "duration": 535,
    "start_time": "2021-11-13T13:38:08.864Z"
   },
   {
    "duration": 5,
    "start_time": "2021-11-13T13:38:09.402Z"
   },
   {
    "duration": 13,
    "start_time": "2021-11-13T13:38:09.409Z"
   },
   {
    "duration": 21,
    "start_time": "2021-11-13T13:38:09.424Z"
   },
   {
    "duration": 7,
    "start_time": "2021-11-13T13:38:09.447Z"
   },
   {
    "duration": 8,
    "start_time": "2021-11-13T13:38:09.456Z"
   },
   {
    "duration": 719,
    "start_time": "2021-11-13T13:38:09.466Z"
   },
   {
    "duration": 7,
    "start_time": "2021-11-13T13:38:26.298Z"
   },
   {
    "duration": 607,
    "start_time": "2021-11-13T13:38:33.335Z"
   },
   {
    "duration": 8,
    "start_time": "2021-11-13T13:38:57.441Z"
   },
   {
    "duration": 613,
    "start_time": "2021-11-13T13:38:58.030Z"
   },
   {
    "duration": 7,
    "start_time": "2021-11-13T13:39:07.329Z"
   },
   {
    "duration": 592,
    "start_time": "2021-11-13T13:39:07.798Z"
   },
   {
    "duration": 11,
    "start_time": "2021-11-13T13:40:23.419Z"
   },
   {
    "duration": 1041,
    "start_time": "2021-11-13T13:40:26.328Z"
   },
   {
    "duration": 8,
    "start_time": "2021-11-13T13:40:51.109Z"
   },
   {
    "duration": 615,
    "start_time": "2021-11-13T13:40:51.599Z"
   },
   {
    "duration": 6,
    "start_time": "2021-11-13T13:43:33.718Z"
   },
   {
    "duration": 7,
    "start_time": "2021-11-13T13:43:57.030Z"
   },
   {
    "duration": 597,
    "start_time": "2021-11-13T13:43:57.521Z"
   },
   {
    "duration": 8,
    "start_time": "2021-11-13T13:44:14.387Z"
   },
   {
    "duration": 596,
    "start_time": "2021-11-13T13:44:14.814Z"
   },
   {
    "duration": 107,
    "start_time": "2021-11-13T13:44:30.837Z"
   },
   {
    "duration": 8,
    "start_time": "2021-11-13T13:44:33.529Z"
   },
   {
    "duration": 37,
    "start_time": "2021-11-13T13:46:15.577Z"
   },
   {
    "duration": 10,
    "start_time": "2021-11-13T13:46:18.603Z"
   },
   {
    "duration": 12,
    "start_time": "2021-11-13T13:48:13.837Z"
   },
   {
    "duration": 10,
    "start_time": "2021-11-13T13:48:30.671Z"
   },
   {
    "duration": 12,
    "start_time": "2021-11-13T13:48:35.732Z"
   },
   {
    "duration": 297,
    "start_time": "2021-11-13T13:49:14.475Z"
   },
   {
    "duration": 12,
    "start_time": "2021-11-13T13:49:17.354Z"
   },
   {
    "duration": 12,
    "start_time": "2021-11-13T13:49:29.292Z"
   },
   {
    "duration": 297,
    "start_time": "2021-11-13T13:49:34.934Z"
   },
   {
    "duration": 12,
    "start_time": "2021-11-13T13:49:37.338Z"
   },
   {
    "duration": 11,
    "start_time": "2021-11-13T13:49:45.588Z"
   },
   {
    "duration": 39,
    "start_time": "2021-11-13T13:49:52.870Z"
   },
   {
    "duration": 293,
    "start_time": "2021-11-13T13:50:05.251Z"
   },
   {
    "duration": 10,
    "start_time": "2021-11-13T13:50:07.702Z"
   },
   {
    "duration": 342,
    "start_time": "2021-11-13T13:50:23.563Z"
   },
   {
    "duration": 41,
    "start_time": "2021-11-13T13:51:03.808Z"
   },
   {
    "duration": 308,
    "start_time": "2021-11-13T13:51:14.672Z"
   },
   {
    "duration": 263,
    "start_time": "2021-11-13T13:51:20.210Z"
   },
   {
    "duration": 13,
    "start_time": "2021-11-13T13:51:23.523Z"
   },
   {
    "duration": 11,
    "start_time": "2021-11-13T13:51:35.524Z"
   },
   {
    "duration": 1482,
    "start_time": "2021-11-13T13:51:50.778Z"
   },
   {
    "duration": 872,
    "start_time": "2021-11-13T13:51:52.263Z"
   },
   {
    "duration": 18,
    "start_time": "2021-11-13T13:51:53.138Z"
   },
   {
    "duration": 27,
    "start_time": "2021-11-13T13:51:53.158Z"
   },
   {
    "duration": 51,
    "start_time": "2021-11-13T13:51:53.187Z"
   },
   {
    "duration": 5,
    "start_time": "2021-11-13T13:51:53.241Z"
   },
   {
    "duration": 17,
    "start_time": "2021-11-13T13:51:53.248Z"
   },
   {
    "duration": 659,
    "start_time": "2021-11-13T13:51:53.269Z"
   },
   {
    "duration": 11,
    "start_time": "2021-11-13T13:51:53.931Z"
   },
   {
    "duration": 20,
    "start_time": "2021-11-13T13:51:53.944Z"
   },
   {
    "duration": 732,
    "start_time": "2021-11-13T13:51:53.966Z"
   },
   {
    "duration": 95,
    "start_time": "2021-11-13T13:51:54.700Z"
   },
   {
    "duration": 188,
    "start_time": "2021-11-13T13:51:54.798Z"
   },
   {
    "duration": 394,
    "start_time": "2021-11-13T13:51:54.989Z"
   },
   {
    "duration": 4,
    "start_time": "2021-11-13T13:51:55.385Z"
   },
   {
    "duration": 48,
    "start_time": "2021-11-13T13:51:55.391Z"
   },
   {
    "duration": 540,
    "start_time": "2021-11-13T13:51:55.442Z"
   },
   {
    "duration": 50,
    "start_time": "2021-11-13T13:51:55.985Z"
   },
   {
    "duration": 566,
    "start_time": "2021-11-13T13:51:56.038Z"
   },
   {
    "duration": 47,
    "start_time": "2021-11-13T13:51:56.606Z"
   },
   {
    "duration": 530,
    "start_time": "2021-11-13T13:51:56.655Z"
   },
   {
    "duration": 469,
    "start_time": "2021-11-13T13:51:57.187Z"
   },
   {
    "duration": 12,
    "start_time": "2021-11-13T13:51:57.661Z"
   },
   {
    "duration": 71,
    "start_time": "2021-11-13T13:51:57.676Z"
   },
   {
    "duration": 524,
    "start_time": "2021-11-13T13:51:57.750Z"
   },
   {
    "duration": 5,
    "start_time": "2021-11-13T13:51:58.277Z"
   },
   {
    "duration": 7,
    "start_time": "2021-11-13T13:51:58.284Z"
   },
   {
    "duration": 43,
    "start_time": "2021-11-13T13:51:58.293Z"
   },
   {
    "duration": 8,
    "start_time": "2021-11-13T13:51:58.339Z"
   },
   {
    "duration": 10,
    "start_time": "2021-11-13T13:51:58.350Z"
   },
   {
    "duration": 752,
    "start_time": "2021-11-13T13:51:58.362Z"
   },
   {
    "duration": -1525,
    "start_time": "2021-11-13T13:52:00.642Z"
   },
   {
    "duration": -1528,
    "start_time": "2021-11-13T13:52:00.646Z"
   },
   {
    "duration": -1531,
    "start_time": "2021-11-13T13:52:00.651Z"
   },
   {
    "duration": 15,
    "start_time": "2021-11-13T13:55:10.505Z"
   },
   {
    "duration": 406,
    "start_time": "2021-11-13T13:55:12.346Z"
   },
   {
    "duration": 12,
    "start_time": "2021-11-13T13:55:13.256Z"
   },
   {
    "duration": 46,
    "start_time": "2021-11-13T13:56:11.525Z"
   },
   {
    "duration": 1558,
    "start_time": "2021-11-13T13:56:39.764Z"
   },
   {
    "duration": 924,
    "start_time": "2021-11-13T13:56:41.325Z"
   },
   {
    "duration": 18,
    "start_time": "2021-11-13T13:56:42.252Z"
   },
   {
    "duration": 27,
    "start_time": "2021-11-13T13:56:42.273Z"
   },
   {
    "duration": 27,
    "start_time": "2021-11-13T13:56:42.323Z"
   },
   {
    "duration": 5,
    "start_time": "2021-11-13T13:56:42.353Z"
   },
   {
    "duration": 8,
    "start_time": "2021-11-13T13:56:42.360Z"
   },
   {
    "duration": 873,
    "start_time": "2021-11-13T13:56:42.371Z"
   },
   {
    "duration": 11,
    "start_time": "2021-11-13T13:56:43.247Z"
   },
   {
    "duration": 32,
    "start_time": "2021-11-13T13:56:43.260Z"
   },
   {
    "duration": 1662,
    "start_time": "2021-11-13T13:56:43.295Z"
   },
   {
    "duration": 93,
    "start_time": "2021-11-13T13:56:44.960Z"
   },
   {
    "duration": 131,
    "start_time": "2021-11-13T13:56:45.056Z"
   },
   {
    "duration": 401,
    "start_time": "2021-11-13T13:56:45.190Z"
   },
   {
    "duration": 4,
    "start_time": "2021-11-13T13:56:45.593Z"
   },
   {
    "duration": 52,
    "start_time": "2021-11-13T13:56:45.600Z"
   },
   {
    "duration": 545,
    "start_time": "2021-11-13T13:56:45.655Z"
   },
   {
    "duration": 42,
    "start_time": "2021-11-13T13:56:46.203Z"
   },
   {
    "duration": 582,
    "start_time": "2021-11-13T13:56:46.247Z"
   },
   {
    "duration": 36,
    "start_time": "2021-11-13T13:56:46.831Z"
   },
   {
    "duration": 544,
    "start_time": "2021-11-13T13:56:46.870Z"
   },
   {
    "duration": 468,
    "start_time": "2021-11-13T13:56:47.417Z"
   },
   {
    "duration": 12,
    "start_time": "2021-11-13T13:56:47.890Z"
   },
   {
    "duration": 64,
    "start_time": "2021-11-13T13:56:47.905Z"
   },
   {
    "duration": 527,
    "start_time": "2021-11-13T13:56:47.972Z"
   },
   {
    "duration": 5,
    "start_time": "2021-11-13T13:56:48.502Z"
   },
   {
    "duration": 16,
    "start_time": "2021-11-13T13:56:48.509Z"
   },
   {
    "duration": 25,
    "start_time": "2021-11-13T13:56:48.528Z"
   },
   {
    "duration": 7,
    "start_time": "2021-11-13T13:56:48.555Z"
   },
   {
    "duration": 9,
    "start_time": "2021-11-13T13:56:48.564Z"
   },
   {
    "duration": 7,
    "start_time": "2021-11-13T13:56:48.575Z"
   },
   {
    "duration": 46,
    "start_time": "2021-11-13T13:56:48.585Z"
   },
   {
    "duration": 410,
    "start_time": "2021-11-13T13:56:48.634Z"
   },
   {
    "duration": 13,
    "start_time": "2021-11-13T13:56:49.046Z"
   },
   {
    "duration": 70,
    "start_time": "2021-11-13T13:56:49.062Z"
   },
   {
    "duration": 1685,
    "start_time": "2021-11-13T13:57:44.909Z"
   },
   {
    "duration": 920,
    "start_time": "2021-11-13T13:57:46.597Z"
   },
   {
    "duration": 17,
    "start_time": "2021-11-13T13:57:47.523Z"
   },
   {
    "duration": 24,
    "start_time": "2021-11-13T13:57:47.543Z"
   },
   {
    "duration": 61,
    "start_time": "2021-11-13T13:57:47.569Z"
   },
   {
    "duration": 5,
    "start_time": "2021-11-13T13:57:47.632Z"
   },
   {
    "duration": 10,
    "start_time": "2021-11-13T13:57:47.641Z"
   },
   {
    "duration": 1060,
    "start_time": "2021-11-13T13:57:47.654Z"
   },
   {
    "duration": 15,
    "start_time": "2021-11-13T13:57:48.716Z"
   },
   {
    "duration": 22,
    "start_time": "2021-11-13T13:57:48.734Z"
   },
   {
    "duration": 846,
    "start_time": "2021-11-13T13:57:48.759Z"
   },
   {
    "duration": 92,
    "start_time": "2021-11-13T13:57:49.608Z"
   },
   {
    "duration": 121,
    "start_time": "2021-11-13T13:57:49.703Z"
   },
   {
    "duration": 400,
    "start_time": "2021-11-13T13:57:49.827Z"
   },
   {
    "duration": 5,
    "start_time": "2021-11-13T13:57:50.229Z"
   },
   {
    "duration": 72,
    "start_time": "2021-11-13T13:57:50.236Z"
   },
   {
    "duration": 587,
    "start_time": "2021-11-13T13:57:50.311Z"
   },
   {
    "duration": 46,
    "start_time": "2021-11-13T13:57:50.901Z"
   },
   {
    "duration": 712,
    "start_time": "2021-11-13T13:57:50.950Z"
   },
   {
    "duration": 36,
    "start_time": "2021-11-13T13:57:51.665Z"
   },
   {
    "duration": 540,
    "start_time": "2021-11-13T13:57:51.722Z"
   },
   {
    "duration": 480,
    "start_time": "2021-11-13T13:57:52.267Z"
   },
   {
    "duration": 13,
    "start_time": "2021-11-13T13:57:52.750Z"
   },
   {
    "duration": 71,
    "start_time": "2021-11-13T13:57:52.766Z"
   },
   {
    "duration": 543,
    "start_time": "2021-11-13T13:57:52.840Z"
   },
   {
    "duration": 5,
    "start_time": "2021-11-13T13:57:53.386Z"
   },
   {
    "duration": 6,
    "start_time": "2021-11-13T13:57:53.394Z"
   },
   {
    "duration": 37,
    "start_time": "2021-11-13T13:57:53.424Z"
   },
   {
    "duration": 7,
    "start_time": "2021-11-13T13:57:53.465Z"
   },
   {
    "duration": 11,
    "start_time": "2021-11-13T13:57:53.474Z"
   },
   {
    "duration": 35,
    "start_time": "2021-11-13T13:57:53.487Z"
   },
   {
    "duration": 20,
    "start_time": "2021-11-13T13:57:53.526Z"
   },
   {
    "duration": 49,
    "start_time": "2021-11-13T13:57:53.549Z"
   },
   {
    "duration": 74,
    "start_time": "2021-11-13T13:57:53.601Z"
   },
   {
    "duration": 34,
    "start_time": "2021-11-13T13:58:45.634Z"
   },
   {
    "duration": 42,
    "start_time": "2021-11-13T13:58:48.061Z"
   },
   {
    "duration": 6,
    "start_time": "2021-11-13T13:59:02.695Z"
   },
   {
    "duration": 8,
    "start_time": "2021-11-13T13:59:03.994Z"
   },
   {
    "duration": 3,
    "start_time": "2021-11-13T13:59:04.598Z"
   },
   {
    "duration": 13,
    "start_time": "2021-11-13T13:59:05.033Z"
   },
   {
    "duration": 37,
    "start_time": "2021-11-13T13:59:06.385Z"
   },
   {
    "duration": 42,
    "start_time": "2021-11-13T13:59:07.480Z"
   },
   {
    "duration": 34,
    "start_time": "2021-11-13T13:59:25.167Z"
   },
   {
    "duration": 42,
    "start_time": "2021-11-13T13:59:38.638Z"
   },
   {
    "duration": 443,
    "start_time": "2021-11-13T14:00:00.034Z"
   },
   {
    "duration": 5,
    "start_time": "2021-11-13T14:00:03.882Z"
   },
   {
    "duration": 5,
    "start_time": "2021-11-13T14:00:16.507Z"
   },
   {
    "duration": 350,
    "start_time": "2021-11-13T14:00:45.798Z"
   },
   {
    "duration": 15,
    "start_time": "2021-11-13T14:00:49.209Z"
   },
   {
    "duration": 14,
    "start_time": "2021-11-13T14:01:11.664Z"
   },
   {
    "duration": 7,
    "start_time": "2021-11-13T14:01:27.185Z"
   },
   {
    "duration": 16,
    "start_time": "2021-11-13T14:01:38.223Z"
   },
   {
    "duration": 7,
    "start_time": "2021-11-13T14:01:39.839Z"
   },
   {
    "duration": 15,
    "start_time": "2021-11-13T14:01:50.750Z"
   },
   {
    "duration": 8,
    "start_time": "2021-11-13T14:02:10.511Z"
   },
   {
    "duration": 6,
    "start_time": "2021-11-13T14:02:16.377Z"
   },
   {
    "duration": 29,
    "start_time": "2021-11-13T14:03:34.275Z"
   },
   {
    "duration": 26,
    "start_time": "2021-11-13T14:03:44.908Z"
   },
   {
    "duration": 10,
    "start_time": "2021-11-13T14:03:50.378Z"
   },
   {
    "duration": 9,
    "start_time": "2021-11-13T14:03:57.555Z"
   },
   {
    "duration": 10,
    "start_time": "2021-11-13T14:04:01.501Z"
   },
   {
    "duration": 8,
    "start_time": "2021-11-13T14:04:11.572Z"
   },
   {
    "duration": 12,
    "start_time": "2021-11-13T14:04:20.732Z"
   },
   {
    "duration": 7,
    "start_time": "2021-11-13T14:04:30.227Z"
   },
   {
    "duration": 12,
    "start_time": "2021-11-13T14:04:59.172Z"
   },
   {
    "duration": 6,
    "start_time": "2021-11-13T14:05:06.100Z"
   },
   {
    "duration": 14,
    "start_time": "2021-11-13T14:05:26.629Z"
   },
   {
    "duration": 13,
    "start_time": "2021-11-13T14:05:30.591Z"
   },
   {
    "duration": 95,
    "start_time": "2021-11-13T14:06:09.534Z"
   },
   {
    "duration": 99,
    "start_time": "2021-11-13T14:06:18.164Z"
   },
   {
    "duration": 95,
    "start_time": "2021-11-13T14:06:24.859Z"
   },
   {
    "duration": 7,
    "start_time": "2021-11-13T14:09:58.348Z"
   },
   {
    "duration": 394,
    "start_time": "2021-11-13T14:10:48.006Z"
   },
   {
    "duration": 7,
    "start_time": "2021-11-13T14:10:56.246Z"
   },
   {
    "duration": 1573,
    "start_time": "2021-11-13T14:11:13.133Z"
   },
   {
    "duration": 957,
    "start_time": "2021-11-13T14:11:14.708Z"
   },
   {
    "duration": 20,
    "start_time": "2021-11-13T14:11:15.668Z"
   },
   {
    "duration": 48,
    "start_time": "2021-11-13T14:11:15.691Z"
   },
   {
    "duration": 28,
    "start_time": "2021-11-13T14:11:15.742Z"
   },
   {
    "duration": 6,
    "start_time": "2021-11-13T14:11:15.773Z"
   },
   {
    "duration": 42,
    "start_time": "2021-11-13T14:11:15.783Z"
   },
   {
    "duration": 782,
    "start_time": "2021-11-13T14:11:15.831Z"
   },
   {
    "duration": 12,
    "start_time": "2021-11-13T14:11:16.624Z"
   },
   {
    "duration": 22,
    "start_time": "2021-11-13T14:11:16.639Z"
   },
   {
    "duration": 942,
    "start_time": "2021-11-13T14:11:16.663Z"
   },
   {
    "duration": 87,
    "start_time": "2021-11-13T14:11:17.609Z"
   },
   {
    "duration": 139,
    "start_time": "2021-11-13T14:11:17.698Z"
   },
   {
    "duration": 477,
    "start_time": "2021-11-13T14:11:17.840Z"
   },
   {
    "duration": 5,
    "start_time": "2021-11-13T14:11:18.324Z"
   },
   {
    "duration": 42,
    "start_time": "2021-11-13T14:11:18.332Z"
   },
   {
    "duration": 546,
    "start_time": "2021-11-13T14:11:18.377Z"
   },
   {
    "duration": 33,
    "start_time": "2021-11-13T14:11:18.926Z"
   },
   {
    "duration": 676,
    "start_time": "2021-11-13T14:11:18.962Z"
   },
   {
    "duration": 37,
    "start_time": "2021-11-13T14:11:19.641Z"
   },
   {
    "duration": 561,
    "start_time": "2021-11-13T14:11:19.681Z"
   },
   {
    "duration": 499,
    "start_time": "2021-11-13T14:11:20.244Z"
   },
   {
    "duration": 13,
    "start_time": "2021-11-13T14:11:20.749Z"
   },
   {
    "duration": 87,
    "start_time": "2021-11-13T14:11:20.765Z"
   },
   {
    "duration": 522,
    "start_time": "2021-11-13T14:11:20.855Z"
   },
   {
    "duration": 6,
    "start_time": "2021-11-13T14:11:21.381Z"
   },
   {
    "duration": 11,
    "start_time": "2021-11-13T14:11:21.390Z"
   },
   {
    "duration": 23,
    "start_time": "2021-11-13T14:11:21.422Z"
   },
   {
    "duration": 10,
    "start_time": "2021-11-13T14:11:21.447Z"
   },
   {
    "duration": 9,
    "start_time": "2021-11-13T14:11:21.459Z"
   },
   {
    "duration": 26,
    "start_time": "2021-11-13T14:11:21.470Z"
   },
   {
    "duration": 35,
    "start_time": "2021-11-13T14:11:21.499Z"
   },
   {
    "duration": 11,
    "start_time": "2021-11-13T14:11:21.537Z"
   },
   {
    "duration": 17,
    "start_time": "2021-11-13T14:11:21.550Z"
   },
   {
    "duration": 27,
    "start_time": "2021-11-13T14:11:21.569Z"
   },
   {
    "duration": 12,
    "start_time": "2021-11-13T14:11:21.598Z"
   },
   {
    "duration": 6,
    "start_time": "2021-11-13T14:14:20.995Z"
   },
   {
    "duration": 7,
    "start_time": "2021-11-13T14:14:25.727Z"
   },
   {
    "duration": 1520,
    "start_time": "2021-11-13T14:14:36.175Z"
   },
   {
    "duration": 1008,
    "start_time": "2021-11-13T14:14:37.697Z"
   },
   {
    "duration": 25,
    "start_time": "2021-11-13T14:14:38.708Z"
   },
   {
    "duration": 24,
    "start_time": "2021-11-13T14:14:38.736Z"
   },
   {
    "duration": 26,
    "start_time": "2021-11-13T14:14:38.762Z"
   },
   {
    "duration": 33,
    "start_time": "2021-11-13T14:14:38.790Z"
   },
   {
    "duration": 5,
    "start_time": "2021-11-13T14:14:38.826Z"
   },
   {
    "duration": 795,
    "start_time": "2021-11-13T14:14:38.835Z"
   },
   {
    "duration": 10,
    "start_time": "2021-11-13T14:14:39.633Z"
   },
   {
    "duration": 20,
    "start_time": "2021-11-13T14:14:39.645Z"
   },
   {
    "duration": 899,
    "start_time": "2021-11-13T14:14:39.667Z"
   },
   {
    "duration": 99,
    "start_time": "2021-11-13T14:14:40.568Z"
   },
   {
    "duration": 119,
    "start_time": "2021-11-13T14:14:40.669Z"
   },
   {
    "duration": 511,
    "start_time": "2021-11-13T14:14:40.791Z"
   },
   {
    "duration": 21,
    "start_time": "2021-11-13T14:14:41.305Z"
   },
   {
    "duration": 52,
    "start_time": "2021-11-13T14:14:41.329Z"
   },
   {
    "duration": 550,
    "start_time": "2021-11-13T14:14:41.384Z"
   },
   {
    "duration": 52,
    "start_time": "2021-11-13T14:14:41.938Z"
   },
   {
    "duration": 642,
    "start_time": "2021-11-13T14:14:41.993Z"
   },
   {
    "duration": 44,
    "start_time": "2021-11-13T14:14:42.638Z"
   },
   {
    "duration": 637,
    "start_time": "2021-11-13T14:14:42.685Z"
   },
   {
    "duration": 577,
    "start_time": "2021-11-13T14:14:43.325Z"
   },
   {
    "duration": 22,
    "start_time": "2021-11-13T14:14:43.907Z"
   },
   {
    "duration": 58,
    "start_time": "2021-11-13T14:14:43.932Z"
   },
   {
    "duration": 580,
    "start_time": "2021-11-13T14:14:43.992Z"
   },
   {
    "duration": 6,
    "start_time": "2021-11-13T14:14:44.575Z"
   },
   {
    "duration": 7,
    "start_time": "2021-11-13T14:14:44.583Z"
   },
   {
    "duration": 52,
    "start_time": "2021-11-13T14:14:44.592Z"
   },
   {
    "duration": 8,
    "start_time": "2021-11-13T14:14:44.648Z"
   },
   {
    "duration": 11,
    "start_time": "2021-11-13T14:14:44.661Z"
   },
   {
    "duration": 5,
    "start_time": "2021-11-13T14:14:44.675Z"
   },
   {
    "duration": 51,
    "start_time": "2021-11-13T14:14:44.683Z"
   },
   {
    "duration": 8,
    "start_time": "2021-11-13T14:14:44.738Z"
   },
   {
    "duration": 18,
    "start_time": "2021-11-13T14:14:44.749Z"
   },
   {
    "duration": 618,
    "start_time": "2021-11-13T14:15:13.940Z"
   },
   {
    "duration": 7,
    "start_time": "2021-11-13T14:15:18.190Z"
   },
   {
    "duration": 118,
    "start_time": "2021-11-13T14:15:21.610Z"
   },
   {
    "duration": 112,
    "start_time": "2021-11-13T14:15:24.688Z"
   },
   {
    "duration": 20,
    "start_time": "2021-11-13T14:15:41.037Z"
   },
   {
    "duration": 314,
    "start_time": "2021-11-13T14:16:20.595Z"
   },
   {
    "duration": 56,
    "start_time": "2021-11-13T14:16:26.189Z"
   },
   {
    "duration": 405,
    "start_time": "2021-11-13T14:19:51.258Z"
   },
   {
    "duration": 17,
    "start_time": "2021-11-13T14:19:56.200Z"
   },
   {
    "duration": 10,
    "start_time": "2021-11-13T14:20:02.915Z"
   },
   {
    "duration": 12,
    "start_time": "2021-11-13T14:20:29.188Z"
   },
   {
    "duration": 14,
    "start_time": "2021-11-13T14:20:42.045Z"
   },
   {
    "duration": 6,
    "start_time": "2021-11-13T14:20:44.285Z"
   },
   {
    "duration": 5,
    "start_time": "2021-11-13T14:21:00.942Z"
   },
   {
    "duration": 8,
    "start_time": "2021-11-13T14:21:12.512Z"
   },
   {
    "duration": 36,
    "start_time": "2021-11-13T14:21:26.669Z"
   },
   {
    "duration": 1484,
    "start_time": "2021-11-13T14:21:34.613Z"
   },
   {
    "duration": 918,
    "start_time": "2021-11-13T14:21:36.100Z"
   },
   {
    "duration": 17,
    "start_time": "2021-11-13T14:21:37.024Z"
   },
   {
    "duration": 24,
    "start_time": "2021-11-13T14:21:37.044Z"
   },
   {
    "duration": 53,
    "start_time": "2021-11-13T14:21:37.071Z"
   },
   {
    "duration": 5,
    "start_time": "2021-11-13T14:21:37.127Z"
   },
   {
    "duration": 5,
    "start_time": "2021-11-13T14:21:37.134Z"
   },
   {
    "duration": 725,
    "start_time": "2021-11-13T14:21:37.142Z"
   },
   {
    "duration": 12,
    "start_time": "2021-11-13T14:21:37.869Z"
   },
   {
    "duration": 47,
    "start_time": "2021-11-13T14:21:37.884Z"
   },
   {
    "duration": 996,
    "start_time": "2021-11-13T14:21:37.934Z"
   },
   {
    "duration": 39,
    "start_time": "2021-11-13T14:21:38.933Z"
   },
   {
    "duration": 131,
    "start_time": "2021-11-13T14:21:38.975Z"
   },
   {
    "duration": 388,
    "start_time": "2021-11-13T14:21:39.108Z"
   },
   {
    "duration": 4,
    "start_time": "2021-11-13T14:21:39.499Z"
   },
   {
    "duration": 51,
    "start_time": "2021-11-13T14:21:39.505Z"
   },
   {
    "duration": 535,
    "start_time": "2021-11-13T14:21:39.558Z"
   },
   {
    "duration": 46,
    "start_time": "2021-11-13T14:21:40.096Z"
   },
   {
    "duration": 570,
    "start_time": "2021-11-13T14:21:40.145Z"
   },
   {
    "duration": 34,
    "start_time": "2021-11-13T14:21:40.717Z"
   },
   {
    "duration": 563,
    "start_time": "2021-11-13T14:21:40.753Z"
   },
   {
    "duration": 641,
    "start_time": "2021-11-13T14:21:41.318Z"
   },
   {
    "duration": 12,
    "start_time": "2021-11-13T14:21:41.963Z"
   },
   {
    "duration": 72,
    "start_time": "2021-11-13T14:21:41.977Z"
   },
   {
    "duration": 515,
    "start_time": "2021-11-13T14:21:42.052Z"
   },
   {
    "duration": 5,
    "start_time": "2021-11-13T14:21:42.569Z"
   },
   {
    "duration": 22,
    "start_time": "2021-11-13T14:21:42.576Z"
   },
   {
    "duration": 34,
    "start_time": "2021-11-13T14:21:42.601Z"
   },
   {
    "duration": 7,
    "start_time": "2021-11-13T14:21:42.638Z"
   },
   {
    "duration": 8,
    "start_time": "2021-11-13T14:21:42.648Z"
   },
   {
    "duration": 5,
    "start_time": "2021-11-13T14:21:42.658Z"
   },
   {
    "duration": 56,
    "start_time": "2021-11-13T14:21:42.666Z"
   },
   {
    "duration": 361,
    "start_time": "2021-11-13T14:21:42.725Z"
   },
   {
    "duration": 8,
    "start_time": "2021-11-13T14:21:43.088Z"
   },
   {
    "duration": 14,
    "start_time": "2021-11-13T14:22:42.268Z"
   },
   {
    "duration": 6,
    "start_time": "2021-11-13T14:24:15.963Z"
   },
   {
    "duration": 7,
    "start_time": "2021-11-13T14:24:19.407Z"
   },
   {
    "duration": 7,
    "start_time": "2021-11-13T14:24:28.079Z"
   },
   {
    "duration": 7,
    "start_time": "2021-11-13T14:24:30.821Z"
   },
   {
    "duration": 10,
    "start_time": "2021-11-13T14:24:39.468Z"
   },
   {
    "duration": 3297,
    "start_time": "2021-11-13T14:25:34.912Z"
   },
   {
    "duration": 893,
    "start_time": "2021-11-13T14:25:38.211Z"
   },
   {
    "duration": 26,
    "start_time": "2021-11-13T14:25:39.110Z"
   },
   {
    "duration": 25,
    "start_time": "2021-11-13T14:25:39.138Z"
   },
   {
    "duration": 26,
    "start_time": "2021-11-13T14:25:39.165Z"
   },
   {
    "duration": 34,
    "start_time": "2021-11-13T14:25:39.193Z"
   },
   {
    "duration": 5,
    "start_time": "2021-11-13T14:25:39.231Z"
   },
   {
    "duration": 691,
    "start_time": "2021-11-13T14:25:39.239Z"
   },
   {
    "duration": 9,
    "start_time": "2021-11-13T14:25:39.933Z"
   },
   {
    "duration": 24,
    "start_time": "2021-11-13T14:25:39.944Z"
   },
   {
    "duration": 767,
    "start_time": "2021-11-13T14:25:39.970Z"
   },
   {
    "duration": 39,
    "start_time": "2021-11-13T14:25:40.741Z"
   },
   {
    "duration": 139,
    "start_time": "2021-11-13T14:25:40.783Z"
   },
   {
    "duration": 402,
    "start_time": "2021-11-13T14:25:40.925Z"
   },
   {
    "duration": 5,
    "start_time": "2021-11-13T14:25:41.329Z"
   },
   {
    "duration": 37,
    "start_time": "2021-11-13T14:25:41.337Z"
   },
   {
    "duration": 663,
    "start_time": "2021-11-13T14:25:41.376Z"
   },
   {
    "duration": 36,
    "start_time": "2021-11-13T14:25:42.042Z"
   },
   {
    "duration": 603,
    "start_time": "2021-11-13T14:25:42.081Z"
   },
   {
    "duration": 51,
    "start_time": "2021-11-13T14:25:42.686Z"
   },
   {
    "duration": 542,
    "start_time": "2021-11-13T14:25:42.740Z"
   },
   {
    "duration": 474,
    "start_time": "2021-11-13T14:25:43.286Z"
   },
   {
    "duration": 12,
    "start_time": "2021-11-13T14:25:43.763Z"
   },
   {
    "duration": 70,
    "start_time": "2021-11-13T14:25:43.777Z"
   },
   {
    "duration": 509,
    "start_time": "2021-11-13T14:25:43.850Z"
   },
   {
    "duration": 5,
    "start_time": "2021-11-13T14:25:44.362Z"
   },
   {
    "duration": 8,
    "start_time": "2021-11-13T14:25:44.369Z"
   },
   {
    "duration": 47,
    "start_time": "2021-11-13T14:25:44.379Z"
   },
   {
    "duration": 6,
    "start_time": "2021-11-13T14:25:44.428Z"
   },
   {
    "duration": 9,
    "start_time": "2021-11-13T14:25:44.436Z"
   },
   {
    "duration": 8,
    "start_time": "2021-11-13T14:25:44.447Z"
   },
   {
    "duration": 26,
    "start_time": "2021-11-13T14:25:44.457Z"
   },
   {
    "duration": 39,
    "start_time": "2021-11-13T14:25:46.208Z"
   },
   {
    "duration": 15,
    "start_time": "2021-11-13T14:25:59.156Z"
   },
   {
    "duration": 6,
    "start_time": "2021-11-13T14:28:22.801Z"
   },
   {
    "duration": 13,
    "start_time": "2021-11-13T14:30:20.711Z"
   },
   {
    "duration": 22,
    "start_time": "2021-11-13T14:30:23.206Z"
   },
   {
    "duration": 12,
    "start_time": "2021-11-13T14:30:24.277Z"
   },
   {
    "duration": 5,
    "start_time": "2021-11-13T14:30:26.556Z"
   },
   {
    "duration": 12,
    "start_time": "2021-11-13T14:30:37.193Z"
   },
   {
    "duration": 26,
    "start_time": "2021-11-13T14:30:38.467Z"
   },
   {
    "duration": 14,
    "start_time": "2021-11-13T14:30:39.047Z"
   },
   {
    "duration": 1522,
    "start_time": "2021-11-13T14:31:02.535Z"
   },
   {
    "duration": 896,
    "start_time": "2021-11-13T14:31:04.060Z"
   },
   {
    "duration": 17,
    "start_time": "2021-11-13T14:31:04.959Z"
   },
   {
    "duration": 45,
    "start_time": "2021-11-13T14:31:04.979Z"
   },
   {
    "duration": 27,
    "start_time": "2021-11-13T14:31:05.026Z"
   },
   {
    "duration": 5,
    "start_time": "2021-11-13T14:31:05.056Z"
   },
   {
    "duration": 7,
    "start_time": "2021-11-13T14:31:05.064Z"
   },
   {
    "duration": 708,
    "start_time": "2021-11-13T14:31:05.075Z"
   },
   {
    "duration": 35,
    "start_time": "2021-11-13T14:31:05.787Z"
   },
   {
    "duration": 23,
    "start_time": "2021-11-13T14:31:05.825Z"
   },
   {
    "duration": 737,
    "start_time": "2021-11-13T14:31:05.851Z"
   },
   {
    "duration": 55,
    "start_time": "2021-11-13T14:31:06.590Z"
   },
   {
    "duration": 123,
    "start_time": "2021-11-13T14:31:06.648Z"
   },
   {
    "duration": 13,
    "start_time": "2021-11-13T14:31:06.773Z"
   },
   {
    "duration": 50,
    "start_time": "2021-11-13T14:31:06.788Z"
   },
   {
    "duration": 13,
    "start_time": "2021-11-13T14:31:06.840Z"
   },
   {
    "duration": 379,
    "start_time": "2021-11-13T14:31:06.856Z"
   },
   {
    "duration": 4,
    "start_time": "2021-11-13T14:31:07.237Z"
   },
   {
    "duration": 43,
    "start_time": "2021-11-13T14:31:07.244Z"
   },
   {
    "duration": 541,
    "start_time": "2021-11-13T14:31:07.289Z"
   },
   {
    "duration": 35,
    "start_time": "2021-11-13T14:31:07.833Z"
   },
   {
    "duration": 593,
    "start_time": "2021-11-13T14:31:07.870Z"
   },
   {
    "duration": 34,
    "start_time": "2021-11-13T14:31:08.468Z"
   },
   {
    "duration": 518,
    "start_time": "2021-11-13T14:31:08.523Z"
   },
   {
    "duration": 461,
    "start_time": "2021-11-13T14:31:09.043Z"
   },
   {
    "duration": 22,
    "start_time": "2021-11-13T14:31:09.506Z"
   },
   {
    "duration": 51,
    "start_time": "2021-11-13T14:31:09.531Z"
   },
   {
    "duration": 507,
    "start_time": "2021-11-13T14:31:09.584Z"
   },
   {
    "duration": 5,
    "start_time": "2021-11-13T14:31:10.093Z"
   },
   {
    "duration": 23,
    "start_time": "2021-11-13T14:31:10.101Z"
   },
   {
    "duration": 29,
    "start_time": "2021-11-13T14:31:10.127Z"
   },
   {
    "duration": 7,
    "start_time": "2021-11-13T14:31:10.158Z"
   },
   {
    "duration": 11,
    "start_time": "2021-11-13T14:31:10.167Z"
   },
   {
    "duration": 1265,
    "start_time": "2021-11-13T14:31:10.181Z"
   },
   {
    "duration": 7,
    "start_time": "2021-11-13T14:31:44.984Z"
   },
   {
    "duration": 5349,
    "start_time": "2021-11-13T14:31:45.970Z"
   },
   {
    "duration": 6,
    "start_time": "2021-11-13T14:32:44.590Z"
   },
   {
    "duration": 4,
    "start_time": "2021-11-13T14:32:46.682Z"
   },
   {
    "duration": 33,
    "start_time": "2021-11-13T14:32:47.668Z"
   },
   {
    "duration": 6,
    "start_time": "2021-11-13T14:32:48.758Z"
   },
   {
    "duration": 8,
    "start_time": "2021-11-13T14:32:51.056Z"
   },
   {
    "duration": 6769,
    "start_time": "2021-11-13T14:32:51.871Z"
   },
   {
    "duration": 5,
    "start_time": "2021-11-13T14:33:20.905Z"
   },
   {
    "duration": 4,
    "start_time": "2021-11-13T14:33:23.486Z"
   },
   {
    "duration": 35,
    "start_time": "2021-11-13T14:33:24.189Z"
   },
   {
    "duration": 8,
    "start_time": "2021-11-13T14:33:24.804Z"
   },
   {
    "duration": 7,
    "start_time": "2021-11-13T14:33:25.724Z"
   },
   {
    "duration": 6481,
    "start_time": "2021-11-13T14:33:26.394Z"
   },
   {
    "duration": 6235,
    "start_time": "2021-11-13T14:33:38.786Z"
   },
   {
    "duration": -1511,
    "start_time": "2021-11-13T14:37:43.853Z"
   },
   {
    "duration": 5,
    "start_time": "2021-11-13T14:37:44.167Z"
   },
   {
    "duration": 10,
    "start_time": "2021-11-13T14:38:41.931Z"
   },
   {
    "duration": 6881,
    "start_time": "2021-11-13T14:38:42.737Z"
   },
   {
    "duration": 6830,
    "start_time": "2021-11-13T14:39:30.718Z"
   },
   {
    "duration": 4,
    "start_time": "2021-11-13T14:43:39.763Z"
   },
   {
    "duration": 303,
    "start_time": "2021-11-13T14:44:17.730Z"
   },
   {
    "duration": 6,
    "start_time": "2021-11-13T14:44:45.443Z"
   },
   {
    "duration": 308,
    "start_time": "2021-11-13T14:44:50.535Z"
   },
   {
    "duration": 95,
    "start_time": "2021-11-13T14:45:31.840Z"
   },
   {
    "duration": 6,
    "start_time": "2021-11-13T14:45:36.315Z"
   },
   {
    "duration": 321,
    "start_time": "2021-11-13T14:46:14.594Z"
   },
   {
    "duration": 5633,
    "start_time": "2021-11-13T14:47:24.533Z"
   },
   {
    "duration": 108,
    "start_time": "2021-11-13T15:00:06.967Z"
   },
   {
    "duration": 283,
    "start_time": "2021-11-13T15:00:11.385Z"
   },
   {
    "duration": 2552,
    "start_time": "2021-11-13T15:00:37.640Z"
   },
   {
    "duration": 6,
    "start_time": "2021-11-13T15:00:44.388Z"
   },
   {
    "duration": 787,
    "start_time": "2021-11-13T15:05:08.679Z"
   },
   {
    "duration": 290,
    "start_time": "2021-11-13T15:05:12.874Z"
   },
   {
    "duration": 6632,
    "start_time": "2021-11-13T15:05:51.497Z"
   },
   {
    "duration": 5420,
    "start_time": "2021-11-13T15:09:26.698Z"
   },
   {
    "duration": 8,
    "start_time": "2021-11-13T15:09:34.582Z"
   },
   {
    "duration": 5401,
    "start_time": "2021-11-13T15:09:35.874Z"
   },
   {
    "duration": 5744,
    "start_time": "2021-11-13T15:10:55.153Z"
   },
   {
    "duration": 8,
    "start_time": "2021-11-13T15:11:56.798Z"
   },
   {
    "duration": 6042,
    "start_time": "2021-11-13T15:11:57.192Z"
   },
   {
    "duration": 5,
    "start_time": "2021-11-13T15:14:12.595Z"
   },
   {
    "duration": 7,
    "start_time": "2021-11-13T15:14:15.296Z"
   },
   {
    "duration": 5992,
    "start_time": "2021-11-13T15:14:16.587Z"
   },
   {
    "duration": 5,
    "start_time": "2021-11-13T15:14:31.379Z"
   },
   {
    "duration": 5,
    "start_time": "2021-11-13T15:16:48.541Z"
   },
   {
    "duration": 5981,
    "start_time": "2021-11-13T15:16:53.775Z"
   },
   {
    "duration": 692,
    "start_time": "2021-11-13T15:52:45.534Z"
   },
   {
    "duration": 6780,
    "start_time": "2021-11-13T15:53:36.161Z"
   },
   {
    "duration": 6,
    "start_time": "2021-11-13T15:54:01.119Z"
   },
   {
    "duration": 6086,
    "start_time": "2021-11-13T15:54:06.193Z"
   },
   {
    "duration": 24,
    "start_time": "2021-11-13T15:54:35.973Z"
   },
   {
    "duration": 4,
    "start_time": "2021-11-13T15:54:37.620Z"
   },
   {
    "duration": 20,
    "start_time": "2021-11-13T15:54:37.972Z"
   },
   {
    "duration": 208,
    "start_time": "2021-11-13T15:55:28.571Z"
   },
   {
    "duration": 191,
    "start_time": "2021-11-13T15:55:37.089Z"
   },
   {
    "duration": 200,
    "start_time": "2021-11-13T15:55:46.022Z"
   },
   {
    "duration": 205,
    "start_time": "2021-11-13T15:56:00.414Z"
   },
   {
    "duration": 8,
    "start_time": "2021-11-13T15:56:41.110Z"
   },
   {
    "duration": 1417,
    "start_time": "2021-11-13T15:56:42.275Z"
   },
   {
    "duration": 815,
    "start_time": "2021-11-13T15:57:11.993Z"
   },
   {
    "duration": 332,
    "start_time": "2021-11-13T16:00:56.330Z"
   },
   {
    "duration": 6,
    "start_time": "2021-11-13T16:02:09.384Z"
   },
   {
    "duration": 8,
    "start_time": "2021-11-13T16:02:20.211Z"
   },
   {
    "duration": 797,
    "start_time": "2021-11-13T16:02:20.940Z"
   },
   {
    "duration": 7,
    "start_time": "2021-11-13T16:04:09.084Z"
   },
   {
    "duration": 790,
    "start_time": "2021-11-13T16:04:09.663Z"
   },
   {
    "duration": 1364,
    "start_time": "2021-11-13T16:04:22.248Z"
   },
   {
    "duration": 7,
    "start_time": "2021-11-13T16:04:28.714Z"
   },
   {
    "duration": 1696,
    "start_time": "2021-11-13T16:04:29.317Z"
   },
   {
    "duration": 4988,
    "start_time": "2021-11-13T16:05:23.109Z"
   },
   {
    "duration": 445,
    "start_time": "2021-11-13T16:06:35.529Z"
   },
   {
    "duration": 369,
    "start_time": "2021-11-13T16:06:56.545Z"
   },
   {
    "duration": 9,
    "start_time": "2021-11-13T16:07:31.171Z"
   },
   {
    "duration": 383,
    "start_time": "2021-11-13T16:07:35.278Z"
   },
   {
    "duration": 10,
    "start_time": "2021-11-13T16:07:38.829Z"
   },
   {
    "duration": 12,
    "start_time": "2021-11-13T16:07:43.342Z"
   },
   {
    "duration": 310,
    "start_time": "2021-11-13T16:09:08.732Z"
   },
   {
    "duration": 297,
    "start_time": "2021-11-13T16:09:25.780Z"
   },
   {
    "duration": 6,
    "start_time": "2021-11-13T16:09:32.317Z"
   },
   {
    "duration": 4,
    "start_time": "2021-11-13T16:09:40.828Z"
   },
   {
    "duration": 613,
    "start_time": "2021-11-13T16:09:51.061Z"
   },
   {
    "duration": 604,
    "start_time": "2021-11-13T16:10:16.522Z"
   },
   {
    "duration": 6609,
    "start_time": "2021-11-13T16:10:38.734Z"
   },
   {
    "duration": 5,
    "start_time": "2021-11-13T16:11:51.047Z"
   },
   {
    "duration": 5,
    "start_time": "2021-11-13T16:11:51.906Z"
   },
   {
    "duration": 5,
    "start_time": "2021-11-13T16:11:52.530Z"
   },
   {
    "duration": 5819,
    "start_time": "2021-11-13T16:11:53.722Z"
   },
   {
    "duration": 887,
    "start_time": "2021-11-13T16:12:53.817Z"
   },
   {
    "duration": 885,
    "start_time": "2021-11-13T16:13:01.653Z"
   },
   {
    "duration": 5536,
    "start_time": "2021-11-13T16:13:17.946Z"
   },
   {
    "duration": 5,
    "start_time": "2021-11-13T16:13:45.170Z"
   },
   {
    "duration": 5,
    "start_time": "2021-11-13T16:13:50.078Z"
   },
   {
    "duration": 6,
    "start_time": "2021-11-13T16:14:03.386Z"
   },
   {
    "duration": 277,
    "start_time": "2021-11-13T16:14:08.142Z"
   },
   {
    "duration": 649,
    "start_time": "2021-11-13T16:14:23.936Z"
   },
   {
    "duration": 652,
    "start_time": "2021-11-13T16:15:10.868Z"
   },
   {
    "duration": 617,
    "start_time": "2021-11-13T16:15:15.828Z"
   },
   {
    "duration": 757,
    "start_time": "2021-11-13T16:15:21.682Z"
   },
   {
    "duration": 636,
    "start_time": "2021-11-13T16:15:27.042Z"
   },
   {
    "duration": 647,
    "start_time": "2021-11-13T16:15:30.870Z"
   },
   {
    "duration": 622,
    "start_time": "2021-11-13T16:15:36.049Z"
   },
   {
    "duration": 616,
    "start_time": "2021-11-13T16:15:38.558Z"
   },
   {
    "duration": 612,
    "start_time": "2021-11-13T16:15:43.878Z"
   },
   {
    "duration": 602,
    "start_time": "2021-11-13T16:15:51.956Z"
   },
   {
    "duration": 6,
    "start_time": "2021-11-13T16:16:35.320Z"
   },
   {
    "duration": 38,
    "start_time": "2021-11-13T16:16:54.536Z"
   },
   {
    "duration": 5,
    "start_time": "2021-11-13T16:17:56.350Z"
   },
   {
    "duration": 5,
    "start_time": "2021-11-13T16:17:57.157Z"
   },
   {
    "duration": 24,
    "start_time": "2021-11-13T16:17:57.577Z"
   },
   {
    "duration": 6,
    "start_time": "2021-11-13T16:17:58.236Z"
   },
   {
    "duration": 8,
    "start_time": "2021-11-13T16:17:59.711Z"
   },
   {
    "duration": 1372,
    "start_time": "2021-11-13T16:18:02.823Z"
   },
   {
    "duration": 9,
    "start_time": "2021-11-13T16:18:19.745Z"
   },
   {
    "duration": 1424,
    "start_time": "2021-11-13T16:18:20.394Z"
   },
   {
    "duration": 7,
    "start_time": "2021-11-13T16:18:40.268Z"
   },
   {
    "duration": 1540,
    "start_time": "2021-11-13T16:18:40.815Z"
   },
   {
    "duration": 3,
    "start_time": "2021-11-13T16:19:00.470Z"
   },
   {
    "duration": 2569,
    "start_time": "2021-11-13T16:19:10.530Z"
   },
   {
    "duration": 5,
    "start_time": "2021-11-13T16:19:16.212Z"
   },
   {
    "duration": 5,
    "start_time": "2021-11-13T16:21:41.635Z"
   },
   {
    "duration": 2436,
    "start_time": "2021-11-13T16:21:47.515Z"
   },
   {
    "duration": 6,
    "start_time": "2021-11-13T16:21:51.008Z"
   },
   {
    "duration": 9,
    "start_time": "2021-11-13T16:22:20.786Z"
   },
   {
    "duration": 1468,
    "start_time": "2021-11-13T16:22:21.149Z"
   },
   {
    "duration": 5,
    "start_time": "2021-11-13T16:23:11.382Z"
   },
   {
    "duration": 99,
    "start_time": "2021-11-13T16:23:52.879Z"
   },
   {
    "duration": 2592,
    "start_time": "2021-11-13T16:23:59.976Z"
   },
   {
    "duration": 4,
    "start_time": "2021-11-13T16:24:02.571Z"
   },
   {
    "duration": 2174,
    "start_time": "2021-11-13T18:25:45.191Z"
   },
   {
    "duration": -659,
    "start_time": "2021-11-13T18:25:48.028Z"
   },
   {
    "duration": -660,
    "start_time": "2021-11-13T18:25:48.031Z"
   },
   {
    "duration": -670,
    "start_time": "2021-11-13T18:25:48.042Z"
   },
   {
    "duration": -671,
    "start_time": "2021-11-13T18:25:48.045Z"
   },
   {
    "duration": -672,
    "start_time": "2021-11-13T18:25:48.047Z"
   },
   {
    "duration": -673,
    "start_time": "2021-11-13T18:25:48.050Z"
   },
   {
    "duration": -674,
    "start_time": "2021-11-13T18:25:48.052Z"
   },
   {
    "duration": -681,
    "start_time": "2021-11-13T18:25:48.061Z"
   },
   {
    "duration": -682,
    "start_time": "2021-11-13T18:25:48.063Z"
   },
   {
    "duration": -683,
    "start_time": "2021-11-13T18:25:48.066Z"
   },
   {
    "duration": -684,
    "start_time": "2021-11-13T18:25:48.068Z"
   },
   {
    "duration": -685,
    "start_time": "2021-11-13T18:25:48.071Z"
   },
   {
    "duration": -687,
    "start_time": "2021-11-13T18:25:48.074Z"
   },
   {
    "duration": -690,
    "start_time": "2021-11-13T18:25:48.078Z"
   },
   {
    "duration": -691,
    "start_time": "2021-11-13T18:25:48.081Z"
   },
   {
    "duration": -693,
    "start_time": "2021-11-13T18:25:48.084Z"
   },
   {
    "duration": -695,
    "start_time": "2021-11-13T18:25:48.087Z"
   },
   {
    "duration": -697,
    "start_time": "2021-11-13T18:25:48.091Z"
   },
   {
    "duration": -699,
    "start_time": "2021-11-13T18:25:48.094Z"
   },
   {
    "duration": -701,
    "start_time": "2021-11-13T18:25:48.097Z"
   },
   {
    "duration": -707,
    "start_time": "2021-11-13T18:25:48.105Z"
   },
   {
    "duration": -709,
    "start_time": "2021-11-13T18:25:48.108Z"
   },
   {
    "duration": -711,
    "start_time": "2021-11-13T18:25:48.111Z"
   },
   {
    "duration": -712,
    "start_time": "2021-11-13T18:25:48.113Z"
   },
   {
    "duration": -714,
    "start_time": "2021-11-13T18:25:48.116Z"
   },
   {
    "duration": -714,
    "start_time": "2021-11-13T18:25:48.118Z"
   },
   {
    "duration": -716,
    "start_time": "2021-11-13T18:25:48.121Z"
   },
   {
    "duration": -717,
    "start_time": "2021-11-13T18:25:48.123Z"
   },
   {
    "duration": -719,
    "start_time": "2021-11-13T18:25:48.126Z"
   },
   {
    "duration": -703,
    "start_time": "2021-11-13T18:25:48.131Z"
   },
   {
    "duration": -702,
    "start_time": "2021-11-13T18:25:48.135Z"
   },
   {
    "duration": -703,
    "start_time": "2021-11-13T18:25:48.137Z"
   },
   {
    "duration": -703,
    "start_time": "2021-11-13T18:25:48.139Z"
   },
   {
    "duration": -710,
    "start_time": "2021-11-13T18:25:48.148Z"
   },
   {
    "duration": -711,
    "start_time": "2021-11-13T18:25:48.150Z"
   },
   {
    "duration": 1233,
    "start_time": "2021-11-13T18:43:57.081Z"
   },
   {
    "duration": 1224,
    "start_time": "2021-11-13T18:44:10.323Z"
   },
   {
    "duration": 759,
    "start_time": "2021-11-13T18:44:11.549Z"
   },
   {
    "duration": 11,
    "start_time": "2021-11-13T18:44:12.312Z"
   },
   {
    "duration": 17,
    "start_time": "2021-11-13T18:44:12.325Z"
   },
   {
    "duration": 18,
    "start_time": "2021-11-13T18:44:12.363Z"
   },
   {
    "duration": 3,
    "start_time": "2021-11-13T18:44:12.383Z"
   },
   {
    "duration": 5,
    "start_time": "2021-11-13T18:44:12.388Z"
   },
   {
    "duration": 469,
    "start_time": "2021-11-13T18:44:12.395Z"
   },
   {
    "duration": 7,
    "start_time": "2021-11-13T18:44:12.866Z"
   },
   {
    "duration": 17,
    "start_time": "2021-11-13T18:44:12.875Z"
   },
   {
    "duration": 745,
    "start_time": "2021-11-13T18:44:12.894Z"
   },
   {
    "duration": 43,
    "start_time": "2021-11-13T18:44:13.642Z"
   },
   {
    "duration": 80,
    "start_time": "2021-11-13T18:44:13.688Z"
   },
   {
    "duration": 10,
    "start_time": "2021-11-13T18:44:13.770Z"
   },
   {
    "duration": 25,
    "start_time": "2021-11-13T18:44:13.782Z"
   },
   {
    "duration": 10,
    "start_time": "2021-11-13T18:44:13.809Z"
   },
   {
    "duration": 254,
    "start_time": "2021-11-13T18:44:13.820Z"
   },
   {
    "duration": 4,
    "start_time": "2021-11-13T18:44:14.076Z"
   },
   {
    "duration": 29,
    "start_time": "2021-11-13T18:44:14.082Z"
   },
   {
    "duration": 354,
    "start_time": "2021-11-13T18:44:14.113Z"
   },
   {
    "duration": 25,
    "start_time": "2021-11-13T18:44:14.469Z"
   },
   {
    "duration": 416,
    "start_time": "2021-11-13T18:44:14.499Z"
   },
   {
    "duration": 24,
    "start_time": "2021-11-13T18:44:14.917Z"
   },
   {
    "duration": 355,
    "start_time": "2021-11-13T18:44:14.943Z"
   },
   {
    "duration": 295,
    "start_time": "2021-11-13T18:44:15.300Z"
   },
   {
    "duration": 9,
    "start_time": "2021-11-13T18:44:15.596Z"
   },
   {
    "duration": 39,
    "start_time": "2021-11-13T18:44:15.607Z"
   },
   {
    "duration": 327,
    "start_time": "2021-11-13T18:44:15.648Z"
   },
   {
    "duration": 4,
    "start_time": "2021-11-13T18:44:15.977Z"
   },
   {
    "duration": 18,
    "start_time": "2021-11-13T18:44:15.982Z"
   },
   {
    "duration": 22,
    "start_time": "2021-11-13T18:44:16.002Z"
   },
   {
    "duration": 4,
    "start_time": "2021-11-13T18:44:16.026Z"
   },
   {
    "duration": 12,
    "start_time": "2021-11-13T18:44:16.032Z"
   },
   {
    "duration": 1251,
    "start_time": "2021-11-13T18:44:16.046Z"
   },
   {
    "duration": -1482,
    "start_time": "2021-11-13T18:44:18.780Z"
   },
   {
    "duration": -1484,
    "start_time": "2021-11-13T18:44:18.783Z"
   },
   {
    "duration": 1217,
    "start_time": "2021-11-13T18:45:21.128Z"
   },
   {
    "duration": 742,
    "start_time": "2021-11-13T18:45:22.347Z"
   },
   {
    "duration": 11,
    "start_time": "2021-11-13T18:45:23.093Z"
   },
   {
    "duration": 17,
    "start_time": "2021-11-13T18:45:23.106Z"
   },
   {
    "duration": 42,
    "start_time": "2021-11-13T18:45:23.124Z"
   },
   {
    "duration": 3,
    "start_time": "2021-11-13T18:45:23.168Z"
   },
   {
    "duration": 6,
    "start_time": "2021-11-13T18:45:23.173Z"
   },
   {
    "duration": 435,
    "start_time": "2021-11-13T18:45:23.181Z"
   },
   {
    "duration": 8,
    "start_time": "2021-11-13T18:45:23.617Z"
   },
   {
    "duration": 16,
    "start_time": "2021-11-13T18:45:23.627Z"
   },
   {
    "duration": 517,
    "start_time": "2021-11-13T18:45:23.645Z"
   },
   {
    "duration": 32,
    "start_time": "2021-11-13T18:45:24.164Z"
   },
   {
    "duration": 75,
    "start_time": "2021-11-13T18:45:24.198Z"
   },
   {
    "duration": 9,
    "start_time": "2021-11-13T18:45:24.275Z"
   },
   {
    "duration": 21,
    "start_time": "2021-11-13T18:45:24.286Z"
   },
   {
    "duration": 10,
    "start_time": "2021-11-13T18:45:24.308Z"
   },
   {
    "duration": 227,
    "start_time": "2021-11-13T18:45:24.320Z"
   },
   {
    "duration": 3,
    "start_time": "2021-11-13T18:45:24.549Z"
   },
   {
    "duration": 25,
    "start_time": "2021-11-13T18:45:24.562Z"
   },
   {
    "duration": 334,
    "start_time": "2021-11-13T18:45:24.589Z"
   },
   {
    "duration": 24,
    "start_time": "2021-11-13T18:45:24.925Z"
   },
   {
    "duration": 393,
    "start_time": "2021-11-13T18:45:24.952Z"
   },
   {
    "duration": 31,
    "start_time": "2021-11-13T18:45:25.347Z"
   },
   {
    "duration": 322,
    "start_time": "2021-11-13T18:45:25.380Z"
   },
   {
    "duration": 281,
    "start_time": "2021-11-13T18:45:25.704Z"
   },
   {
    "duration": 9,
    "start_time": "2021-11-13T18:45:25.986Z"
   },
   {
    "duration": 38,
    "start_time": "2021-11-13T18:45:25.997Z"
   },
   {
    "duration": 340,
    "start_time": "2021-11-13T18:45:26.037Z"
   },
   {
    "duration": 4,
    "start_time": "2021-11-13T18:45:26.379Z"
   },
   {
    "duration": 7,
    "start_time": "2021-11-13T18:45:26.385Z"
   },
   {
    "duration": 24,
    "start_time": "2021-11-13T18:45:26.393Z"
   },
   {
    "duration": 5,
    "start_time": "2021-11-13T18:45:26.418Z"
   },
   {
    "duration": 10,
    "start_time": "2021-11-13T18:45:26.424Z"
   },
   {
    "duration": 1364,
    "start_time": "2021-11-13T18:45:26.435Z"
   },
   {
    "duration": -1492,
    "start_time": "2021-11-13T18:45:29.293Z"
   },
   {
    "duration": -1501,
    "start_time": "2021-11-13T18:45:29.303Z"
   },
   {
    "duration": 1305,
    "start_time": "2021-11-14T21:59:30.897Z"
   },
   {
    "duration": 714,
    "start_time": "2021-11-14T21:59:32.203Z"
   },
   {
    "duration": 16,
    "start_time": "2021-11-14T21:59:32.922Z"
   },
   {
    "duration": 33,
    "start_time": "2021-11-14T21:59:32.940Z"
   },
   {
    "duration": 18,
    "start_time": "2021-11-14T21:59:32.976Z"
   },
   {
    "duration": 4,
    "start_time": "2021-11-14T21:59:32.996Z"
   },
   {
    "duration": 9,
    "start_time": "2021-11-14T21:59:33.003Z"
   },
   {
    "duration": 290,
    "start_time": "2021-11-14T21:59:33.015Z"
   },
   {
    "duration": 7,
    "start_time": "2021-11-14T21:59:33.308Z"
   },
   {
    "duration": 22,
    "start_time": "2021-11-14T21:59:33.317Z"
   },
   {
    "duration": 945,
    "start_time": "2021-11-14T21:59:33.341Z"
   },
   {
    "duration": 32,
    "start_time": "2021-11-14T21:59:34.288Z"
   },
   {
    "duration": 43,
    "start_time": "2021-11-14T21:59:34.322Z"
   },
   {
    "duration": 9,
    "start_time": "2021-11-14T21:59:34.366Z"
   },
   {
    "duration": 28,
    "start_time": "2021-11-14T21:59:34.377Z"
   },
   {
    "duration": 9,
    "start_time": "2021-11-14T21:59:34.407Z"
   },
   {
    "duration": 205,
    "start_time": "2021-11-14T21:59:34.417Z"
   },
   {
    "duration": 3,
    "start_time": "2021-11-14T21:59:34.623Z"
   },
   {
    "duration": 36,
    "start_time": "2021-11-14T21:59:34.628Z"
   },
   {
    "duration": 1286,
    "start_time": "2021-11-14T21:59:34.666Z"
   },
   {
    "duration": 25,
    "start_time": "2021-11-14T21:59:35.954Z"
   },
   {
    "duration": 1143,
    "start_time": "2021-11-14T21:59:35.982Z"
   },
   {
    "duration": 22,
    "start_time": "2021-11-14T21:59:37.128Z"
   },
   {
    "duration": 1180,
    "start_time": "2021-11-14T21:59:37.151Z"
   },
   {
    "duration": 652,
    "start_time": "2021-11-14T21:59:38.333Z"
   },
   {
    "duration": 8,
    "start_time": "2021-11-14T21:59:38.987Z"
   },
   {
    "duration": 33,
    "start_time": "2021-11-14T21:59:38.996Z"
   },
   {
    "duration": 1207,
    "start_time": "2021-11-14T21:59:39.031Z"
   },
   {
    "duration": 4,
    "start_time": "2021-11-14T21:59:40.240Z"
   },
   {
    "duration": 7,
    "start_time": "2021-11-14T21:59:40.246Z"
   },
   {
    "duration": 22,
    "start_time": "2021-11-14T21:59:40.255Z"
   },
   {
    "duration": 6,
    "start_time": "2021-11-14T21:59:40.278Z"
   },
   {
    "duration": 11,
    "start_time": "2021-11-14T21:59:40.285Z"
   },
   {
    "duration": 1291,
    "start_time": "2021-11-14T21:59:40.298Z"
   },
   {
    "duration": -1027,
    "start_time": "2021-11-14T21:59:42.618Z"
   },
   {
    "duration": -1032,
    "start_time": "2021-11-14T21:59:42.624Z"
   },
   {
    "duration": 1279,
    "start_time": "2021-11-14T22:02:23.617Z"
   },
   {
    "duration": 725,
    "start_time": "2021-11-14T22:02:24.898Z"
   },
   {
    "duration": 15,
    "start_time": "2021-11-14T22:02:25.625Z"
   },
   {
    "duration": 24,
    "start_time": "2021-11-14T22:02:25.642Z"
   },
   {
    "duration": 17,
    "start_time": "2021-11-14T22:02:25.668Z"
   },
   {
    "duration": 3,
    "start_time": "2021-11-14T22:02:25.687Z"
   },
   {
    "duration": 4,
    "start_time": "2021-11-14T22:02:25.692Z"
   },
   {
    "duration": 281,
    "start_time": "2021-11-14T22:02:25.699Z"
   },
   {
    "duration": 8,
    "start_time": "2021-11-14T22:02:25.982Z"
   },
   {
    "duration": 15,
    "start_time": "2021-11-14T22:02:25.992Z"
   },
   {
    "duration": 857,
    "start_time": "2021-11-14T22:02:26.009Z"
   },
   {
    "duration": 31,
    "start_time": "2021-11-14T22:02:26.868Z"
   },
   {
    "duration": 23,
    "start_time": "2021-11-14T22:02:26.901Z"
   },
   {
    "duration": 8,
    "start_time": "2021-11-14T22:02:26.926Z"
   },
   {
    "duration": 45,
    "start_time": "2021-11-14T22:02:26.936Z"
   },
   {
    "duration": 10,
    "start_time": "2021-11-14T22:02:26.983Z"
   },
   {
    "duration": 219,
    "start_time": "2021-11-14T22:02:26.995Z"
   },
   {
    "duration": 2,
    "start_time": "2021-11-14T22:02:27.216Z"
   },
   {
    "duration": 32,
    "start_time": "2021-11-14T22:02:27.220Z"
   },
   {
    "duration": 1179,
    "start_time": "2021-11-14T22:02:27.263Z"
   },
   {
    "duration": 26,
    "start_time": "2021-11-14T22:02:28.444Z"
   },
   {
    "duration": 1061,
    "start_time": "2021-11-14T22:02:28.472Z"
   },
   {
    "duration": 31,
    "start_time": "2021-11-14T22:02:29.537Z"
   },
   {
    "duration": 1266,
    "start_time": "2021-11-14T22:02:29.571Z"
   },
   {
    "duration": 549,
    "start_time": "2021-11-14T22:02:30.839Z"
   },
   {
    "duration": 9,
    "start_time": "2021-11-14T22:02:31.390Z"
   },
   {
    "duration": 37,
    "start_time": "2021-11-14T22:02:31.401Z"
   },
   {
    "duration": 1193,
    "start_time": "2021-11-14T22:02:31.440Z"
   },
   {
    "duration": 4,
    "start_time": "2021-11-14T22:02:32.634Z"
   },
   {
    "duration": 7,
    "start_time": "2021-11-14T22:02:32.640Z"
   },
   {
    "duration": 28,
    "start_time": "2021-11-14T22:02:32.648Z"
   },
   {
    "duration": 4,
    "start_time": "2021-11-14T22:02:32.677Z"
   },
   {
    "duration": 5,
    "start_time": "2021-11-14T22:02:32.683Z"
   },
   {
    "duration": 1357,
    "start_time": "2021-11-14T22:02:32.690Z"
   },
   {
    "duration": -1006,
    "start_time": "2021-11-14T22:02:35.055Z"
   },
   {
    "duration": -1013,
    "start_time": "2021-11-14T22:02:35.063Z"
   },
   {
    "duration": 6,
    "start_time": "2021-11-14T22:06:22.048Z"
   },
   {
    "duration": 1167,
    "start_time": "2021-11-14T22:06:24.347Z"
   },
   {
    "duration": 476,
    "start_time": "2021-11-14T22:06:42.269Z"
   },
   {
    "duration": 416,
    "start_time": "2021-11-14T22:06:53.966Z"
   },
   {
    "duration": 1137,
    "start_time": "2021-11-14T22:07:01.639Z"
   },
   {
    "duration": 2,
    "start_time": "2021-11-14T22:18:39.255Z"
   },
   {
    "duration": 4,
    "start_time": "2021-11-14T22:18:40.137Z"
   },
   {
    "duration": 450,
    "start_time": "2021-11-15T11:45:33.642Z"
   },
   {
    "duration": 6,
    "start_time": "2021-11-15T11:45:45.047Z"
   },
   {
    "duration": 2233,
    "start_time": "2021-11-15T11:45:45.056Z"
   },
   {
    "duration": 954,
    "start_time": "2021-11-15T11:45:47.294Z"
   },
   {
    "duration": 17,
    "start_time": "2021-11-15T11:45:48.251Z"
   },
   {
    "duration": 46,
    "start_time": "2021-11-15T11:45:48.270Z"
   },
   {
    "duration": 28,
    "start_time": "2021-11-15T11:45:48.320Z"
   },
   {
    "duration": 4,
    "start_time": "2021-11-15T11:45:48.350Z"
   },
   {
    "duration": 5,
    "start_time": "2021-11-15T11:45:48.358Z"
   },
   {
    "duration": 741,
    "start_time": "2021-11-15T11:45:48.366Z"
   },
   {
    "duration": 11,
    "start_time": "2021-11-15T11:45:49.109Z"
   },
   {
    "duration": 22,
    "start_time": "2021-11-15T11:45:49.125Z"
   },
   {
    "duration": 850,
    "start_time": "2021-11-15T11:45:49.150Z"
   },
   {
    "duration": 38,
    "start_time": "2021-11-15T11:45:50.003Z"
   },
   {
    "duration": 135,
    "start_time": "2021-11-15T11:45:50.044Z"
   },
   {
    "duration": 21,
    "start_time": "2021-11-15T11:45:50.181Z"
   },
   {
    "duration": 40,
    "start_time": "2021-11-15T11:45:50.205Z"
   },
   {
    "duration": 13,
    "start_time": "2021-11-15T11:45:50.248Z"
   },
   {
    "duration": 408,
    "start_time": "2021-11-15T11:45:50.263Z"
   },
   {
    "duration": 4,
    "start_time": "2021-11-15T11:45:50.674Z"
   },
   {
    "duration": 57,
    "start_time": "2021-11-15T11:45:50.681Z"
   },
   {
    "duration": 563,
    "start_time": "2021-11-15T11:45:50.740Z"
   },
   {
    "duration": 36,
    "start_time": "2021-11-15T11:45:51.305Z"
   },
   {
    "duration": 624,
    "start_time": "2021-11-15T11:45:51.346Z"
   },
   {
    "duration": 53,
    "start_time": "2021-11-15T11:45:51.973Z"
   },
   {
    "duration": 575,
    "start_time": "2021-11-15T11:45:52.029Z"
   },
   {
    "duration": 533,
    "start_time": "2021-11-15T11:45:52.608Z"
   },
   {
    "duration": -674,
    "start_time": "2021-11-15T11:45:53.819Z"
   },
   {
    "duration": -678,
    "start_time": "2021-11-15T11:45:53.825Z"
   },
   {
    "duration": -680,
    "start_time": "2021-11-15T11:45:53.829Z"
   },
   {
    "duration": -681,
    "start_time": "2021-11-15T11:45:53.832Z"
   },
   {
    "duration": -690,
    "start_time": "2021-11-15T11:45:53.843Z"
   },
   {
    "duration": -692,
    "start_time": "2021-11-15T11:45:53.847Z"
   },
   {
    "duration": -693,
    "start_time": "2021-11-15T11:45:53.850Z"
   },
   {
    "duration": -692,
    "start_time": "2021-11-15T11:45:53.852Z"
   },
   {
    "duration": -694,
    "start_time": "2021-11-15T11:45:53.856Z"
   },
   {
    "duration": -695,
    "start_time": "2021-11-15T11:45:53.859Z"
   },
   {
    "duration": -696,
    "start_time": "2021-11-15T11:45:53.862Z"
   },
   {
    "duration": -699,
    "start_time": "2021-11-15T11:45:53.867Z"
   },
   {
    "duration": 12,
    "start_time": "2021-11-15T11:46:23.443Z"
   },
   {
    "duration": 11,
    "start_time": "2021-11-15T11:46:30.238Z"
   },
   {
    "duration": 477,
    "start_time": "2021-11-15T11:47:00.594Z"
   },
   {
    "duration": 12,
    "start_time": "2021-11-15T11:47:26.501Z"
   },
   {
    "duration": 50,
    "start_time": "2021-11-15T11:47:26.936Z"
   },
   {
    "duration": 542,
    "start_time": "2021-11-15T11:48:17.719Z"
   },
   {
    "duration": 122,
    "start_time": "2021-11-15T11:52:57.678Z"
   },
   {
    "duration": 5,
    "start_time": "2021-11-15T11:53:05.057Z"
   },
   {
    "duration": 5,
    "start_time": "2021-11-15T11:53:40.169Z"
   },
   {
    "duration": 4,
    "start_time": "2021-11-15T12:50:10.584Z"
   },
   {
    "duration": 1585,
    "start_time": "2021-11-15T12:50:10.615Z"
   },
   {
    "duration": 921,
    "start_time": "2021-11-15T12:50:12.203Z"
   },
   {
    "duration": 17,
    "start_time": "2021-11-15T12:50:13.127Z"
   },
   {
    "duration": 25,
    "start_time": "2021-11-15T12:50:13.146Z"
   },
   {
    "duration": 52,
    "start_time": "2021-11-15T12:50:13.173Z"
   },
   {
    "duration": 5,
    "start_time": "2021-11-15T12:50:13.227Z"
   },
   {
    "duration": 10,
    "start_time": "2021-11-15T12:50:13.235Z"
   },
   {
    "duration": 720,
    "start_time": "2021-11-15T12:50:13.250Z"
   },
   {
    "duration": 11,
    "start_time": "2021-11-15T12:50:13.973Z"
   },
   {
    "duration": 33,
    "start_time": "2021-11-15T12:50:13.986Z"
   },
   {
    "duration": 862,
    "start_time": "2021-11-15T12:50:14.021Z"
   },
   {
    "duration": 61,
    "start_time": "2021-11-15T12:50:14.886Z"
   },
   {
    "duration": 192,
    "start_time": "2021-11-15T12:50:14.950Z"
   },
   {
    "duration": 15,
    "start_time": "2021-11-15T12:50:15.145Z"
   },
   {
    "duration": 57,
    "start_time": "2021-11-15T12:50:15.163Z"
   },
   {
    "duration": 15,
    "start_time": "2021-11-15T12:50:15.223Z"
   },
   {
    "duration": 491,
    "start_time": "2021-11-15T12:50:15.241Z"
   },
   {
    "duration": 5,
    "start_time": "2021-11-15T12:50:15.735Z"
   },
   {
    "duration": 73,
    "start_time": "2021-11-15T12:50:15.743Z"
   },
   {
    "duration": 773,
    "start_time": "2021-11-15T12:50:15.820Z"
   },
   {
    "duration": 47,
    "start_time": "2021-11-15T12:50:16.600Z"
   },
   {
    "duration": 850,
    "start_time": "2021-11-15T12:50:16.650Z"
   },
   {
    "duration": 34,
    "start_time": "2021-11-15T12:50:17.506Z"
   },
   {
    "duration": 568,
    "start_time": "2021-11-15T12:50:17.543Z"
   },
   {
    "duration": 12,
    "start_time": "2021-11-15T12:50:18.114Z"
   },
   {
    "duration": 16,
    "start_time": "2021-11-15T12:50:18.129Z"
   },
   {
    "duration": 489,
    "start_time": "2021-11-15T12:50:18.148Z"
   },
   {
    "duration": 12,
    "start_time": "2021-11-15T12:50:18.639Z"
   },
   {
    "duration": 68,
    "start_time": "2021-11-15T12:50:18.654Z"
   },
   {
    "duration": 524,
    "start_time": "2021-11-15T12:50:18.725Z"
   },
   {
    "duration": 538,
    "start_time": "2021-11-15T12:50:19.252Z"
   },
   {
    "duration": -925,
    "start_time": "2021-11-15T12:50:20.718Z"
   },
   {
    "duration": -926,
    "start_time": "2021-11-15T12:50:20.721Z"
   },
   {
    "duration": -936,
    "start_time": "2021-11-15T12:50:20.733Z"
   },
   {
    "duration": -937,
    "start_time": "2021-11-15T12:50:20.736Z"
   },
   {
    "duration": -938,
    "start_time": "2021-11-15T12:50:20.739Z"
   },
   {
    "duration": -941,
    "start_time": "2021-11-15T12:50:20.744Z"
   },
   {
    "duration": -943,
    "start_time": "2021-11-15T12:50:20.747Z"
   },
   {
    "duration": -943,
    "start_time": "2021-11-15T12:50:20.749Z"
   },
   {
    "duration": 217,
    "start_time": "2021-11-15T12:50:50.397Z"
   },
   {
    "duration": 253,
    "start_time": "2021-11-15T12:51:16.377Z"
   },
   {
    "duration": 333,
    "start_time": "2021-11-15T12:51:50.797Z"
   },
   {
    "duration": 358,
    "start_time": "2021-11-15T12:52:02.667Z"
   },
   {
    "duration": 466,
    "start_time": "2021-11-15T12:58:32.134Z"
   },
   {
    "duration": 428,
    "start_time": "2021-11-15T12:58:41.763Z"
   },
   {
    "duration": 497,
    "start_time": "2021-11-15T12:59:25.320Z"
   },
   {
    "duration": 707,
    "start_time": "2021-11-15T12:59:37.399Z"
   },
   {
    "duration": 692,
    "start_time": "2021-11-15T12:59:47.998Z"
   },
   {
    "duration": 332,
    "start_time": "2021-11-15T13:00:04.020Z"
   },
   {
    "duration": 448,
    "start_time": "2021-11-15T13:00:11.300Z"
   },
   {
    "duration": 378,
    "start_time": "2021-11-15T13:00:47.728Z"
   },
   {
    "duration": 512,
    "start_time": "2021-11-15T13:04:14.467Z"
   },
   {
    "duration": 489,
    "start_time": "2021-11-15T13:04:24.797Z"
   },
   {
    "duration": 517,
    "start_time": "2021-11-15T13:05:06.553Z"
   },
   {
    "duration": 8,
    "start_time": "2021-11-15T13:21:49.059Z"
   },
   {
    "duration": 388,
    "start_time": "2021-11-15T13:21:56.858Z"
   },
   {
    "duration": 9,
    "start_time": "2021-11-15T13:22:03.413Z"
   },
   {
    "duration": 402,
    "start_time": "2021-11-15T13:22:09.737Z"
   },
   {
    "duration": 6,
    "start_time": "2021-11-15T13:22:13.121Z"
   },
   {
    "duration": 5,
    "start_time": "2021-11-15T13:22:19.259Z"
   },
   {
    "duration": 7,
    "start_time": "2021-11-15T13:22:22.277Z"
   },
   {
    "duration": 4,
    "start_time": "2021-11-15T13:23:16.379Z"
   },
   {
    "duration": 5,
    "start_time": "2021-11-15T13:23:20.522Z"
   },
   {
    "duration": 4,
    "start_time": "2021-11-15T13:23:25.331Z"
   },
   {
    "duration": 6,
    "start_time": "2021-11-15T13:23:28.452Z"
   },
   {
    "duration": 382,
    "start_time": "2021-11-15T13:23:44.777Z"
   },
   {
    "duration": 415,
    "start_time": "2021-11-15T13:23:49.017Z"
   },
   {
    "duration": 14,
    "start_time": "2021-11-15T13:23:57.526Z"
   },
   {
    "duration": 17,
    "start_time": "2021-11-15T13:25:20.140Z"
   },
   {
    "duration": 16,
    "start_time": "2021-11-15T13:25:29.757Z"
   },
   {
    "duration": 14,
    "start_time": "2021-11-15T13:25:41.318Z"
   },
   {
    "duration": 16,
    "start_time": "2021-11-15T13:25:55.717Z"
   },
   {
    "duration": 3,
    "start_time": "2021-11-17T14:11:54.271Z"
   },
   {
    "duration": 1252,
    "start_time": "2021-11-17T14:11:54.278Z"
   },
   {
    "duration": 729,
    "start_time": "2021-11-17T14:11:55.532Z"
   },
   {
    "duration": 11,
    "start_time": "2021-11-17T14:11:56.263Z"
   },
   {
    "duration": 15,
    "start_time": "2021-11-17T14:11:56.275Z"
   },
   {
    "duration": 18,
    "start_time": "2021-11-17T14:11:56.292Z"
   },
   {
    "duration": 3,
    "start_time": "2021-11-17T14:11:56.312Z"
   },
   {
    "duration": 8,
    "start_time": "2021-11-17T14:11:56.344Z"
   },
   {
    "duration": 442,
    "start_time": "2021-11-17T14:11:56.355Z"
   },
   {
    "duration": 8,
    "start_time": "2021-11-17T14:11:56.799Z"
   },
   {
    "duration": 32,
    "start_time": "2021-11-17T14:11:56.808Z"
   },
   {
    "duration": 978,
    "start_time": "2021-11-17T14:11:56.843Z"
   },
   {
    "duration": 47,
    "start_time": "2021-11-17T14:11:57.824Z"
   },
   {
    "duration": 63,
    "start_time": "2021-11-17T14:11:57.872Z"
   },
   {
    "duration": 10,
    "start_time": "2021-11-17T14:11:57.944Z"
   },
   {
    "duration": 20,
    "start_time": "2021-11-17T14:11:57.955Z"
   },
   {
    "duration": 11,
    "start_time": "2021-11-17T14:11:57.976Z"
   },
   {
    "duration": 274,
    "start_time": "2021-11-17T14:11:57.989Z"
   },
   {
    "duration": 3,
    "start_time": "2021-11-17T14:11:58.265Z"
   },
   {
    "duration": 70,
    "start_time": "2021-11-17T14:11:58.270Z"
   },
   {
    "duration": 470,
    "start_time": "2021-11-17T14:11:58.342Z"
   },
   {
    "duration": 48,
    "start_time": "2021-11-17T14:11:58.814Z"
   },
   {
    "duration": 396,
    "start_time": "2021-11-17T14:11:58.864Z"
   },
   {
    "duration": 23,
    "start_time": "2021-11-17T14:11:59.265Z"
   },
   {
    "duration": 358,
    "start_time": "2021-11-17T14:11:59.290Z"
   },
   {
    "duration": 13,
    "start_time": "2021-11-17T14:11:59.650Z"
   },
   {
    "duration": 8,
    "start_time": "2021-11-17T14:11:59.665Z"
   },
   {
    "duration": 327,
    "start_time": "2021-11-17T14:11:59.675Z"
   },
   {
    "duration": 9,
    "start_time": "2021-11-17T14:12:00.005Z"
   },
   {
    "duration": 66,
    "start_time": "2021-11-17T14:12:00.016Z"
   },
   {
    "duration": 343,
    "start_time": "2021-11-17T14:12:00.084Z"
   },
   {
    "duration": 322,
    "start_time": "2021-11-17T14:12:00.428Z"
   },
   {
    "duration": 5,
    "start_time": "2021-11-17T14:12:00.752Z"
   },
   {
    "duration": 21,
    "start_time": "2021-11-17T14:12:00.759Z"
   },
   {
    "duration": 11,
    "start_time": "2021-11-17T14:12:00.782Z"
   },
   {
    "duration": 11,
    "start_time": "2021-11-17T14:12:00.794Z"
   },
   {
    "duration": 15,
    "start_time": "2021-11-17T14:12:00.807Z"
   },
   {
    "duration": 25,
    "start_time": "2021-11-17T14:12:00.824Z"
   },
   {
    "duration": 20,
    "start_time": "2021-11-17T14:12:00.851Z"
   },
   {
    "duration": 39,
    "start_time": "2021-11-17T14:12:00.873Z"
   },
   {
    "duration": 5,
    "start_time": "2021-11-17T14:12:00.914Z"
   },
   {
    "duration": 13,
    "start_time": "2021-11-17T14:12:00.921Z"
   },
   {
    "duration": 774,
    "start_time": "2021-11-17T14:12:00.936Z"
   },
   {
    "duration": 327,
    "start_time": "2021-11-17T14:12:01.385Z"
   },
   {
    "duration": 322,
    "start_time": "2021-11-17T14:12:01.391Z"
   },
   {
    "duration": 4,
    "start_time": "2021-11-17T14:13:09.145Z"
   },
   {
    "duration": 252,
    "start_time": "2021-11-17T14:13:17.941Z"
   },
   {
    "duration": 253,
    "start_time": "2021-11-17T14:13:32.653Z"
   },
   {
    "duration": 4,
    "start_time": "2021-11-17T14:16:08.529Z"
   },
   {
    "duration": 7,
    "start_time": "2021-11-17T14:16:12.666Z"
   },
   {
    "duration": 12,
    "start_time": "2021-11-17T14:16:29.563Z"
   },
   {
    "duration": 8,
    "start_time": "2021-11-17T14:16:45.177Z"
   },
   {
    "duration": 8,
    "start_time": "2021-11-17T14:16:56.573Z"
   },
   {
    "duration": 4,
    "start_time": "2021-11-17T14:17:00.974Z"
   },
   {
    "duration": 4,
    "start_time": "2021-11-17T14:17:03.653Z"
   },
   {
    "duration": 8,
    "start_time": "2021-11-17T14:17:10.569Z"
   },
   {
    "duration": 4,
    "start_time": "2021-11-17T14:17:30.327Z"
   },
   {
    "duration": 4,
    "start_time": "2021-11-17T14:17:34.999Z"
   },
   {
    "duration": 7,
    "start_time": "2021-11-17T14:17:35.419Z"
   },
   {
    "duration": 8,
    "start_time": "2021-11-17T14:17:36.111Z"
   },
   {
    "duration": 10,
    "start_time": "2021-11-17T14:17:43.572Z"
   },
   {
    "duration": 6,
    "start_time": "2021-11-17T14:18:08.892Z"
   },
   {
    "duration": 316,
    "start_time": "2021-11-17T14:19:09.736Z"
   },
   {
    "duration": 259,
    "start_time": "2021-11-17T14:19:29.619Z"
   },
   {
    "duration": 273,
    "start_time": "2021-11-17T14:19:41.200Z"
   },
   {
    "duration": 437,
    "start_time": "2021-11-17T14:20:22.576Z"
   },
   {
    "duration": 294,
    "start_time": "2021-11-17T14:20:42.710Z"
   },
   {
    "duration": 6,
    "start_time": "2021-11-17T14:20:58.673Z"
   },
   {
    "duration": 6,
    "start_time": "2021-11-17T14:21:04.414Z"
   },
   {
    "duration": 5,
    "start_time": "2021-11-17T14:21:20.895Z"
   },
   {
    "duration": 6,
    "start_time": "2021-11-17T14:21:25.364Z"
   },
   {
    "duration": 12,
    "start_time": "2021-11-17T14:21:43.847Z"
   },
   {
    "duration": 5,
    "start_time": "2021-11-17T14:23:11.629Z"
   },
   {
    "duration": 6,
    "start_time": "2021-11-17T14:23:30.958Z"
   },
   {
    "duration": 8,
    "start_time": "2021-11-17T14:23:37.563Z"
   },
   {
    "duration": 5,
    "start_time": "2021-11-17T14:23:37.694Z"
   },
   {
    "duration": 264,
    "start_time": "2021-11-17T14:23:46.732Z"
   },
   {
    "duration": 265,
    "start_time": "2021-11-17T14:23:48.977Z"
   },
   {
    "duration": 294,
    "start_time": "2021-11-17T14:23:52.836Z"
   },
   {
    "duration": 6,
    "start_time": "2021-11-17T14:23:54.932Z"
   },
   {
    "duration": 87,
    "start_time": "2021-11-17T14:24:01.788Z"
   },
   {
    "duration": 4,
    "start_time": "2021-11-17T14:24:04.838Z"
   },
   {
    "duration": 7,
    "start_time": "2021-11-17T14:24:08.550Z"
   },
   {
    "duration": 5,
    "start_time": "2021-11-17T14:24:11.353Z"
   },
   {
    "duration": 4,
    "start_time": "2021-11-17T14:24:15.359Z"
   },
   {
    "duration": 4,
    "start_time": "2021-11-17T14:24:18.006Z"
   },
   {
    "duration": 6,
    "start_time": "2021-11-17T14:24:39.849Z"
   },
   {
    "duration": 5,
    "start_time": "2021-11-17T14:25:08.993Z"
   },
   {
    "duration": 5,
    "start_time": "2021-11-17T14:25:15.359Z"
   },
   {
    "duration": 5,
    "start_time": "2021-11-17T14:25:19.020Z"
   },
   {
    "duration": 94,
    "start_time": "2021-11-17T14:26:39.984Z"
   },
   {
    "duration": 5,
    "start_time": "2021-11-17T14:26:56.366Z"
   },
   {
    "duration": 3,
    "start_time": "2021-11-17T14:27:16.814Z"
   },
   {
    "duration": 3,
    "start_time": "2021-11-17T14:27:38.587Z"
   },
   {
    "duration": 516,
    "start_time": "2021-11-17T14:27:48.099Z"
   },
   {
    "duration": 521,
    "start_time": "2021-11-17T14:28:29.303Z"
   },
   {
    "duration": 3,
    "start_time": "2021-11-17T14:28:56.396Z"
   },
   {
    "duration": 4,
    "start_time": "2021-11-17T14:28:57.778Z"
   },
   {
    "duration": 3,
    "start_time": "2021-11-17T14:28:58.099Z"
   },
   {
    "duration": 541,
    "start_time": "2021-11-17T14:28:58.717Z"
   },
   {
    "duration": 3,
    "start_time": "2021-11-17T14:29:54.089Z"
   },
   {
    "duration": 3,
    "start_time": "2021-11-17T14:29:55.229Z"
   },
   {
    "duration": 526,
    "start_time": "2021-11-17T14:29:55.523Z"
   },
   {
    "duration": 7,
    "start_time": "2021-11-17T14:30:17.762Z"
   },
   {
    "duration": 9,
    "start_time": "2021-11-17T14:30:21.757Z"
   },
   {
    "duration": 5,
    "start_time": "2021-11-17T14:30:25.130Z"
   },
   {
    "duration": 3,
    "start_time": "2021-11-17T14:33:10.506Z"
   },
   {
    "duration": 5,
    "start_time": "2021-11-17T14:34:11.671Z"
   },
   {
    "duration": 284,
    "start_time": "2021-11-17T14:35:05.886Z"
   },
   {
    "duration": 565,
    "start_time": "2021-11-17T14:35:20.323Z"
   },
   {
    "duration": 4,
    "start_time": "2021-11-17T14:35:30.386Z"
   },
   {
    "duration": 578,
    "start_time": "2021-11-17T14:35:36.057Z"
   },
   {
    "duration": 577,
    "start_time": "2021-11-17T14:35:57.149Z"
   },
   {
    "duration": 545,
    "start_time": "2021-11-17T14:36:19.070Z"
   },
   {
    "duration": 550,
    "start_time": "2021-11-17T14:37:04.708Z"
   },
   {
    "duration": 307,
    "start_time": "2021-11-17T14:39:11.510Z"
   },
   {
    "duration": 533,
    "start_time": "2021-11-17T14:39:17.670Z"
   },
   {
    "duration": 502,
    "start_time": "2021-11-17T14:40:17.420Z"
   },
   {
    "duration": 14,
    "start_time": "2021-11-17T14:52:08.967Z"
   },
   {
    "duration": 7,
    "start_time": "2021-11-17T14:52:39.656Z"
   },
   {
    "duration": 4,
    "start_time": "2021-11-17T14:53:07.903Z"
   },
   {
    "duration": 369,
    "start_time": "2021-11-17T14:53:46.799Z"
   },
   {
    "duration": 6,
    "start_time": "2021-11-17T14:53:58.648Z"
   },
   {
    "duration": 2,
    "start_time": "2021-11-17T14:54:07.905Z"
   },
   {
    "duration": 273,
    "start_time": "2021-11-17T14:54:33.632Z"
   },
   {
    "duration": 358,
    "start_time": "2021-11-17T15:00:14.431Z"
   },
   {
    "duration": 356,
    "start_time": "2021-11-17T15:00:14.434Z"
   },
   {
    "duration": 354,
    "start_time": "2021-11-17T15:00:14.437Z"
   },
   {
    "duration": 3,
    "start_time": "2021-11-17T15:00:16.558Z"
   },
   {
    "duration": 406551,
    "start_time": "2021-11-17T15:00:17.335Z"
   },
   {
    "duration": 5,
    "start_time": "2021-11-17T15:08:02.916Z"
   },
   {
    "duration": 3,
    "start_time": "2021-11-17T15:10:28.120Z"
   },
   {
    "duration": 4,
    "start_time": "2021-11-17T15:15:48.497Z"
   },
   {
    "duration": 362,
    "start_time": "2021-11-17T15:15:57.361Z"
   },
   {
    "duration": 270,
    "start_time": "2021-11-17T15:16:05.196Z"
   },
   {
    "duration": 4,
    "start_time": "2021-11-17T15:16:09.270Z"
   },
   {
    "duration": 418030,
    "start_time": "2021-11-17T15:16:20.076Z"
   },
   {
    "duration": 9,
    "start_time": "2021-11-17T15:23:23.364Z"
   },
   {
    "duration": 8,
    "start_time": "2021-11-17T15:23:25.950Z"
   },
   {
    "duration": 4,
    "start_time": "2021-11-17T15:27:19.484Z"
   },
   {
    "duration": 4,
    "start_time": "2021-11-17T15:27:36.447Z"
   },
   {
    "duration": 4,
    "start_time": "2021-11-17T15:31:35.091Z"
   },
   {
    "duration": 5,
    "start_time": "2021-11-17T15:32:16.235Z"
   },
   {
    "duration": 4,
    "start_time": "2021-11-17T15:35:48.361Z"
   },
   {
    "duration": 3,
    "start_time": "2021-11-17T15:37:02.477Z"
   },
   {
    "duration": 3,
    "start_time": "2021-11-17T15:37:44.355Z"
   },
   {
    "duration": 4674,
    "start_time": "2021-11-17T15:38:12.689Z"
   },
   {
    "duration": 4,
    "start_time": "2021-11-17T15:38:29.308Z"
   },
   {
    "duration": 3,
    "start_time": "2021-11-17T15:38:35.498Z"
   },
   {
    "duration": 3,
    "start_time": "2021-11-17T15:38:36.772Z"
   },
   {
    "duration": 41114,
    "start_time": "2021-11-17T15:38:37.179Z"
   },
   {
    "duration": 4,
    "start_time": "2021-11-17T15:39:18.294Z"
   },
   {
    "duration": 17,
    "start_time": "2021-11-17T15:39:18.300Z"
   },
   {
    "duration": 3,
    "start_time": "2021-11-17T15:39:33.323Z"
   },
   {
    "duration": 91946,
    "start_time": "2021-11-17T15:39:33.706Z"
   },
   {
    "duration": 5,
    "start_time": "2021-11-17T15:41:05.654Z"
   },
   {
    "duration": 21,
    "start_time": "2021-11-17T15:41:05.661Z"
   },
   {
    "duration": 4,
    "start_time": "2021-11-17T15:42:41.678Z"
   },
   {
    "duration": 4,
    "start_time": "2021-11-17T15:43:16.033Z"
   },
   {
    "duration": 375,
    "start_time": "2021-11-17T15:43:35.499Z"
   },
   {
    "duration": 352,
    "start_time": "2021-11-17T15:43:35.523Z"
   },
   {
    "duration": 347,
    "start_time": "2021-11-17T15:43:35.529Z"
   },
   {
    "duration": 344,
    "start_time": "2021-11-17T15:43:35.533Z"
   },
   {
    "duration": 3,
    "start_time": "2021-11-17T15:43:37.285Z"
   },
   {
    "duration": 40452,
    "start_time": "2021-11-17T15:43:37.932Z"
   },
   {
    "duration": 4,
    "start_time": "2021-11-17T15:44:18.386Z"
   },
   {
    "duration": 6,
    "start_time": "2021-11-17T15:44:18.391Z"
   },
   {
    "duration": 3,
    "start_time": "2021-11-17T15:45:12.228Z"
   },
   {
    "duration": 2,
    "start_time": "2021-11-17T15:45:38.912Z"
   },
   {
    "duration": 324,
    "start_time": "2021-11-17T15:45:52.215Z"
   },
   {
    "duration": 3,
    "start_time": "2021-11-17T15:46:03.851Z"
   },
   {
    "duration": 3,
    "start_time": "2021-11-17T15:46:04.212Z"
   },
   {
    "duration": 315,
    "start_time": "2021-11-17T15:46:04.751Z"
   },
   {
    "duration": 3,
    "start_time": "2021-11-17T15:46:18.845Z"
   },
   {
    "duration": 3,
    "start_time": "2021-11-17T15:46:19.204Z"
   },
   {
    "duration": 72,
    "start_time": "2021-11-17T15:46:19.665Z"
   },
   {
    "duration": 4,
    "start_time": "2021-11-17T15:46:35.464Z"
   },
   {
    "duration": 4,
    "start_time": "2021-11-17T15:46:52.920Z"
   },
   {
    "duration": 263,
    "start_time": "2021-11-17T15:51:13.813Z"
   },
   {
    "duration": 846,
    "start_time": "2021-11-17T15:51:16.031Z"
   },
   {
    "duration": 4,
    "start_time": "2021-11-17T15:51:26.366Z"
   },
   {
    "duration": 114,
    "start_time": "2021-11-17T15:52:03.858Z"
   },
   {
    "duration": 81,
    "start_time": "2021-11-17T15:52:11.525Z"
   },
   {
    "duration": 4,
    "start_time": "2021-11-17T15:52:24.071Z"
   },
   {
    "duration": 4,
    "start_time": "2021-11-17T15:52:55.052Z"
   },
   {
    "duration": 4,
    "start_time": "2021-11-17T15:54:06.292Z"
   },
   {
    "duration": 3,
    "start_time": "2021-11-17T15:54:39.776Z"
   },
   {
    "duration": 3,
    "start_time": "2021-11-17T15:54:41.769Z"
   },
   {
    "duration": 4,
    "start_time": "2021-11-17T15:54:42.288Z"
   },
   {
    "duration": 57,
    "start_time": "2021-11-17T15:54:42.747Z"
   },
   {
    "duration": 4,
    "start_time": "2021-11-17T15:54:43.306Z"
   },
   {
    "duration": 5,
    "start_time": "2021-11-17T15:55:45.748Z"
   },
   {
    "duration": 87,
    "start_time": "2021-11-17T15:55:50.821Z"
   },
   {
    "duration": 3,
    "start_time": "2021-11-17T15:55:55.428Z"
   },
   {
    "duration": 286,
    "start_time": "2021-11-17T16:01:16.981Z"
   },
   {
    "duration": 256,
    "start_time": "2021-11-17T16:02:37.177Z"
   },
   {
    "duration": 268,
    "start_time": "2021-11-17T16:02:41.377Z"
   },
   {
    "duration": 4,
    "start_time": "2021-11-17T16:02:46.183Z"
   },
   {
    "duration": 302,
    "start_time": "2021-11-17T16:02:59.994Z"
   },
   {
    "duration": 3,
    "start_time": "2021-11-17T16:04:44.398Z"
   },
   {
    "duration": 5,
    "start_time": "2021-11-17T16:04:53.360Z"
   },
   {
    "duration": 3,
    "start_time": "2021-11-17T16:05:09.714Z"
   },
   {
    "duration": 100,
    "start_time": "2021-11-17T16:05:10.190Z"
   },
   {
    "duration": 3,
    "start_time": "2021-11-17T16:05:11.200Z"
   },
   {
    "duration": 3,
    "start_time": "2021-11-17T16:05:16.639Z"
   },
   {
    "duration": 57,
    "start_time": "2021-11-17T16:05:17.129Z"
   },
   {
    "duration": 4,
    "start_time": "2021-11-17T16:05:17.652Z"
   },
   {
    "duration": 3,
    "start_time": "2021-11-17T16:05:56.000Z"
   },
   {
    "duration": 3,
    "start_time": "2021-11-17T16:07:12.325Z"
   },
   {
    "duration": 3,
    "start_time": "2021-11-17T16:07:14.573Z"
   },
   {
    "duration": 1337055,
    "start_time": "2021-11-17T16:07:16.765Z"
   },
   {
    "duration": 320,
    "start_time": "2021-11-17T16:29:33.502Z"
   },
   {
    "duration": 317,
    "start_time": "2021-11-17T16:29:33.507Z"
   },
   {
    "duration": 3,
    "start_time": "2021-11-17T16:29:49.663Z"
   },
   {
    "duration": 3,
    "start_time": "2021-11-17T16:29:50.254Z"
   },
   {
    "duration": 278279,
    "start_time": "2021-11-17T16:29:50.619Z"
   },
   {
    "duration": 4,
    "start_time": "2021-11-17T16:34:28.900Z"
   },
   {
    "duration": 9,
    "start_time": "2021-11-17T16:34:28.906Z"
   },
   {
    "duration": 2,
    "start_time": "2021-11-17T17:07:58.067Z"
   },
   {
    "duration": 3,
    "start_time": "2021-11-17T17:08:01.483Z"
   },
   {
    "duration": 264,
    "start_time": "2021-11-17T17:08:05.628Z"
   },
   {
    "duration": 2,
    "start_time": "2021-11-17T17:08:54.156Z"
   },
   {
    "duration": 3,
    "start_time": "2021-11-17T17:08:54.536Z"
   },
   {
    "duration": 282,
    "start_time": "2021-11-17T17:08:55.063Z"
   },
   {
    "duration": 3,
    "start_time": "2021-11-17T17:09:13.173Z"
   },
   {
    "duration": 3,
    "start_time": "2021-11-17T17:11:52.424Z"
   },
   {
    "duration": 3,
    "start_time": "2021-11-17T17:11:53.946Z"
   },
   {
    "duration": 5,
    "start_time": "2021-11-17T17:12:22.617Z"
   },
   {
    "duration": 3,
    "start_time": "2021-11-17T17:12:23.112Z"
   },
   {
    "duration": 2056961,
    "start_time": "2021-11-17T17:12:25.335Z"
   },
   {
    "duration": 256,
    "start_time": "2021-11-17T17:46:42.042Z"
   },
   {
    "duration": 252,
    "start_time": "2021-11-17T17:46:42.048Z"
   },
   {
    "duration": 249,
    "start_time": "2021-11-17T17:46:42.052Z"
   },
   {
    "duration": 246,
    "start_time": "2021-11-17T17:46:42.055Z"
   },
   {
    "duration": 233,
    "start_time": "2021-11-17T17:46:42.069Z"
   },
   {
    "duration": 224,
    "start_time": "2021-11-17T17:46:42.079Z"
   },
   {
    "duration": 220,
    "start_time": "2021-11-17T17:46:42.084Z"
   },
   {
    "duration": 216,
    "start_time": "2021-11-17T17:46:42.089Z"
   },
   {
    "duration": 212,
    "start_time": "2021-11-17T17:46:42.095Z"
   },
   {
    "duration": 3,
    "start_time": "2021-11-17T17:46:44.632Z"
   },
   {
    "duration": 3,
    "start_time": "2021-11-17T17:46:45.123Z"
   },
   {
    "duration": 397,
    "start_time": "2021-11-17T17:55:41.379Z"
   },
   {
    "duration": 393,
    "start_time": "2021-11-17T17:55:41.385Z"
   },
   {
    "duration": 390,
    "start_time": "2021-11-17T17:55:41.389Z"
   },
   {
    "duration": 387,
    "start_time": "2021-11-17T17:55:41.394Z"
   },
   {
    "duration": 385,
    "start_time": "2021-11-17T17:55:41.397Z"
   },
   {
    "duration": 3,
    "start_time": "2021-11-17T17:55:48.188Z"
   },
   {
    "duration": 3,
    "start_time": "2021-11-17T17:55:48.708Z"
   },
   {
    "duration": 1181117,
    "start_time": "2021-11-17T17:55:49.357Z"
   },
   {
    "duration": 327,
    "start_time": "2021-11-17T18:15:30.149Z"
   },
   {
    "duration": 323,
    "start_time": "2021-11-17T18:15:30.154Z"
   },
   {
    "duration": 3,
    "start_time": "2021-11-17T18:15:35.364Z"
   },
   {
    "duration": 3,
    "start_time": "2021-11-17T18:15:35.939Z"
   },
   {
    "duration": 15834,
    "start_time": "2021-11-17T18:15:36.437Z"
   },
   {
    "duration": 3,
    "start_time": "2021-11-17T18:15:56.103Z"
   },
   {
    "duration": 3,
    "start_time": "2021-11-17T18:15:57.350Z"
   },
   {
    "duration": 71,
    "start_time": "2021-11-17T18:15:57.978Z"
   },
   {
    "duration": 4,
    "start_time": "2021-11-17T18:15:59.748Z"
   },
   {
    "duration": 4,
    "start_time": "2021-11-17T18:16:07.344Z"
   },
   {
    "duration": 3,
    "start_time": "2021-11-17T18:16:08.688Z"
   },
   {
    "duration": 41356,
    "start_time": "2021-11-17T18:16:09.823Z"
   },
   {
    "duration": 4,
    "start_time": "2021-11-17T18:16:51.181Z"
   },
   {
    "duration": 8,
    "start_time": "2021-11-17T18:16:51.187Z"
   },
   {
    "duration": 3,
    "start_time": "2021-11-17T18:17:16.116Z"
   },
   {
    "duration": 3,
    "start_time": "2021-11-17T18:17:16.463Z"
   },
   {
    "duration": 91132,
    "start_time": "2021-11-17T18:17:16.776Z"
   },
   {
    "duration": 338,
    "start_time": "2021-11-17T18:18:47.573Z"
   },
   {
    "duration": 331,
    "start_time": "2021-11-17T18:18:47.581Z"
   },
   {
    "duration": 4,
    "start_time": "2021-11-17T18:18:52.590Z"
   },
   {
    "duration": 4,
    "start_time": "2021-11-17T18:18:52.940Z"
   },
   {
    "duration": 53406,
    "start_time": "2021-11-17T18:18:53.281Z"
   },
   {
    "duration": 4,
    "start_time": "2021-11-17T18:19:46.689Z"
   },
   {
    "duration": 4,
    "start_time": "2021-11-17T18:19:53.800Z"
   },
   {
    "duration": 3,
    "start_time": "2021-11-17T18:19:56.526Z"
   },
   {
    "duration": 3,
    "start_time": "2021-11-17T18:19:56.819Z"
   },
   {
    "duration": 39288,
    "start_time": "2021-11-17T18:19:57.162Z"
   },
   {
    "duration": 4,
    "start_time": "2021-11-17T18:20:36.452Z"
   },
   {
    "duration": 5,
    "start_time": "2021-11-17T18:20:36.458Z"
   },
   {
    "duration": 4,
    "start_time": "2021-11-17T18:22:12.773Z"
   },
   {
    "duration": 4,
    "start_time": "2021-11-17T18:22:16.089Z"
   },
   {
    "duration": 4,
    "start_time": "2021-11-17T18:22:31.807Z"
   },
   {
    "duration": 6,
    "start_time": "2021-11-17T18:22:37.096Z"
   },
   {
    "duration": 4,
    "start_time": "2021-11-17T18:22:47.908Z"
   },
   {
    "duration": 3,
    "start_time": "2021-11-17T18:22:53.473Z"
   },
   {
    "duration": 4,
    "start_time": "2021-11-17T18:22:56.208Z"
   },
   {
    "duration": 4,
    "start_time": "2021-11-17T18:23:15.016Z"
   },
   {
    "duration": 3,
    "start_time": "2021-11-17T18:23:17.883Z"
   },
   {
    "duration": 3597462,
    "start_time": "2021-11-17T18:23:18.894Z"
   },
   {
    "duration": 161,
    "start_time": "2021-11-17T19:23:16.197Z"
   },
   {
    "duration": 158,
    "start_time": "2021-11-17T19:23:16.201Z"
   },
   {
    "duration": 3,
    "start_time": "2021-11-17T19:23:32.317Z"
   },
   {
    "duration": 3,
    "start_time": "2021-11-17T19:23:32.678Z"
   },
   {
    "duration": 890869,
    "start_time": "2021-11-17T19:23:33.021Z"
   },
   {
    "duration": -156,
    "start_time": "2021-11-17T19:38:24.048Z"
   },
   {
    "duration": -216,
    "start_time": "2021-11-17T19:38:24.109Z"
   },
   {
    "duration": -238,
    "start_time": "2021-11-17T19:38:24.132Z"
   },
   {
    "duration": -261,
    "start_time": "2021-11-17T19:38:24.156Z"
   },
   {
    "duration": -265,
    "start_time": "2021-11-17T19:38:24.161Z"
   },
   {
    "duration": -271,
    "start_time": "2021-11-17T19:38:24.168Z"
   },
   {
    "duration": -273,
    "start_time": "2021-11-17T19:38:24.171Z"
   },
   {
    "duration": 277,
    "start_time": "2021-11-17T19:38:28.670Z"
   },
   {
    "duration": 3,
    "start_time": "2021-11-17T19:38:37.031Z"
   },
   {
    "duration": 3,
    "start_time": "2021-11-17T19:38:37.397Z"
   },
   {
    "duration": 3,
    "start_time": "2021-11-17T19:38:46.988Z"
   },
   {
    "duration": 2,
    "start_time": "2021-11-17T19:38:47.534Z"
   },
   {
    "duration": 40074,
    "start_time": "2021-11-17T19:38:48.193Z"
   },
   {
    "duration": 4,
    "start_time": "2021-11-17T19:43:47.359Z"
   },
   {
    "duration": 3,
    "start_time": "2021-11-17T19:43:48.070Z"
   },
   {
    "duration": 3,
    "start_time": "2021-11-17T19:43:55.719Z"
   },
   {
    "duration": 3,
    "start_time": "2021-11-17T19:43:56.280Z"
   },
   {
    "duration": 335962,
    "start_time": "2021-11-17T19:43:56.740Z"
   },
   {
    "duration": 4,
    "start_time": "2021-11-17T19:50:12.347Z"
   },
   {
    "duration": 4,
    "start_time": "2021-11-17T19:50:13.161Z"
   },
   {
    "duration": 4,
    "start_time": "2021-11-17T19:51:20.559Z"
   },
   {
    "duration": 3,
    "start_time": "2021-11-17T19:51:21.289Z"
   },
   {
    "duration": 1366132,
    "start_time": "2021-11-17T19:51:21.833Z"
   },
   {
    "duration": 4,
    "start_time": "2021-11-17T20:14:37.016Z"
   },
   {
    "duration": 4,
    "start_time": "2021-11-17T20:14:37.735Z"
   },
   {
    "duration": 94,
    "start_time": "2021-11-17T20:18:12.368Z"
   },
   {
    "duration": 275,
    "start_time": "2021-11-17T20:18:17.248Z"
   },
   {
    "duration": 2024,
    "start_time": "2021-11-17T20:18:31.268Z"
   },
   {
    "duration": 5,
    "start_time": "2021-11-17T20:18:41.090Z"
   },
   {
    "duration": 4,
    "start_time": "2021-11-17T20:19:02.925Z"
   },
   {
    "duration": 2012,
    "start_time": "2021-11-17T20:19:19.007Z"
   },
   {
    "duration": 4,
    "start_time": "2021-11-17T20:19:21.021Z"
   },
   {
    "duration": 87,
    "start_time": "2021-11-17T20:20:34.489Z"
   },
   {
    "duration": 49,
    "start_time": "2021-11-17T20:21:07.764Z"
   },
   {
    "duration": 3,
    "start_time": "2021-11-17T20:21:19.349Z"
   },
   {
    "duration": 47,
    "start_time": "2021-11-17T20:21:20.158Z"
   },
   {
    "duration": 4,
    "start_time": "2021-11-17T20:21:34.015Z"
   },
   {
    "duration": 248,
    "start_time": "2021-11-17T20:21:44.079Z"
   },
   {
    "duration": 58,
    "start_time": "2021-11-17T20:21:48.175Z"
   },
   {
    "duration": 4,
    "start_time": "2021-11-17T20:21:48.415Z"
   },
   {
    "duration": 3,
    "start_time": "2021-11-17T20:29:49.008Z"
   },
   {
    "duration": 71,
    "start_time": "2021-11-17T20:29:49.413Z"
   },
   {
    "duration": 4,
    "start_time": "2021-11-17T20:29:50.481Z"
   },
   {
    "duration": 3,
    "start_time": "2021-11-17T20:29:53.604Z"
   },
   {
    "duration": 39,
    "start_time": "2021-11-17T20:29:54.046Z"
   },
   {
    "duration": 4,
    "start_time": "2021-11-17T20:29:54.536Z"
   },
   {
    "duration": 3,
    "start_time": "2021-11-17T20:29:56.963Z"
   },
   {
    "duration": 48,
    "start_time": "2021-11-17T20:29:57.467Z"
   },
   {
    "duration": 4,
    "start_time": "2021-11-17T20:29:59.108Z"
   },
   {
    "duration": 3,
    "start_time": "2021-11-17T20:30:03.880Z"
   },
   {
    "duration": 36,
    "start_time": "2021-11-17T20:30:04.263Z"
   },
   {
    "duration": 4,
    "start_time": "2021-11-17T20:30:04.777Z"
   },
   {
    "duration": 3,
    "start_time": "2021-11-17T20:30:08.168Z"
   },
   {
    "duration": 38,
    "start_time": "2021-11-17T20:30:08.517Z"
   },
   {
    "duration": 4,
    "start_time": "2021-11-17T20:30:09.264Z"
   },
   {
    "duration": 4,
    "start_time": "2021-11-17T20:30:16.446Z"
   },
   {
    "duration": 51,
    "start_time": "2021-11-17T20:30:16.857Z"
   },
   {
    "duration": 4,
    "start_time": "2021-11-17T20:30:17.272Z"
   },
   {
    "duration": 4,
    "start_time": "2021-11-17T20:30:51.752Z"
   },
   {
    "duration": 1340,
    "start_time": "2021-11-17T20:30:51.758Z"
   },
   {
    "duration": 775,
    "start_time": "2021-11-17T20:30:53.100Z"
   },
   {
    "duration": 11,
    "start_time": "2021-11-17T20:30:53.877Z"
   },
   {
    "duration": 16,
    "start_time": "2021-11-17T20:30:53.890Z"
   },
   {
    "duration": 37,
    "start_time": "2021-11-17T20:30:53.907Z"
   },
   {
    "duration": 4,
    "start_time": "2021-11-17T20:30:53.946Z"
   },
   {
    "duration": 5,
    "start_time": "2021-11-17T20:30:53.953Z"
   },
   {
    "duration": 470,
    "start_time": "2021-11-17T20:30:53.962Z"
   },
   {
    "duration": 14,
    "start_time": "2021-11-17T20:30:54.433Z"
   },
   {
    "duration": 24,
    "start_time": "2021-11-17T20:30:54.449Z"
   },
   {
    "duration": 672,
    "start_time": "2021-11-17T20:30:54.475Z"
   },
   {
    "duration": 37,
    "start_time": "2021-11-17T20:30:55.149Z"
   },
   {
    "duration": 82,
    "start_time": "2021-11-17T20:30:55.188Z"
   },
   {
    "duration": 10,
    "start_time": "2021-11-17T20:30:55.271Z"
   },
   {
    "duration": 20,
    "start_time": "2021-11-17T20:30:55.283Z"
   },
   {
    "duration": 13,
    "start_time": "2021-11-17T20:30:55.305Z"
   },
   {
    "duration": 310,
    "start_time": "2021-11-17T20:30:55.347Z"
   },
   {
    "duration": 3,
    "start_time": "2021-11-17T20:30:55.661Z"
   },
   {
    "duration": 27,
    "start_time": "2021-11-17T20:30:55.666Z"
   },
   {
    "duration": 375,
    "start_time": "2021-11-17T20:30:55.695Z"
   },
   {
    "duration": 24,
    "start_time": "2021-11-17T20:30:56.072Z"
   },
   {
    "duration": 396,
    "start_time": "2021-11-17T20:30:56.100Z"
   },
   {
    "duration": 21,
    "start_time": "2021-11-17T20:30:56.499Z"
   },
   {
    "duration": 357,
    "start_time": "2021-11-17T20:30:56.522Z"
   },
   {
    "duration": 11,
    "start_time": "2021-11-17T20:30:56.881Z"
   },
   {
    "duration": 9,
    "start_time": "2021-11-17T20:30:56.894Z"
   },
   {
    "duration": 342,
    "start_time": "2021-11-17T20:30:56.905Z"
   },
   {
    "duration": 13,
    "start_time": "2021-11-17T20:30:57.250Z"
   },
   {
    "duration": 38,
    "start_time": "2021-11-17T20:30:57.266Z"
   },
   {
    "duration": 361,
    "start_time": "2021-11-17T20:30:57.306Z"
   },
   {
    "duration": 299,
    "start_time": "2021-11-17T20:30:57.668Z"
   },
   {
    "duration": 4,
    "start_time": "2021-11-17T20:30:57.969Z"
   },
   {
    "duration": 8,
    "start_time": "2021-11-17T20:30:57.974Z"
   },
   {
    "duration": 30,
    "start_time": "2021-11-17T20:30:57.983Z"
   },
   {
    "duration": 11,
    "start_time": "2021-11-17T20:30:58.015Z"
   },
   {
    "duration": 11,
    "start_time": "2021-11-17T20:30:58.028Z"
   },
   {
    "duration": 8,
    "start_time": "2021-11-17T20:30:58.041Z"
   },
   {
    "duration": 61,
    "start_time": "2021-11-17T20:30:58.053Z"
   },
   {
    "duration": 3,
    "start_time": "2021-11-17T20:30:58.116Z"
   },
   {
    "duration": 5,
    "start_time": "2021-11-17T20:30:58.121Z"
   },
   {
    "duration": 6,
    "start_time": "2021-11-17T20:30:58.128Z"
   },
   {
    "duration": 516737,
    "start_time": "2021-11-17T20:30:58.152Z"
   },
   {
    "duration": 3,
    "start_time": "2021-11-17T20:39:34.891Z"
   },
   {
    "duration": 7,
    "start_time": "2021-11-17T20:39:34.895Z"
   },
   {
    "duration": 11,
    "start_time": "2021-11-17T20:39:34.903Z"
   },
   {
    "duration": 15,
    "start_time": "2021-11-17T20:39:34.915Z"
   },
   {
    "duration": 30905,
    "start_time": "2021-11-17T20:39:34.931Z"
   },
   {
    "duration": 3,
    "start_time": "2021-11-17T20:40:05.838Z"
   },
   {
    "duration": 17,
    "start_time": "2021-11-17T20:40:05.842Z"
   },
   {
    "duration": 369,
    "start_time": "2021-11-17T20:40:05.860Z"
   },
   {
    "duration": 460,
    "start_time": "2021-11-17T20:40:05.771Z"
   },
   {
    "duration": 459,
    "start_time": "2021-11-17T20:40:05.774Z"
   },
   {
    "duration": 454,
    "start_time": "2021-11-17T20:40:05.780Z"
   },
   {
    "duration": 452,
    "start_time": "2021-11-17T20:40:05.783Z"
   },
   {
    "duration": 448,
    "start_time": "2021-11-17T20:40:05.788Z"
   },
   {
    "duration": 447,
    "start_time": "2021-11-17T20:40:05.791Z"
   },
   {
    "duration": 444,
    "start_time": "2021-11-17T20:40:05.795Z"
   },
   {
    "duration": 441,
    "start_time": "2021-11-17T20:40:05.799Z"
   },
   {
    "duration": 438,
    "start_time": "2021-11-17T20:40:05.803Z"
   },
   {
    "duration": 436,
    "start_time": "2021-11-17T20:40:05.806Z"
   },
   {
    "duration": 434,
    "start_time": "2021-11-17T20:40:05.810Z"
   },
   {
    "duration": 431,
    "start_time": "2021-11-17T20:40:05.814Z"
   },
   {
    "duration": 433,
    "start_time": "2021-11-17T20:40:05.818Z"
   },
   {
    "duration": 431,
    "start_time": "2021-11-17T20:40:05.821Z"
   },
   {
    "duration": 428,
    "start_time": "2021-11-17T20:40:05.825Z"
   },
   {
    "duration": 420,
    "start_time": "2021-11-17T20:40:05.834Z"
   },
   {
    "duration": 3,
    "start_time": "2021-11-17T20:42:42.119Z"
   },
   {
    "duration": 59,
    "start_time": "2021-11-17T20:42:48.782Z"
   },
   {
    "duration": 4,
    "start_time": "2021-11-17T20:42:49.529Z"
   },
   {
    "duration": 3,
    "start_time": "2021-11-17T20:42:50.327Z"
   },
   {
    "duration": 341,
    "start_time": "2021-11-17T20:42:50.758Z"
   },
   {
    "duration": 341,
    "start_time": "2021-11-17T20:42:56.665Z"
   },
   {
    "duration": 84,
    "start_time": "2021-11-17T20:44:29.899Z"
   },
   {
    "duration": 274,
    "start_time": "2021-11-17T20:44:36.858Z"
   },
   {
    "duration": 275,
    "start_time": "2021-11-17T20:45:20.441Z"
   },
   {
    "duration": 3,
    "start_time": "2021-11-17T20:46:53.787Z"
   },
   {
    "duration": 296,
    "start_time": "2021-11-17T20:46:54.519Z"
   },
   {
    "duration": 2520,
    "start_time": "2021-11-17T20:47:08.272Z"
   },
   {
    "duration": 249,
    "start_time": "2021-11-17T20:47:11.968Z"
   },
   {
    "duration": 4,
    "start_time": "2021-11-17T20:47:17.726Z"
   },
   {
    "duration": 265,
    "start_time": "2021-11-17T20:49:02.321Z"
   },
   {
    "duration": 106,
    "start_time": "2021-11-17T20:50:31.781Z"
   },
   {
    "duration": 3,
    "start_time": "2021-11-17T20:50:46.447Z"
   },
   {
    "duration": 2,
    "start_time": "2021-11-17T20:51:23.668Z"
   },
   {
    "duration": 3,
    "start_time": "2021-11-17T20:51:26.609Z"
   },
   {
    "duration": 272,
    "start_time": "2021-11-17T20:51:41.763Z"
   },
   {
    "duration": 15670,
    "start_time": "2021-11-17T20:51:56.370Z"
   },
   {
    "duration": 4,
    "start_time": "2021-11-17T20:53:09.420Z"
   },
   {
    "duration": 1189,
    "start_time": "2021-11-17T20:53:09.426Z"
   },
   {
    "duration": 720,
    "start_time": "2021-11-17T20:53:10.617Z"
   },
   {
    "duration": 11,
    "start_time": "2021-11-17T20:53:11.339Z"
   },
   {
    "duration": 14,
    "start_time": "2021-11-17T20:53:11.352Z"
   },
   {
    "duration": 14,
    "start_time": "2021-11-17T20:53:11.368Z"
   },
   {
    "duration": 3,
    "start_time": "2021-11-17T20:53:11.384Z"
   },
   {
    "duration": 5,
    "start_time": "2021-11-17T20:53:11.389Z"
   },
   {
    "duration": 434,
    "start_time": "2021-11-17T20:53:11.396Z"
   },
   {
    "duration": 16,
    "start_time": "2021-11-17T20:53:11.831Z"
   },
   {
    "duration": 14,
    "start_time": "2021-11-17T20:53:11.849Z"
   },
   {
    "duration": 537,
    "start_time": "2021-11-17T20:53:11.865Z"
   },
   {
    "duration": 32,
    "start_time": "2021-11-17T20:53:12.404Z"
   },
   {
    "duration": 67,
    "start_time": "2021-11-17T20:53:12.438Z"
   },
   {
    "duration": 9,
    "start_time": "2021-11-17T20:53:12.506Z"
   },
   {
    "duration": 43,
    "start_time": "2021-11-17T20:53:12.517Z"
   },
   {
    "duration": 9,
    "start_time": "2021-11-17T20:53:12.562Z"
   },
   {
    "duration": 226,
    "start_time": "2021-11-17T20:53:12.572Z"
   },
   {
    "duration": 3,
    "start_time": "2021-11-17T20:53:12.801Z"
   },
   {
    "duration": 40,
    "start_time": "2021-11-17T20:53:12.807Z"
   },
   {
    "duration": 316,
    "start_time": "2021-11-17T20:53:12.849Z"
   },
   {
    "duration": 25,
    "start_time": "2021-11-17T20:53:13.166Z"
   },
   {
    "duration": 372,
    "start_time": "2021-11-17T20:53:13.192Z"
   },
   {
    "duration": 23,
    "start_time": "2021-11-17T20:53:13.565Z"
   },
   {
    "duration": 327,
    "start_time": "2021-11-17T20:53:13.590Z"
   },
   {
    "duration": 11,
    "start_time": "2021-11-17T20:53:13.918Z"
   },
   {
    "duration": 23,
    "start_time": "2021-11-17T20:53:13.930Z"
   },
   {
    "duration": 436,
    "start_time": "2021-11-17T20:53:13.955Z"
   },
   {
    "duration": 11,
    "start_time": "2021-11-17T20:53:14.394Z"
   },
   {
    "duration": 63,
    "start_time": "2021-11-17T20:53:14.407Z"
   },
   {
    "duration": 493,
    "start_time": "2021-11-17T20:53:14.473Z"
   },
   {
    "duration": 456,
    "start_time": "2021-11-17T20:53:14.969Z"
   },
   {
    "duration": 5,
    "start_time": "2021-11-17T20:53:15.428Z"
   },
   {
    "duration": 4,
    "start_time": "2021-11-17T20:53:15.444Z"
   },
   {
    "duration": 22,
    "start_time": "2021-11-17T20:53:15.449Z"
   },
   {
    "duration": 9,
    "start_time": "2021-11-17T20:53:15.472Z"
   },
   {
    "duration": 3,
    "start_time": "2021-11-17T20:53:15.483Z"
   },
   {
    "duration": 8,
    "start_time": "2021-11-17T20:53:15.487Z"
   },
   {
    "duration": 70,
    "start_time": "2021-11-17T20:53:15.496Z"
   },
   {
    "duration": 3,
    "start_time": "2021-11-17T20:53:15.568Z"
   },
   {
    "duration": 4,
    "start_time": "2021-11-17T20:53:15.573Z"
   },
   {
    "duration": 5,
    "start_time": "2021-11-17T20:53:15.579Z"
   },
   {
    "duration": 3,
    "start_time": "2021-11-17T21:33:56.558Z"
   },
   {
    "duration": 1144,
    "start_time": "2021-11-17T21:33:56.566Z"
   },
   {
    "duration": 722,
    "start_time": "2021-11-17T21:33:57.712Z"
   },
   {
    "duration": 15,
    "start_time": "2021-11-17T21:33:58.436Z"
   },
   {
    "duration": 21,
    "start_time": "2021-11-17T21:33:58.453Z"
   },
   {
    "duration": 16,
    "start_time": "2021-11-17T21:33:58.476Z"
   },
   {
    "duration": 4,
    "start_time": "2021-11-17T21:33:58.493Z"
   },
   {
    "duration": 5,
    "start_time": "2021-11-17T21:33:58.498Z"
   },
   {
    "duration": 443,
    "start_time": "2021-11-17T21:33:58.505Z"
   },
   {
    "duration": 8,
    "start_time": "2021-11-17T21:33:58.950Z"
   },
   {
    "duration": 16,
    "start_time": "2021-11-17T21:33:58.959Z"
   },
   {
    "duration": 580,
    "start_time": "2021-11-17T21:33:58.977Z"
   },
   {
    "duration": 33,
    "start_time": "2021-11-17T21:33:59.559Z"
   },
   {
    "duration": 75,
    "start_time": "2021-11-17T21:33:59.594Z"
   },
   {
    "duration": 8,
    "start_time": "2021-11-17T21:33:59.671Z"
   },
   {
    "duration": 18,
    "start_time": "2021-11-17T21:33:59.681Z"
   },
   {
    "duration": 9,
    "start_time": "2021-11-17T21:33:59.701Z"
   },
   {
    "duration": 237,
    "start_time": "2021-11-17T21:33:59.711Z"
   },
   {
    "duration": 3,
    "start_time": "2021-11-17T21:33:59.950Z"
   },
   {
    "duration": 27,
    "start_time": "2021-11-17T21:33:59.955Z"
   },
   {
    "duration": 450,
    "start_time": "2021-11-17T21:33:59.983Z"
   },
   {
    "duration": 25,
    "start_time": "2021-11-17T21:34:00.435Z"
   },
   {
    "duration": 377,
    "start_time": "2021-11-17T21:34:00.461Z"
   },
   {
    "duration": 22,
    "start_time": "2021-11-17T21:34:00.846Z"
   },
   {
    "duration": 335,
    "start_time": "2021-11-17T21:34:00.870Z"
   },
   {
    "duration": 8,
    "start_time": "2021-11-17T21:34:01.207Z"
   },
   {
    "duration": 14,
    "start_time": "2021-11-17T21:34:01.217Z"
   },
   {
    "duration": 280,
    "start_time": "2021-11-17T21:34:01.245Z"
   },
   {
    "duration": 9,
    "start_time": "2021-11-17T21:34:01.526Z"
   },
   {
    "duration": 67,
    "start_time": "2021-11-17T21:34:01.545Z"
   },
   {
    "duration": 313,
    "start_time": "2021-11-17T21:34:01.614Z"
   },
   {
    "duration": 321,
    "start_time": "2021-11-17T21:34:01.928Z"
   },
   {
    "duration": 4,
    "start_time": "2021-11-17T21:34:02.252Z"
   },
   {
    "duration": 13,
    "start_time": "2021-11-17T21:34:02.258Z"
   },
   {
    "duration": 23,
    "start_time": "2021-11-17T21:34:02.272Z"
   },
   {
    "duration": 13,
    "start_time": "2021-11-17T21:34:02.297Z"
   },
   {
    "duration": 10,
    "start_time": "2021-11-17T21:34:02.312Z"
   },
   {
    "duration": 17,
    "start_time": "2021-11-17T21:34:02.323Z"
   },
   {
    "duration": 61,
    "start_time": "2021-11-17T21:34:02.342Z"
   },
   {
    "duration": 3,
    "start_time": "2021-11-17T21:34:02.405Z"
   },
   {
    "duration": 6,
    "start_time": "2021-11-17T21:34:02.410Z"
   },
   {
    "duration": 11,
    "start_time": "2021-11-17T21:34:02.417Z"
   },
   {
    "duration": 1253686,
    "start_time": "2021-11-17T21:34:02.430Z"
   },
   {
    "duration": 3,
    "start_time": "2021-11-17T21:54:56.118Z"
   },
   {
    "duration": 9,
    "start_time": "2021-11-17T21:54:56.122Z"
   },
   {
    "duration": 2,
    "start_time": "2021-11-17T21:54:56.144Z"
   },
   {
    "duration": 8,
    "start_time": "2021-11-17T21:54:56.148Z"
   },
   {
    "duration": 37989,
    "start_time": "2021-11-17T21:54:56.157Z"
   },
   {
    "duration": 3,
    "start_time": "2021-11-17T21:55:34.148Z"
   },
   {
    "duration": 13,
    "start_time": "2021-11-17T21:55:34.152Z"
   },
   {
    "duration": 6,
    "start_time": "2021-11-17T21:55:34.166Z"
   },
   {
    "duration": 65,
    "start_time": "2021-11-17T21:55:34.173Z"
   },
   {
    "duration": 5,
    "start_time": "2021-11-17T21:55:34.240Z"
   },
   {
    "duration": 7,
    "start_time": "2021-11-17T21:55:34.247Z"
   },
   {
    "duration": 426,
    "start_time": "2021-11-17T21:55:34.256Z"
   },
   {
    "duration": 446,
    "start_time": "2021-11-17T21:55:34.239Z"
   },
   {
    "duration": 442,
    "start_time": "2021-11-17T21:55:34.243Z"
   },
   {
    "duration": 438,
    "start_time": "2021-11-17T21:55:34.248Z"
   },
   {
    "duration": 435,
    "start_time": "2021-11-17T21:55:34.252Z"
   },
   {
    "duration": 432,
    "start_time": "2021-11-17T21:55:34.256Z"
   },
   {
    "duration": 430,
    "start_time": "2021-11-17T21:55:34.259Z"
   },
   {
    "duration": 426,
    "start_time": "2021-11-17T21:55:34.264Z"
   },
   {
    "duration": 422,
    "start_time": "2021-11-17T21:55:34.268Z"
   },
   {
    "duration": 4,
    "start_time": "2021-11-17T22:09:03.999Z"
   },
   {
    "duration": 1221,
    "start_time": "2021-11-17T22:09:04.005Z"
   },
   {
    "duration": 733,
    "start_time": "2021-11-17T22:09:05.228Z"
   },
   {
    "duration": 11,
    "start_time": "2021-11-17T22:09:05.963Z"
   },
   {
    "duration": 24,
    "start_time": "2021-11-17T22:09:05.976Z"
   },
   {
    "duration": 19,
    "start_time": "2021-11-17T22:09:06.002Z"
   },
   {
    "duration": 3,
    "start_time": "2021-11-17T22:09:06.023Z"
   },
   {
    "duration": 17,
    "start_time": "2021-11-17T22:09:06.028Z"
   },
   {
    "duration": 452,
    "start_time": "2021-11-17T22:09:06.048Z"
   },
   {
    "duration": 7,
    "start_time": "2021-11-17T22:09:06.502Z"
   },
   {
    "duration": 564,
    "start_time": "2021-11-17T22:09:06.510Z"
   },
   {
    "duration": 41,
    "start_time": "2021-11-17T22:09:07.076Z"
   },
   {
    "duration": 72,
    "start_time": "2021-11-17T22:09:07.119Z"
   },
   {
    "duration": 11,
    "start_time": "2021-11-17T22:09:07.192Z"
   },
   {
    "duration": 41,
    "start_time": "2021-11-17T22:09:07.204Z"
   },
   {
    "duration": 10,
    "start_time": "2021-11-17T22:09:07.247Z"
   },
   {
    "duration": 221,
    "start_time": "2021-11-17T22:09:07.259Z"
   },
   {
    "duration": 3,
    "start_time": "2021-11-17T22:09:07.482Z"
   },
   {
    "duration": 38,
    "start_time": "2021-11-17T22:09:07.487Z"
   },
   {
    "duration": 331,
    "start_time": "2021-11-17T22:09:07.526Z"
   },
   {
    "duration": 23,
    "start_time": "2021-11-17T22:09:07.858Z"
   },
   {
    "duration": 394,
    "start_time": "2021-11-17T22:09:07.883Z"
   },
   {
    "duration": 22,
    "start_time": "2021-11-17T22:09:08.280Z"
   },
   {
    "duration": 327,
    "start_time": "2021-11-17T22:09:08.304Z"
   },
   {
    "duration": 12,
    "start_time": "2021-11-17T22:09:08.633Z"
   },
   {
    "duration": 18,
    "start_time": "2021-11-17T22:09:08.647Z"
   },
   {
    "duration": 284,
    "start_time": "2021-11-17T22:09:08.670Z"
   },
   {
    "duration": 8,
    "start_time": "2021-11-17T22:09:08.956Z"
   },
   {
    "duration": 45,
    "start_time": "2021-11-17T22:09:08.966Z"
   },
   {
    "duration": 316,
    "start_time": "2021-11-17T22:09:09.013Z"
   },
   {
    "duration": 300,
    "start_time": "2021-11-17T22:09:09.331Z"
   },
   {
    "duration": 12,
    "start_time": "2021-11-17T22:09:09.632Z"
   },
   {
    "duration": 6,
    "start_time": "2021-11-17T22:09:09.646Z"
   },
   {
    "duration": 25,
    "start_time": "2021-11-17T22:09:09.654Z"
   },
   {
    "duration": 4,
    "start_time": "2021-11-17T22:09:09.681Z"
   },
   {
    "duration": 6,
    "start_time": "2021-11-17T22:09:09.687Z"
   },
   {
    "duration": 6,
    "start_time": "2021-11-17T22:09:09.694Z"
   },
   {
    "duration": 67,
    "start_time": "2021-11-17T22:09:09.701Z"
   },
   {
    "duration": 3,
    "start_time": "2021-11-17T22:09:09.770Z"
   },
   {
    "duration": 5,
    "start_time": "2021-11-17T22:09:09.775Z"
   },
   {
    "duration": 5,
    "start_time": "2021-11-17T22:09:09.782Z"
   },
   {
    "duration": 7372,
    "start_time": "2021-11-17T22:09:09.789Z"
   },
   {
    "duration": 262,
    "start_time": "2021-11-17T22:09:16.902Z"
   },
   {
    "duration": 259,
    "start_time": "2021-11-17T22:09:16.906Z"
   },
   {
    "duration": 253,
    "start_time": "2021-11-17T22:09:16.913Z"
   },
   {
    "duration": 251,
    "start_time": "2021-11-17T22:09:16.917Z"
   },
   {
    "duration": 248,
    "start_time": "2021-11-17T22:09:16.921Z"
   },
   {
    "duration": 245,
    "start_time": "2021-11-17T22:09:16.925Z"
   },
   {
    "duration": 243,
    "start_time": "2021-11-17T22:09:16.929Z"
   },
   {
    "duration": 239,
    "start_time": "2021-11-17T22:09:16.934Z"
   },
   {
    "duration": 236,
    "start_time": "2021-11-17T22:09:16.938Z"
   },
   {
    "duration": 232,
    "start_time": "2021-11-17T22:09:16.944Z"
   },
   {
    "duration": 228,
    "start_time": "2021-11-17T22:09:16.948Z"
   },
   {
    "duration": 224,
    "start_time": "2021-11-17T22:09:16.953Z"
   },
   {
    "duration": 215,
    "start_time": "2021-11-17T22:09:16.963Z"
   },
   {
    "duration": 211,
    "start_time": "2021-11-17T22:09:16.968Z"
   },
   {
    "duration": 208,
    "start_time": "2021-11-17T22:09:16.972Z"
   },
   {
    "duration": 205,
    "start_time": "2021-11-17T22:09:16.976Z"
   },
   {
    "duration": 203,
    "start_time": "2021-11-17T22:09:16.979Z"
   },
   {
    "duration": 199,
    "start_time": "2021-11-17T22:09:16.984Z"
   },
   {
    "duration": 171,
    "start_time": "2021-11-17T22:09:17.013Z"
   },
   {
    "duration": 152,
    "start_time": "2021-11-17T22:09:17.033Z"
   },
   {
    "duration": 266,
    "start_time": "2021-11-17T22:09:20.845Z"
   },
   {
    "duration": 3,
    "start_time": "2021-11-17T22:09:24.574Z"
   },
   {
    "duration": 3,
    "start_time": "2021-11-17T22:09:30.392Z"
   },
   {
    "duration": 319,
    "start_time": "2021-11-17T22:09:31.045Z"
   },
   {
    "duration": 271,
    "start_time": "2021-11-17T22:10:35.886Z"
   },
   {
    "duration": 24,
    "start_time": "2021-11-17T22:11:06.993Z"
   },
   {
    "duration": 3,
    "start_time": "2021-11-17T22:11:46.928Z"
   },
   {
    "duration": 1296,
    "start_time": "2021-11-17T22:11:46.933Z"
   },
   {
    "duration": 728,
    "start_time": "2021-11-17T22:11:48.231Z"
   },
   {
    "duration": 12,
    "start_time": "2021-11-17T22:11:48.961Z"
   },
   {
    "duration": 14,
    "start_time": "2021-11-17T22:11:48.974Z"
   },
   {
    "duration": 16,
    "start_time": "2021-11-17T22:11:48.990Z"
   },
   {
    "duration": 3,
    "start_time": "2021-11-17T22:11:49.009Z"
   },
   {
    "duration": 31,
    "start_time": "2021-11-17T22:11:49.014Z"
   },
   {
    "duration": 416,
    "start_time": "2021-11-17T22:11:49.047Z"
   },
   {
    "duration": 7,
    "start_time": "2021-11-17T22:11:49.465Z"
   },
   {
    "duration": 18,
    "start_time": "2021-11-17T22:11:49.474Z"
   },
   {
    "duration": 570,
    "start_time": "2021-11-17T22:11:49.494Z"
   },
   {
    "duration": 33,
    "start_time": "2021-11-17T22:11:50.066Z"
   },
   {
    "duration": 76,
    "start_time": "2021-11-17T22:11:50.100Z"
   },
   {
    "duration": 9,
    "start_time": "2021-11-17T22:11:50.177Z"
   },
   {
    "duration": 27,
    "start_time": "2021-11-17T22:11:50.187Z"
   },
   {
    "duration": 8,
    "start_time": "2021-11-17T22:11:50.216Z"
   },
   {
    "duration": 232,
    "start_time": "2021-11-17T22:11:50.226Z"
   },
   {
    "duration": 3,
    "start_time": "2021-11-17T22:11:50.462Z"
   },
   {
    "duration": 29,
    "start_time": "2021-11-17T22:11:50.467Z"
   },
   {
    "duration": 331,
    "start_time": "2021-11-17T22:11:50.498Z"
   },
   {
    "duration": 31,
    "start_time": "2021-11-17T22:11:50.831Z"
   },
   {
    "duration": 382,
    "start_time": "2021-11-17T22:11:50.864Z"
   },
   {
    "duration": 24,
    "start_time": "2021-11-17T22:11:51.247Z"
   },
   {
    "duration": 340,
    "start_time": "2021-11-17T22:11:51.272Z"
   },
   {
    "duration": 8,
    "start_time": "2021-11-17T22:11:51.614Z"
   },
   {
    "duration": 21,
    "start_time": "2021-11-17T22:11:51.624Z"
   },
   {
    "duration": 284,
    "start_time": "2021-11-17T22:11:51.647Z"
   },
   {
    "duration": 16,
    "start_time": "2021-11-17T22:11:51.933Z"
   },
   {
    "duration": 35,
    "start_time": "2021-11-17T22:11:51.951Z"
   },
   {
    "duration": 431,
    "start_time": "2021-11-17T22:11:51.987Z"
   },
   {
    "duration": 305,
    "start_time": "2021-11-17T22:11:52.420Z"
   },
   {
    "duration": 4,
    "start_time": "2021-11-17T22:11:52.727Z"
   },
   {
    "duration": 12,
    "start_time": "2021-11-17T22:11:52.733Z"
   },
   {
    "duration": 28,
    "start_time": "2021-11-17T22:11:52.747Z"
   },
   {
    "duration": 4,
    "start_time": "2021-11-17T22:11:52.777Z"
   },
   {
    "duration": 6,
    "start_time": "2021-11-17T22:11:52.783Z"
   },
   {
    "duration": 7,
    "start_time": "2021-11-17T22:11:52.791Z"
   },
   {
    "duration": 70,
    "start_time": "2021-11-17T22:11:52.800Z"
   },
   {
    "duration": 4,
    "start_time": "2021-11-17T22:11:52.871Z"
   },
   {
    "duration": 13,
    "start_time": "2021-11-17T22:11:52.876Z"
   },
   {
    "duration": 13,
    "start_time": "2021-11-17T22:11:52.890Z"
   },
   {
    "duration": 1721858,
    "start_time": "2021-11-17T22:11:52.904Z"
   },
   {
    "duration": 3,
    "start_time": "2021-11-17T22:40:34.764Z"
   },
   {
    "duration": 22,
    "start_time": "2021-11-17T22:40:34.769Z"
   },
   {
    "duration": 10,
    "start_time": "2021-11-17T22:40:34.792Z"
   },
   {
    "duration": 10,
    "start_time": "2021-11-17T22:40:34.803Z"
   },
   {
    "duration": 38730,
    "start_time": "2021-11-17T22:40:34.815Z"
   },
   {
    "duration": 3,
    "start_time": "2021-11-17T22:41:13.547Z"
   },
   {
    "duration": 12,
    "start_time": "2021-11-17T22:41:13.552Z"
   },
   {
    "duration": 10,
    "start_time": "2021-11-17T22:41:13.565Z"
   },
   {
    "duration": 65,
    "start_time": "2021-11-17T22:41:13.576Z"
   },
   {
    "duration": 3,
    "start_time": "2021-11-17T22:41:13.644Z"
   },
   {
    "duration": 12,
    "start_time": "2021-11-17T22:41:13.649Z"
   },
   {
    "duration": 3838127,
    "start_time": "2021-11-17T22:41:13.665Z"
   },
   {
    "duration": 3,
    "start_time": "2021-11-17T23:45:11.794Z"
   },
   {
    "duration": 83,
    "start_time": "2021-11-17T23:45:11.799Z"
   },
   {
    "duration": 119,
    "start_time": "2021-11-17T23:45:11.883Z"
   },
   {
    "duration": 502,
    "start_time": "2021-11-17T23:45:11.502Z"
   },
   {
    "duration": 499,
    "start_time": "2021-11-17T23:45:11.506Z"
   },
   {
    "duration": 494,
    "start_time": "2021-11-17T23:45:11.511Z"
   },
   {
    "duration": 490,
    "start_time": "2021-11-17T23:45:11.516Z"
   },
   {
    "duration": 486,
    "start_time": "2021-11-17T23:45:11.521Z"
   },
   {
    "duration": 3,
    "start_time": "2021-11-18T09:09:31.367Z"
   },
   {
    "duration": 1188,
    "start_time": "2021-11-18T09:09:31.630Z"
   },
   {
    "duration": 686,
    "start_time": "2021-11-18T09:09:32.820Z"
   },
   {
    "duration": 10,
    "start_time": "2021-11-18T09:09:33.508Z"
   },
   {
    "duration": 32,
    "start_time": "2021-11-18T09:09:33.520Z"
   },
   {
    "duration": 17,
    "start_time": "2021-11-18T09:09:33.554Z"
   },
   {
    "duration": 4,
    "start_time": "2021-11-18T09:09:33.573Z"
   },
   {
    "duration": 4,
    "start_time": "2021-11-18T09:09:33.579Z"
   },
   {
    "duration": 433,
    "start_time": "2021-11-18T09:09:33.586Z"
   },
   {
    "duration": 7,
    "start_time": "2021-11-18T09:09:34.021Z"
   },
   {
    "duration": 26,
    "start_time": "2021-11-18T09:09:34.030Z"
   },
   {
    "duration": 640,
    "start_time": "2021-11-18T09:09:34.058Z"
   },
   {
    "duration": 44,
    "start_time": "2021-11-18T09:09:34.700Z"
   },
   {
    "duration": 60,
    "start_time": "2021-11-18T09:09:34.746Z"
   },
   {
    "duration": 9,
    "start_time": "2021-11-18T09:09:34.808Z"
   },
   {
    "duration": 36,
    "start_time": "2021-11-18T09:09:34.818Z"
   },
   {
    "duration": 9,
    "start_time": "2021-11-18T09:09:34.856Z"
   },
   {
    "duration": 225,
    "start_time": "2021-11-18T09:09:34.867Z"
   },
   {
    "duration": 3,
    "start_time": "2021-11-18T09:09:35.094Z"
   },
   {
    "duration": 24,
    "start_time": "2021-11-18T09:09:35.557Z"
   },
   {
    "duration": 333,
    "start_time": "2021-11-18T09:09:35.599Z"
   },
   {
    "duration": 31,
    "start_time": "2021-11-18T09:09:35.934Z"
   },
   {
    "duration": 378,
    "start_time": "2021-11-18T09:09:35.966Z"
   },
   {
    "duration": 22,
    "start_time": "2021-11-18T09:09:36.346Z"
   },
   {
    "duration": 327,
    "start_time": "2021-11-18T09:09:36.369Z"
   },
   {
    "duration": 9,
    "start_time": "2021-11-18T09:09:36.698Z"
   },
   {
    "duration": 8,
    "start_time": "2021-11-18T09:09:36.709Z"
   },
   {
    "duration": 301,
    "start_time": "2021-11-18T09:09:36.718Z"
   },
   {
    "duration": 26,
    "start_time": "2021-11-18T09:09:37.021Z"
   },
   {
    "duration": 34,
    "start_time": "2021-11-18T09:09:37.049Z"
   },
   {
    "duration": 302,
    "start_time": "2021-11-18T09:09:37.171Z"
   },
   {
    "duration": 277,
    "start_time": "2021-11-18T09:09:37.910Z"
   },
   {
    "duration": 5,
    "start_time": "2021-11-18T09:09:40.793Z"
   },
   {
    "duration": 4,
    "start_time": "2021-11-18T09:09:41.792Z"
   },
   {
    "duration": 21,
    "start_time": "2021-11-18T09:09:42.340Z"
   },
   {
    "duration": 4,
    "start_time": "2021-11-18T09:09:42.918Z"
   },
   {
    "duration": 2,
    "start_time": "2021-11-18T09:09:45.524Z"
   },
   {
    "duration": 2,
    "start_time": "2021-11-18T09:09:47.368Z"
   },
   {
    "duration": 56,
    "start_time": "2021-11-18T09:09:48.901Z"
   },
   {
    "duration": 3,
    "start_time": "2021-11-18T09:09:49.485Z"
   },
   {
    "duration": 2,
    "start_time": "2021-11-18T09:09:53.296Z"
   },
   {
    "duration": 3,
    "start_time": "2021-11-18T09:09:54.117Z"
   },
   {
    "duration": 3,
    "start_time": "2021-11-18T09:09:57.073Z"
   },
   {
    "duration": 3,
    "start_time": "2021-11-18T09:09:58.818Z"
   },
   {
    "duration": 503,
    "start_time": "2021-11-18T09:10:57.798Z"
   },
   {
    "duration": 252,
    "start_time": "2021-11-18T09:11:05.093Z"
   },
   {
    "duration": 4,
    "start_time": "2021-11-18T09:11:40.343Z"
   },
   {
    "duration": 153,
    "start_time": "2021-11-18T09:12:04.501Z"
   },
   {
    "duration": 587,
    "start_time": "2021-11-18T09:12:20.758Z"
   },
   {
    "duration": 821,
    "start_time": "2021-11-18T09:12:30.039Z"
   },
   {
    "duration": 562,
    "start_time": "2021-11-18T09:12:51.984Z"
   },
   {
    "duration": 626,
    "start_time": "2021-11-18T09:12:58.020Z"
   },
   {
    "duration": 1053,
    "start_time": "2021-11-18T09:15:19.398Z"
   },
   {
    "duration": 4,
    "start_time": "2021-11-18T09:15:32.346Z"
   },
   {
    "duration": 3,
    "start_time": "2021-11-18T09:17:16.476Z"
   },
   {
    "duration": 2,
    "start_time": "2021-11-18T09:17:17.242Z"
   },
   {
    "duration": 1080,
    "start_time": "2021-11-18T09:23:10.067Z"
   },
   {
    "duration": 3,
    "start_time": "2021-11-18T09:23:36.003Z"
   },
   {
    "duration": 42,
    "start_time": "2021-11-18T09:23:36.380Z"
   },
   {
    "duration": 5,
    "start_time": "2021-11-18T09:23:37.753Z"
   },
   {
    "duration": 289,
    "start_time": "2021-11-18T09:31:44.338Z"
   },
   {
    "duration": 3,
    "start_time": "2021-11-18T09:33:46.934Z"
   },
   {
    "duration": 1177,
    "start_time": "2021-11-18T09:33:46.939Z"
   },
   {
    "duration": 727,
    "start_time": "2021-11-18T09:33:48.118Z"
   },
   {
    "duration": 11,
    "start_time": "2021-11-18T09:33:48.847Z"
   },
   {
    "duration": 18,
    "start_time": "2021-11-18T09:33:48.859Z"
   },
   {
    "duration": 19,
    "start_time": "2021-11-18T09:33:48.878Z"
   },
   {
    "duration": 3,
    "start_time": "2021-11-18T09:33:48.900Z"
   },
   {
    "duration": 8,
    "start_time": "2021-11-18T09:33:48.905Z"
   },
   {
    "duration": 434,
    "start_time": "2021-11-18T09:33:48.945Z"
   },
   {
    "duration": 9,
    "start_time": "2021-11-18T09:33:49.381Z"
   },
   {
    "duration": 15,
    "start_time": "2021-11-18T09:33:49.391Z"
   },
   {
    "duration": 656,
    "start_time": "2021-11-18T09:33:49.408Z"
   },
   {
    "duration": 31,
    "start_time": "2021-11-18T09:33:50.066Z"
   },
   {
    "duration": 71,
    "start_time": "2021-11-18T09:33:50.098Z"
   },
   {
    "duration": 9,
    "start_time": "2021-11-18T09:33:50.171Z"
   },
   {
    "duration": 18,
    "start_time": "2021-11-18T09:33:50.182Z"
   },
   {
    "duration": 9,
    "start_time": "2021-11-18T09:33:50.201Z"
   },
   {
    "duration": 241,
    "start_time": "2021-11-18T09:33:50.212Z"
   },
   {
    "duration": 3,
    "start_time": "2021-11-18T09:33:50.456Z"
   },
   {
    "duration": 27,
    "start_time": "2021-11-18T09:33:50.462Z"
   },
   {
    "duration": 345,
    "start_time": "2021-11-18T09:33:50.491Z"
   },
   {
    "duration": 24,
    "start_time": "2021-11-18T09:33:50.838Z"
   },
   {
    "duration": 383,
    "start_time": "2021-11-18T09:33:50.864Z"
   },
   {
    "duration": 23,
    "start_time": "2021-11-18T09:33:51.248Z"
   },
   {
    "duration": 337,
    "start_time": "2021-11-18T09:33:51.273Z"
   },
   {
    "duration": 9,
    "start_time": "2021-11-18T09:33:51.611Z"
   },
   {
    "duration": 23,
    "start_time": "2021-11-18T09:33:51.622Z"
   },
   {
    "duration": 302,
    "start_time": "2021-11-18T09:33:51.647Z"
   },
   {
    "duration": 8,
    "start_time": "2021-11-18T09:33:51.951Z"
   },
   {
    "duration": 37,
    "start_time": "2021-11-18T09:33:51.961Z"
   },
   {
    "duration": 333,
    "start_time": "2021-11-18T09:33:52.000Z"
   },
   {
    "duration": 417,
    "start_time": "2021-11-18T09:33:52.335Z"
   },
   {
    "duration": 4,
    "start_time": "2021-11-18T09:33:52.753Z"
   },
   {
    "duration": 6,
    "start_time": "2021-11-18T09:33:52.759Z"
   },
   {
    "duration": 22,
    "start_time": "2021-11-18T09:33:52.767Z"
   },
   {
    "duration": 5,
    "start_time": "2021-11-18T09:33:52.791Z"
   },
   {
    "duration": 8,
    "start_time": "2021-11-18T09:33:52.797Z"
   },
   {
    "duration": 6,
    "start_time": "2021-11-18T09:33:52.807Z"
   },
   {
    "duration": 68,
    "start_time": "2021-11-18T09:33:52.815Z"
   },
   {
    "duration": 3,
    "start_time": "2021-11-18T09:33:52.885Z"
   },
   {
    "duration": 8,
    "start_time": "2021-11-18T09:33:52.890Z"
   },
   {
    "duration": 9,
    "start_time": "2021-11-18T09:33:52.900Z"
   },
   {
    "duration": 3,
    "start_time": "2021-11-18T09:53:23.809Z"
   },
   {
    "duration": 1242,
    "start_time": "2021-11-18T09:53:23.814Z"
   },
   {
    "duration": 721,
    "start_time": "2021-11-18T09:53:25.058Z"
   },
   {
    "duration": 10,
    "start_time": "2021-11-18T09:53:25.781Z"
   },
   {
    "duration": 14,
    "start_time": "2021-11-18T09:53:25.793Z"
   },
   {
    "duration": 16,
    "start_time": "2021-11-18T09:53:25.809Z"
   },
   {
    "duration": 3,
    "start_time": "2021-11-18T09:53:25.828Z"
   },
   {
    "duration": 3,
    "start_time": "2021-11-18T09:53:25.845Z"
   },
   {
    "duration": 416,
    "start_time": "2021-11-18T09:53:25.849Z"
   },
   {
    "duration": 6,
    "start_time": "2021-11-18T09:53:26.266Z"
   },
   {
    "duration": 26,
    "start_time": "2021-11-18T09:53:26.274Z"
   },
   {
    "duration": 982,
    "start_time": "2021-11-18T09:53:26.302Z"
   },
   {
    "duration": 29,
    "start_time": "2021-11-18T09:53:27.286Z"
   },
   {
    "duration": 64,
    "start_time": "2021-11-18T09:53:27.317Z"
   },
   {
    "duration": 8,
    "start_time": "2021-11-18T09:53:27.383Z"
   },
   {
    "duration": 18,
    "start_time": "2021-11-18T09:53:27.393Z"
   },
   {
    "duration": 8,
    "start_time": "2021-11-18T09:53:27.413Z"
   },
   {
    "duration": 206,
    "start_time": "2021-11-18T09:53:27.423Z"
   },
   {
    "duration": 3,
    "start_time": "2021-11-18T09:53:27.632Z"
   },
   {
    "duration": 26,
    "start_time": "2021-11-18T09:53:27.637Z"
   },
   {
    "duration": 529,
    "start_time": "2021-11-18T09:53:27.665Z"
   },
   {
    "duration": 31,
    "start_time": "2021-11-18T09:53:28.195Z"
   },
   {
    "duration": 376,
    "start_time": "2021-11-18T09:53:28.227Z"
   },
   {
    "duration": 23,
    "start_time": "2021-11-18T09:53:28.605Z"
   },
   {
    "duration": 360,
    "start_time": "2021-11-18T09:53:28.630Z"
   },
   {
    "duration": 9,
    "start_time": "2021-11-18T09:53:29.045Z"
   },
   {
    "duration": 10,
    "start_time": "2021-11-18T09:53:29.055Z"
   },
   {
    "duration": 441,
    "start_time": "2021-11-18T09:53:29.066Z"
   },
   {
    "duration": 10,
    "start_time": "2021-11-18T09:53:29.509Z"
   },
   {
    "duration": 48,
    "start_time": "2021-11-18T09:53:29.521Z"
   },
   {
    "duration": 312,
    "start_time": "2021-11-18T09:53:29.571Z"
   },
   {
    "duration": 301,
    "start_time": "2021-11-18T09:53:29.885Z"
   },
   {
    "duration": 4,
    "start_time": "2021-11-18T09:53:30.188Z"
   },
   {
    "duration": 8,
    "start_time": "2021-11-18T09:53:30.193Z"
   },
   {
    "duration": 40,
    "start_time": "2021-11-18T09:53:30.203Z"
   },
   {
    "duration": 12,
    "start_time": "2021-11-18T09:53:30.245Z"
   },
   {
    "duration": 11,
    "start_time": "2021-11-18T09:53:30.258Z"
   },
   {
    "duration": 8,
    "start_time": "2021-11-18T09:53:30.271Z"
   },
   {
    "duration": 60,
    "start_time": "2021-11-18T09:53:30.280Z"
   },
   {
    "duration": 3,
    "start_time": "2021-11-18T09:53:30.342Z"
   },
   {
    "duration": 14,
    "start_time": "2021-11-18T09:53:30.346Z"
   },
   {
    "duration": 9,
    "start_time": "2021-11-18T09:53:30.361Z"
   },
   {
    "duration": 912042,
    "start_time": "2021-11-18T09:53:30.371Z"
   },
   {
    "duration": 3,
    "start_time": "2021-11-18T10:08:42.415Z"
   },
   {
    "duration": 6,
    "start_time": "2021-11-18T10:08:42.420Z"
   },
   {
    "duration": 3,
    "start_time": "2021-11-18T10:08:42.445Z"
   },
   {
    "duration": 6,
    "start_time": "2021-11-18T10:08:42.450Z"
   },
   {
    "duration": 14955,
    "start_time": "2021-11-18T10:08:42.457Z"
   },
   {
    "duration": 4,
    "start_time": "2021-11-18T10:08:57.413Z"
   },
   {
    "duration": 11,
    "start_time": "2021-11-18T10:08:57.418Z"
   },
   {
    "duration": 813,
    "start_time": "2021-11-18T10:08:57.431Z"
   },
   {
    "duration": 3,
    "start_time": "2021-11-18T10:08:58.246Z"
   },
   {
    "duration": 49,
    "start_time": "2021-11-18T10:08:58.250Z"
   },
   {
    "duration": 4,
    "start_time": "2021-11-18T10:08:58.300Z"
   },
   {
    "duration": 3,
    "start_time": "2021-11-18T10:08:58.308Z"
   },
   {
    "duration": 3,
    "start_time": "2021-11-18T10:33:09.066Z"
   },
   {
    "duration": 1193,
    "start_time": "2021-11-18T10:33:09.071Z"
   },
   {
    "duration": 686,
    "start_time": "2021-11-18T10:33:10.266Z"
   },
   {
    "duration": 11,
    "start_time": "2021-11-18T10:33:10.954Z"
   },
   {
    "duration": 14,
    "start_time": "2021-11-18T10:33:10.967Z"
   },
   {
    "duration": 16,
    "start_time": "2021-11-18T10:33:10.982Z"
   },
   {
    "duration": 3,
    "start_time": "2021-11-18T10:33:11.000Z"
   },
   {
    "duration": 13,
    "start_time": "2021-11-18T10:33:11.005Z"
   },
   {
    "duration": 426,
    "start_time": "2021-11-18T10:33:11.020Z"
   },
   {
    "duration": 9,
    "start_time": "2021-11-18T10:33:11.447Z"
   },
   {
    "duration": 16,
    "start_time": "2021-11-18T10:33:11.457Z"
   },
   {
    "duration": 546,
    "start_time": "2021-11-18T10:33:11.475Z"
   },
   {
    "duration": 36,
    "start_time": "2021-11-18T10:33:12.023Z"
   },
   {
    "duration": 63,
    "start_time": "2021-11-18T10:33:12.061Z"
   },
   {
    "duration": 26,
    "start_time": "2021-11-18T10:33:12.126Z"
   },
   {
    "duration": 19,
    "start_time": "2021-11-18T10:33:12.153Z"
   },
   {
    "duration": 9,
    "start_time": "2021-11-18T10:33:12.175Z"
   },
   {
    "duration": 225,
    "start_time": "2021-11-18T10:33:12.186Z"
   },
   {
    "duration": 3,
    "start_time": "2021-11-18T10:33:12.412Z"
   },
   {
    "duration": 40,
    "start_time": "2021-11-18T10:33:12.417Z"
   },
   {
    "duration": 323,
    "start_time": "2021-11-18T10:33:12.459Z"
   },
   {
    "duration": 23,
    "start_time": "2021-11-18T10:33:12.784Z"
   },
   {
    "duration": 385,
    "start_time": "2021-11-18T10:33:12.810Z"
   },
   {
    "duration": 22,
    "start_time": "2021-11-18T10:33:13.198Z"
   },
   {
    "duration": 334,
    "start_time": "2021-11-18T10:33:13.222Z"
   },
   {
    "duration": 8,
    "start_time": "2021-11-18T10:33:13.557Z"
   },
   {
    "duration": 8,
    "start_time": "2021-11-18T10:33:13.566Z"
   },
   {
    "duration": 294,
    "start_time": "2021-11-18T10:33:13.575Z"
   },
   {
    "duration": 8,
    "start_time": "2021-11-18T10:33:13.871Z"
   },
   {
    "duration": 42,
    "start_time": "2021-11-18T10:33:13.880Z"
   },
   {
    "duration": 312,
    "start_time": "2021-11-18T10:33:13.924Z"
   },
   {
    "duration": 297,
    "start_time": "2021-11-18T10:33:14.238Z"
   },
   {
    "duration": 4,
    "start_time": "2021-11-18T10:33:14.544Z"
   },
   {
    "duration": 6,
    "start_time": "2021-11-18T10:33:14.550Z"
   },
   {
    "duration": 23,
    "start_time": "2021-11-18T10:33:14.557Z"
   },
   {
    "duration": 5,
    "start_time": "2021-11-18T10:33:14.581Z"
   },
   {
    "duration": 6,
    "start_time": "2021-11-18T10:33:14.588Z"
   },
   {
    "duration": 9,
    "start_time": "2021-11-18T10:33:14.596Z"
   },
   {
    "duration": 72,
    "start_time": "2021-11-18T10:33:14.607Z"
   },
   {
    "duration": 3,
    "start_time": "2021-11-18T10:33:14.681Z"
   },
   {
    "duration": 4,
    "start_time": "2021-11-18T10:33:14.686Z"
   },
   {
    "duration": 6,
    "start_time": "2021-11-18T10:33:14.691Z"
   },
   {
    "duration": 579015,
    "start_time": "2021-11-18T10:33:14.699Z"
   },
   {
    "duration": 4,
    "start_time": "2021-11-18T10:42:53.715Z"
   },
   {
    "duration": 6,
    "start_time": "2021-11-18T10:42:53.721Z"
   },
   {
    "duration": 18,
    "start_time": "2021-11-18T10:42:53.728Z"
   },
   {
    "duration": 6,
    "start_time": "2021-11-18T10:42:53.748Z"
   },
   {
    "duration": 18907,
    "start_time": "2021-11-18T10:42:53.756Z"
   },
   {
    "duration": 3,
    "start_time": "2021-11-18T10:43:12.665Z"
   },
   {
    "duration": 6,
    "start_time": "2021-11-18T10:43:12.670Z"
   },
   {
    "duration": 768,
    "start_time": "2021-11-18T10:43:12.677Z"
   },
   {
    "duration": 3,
    "start_time": "2021-11-18T10:43:13.447Z"
   },
   {
    "duration": 48,
    "start_time": "2021-11-18T10:43:13.452Z"
   },
   {
    "duration": 3,
    "start_time": "2021-11-18T10:43:13.502Z"
   },
   {
    "duration": 12,
    "start_time": "2021-11-18T10:43:13.507Z"
   },
   {
    "duration": -606,
    "start_time": "2021-11-18T11:01:04.630Z"
   },
   {
    "duration": -613,
    "start_time": "2021-11-18T11:01:04.638Z"
   },
   {
    "duration": -617,
    "start_time": "2021-11-18T11:01:04.643Z"
   },
   {
    "duration": -634,
    "start_time": "2021-11-18T11:01:04.661Z"
   },
   {
    "duration": -640,
    "start_time": "2021-11-18T11:01:04.668Z"
   },
   {
    "duration": -644,
    "start_time": "2021-11-18T11:01:04.673Z"
   },
   {
    "duration": -648,
    "start_time": "2021-11-18T11:01:04.678Z"
   },
   {
    "duration": -654,
    "start_time": "2021-11-18T11:01:04.685Z"
   },
   {
    "duration": -658,
    "start_time": "2021-11-18T11:01:04.690Z"
   },
   {
    "duration": -661,
    "start_time": "2021-11-18T11:01:04.694Z"
   },
   {
    "duration": -665,
    "start_time": "2021-11-18T11:01:04.699Z"
   },
   {
    "duration": -668,
    "start_time": "2021-11-18T11:01:04.703Z"
   },
   {
    "duration": -671,
    "start_time": "2021-11-18T11:01:04.707Z"
   },
   {
    "duration": -675,
    "start_time": "2021-11-18T11:01:04.712Z"
   },
   {
    "duration": 3,
    "start_time": "2021-11-18T11:01:06.129Z"
   },
   {
    "duration": 1403146,
    "start_time": "2021-11-18T11:01:06.535Z"
   },
   {
    "duration": 3,
    "start_time": "2021-11-18T11:24:29.683Z"
   },
   {
    "duration": 15,
    "start_time": "2021-11-18T11:24:29.687Z"
   },
   {
    "duration": 14,
    "start_time": "2021-11-18T11:24:29.703Z"
   },
   {
    "duration": 35109,
    "start_time": "2021-11-18T11:24:29.718Z"
   },
   {
    "duration": 307,
    "start_time": "2021-11-18T11:25:04.829Z"
   },
   {
    "duration": -631,
    "start_time": "2021-11-18T11:25:05.769Z"
   },
   {
    "duration": 265,
    "start_time": "2021-11-18T11:30:01.846Z"
   },
   {
    "duration": 265,
    "start_time": "2021-11-18T11:30:13.793Z"
   },
   {
    "duration": 4,
    "start_time": "2021-11-18T11:30:15.748Z"
   },
   {
    "duration": 273,
    "start_time": "2021-11-18T11:30:31.277Z"
   },
   {
    "duration": 4,
    "start_time": "2021-11-18T11:30:34.389Z"
   },
   {
    "duration": 4,
    "start_time": "2021-11-18T11:30:43.761Z"
   },
   {
    "duration": 916,
    "start_time": "2021-11-18T11:30:45.231Z"
   },
   {
    "duration": 358,
    "start_time": "2021-11-18T11:32:25.919Z"
   },
   {
    "duration": 9,
    "start_time": "2021-11-18T11:32:26.859Z"
   },
   {
    "duration": 16,
    "start_time": "2021-11-18T11:32:27.443Z"
   },
   {
    "duration": 2,
    "start_time": "2021-11-18T11:32:28.154Z"
   },
   {
    "duration": 3,
    "start_time": "2021-11-18T11:32:28.805Z"
   },
   {
    "duration": 4,
    "start_time": "2021-11-18T11:32:33.108Z"
   },
   {
    "duration": 3,
    "start_time": "2021-11-18T11:32:36.227Z"
   },
   {
    "duration": 15,
    "start_time": "2021-11-18T11:32:53.451Z"
   },
   {
    "duration": 3,
    "start_time": "2021-11-18T11:32:53.792Z"
   },
   {
    "duration": 2,
    "start_time": "2021-11-18T11:32:54.122Z"
   },
   {
    "duration": 3,
    "start_time": "2021-11-18T11:32:54.434Z"
   },
   {
    "duration": 3,
    "start_time": "2021-11-18T11:32:54.830Z"
   },
   {
    "duration": 939,
    "start_time": "2021-11-18T11:33:21.107Z"
   },
   {
    "duration": 592,
    "start_time": "2021-11-18T11:33:25.753Z"
   },
   {
    "duration": 764,
    "start_time": "2021-11-18T11:33:28.880Z"
   },
   {
    "duration": 844,
    "start_time": "2021-11-18T11:33:38.716Z"
   },
   {
    "duration": 12,
    "start_time": "2021-11-18T11:34:51.300Z"
   },
   {
    "duration": 18,
    "start_time": "2021-11-18T11:35:04.472Z"
   },
   {
    "duration": 3,
    "start_time": "2021-11-18T11:35:14.756Z"
   },
   {
    "duration": 3,
    "start_time": "2021-11-18T11:35:19.966Z"
   },
   {
    "duration": 3,
    "start_time": "2021-11-18T11:39:41.614Z"
   },
   {
    "duration": 3,
    "start_time": "2021-11-18T11:39:56.956Z"
   },
   {
    "duration": 3,
    "start_time": "2021-11-18T11:40:11.021Z"
   },
   {
    "duration": 4,
    "start_time": "2021-11-18T11:41:08.334Z"
   },
   {
    "duration": 936,
    "start_time": "2021-11-18T11:42:08.716Z"
   },
   {
    "duration": 900,
    "start_time": "2021-11-18T11:42:30.648Z"
   },
   {
    "duration": 4,
    "start_time": "2021-11-18T11:43:27.781Z"
   },
   {
    "duration": 4,
    "start_time": "2021-11-18T11:43:56.671Z"
   },
   {
    "duration": 4,
    "start_time": "2021-11-18T11:44:04.358Z"
   },
   {
    "duration": 978,
    "start_time": "2021-11-18T11:44:44.667Z"
   },
   {
    "duration": 940,
    "start_time": "2021-11-18T11:45:25.605Z"
   },
   {
    "duration": 849,
    "start_time": "2021-11-18T11:45:34.007Z"
   },
   {
    "duration": 39,
    "start_time": "2021-11-18T11:47:34.133Z"
   },
   {
    "duration": 43,
    "start_time": "2021-11-18T11:48:00.806Z"
   },
   {
    "duration": 9,
    "start_time": "2021-11-18T11:48:09.232Z"
   },
   {
    "duration": 9,
    "start_time": "2021-11-18T11:48:13.290Z"
   },
   {
    "duration": 274,
    "start_time": "2021-11-18T11:48:38.853Z"
   },
   {
    "duration": 7,
    "start_time": "2021-11-18T11:48:41.146Z"
   },
   {
    "duration": 16,
    "start_time": "2021-11-18T11:48:43.156Z"
   },
   {
    "duration": 45,
    "start_time": "2021-11-18T11:48:43.490Z"
   },
   {
    "duration": 3,
    "start_time": "2021-11-18T11:48:44.864Z"
   },
   {
    "duration": 3,
    "start_time": "2021-11-18T11:48:45.260Z"
   },
   {
    "duration": 5,
    "start_time": "2021-11-18T11:48:45.677Z"
   },
   {
    "duration": 370,
    "start_time": "2021-11-18T11:49:57.975Z"
   },
   {
    "duration": 742,
    "start_time": "2021-11-18T11:50:01.603Z"
   },
   {
    "duration": 3,
    "start_time": "2021-11-18T11:51:45.682Z"
   },
   {
    "duration": 4,
    "start_time": "2021-11-18T11:52:18.579Z"
   },
   {
    "duration": 667,
    "start_time": "2021-11-18T11:52:48.485Z"
   },
   {
    "duration": 615,
    "start_time": "2021-11-18T11:52:52.034Z"
   },
   {
    "duration": 264,
    "start_time": "2021-11-18T11:52:55.881Z"
   },
   {
    "duration": 4,
    "start_time": "2021-11-18T11:56:29.756Z"
   },
   {
    "duration": 280,
    "start_time": "2021-11-18T11:59:00.163Z"
   },
   {
    "duration": 299,
    "start_time": "2021-11-18T12:00:01.485Z"
   },
   {
    "duration": 4,
    "start_time": "2021-11-18T12:00:16.309Z"
   },
   {
    "duration": 284,
    "start_time": "2021-11-18T12:01:11.337Z"
   },
   {
    "duration": 129,
    "start_time": "2021-11-18T12:03:04.344Z"
   },
   {
    "duration": 12,
    "start_time": "2021-11-18T12:03:20.748Z"
   },
   {
    "duration": 3,
    "start_time": "2021-11-18T12:21:24.818Z"
   },
   {
    "duration": 1221,
    "start_time": "2021-11-18T12:21:24.823Z"
   },
   {
    "duration": 4501,
    "start_time": "2021-11-18T12:21:26.046Z"
   },
   {
    "duration": 11,
    "start_time": "2021-11-18T12:21:30.549Z"
   },
   {
    "duration": 25,
    "start_time": "2021-11-18T12:21:30.561Z"
   },
   {
    "duration": 28,
    "start_time": "2021-11-18T12:21:30.588Z"
   },
   {
    "duration": 4,
    "start_time": "2021-11-18T12:21:30.618Z"
   },
   {
    "duration": 20,
    "start_time": "2021-11-18T12:21:30.624Z"
   },
   {
    "duration": 425,
    "start_time": "2021-11-18T12:21:30.646Z"
   },
   {
    "duration": 7,
    "start_time": "2021-11-18T12:21:31.073Z"
   },
   {
    "duration": 34,
    "start_time": "2021-11-18T12:21:31.082Z"
   },
   {
    "duration": 740,
    "start_time": "2021-11-18T12:21:31.117Z"
   },
   {
    "duration": 37,
    "start_time": "2021-11-18T12:21:31.859Z"
   },
   {
    "duration": 80,
    "start_time": "2021-11-18T12:21:31.898Z"
   },
   {
    "duration": 9,
    "start_time": "2021-11-18T12:21:31.980Z"
   },
   {
    "duration": 40,
    "start_time": "2021-11-18T12:21:31.991Z"
   },
   {
    "duration": 14,
    "start_time": "2021-11-18T12:21:32.033Z"
   },
   {
    "duration": 225,
    "start_time": "2021-11-18T12:21:32.049Z"
   },
   {
    "duration": 3,
    "start_time": "2021-11-18T12:21:32.278Z"
   },
   {
    "duration": 42,
    "start_time": "2021-11-18T12:21:32.283Z"
   },
   {
    "duration": 350,
    "start_time": "2021-11-18T12:21:32.327Z"
   },
   {
    "duration": 20,
    "start_time": "2021-11-18T12:21:32.679Z"
   },
   {
    "duration": 374,
    "start_time": "2021-11-18T12:21:32.701Z"
   },
   {
    "duration": 23,
    "start_time": "2021-11-18T12:21:33.077Z"
   },
   {
    "duration": 327,
    "start_time": "2021-11-18T12:21:33.102Z"
   },
   {
    "duration": 16,
    "start_time": "2021-11-18T12:21:33.430Z"
   },
   {
    "duration": 8,
    "start_time": "2021-11-18T12:21:33.448Z"
   },
   {
    "duration": 289,
    "start_time": "2021-11-18T12:21:33.457Z"
   },
   {
    "duration": 9,
    "start_time": "2021-11-18T12:21:33.748Z"
   },
   {
    "duration": 41,
    "start_time": "2021-11-18T12:21:33.759Z"
   },
   {
    "duration": 311,
    "start_time": "2021-11-18T12:21:33.802Z"
   },
   {
    "duration": 298,
    "start_time": "2021-11-18T12:21:34.114Z"
   },
   {
    "duration": 4,
    "start_time": "2021-11-18T12:21:34.414Z"
   },
   {
    "duration": 35,
    "start_time": "2021-11-18T12:21:34.420Z"
   },
   {
    "duration": 37,
    "start_time": "2021-11-18T12:21:34.457Z"
   },
   {
    "duration": 22,
    "start_time": "2021-11-18T12:21:34.496Z"
   },
   {
    "duration": 33,
    "start_time": "2021-11-18T12:21:34.519Z"
   },
   {
    "duration": 20,
    "start_time": "2021-11-18T12:21:34.554Z"
   },
   {
    "duration": 5,
    "start_time": "2021-11-18T12:21:34.576Z"
   },
   {
    "duration": 4,
    "start_time": "2021-11-18T12:23:14.151Z"
   },
   {
    "duration": 1181,
    "start_time": "2021-11-18T12:23:14.157Z"
   },
   {
    "duration": 722,
    "start_time": "2021-11-18T12:23:15.340Z"
   },
   {
    "duration": 10,
    "start_time": "2021-11-18T12:23:16.064Z"
   },
   {
    "duration": 18,
    "start_time": "2021-11-18T12:23:16.075Z"
   },
   {
    "duration": 15,
    "start_time": "2021-11-18T12:23:16.095Z"
   },
   {
    "duration": 15,
    "start_time": "2021-11-18T12:23:16.113Z"
   },
   {
    "duration": 14,
    "start_time": "2021-11-18T12:23:16.130Z"
   },
   {
    "duration": 409,
    "start_time": "2021-11-18T12:23:16.145Z"
   },
   {
    "duration": 6,
    "start_time": "2021-11-18T12:23:16.555Z"
   },
   {
    "duration": 17,
    "start_time": "2021-11-18T12:23:16.563Z"
   },
   {
    "duration": 557,
    "start_time": "2021-11-18T12:23:16.581Z"
   },
   {
    "duration": 32,
    "start_time": "2021-11-18T12:23:17.149Z"
   },
   {
    "duration": 78,
    "start_time": "2021-11-18T12:23:17.183Z"
   },
   {
    "duration": 9,
    "start_time": "2021-11-18T12:23:17.262Z"
   },
   {
    "duration": 25,
    "start_time": "2021-11-18T12:23:17.273Z"
   },
   {
    "duration": 9,
    "start_time": "2021-11-18T12:23:17.299Z"
   },
   {
    "duration": 220,
    "start_time": "2021-11-18T12:23:17.310Z"
   },
   {
    "duration": 11,
    "start_time": "2021-11-18T12:23:17.534Z"
   },
   {
    "duration": 27,
    "start_time": "2021-11-18T12:23:17.547Z"
   },
   {
    "duration": 332,
    "start_time": "2021-11-18T12:23:17.575Z"
   },
   {
    "duration": 35,
    "start_time": "2021-11-18T12:23:17.909Z"
   },
   {
    "duration": 372,
    "start_time": "2021-11-18T12:23:17.946Z"
   },
   {
    "duration": 34,
    "start_time": "2021-11-18T12:23:18.320Z"
   },
   {
    "duration": 322,
    "start_time": "2021-11-18T12:23:18.356Z"
   },
   {
    "duration": 10,
    "start_time": "2021-11-18T12:23:18.680Z"
   },
   {
    "duration": 8,
    "start_time": "2021-11-18T12:23:18.692Z"
   },
   {
    "duration": 308,
    "start_time": "2021-11-18T12:23:18.702Z"
   },
   {
    "duration": 8,
    "start_time": "2021-11-18T12:23:19.012Z"
   },
   {
    "duration": 53,
    "start_time": "2021-11-18T12:23:19.022Z"
   },
   {
    "duration": 325,
    "start_time": "2021-11-18T12:23:19.077Z"
   },
   {
    "duration": 315,
    "start_time": "2021-11-18T12:23:19.405Z"
   },
   {
    "duration": 4,
    "start_time": "2021-11-18T12:23:19.723Z"
   },
   {
    "duration": 6,
    "start_time": "2021-11-18T12:23:19.729Z"
   },
   {
    "duration": 22,
    "start_time": "2021-11-18T12:23:19.744Z"
   },
   {
    "duration": 5,
    "start_time": "2021-11-18T12:23:19.768Z"
   },
   {
    "duration": 8,
    "start_time": "2021-11-18T12:23:19.775Z"
   },
   {
    "duration": 6,
    "start_time": "2021-11-18T12:23:19.785Z"
   },
   {
    "duration": 7,
    "start_time": "2021-11-18T12:23:19.793Z"
   },
   {
    "duration": 569283,
    "start_time": "2021-11-18T12:23:19.801Z"
   },
   {
    "duration": 4,
    "start_time": "2021-11-18T12:32:49.085Z"
   },
   {
    "duration": 6,
    "start_time": "2021-11-18T12:32:49.091Z"
   },
   {
    "duration": 5,
    "start_time": "2021-11-18T12:32:49.099Z"
   },
   {
    "duration": 14792,
    "start_time": "2021-11-18T12:32:49.106Z"
   },
   {
    "duration": 3,
    "start_time": "2021-11-18T12:33:03.900Z"
   },
   {
    "duration": 16,
    "start_time": "2021-11-18T12:33:03.905Z"
   },
   {
    "duration": 1322956,
    "start_time": "2021-11-18T12:33:03.922Z"
   },
   {
    "duration": 4,
    "start_time": "2021-11-18T12:55:06.880Z"
   },
   {
    "duration": 5,
    "start_time": "2021-11-18T12:55:06.885Z"
   },
   {
    "duration": 35644,
    "start_time": "2021-11-18T12:55:06.892Z"
   },
   {
    "duration": 7,
    "start_time": "2021-11-18T12:55:42.538Z"
   },
   {
    "duration": 311,
    "start_time": "2021-11-18T12:55:42.546Z"
   },
   {
    "duration": 13,
    "start_time": "2021-11-18T12:55:42.858Z"
   },
   {
    "duration": 4,
    "start_time": "2021-11-19T09:14:58.452Z"
   },
   {
    "duration": 1166,
    "start_time": "2021-11-19T09:14:58.458Z"
   },
   {
    "duration": 1679,
    "start_time": "2021-11-19T09:14:59.625Z"
   },
   {
    "duration": 10,
    "start_time": "2021-11-19T09:15:01.306Z"
   },
   {
    "duration": 18,
    "start_time": "2021-11-19T09:15:01.317Z"
   },
   {
    "duration": 15,
    "start_time": "2021-11-19T09:15:01.336Z"
   },
   {
    "duration": 3,
    "start_time": "2021-11-19T09:15:01.353Z"
   },
   {
    "duration": 11,
    "start_time": "2021-11-19T09:15:01.357Z"
   },
   {
    "duration": 401,
    "start_time": "2021-11-19T09:15:01.369Z"
   },
   {
    "duration": 7,
    "start_time": "2021-11-19T09:15:01.772Z"
   },
   {
    "duration": 31,
    "start_time": "2021-11-19T09:15:01.788Z"
   },
   {
    "duration": 695,
    "start_time": "2021-11-19T09:15:01.820Z"
   },
   {
    "duration": 28,
    "start_time": "2021-11-19T09:15:02.517Z"
   },
   {
    "duration": 71,
    "start_time": "2021-11-19T09:15:02.546Z"
   },
   {
    "duration": 9,
    "start_time": "2021-11-19T09:15:02.619Z"
   },
   {
    "duration": 28,
    "start_time": "2021-11-19T09:15:02.630Z"
   },
   {
    "duration": 29,
    "start_time": "2021-11-19T09:15:02.659Z"
   },
   {
    "duration": 195,
    "start_time": "2021-11-19T09:15:02.690Z"
   },
   {
    "duration": 3,
    "start_time": "2021-11-19T09:15:02.889Z"
   },
   {
    "duration": 25,
    "start_time": "2021-11-19T09:15:02.895Z"
   },
   {
    "duration": 302,
    "start_time": "2021-11-19T09:15:02.922Z"
   },
   {
    "duration": 22,
    "start_time": "2021-11-19T09:15:03.226Z"
   },
   {
    "duration": 351,
    "start_time": "2021-11-19T09:15:03.250Z"
   },
   {
    "duration": 21,
    "start_time": "2021-11-19T09:15:03.603Z"
   },
   {
    "duration": 307,
    "start_time": "2021-11-19T09:15:03.626Z"
   },
   {
    "duration": 8,
    "start_time": "2021-11-19T09:15:03.935Z"
   },
   {
    "duration": 7,
    "start_time": "2021-11-19T09:15:03.945Z"
   },
   {
    "duration": 268,
    "start_time": "2021-11-19T09:15:03.954Z"
   },
   {
    "duration": 9,
    "start_time": "2021-11-19T09:15:04.224Z"
   },
   {
    "duration": 58,
    "start_time": "2021-11-19T09:15:04.234Z"
   },
   {
    "duration": 285,
    "start_time": "2021-11-19T09:15:04.294Z"
   },
   {
    "duration": 275,
    "start_time": "2021-11-19T09:15:04.581Z"
   },
   {
    "duration": 4,
    "start_time": "2021-11-19T09:15:04.857Z"
   },
   {
    "duration": 5,
    "start_time": "2021-11-19T09:15:04.862Z"
   },
   {
    "duration": 33,
    "start_time": "2021-11-19T09:15:04.868Z"
   },
   {
    "duration": 4,
    "start_time": "2021-11-19T09:15:04.902Z"
   },
   {
    "duration": 5,
    "start_time": "2021-11-19T09:15:04.907Z"
   },
   {
    "duration": 5,
    "start_time": "2021-11-19T09:15:04.913Z"
   },
   {
    "duration": 9,
    "start_time": "2021-11-19T09:15:04.919Z"
   },
   {
    "duration": 525863,
    "start_time": "2021-11-19T09:15:04.930Z"
   },
   {
    "duration": 3,
    "start_time": "2021-11-19T09:23:50.795Z"
   },
   {
    "duration": 20,
    "start_time": "2021-11-19T09:23:50.799Z"
   },
   {
    "duration": 25,
    "start_time": "2021-11-19T09:23:50.820Z"
   },
   {
    "duration": 13980,
    "start_time": "2021-11-19T09:23:50.847Z"
   },
   {
    "duration": 3,
    "start_time": "2021-11-19T09:24:04.828Z"
   },
   {
    "duration": 11,
    "start_time": "2021-11-19T09:24:04.833Z"
   },
   {
    "duration": 1221168,
    "start_time": "2021-11-19T09:24:04.845Z"
   },
   {
    "duration": 3,
    "start_time": "2021-11-19T09:44:26.015Z"
   },
   {
    "duration": 6,
    "start_time": "2021-11-19T09:44:26.020Z"
   },
   {
    "duration": 32571,
    "start_time": "2021-11-19T09:44:26.027Z"
   },
   {
    "duration": 4,
    "start_time": "2021-11-19T09:44:58.600Z"
   },
   {
    "duration": 290,
    "start_time": "2021-11-19T09:44:58.606Z"
   },
   {
    "duration": 12,
    "start_time": "2021-11-19T09:44:58.898Z"
   },
   {
    "duration": 3,
    "start_time": "2021-11-19T13:11:29.129Z"
   },
   {
    "duration": 13848,
    "start_time": "2021-11-19T13:11:29.464Z"
   }
  ],
  "kernelspec": {
   "display_name": "Python 3 (ipykernel)",
   "language": "python",
   "name": "python3"
  },
  "language_info": {
   "codemirror_mode": {
    "name": "ipython",
    "version": 3
   },
   "file_extension": ".py",
   "mimetype": "text/x-python",
   "name": "python",
   "nbconvert_exporter": "python",
   "pygments_lexer": "ipython3",
   "version": "3.8.8"
  },
  "toc": {
   "base_numbering": 1,
   "nav_menu": {},
   "number_sections": true,
   "sideBar": true,
   "skip_h1_title": true,
   "title_cell": "Содержание",
   "title_sidebar": "Contents",
   "toc_cell": true,
   "toc_position": {
    "height": "calc(100% - 180px)",
    "left": "10px",
    "top": "150px",
    "width": "323.722px"
   },
   "toc_section_display": true,
   "toc_window_display": true
  }
 },
 "nbformat": 4,
 "nbformat_minor": 2
}
